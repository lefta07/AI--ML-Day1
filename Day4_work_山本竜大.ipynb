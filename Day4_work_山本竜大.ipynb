{
 "cells": [
  {
   "cell_type": "code",
   "execution_count": 1,
   "metadata": {},
   "outputs": [
    {
     "name": "stderr",
     "output_type": "stream",
     "text": [
      "Using TensorFlow backend.\n"
     ]
    }
   ],
   "source": [
    "# 各種インポート\n",
    "import os\n",
    "import random as rn\n",
    "from keras import backend as K\n",
    "import keras\n",
    "%matplotlib inline\n",
    "import pandas as pd\n",
    "import numpy as np\n",
    "import matplotlib.pyplot as plt\n",
    "from sklearn.linear_model import LinearRegression #線形回帰のライブラリ\n",
    "from sklearn.linear_model import Ridge,Lasso,ElasticNet #正則化項付き最小二乗法を行うためのライブラリ\n",
    "from sklearn.metrics import mean_squared_error, mean_absolute_error \n",
    "from sklearn.model_selection import train_test_split # ホールドアウト法に関する関数\n",
    "from sklearn.model_selection import KFold # 交差検証法に関する関数\n",
    "from sklearn.preprocessing import PolynomialFeatures\n",
    "from sklearn.pipeline import make_pipeline\n",
    "from tensorflow.compat.v1.keras.models import load_model\n",
    "from sklearn.ensemble import AdaBoostRegressor\n",
    "from sklearn.tree import DecisionTreeRegressor\n",
    "from tqdm import tqdm\n",
    "from sklearn.linear_model import LogisticRegression\n",
    "from sklearn.metrics import accuracy_score\n",
    "from sklearn.metrics import r2_score\n",
    "import seaborn as sns\n",
    "import graphviz\n",
    "import pydotplus\n",
    "from IPython.display import Image\n",
    "from sklearn.externals.six import StringIO\n",
    "from sklearn.model_selection import GridSearchCV, train_test_split\n",
    "from sklearn.metrics import confusion_matrix\n",
    "from sklearn.preprocessing import StandardScaler\n",
    "from sklearn.preprocessing import MinMaxScaler\n",
    "from sklearn.linear_model import SGDClassifier\n",
    "from sklearn.feature_selection import RFECV\n",
    "from sklearn.ensemble import RandomForestRegressor\n",
    "from collections import defaultdict\n",
    "from tensorflow.compat.v1.keras import Sequential\n",
    "from tensorflow.compat.v1.keras.layers import Dense, Dropout, Activation,Flatten\n",
    "from tensorflow.compat.v1.keras.optimizers import SGD,RMSprop, Adagrad, Adadelta, Adam\n",
    "from keras.utils.np_utils import to_categorical\n",
    "from sklearn.tree import export_graphviz\n",
    "import tensorflow as tf\n",
    "import csv\n",
    "from scipy import stats"
   ]
  },
  {
   "cell_type": "markdown",
   "metadata": {},
   "source": [
    "# 前処理\n",
    "\n",
    "説明変数を変える<br>\n",
    "外れ値の処理<br>\n",
    "ニューラルネットワークのパラメータ<br>"
   ]
  },
  {
   "cell_type": "code",
   "execution_count": 2,
   "metadata": {},
   "outputs": [],
   "source": [
    "df = pd.read_csv(\"measurements.csv\")"
   ]
  },
  {
   "cell_type": "code",
   "execution_count": 3,
   "metadata": {},
   "outputs": [
    {
     "name": "stdout",
     "output_type": "stream",
     "text": [
      "<class 'pandas.core.frame.DataFrame'>\n",
      "RangeIndex: 388 entries, 0 to 387\n",
      "Data columns (total 12 columns):\n",
      "distance         388 non-null float64\n",
      "consume          388 non-null float64\n",
      "speed            388 non-null int64\n",
      "temp_inside      376 non-null float64\n",
      "temp_outside     388 non-null int64\n",
      "specials         93 non-null object\n",
      "gas_type         388 non-null object\n",
      "AC               388 non-null int64\n",
      "rain             388 non-null int64\n",
      "sun              388 non-null int64\n",
      "refill_liters    13 non-null float64\n",
      "refill gas       13 non-null object\n",
      "dtypes: float64(4), int64(5), object(3)\n",
      "memory usage: 36.5+ KB\n"
     ]
    }
   ],
   "source": [
    "# データの情報を確認\n",
    "df.info()"
   ]
  },
  {
   "cell_type": "code",
   "execution_count": 4,
   "metadata": {},
   "outputs": [
    {
     "data": {
      "text/html": [
       "<div>\n",
       "<style scoped>\n",
       "    .dataframe tbody tr th:only-of-type {\n",
       "        vertical-align: middle;\n",
       "    }\n",
       "\n",
       "    .dataframe tbody tr th {\n",
       "        vertical-align: top;\n",
       "    }\n",
       "\n",
       "    .dataframe thead th {\n",
       "        text-align: right;\n",
       "    }\n",
       "</style>\n",
       "<table border=\"1\" class=\"dataframe\">\n",
       "  <thead>\n",
       "    <tr style=\"text-align: right;\">\n",
       "      <th></th>\n",
       "      <th>distance</th>\n",
       "      <th>consume</th>\n",
       "      <th>speed</th>\n",
       "      <th>temp_inside</th>\n",
       "      <th>temp_outside</th>\n",
       "      <th>specials</th>\n",
       "      <th>gas_type</th>\n",
       "      <th>AC</th>\n",
       "      <th>rain</th>\n",
       "      <th>sun</th>\n",
       "      <th>refill_liters</th>\n",
       "      <th>refill gas</th>\n",
       "    </tr>\n",
       "  </thead>\n",
       "  <tbody>\n",
       "    <tr>\n",
       "      <th>0</th>\n",
       "      <td>28.0</td>\n",
       "      <td>5.0</td>\n",
       "      <td>26</td>\n",
       "      <td>21.5</td>\n",
       "      <td>12</td>\n",
       "      <td>NaN</td>\n",
       "      <td>E10</td>\n",
       "      <td>0</td>\n",
       "      <td>0</td>\n",
       "      <td>0</td>\n",
       "      <td>45.0</td>\n",
       "      <td>E10</td>\n",
       "    </tr>\n",
       "    <tr>\n",
       "      <th>1</th>\n",
       "      <td>12.0</td>\n",
       "      <td>4.2</td>\n",
       "      <td>30</td>\n",
       "      <td>21.5</td>\n",
       "      <td>13</td>\n",
       "      <td>NaN</td>\n",
       "      <td>E10</td>\n",
       "      <td>0</td>\n",
       "      <td>0</td>\n",
       "      <td>0</td>\n",
       "      <td>NaN</td>\n",
       "      <td>NaN</td>\n",
       "    </tr>\n",
       "    <tr>\n",
       "      <th>2</th>\n",
       "      <td>11.2</td>\n",
       "      <td>5.5</td>\n",
       "      <td>38</td>\n",
       "      <td>21.5</td>\n",
       "      <td>15</td>\n",
       "      <td>NaN</td>\n",
       "      <td>E10</td>\n",
       "      <td>0</td>\n",
       "      <td>0</td>\n",
       "      <td>0</td>\n",
       "      <td>NaN</td>\n",
       "      <td>NaN</td>\n",
       "    </tr>\n",
       "    <tr>\n",
       "      <th>3</th>\n",
       "      <td>12.9</td>\n",
       "      <td>3.9</td>\n",
       "      <td>36</td>\n",
       "      <td>21.5</td>\n",
       "      <td>14</td>\n",
       "      <td>NaN</td>\n",
       "      <td>E10</td>\n",
       "      <td>0</td>\n",
       "      <td>0</td>\n",
       "      <td>0</td>\n",
       "      <td>NaN</td>\n",
       "      <td>NaN</td>\n",
       "    </tr>\n",
       "    <tr>\n",
       "      <th>4</th>\n",
       "      <td>18.5</td>\n",
       "      <td>4.5</td>\n",
       "      <td>46</td>\n",
       "      <td>21.5</td>\n",
       "      <td>15</td>\n",
       "      <td>NaN</td>\n",
       "      <td>E10</td>\n",
       "      <td>0</td>\n",
       "      <td>0</td>\n",
       "      <td>0</td>\n",
       "      <td>NaN</td>\n",
       "      <td>NaN</td>\n",
       "    </tr>\n",
       "  </tbody>\n",
       "</table>\n",
       "</div>"
      ],
      "text/plain": [
       "   distance  consume  speed  temp_inside  temp_outside specials gas_type  AC  \\\n",
       "0      28.0      5.0     26         21.5            12      NaN      E10   0   \n",
       "1      12.0      4.2     30         21.5            13      NaN      E10   0   \n",
       "2      11.2      5.5     38         21.5            15      NaN      E10   0   \n",
       "3      12.9      3.9     36         21.5            14      NaN      E10   0   \n",
       "4      18.5      4.5     46         21.5            15      NaN      E10   0   \n",
       "\n",
       "   rain  sun  refill_liters refill gas  \n",
       "0     0    0           45.0        E10  \n",
       "1     0    0            NaN        NaN  \n",
       "2     0    0            NaN        NaN  \n",
       "3     0    0            NaN        NaN  \n",
       "4     0    0            NaN        NaN  "
      ]
     },
     "execution_count": 4,
     "metadata": {},
     "output_type": "execute_result"
    }
   ],
   "source": [
    "# データの先頭5行を表示\n",
    "df.head()"
   ]
  },
  {
   "cell_type": "code",
   "execution_count": 5,
   "metadata": {},
   "outputs": [],
   "source": [
    "df[\"temp_inside\"] = df.temp_inside.fillna(df[\"temp_inside\"].mean())"
   ]
  },
  {
   "cell_type": "code",
   "execution_count": 6,
   "metadata": {
    "scrolled": true
   },
   "outputs": [
    {
     "name": "stdout",
     "output_type": "stream",
     "text": [
      "<class 'pandas.core.frame.DataFrame'>\n",
      "RangeIndex: 388 entries, 0 to 387\n",
      "Data columns (total 12 columns):\n",
      "distance         388 non-null float64\n",
      "consume          388 non-null float64\n",
      "speed            388 non-null int64\n",
      "temp_inside      388 non-null float64\n",
      "temp_outside     388 non-null int64\n",
      "specials         93 non-null object\n",
      "gas_type         388 non-null object\n",
      "AC               388 non-null int64\n",
      "rain             388 non-null int64\n",
      "sun              388 non-null int64\n",
      "refill_liters    13 non-null float64\n",
      "refill gas       13 non-null object\n",
      "dtypes: float64(4), int64(5), object(3)\n",
      "memory usage: 36.5+ KB\n"
     ]
    }
   ],
   "source": [
    "df.info()"
   ]
  },
  {
   "cell_type": "code",
   "execution_count": 7,
   "metadata": {
    "scrolled": true
   },
   "outputs": [],
   "source": [
    "df[\"temp_difference\"] = df[\"temp_inside\"] - df[\"temp_outside\"]"
   ]
  },
  {
   "cell_type": "code",
   "execution_count": 8,
   "metadata": {
    "scrolled": false
   },
   "outputs": [],
   "source": [
    "# 文字列があるため、ダミー変数を使用して数値化\n",
    "df = pd.get_dummies(df)"
   ]
  },
  {
   "cell_type": "markdown",
   "metadata": {},
   "source": [
    "# 特徴選択"
   ]
  },
  {
   "cell_type": "code",
   "execution_count": 9,
   "metadata": {},
   "outputs": [],
   "source": [
    "#  estimatorにモデルをセット\n",
    "# 今回は回帰問題であるためLinearRegressionを使用\n",
    "estimator = LinearRegression(normalize=False)\n",
    "\n",
    "# RFECVは交差検証によってステップワイズ法による特徴選択を行う\n",
    "# cvにはFold（=グループ）の数，scoringには評価指標を指定する\n",
    "# 今回は回帰なのでneg_mean_absolute_errorを評価指標に指定（分類ならaccuracy）\n",
    "# 汎化誤差を計算するためにクロスバリデーションをしている\n",
    "rfecv = RFECV(estimator, cv=5, scoring='neg_mean_absolute_error')"
   ]
  },
  {
   "cell_type": "code",
   "execution_count": 10,
   "metadata": {},
   "outputs": [
    {
     "data": {
      "text/plain": [
       "RFECV(cv=5,\n",
       "   estimator=LinearRegression(copy_X=True, fit_intercept=True, n_jobs=None,\n",
       "         normalize=False),\n",
       "   min_features_to_select=1, n_jobs=None,\n",
       "   scoring='neg_mean_absolute_error', step=1, verbose=0)"
      ]
     },
     "execution_count": 10,
     "metadata": {},
     "output_type": "execute_result"
    }
   ],
   "source": [
    "train_data = df[['distance', \"speed\", \"temp_difference\", 'gas_type_E10',\"gas_type_SP98\", 'AC', 'rain', 'sun']]\n",
    "train_label = df[\"consume\"]\n",
    "\n",
    "X = train_data.values\n",
    "y = train_label.values\n",
    "\n",
    "# fitで特徴選択を実行\n",
    "rfecv.fit(X, y)"
   ]
  },
  {
   "cell_type": "code",
   "execution_count": 11,
   "metadata": {},
   "outputs": [
    {
     "name": "stdout",
     "output_type": "stream",
     "text": [
      "Feature ranking: \n",
      "[5 3 1 4 2 1 1 1]\n"
     ]
    }
   ],
   "source": [
    "# 特徴のランキングを表示（1が最も重要な特徴）\n",
    "print('Feature ranking: \\n{}'.format(rfecv.ranking_))"
   ]
  },
  {
   "cell_type": "code",
   "execution_count": 12,
   "metadata": {},
   "outputs": [
    {
     "data": {
      "image/png": "[encoded data removed]",
      "text/plain": [
       "<Figure size 432x288 with 1 Axes>"
      ]
     },
     "metadata": {
      "needs_background": "light"
     },
     "output_type": "display_data"
    }
   ],
   "source": [
    "# 特徴数とスコアの変化をプロット\n",
    "# 負のMAEが評価基準になっており，値がゼロに近いほど汎化誤差は小さい\n",
    "# 横軸は、説明円数の数になる\n",
    "plt.plot(range(1, len(rfecv.grid_scores_) + 1), rfecv.grid_scores_)\n",
    "plt.show()"
   ]
  },
  {
   "cell_type": "code",
   "execution_count": 13,
   "metadata": {},
   "outputs": [
    {
     "data": {
      "text/plain": [
       "array([False, False,  True, False, False,  True,  True,  True])"
      ]
     },
     "execution_count": 13,
     "metadata": {},
     "output_type": "execute_result"
    }
   ],
   "source": [
    "# rfecv.support_でランキング1位以外はFalseとするindexを取得できる\n",
    "# Trueになっている特徴を使用すれば汎化誤差は最小となる\n",
    "rfecv.support_"
   ]
  },
  {
   "cell_type": "code",
   "execution_count": 14,
   "metadata": {},
   "outputs": [
    {
     "data": {
      "text/plain": [
       "array([ True,  True, False,  True,  True, False, False, False])"
      ]
     },
     "execution_count": 14,
     "metadata": {},
     "output_type": "execute_result"
    }
   ],
   "source": [
    "# bool型の配列に ~ をつけるとTrueとFalseを反転させることができる\n",
    "# ここでTrueになっている特徴が削除してもよい特徴\n",
    "remove_idx = ~rfecv.support_\n",
    "remove_idx"
   ]
  },
  {
   "cell_type": "code",
   "execution_count": 15,
   "metadata": {},
   "outputs": [
    {
     "data": {
      "text/plain": [
       "Index(['distance', 'speed', 'gas_type_E10', 'gas_type_SP98'], dtype='object')"
      ]
     },
     "execution_count": 15,
     "metadata": {},
     "output_type": "execute_result"
    }
   ],
   "source": [
    "remove_feature = train_data.columns[remove_idx]\n",
    "remove_feature"
   ]
  },
  {
   "cell_type": "code",
   "execution_count": 16,
   "metadata": {
    "scrolled": true
   },
   "outputs": [],
   "source": [
    "X = train_data.drop(remove_feature,axis=1)\n",
    "index = X.columns"
   ]
  },
  {
   "cell_type": "code",
   "execution_count": 17,
   "metadata": {},
   "outputs": [
    {
     "data": {
      "text/plain": [
       "Index(['temp_difference', 'AC', 'rain', 'sun'], dtype='object')"
      ]
     },
     "execution_count": 17,
     "metadata": {},
     "output_type": "execute_result"
    }
   ],
   "source": [
    "index"
   ]
  },
  {
   "cell_type": "code",
   "execution_count": 18,
   "metadata": {},
   "outputs": [
    {
     "name": "stdout",
     "output_type": "stream",
     "text": [
      "2δ以内 776\n",
      "2δ以外 0\n"
     ]
    }
   ],
   "source": [
    "# 正規分布の2δ以内に入る値を採用する。またそれ以外は外れ値として削除\n",
    "# 標本平均\n",
    "mean = np.mean(df[\"temp_difference\"])\n",
    "# 標本分散\n",
    "variance = np.var(df[\"temp_difference\"])\n",
    "\n",
    "temp = []\n",
    "x = np.array(temp,dtype = np.float32) \n",
    "x_1 = np.array(temp,dtype = np.float32) \n",
    "\n",
    "for i in df[\"temp_difference\"]:\n",
    "    if (i-mean)/variance < 1.96:\n",
    "         x = np.append(x,i)\n",
    "    else:\n",
    "         x_1 = np.append(x_1,i)\n",
    "        \n",
    "    if (i-mean)/variance > -1.96:\n",
    "         x = np.append(x,i)\n",
    "    else:\n",
    "         x_1 = np.append(x_1,i)\n",
    "print(\"2δ以内\",len(x))\n",
    "print(\"2δ以外\",len(x_1))"
   ]
  },
  {
   "cell_type": "markdown",
   "metadata": {},
   "source": [
    "今回は外れ値はなかったため、削除しない"
   ]
  },
  {
   "cell_type": "markdown",
   "metadata": {},
   "source": [
    "# scilit-learnで決定木を生成"
   ]
  },
  {
   "cell_type": "code",
   "execution_count": 19,
   "metadata": {
    "scrolled": true
   },
   "outputs": [
    {
     "name": "stdout",
     "output_type": "stream",
     "text": [
      "score= -0.20963352254810008\n",
      "決定木_MSE_訓練誤差 =  0.78544197377474\n",
      "\n",
      "決定木_MSE_汎化誤差 =  0.831990867596118\n",
      "[0.88104703 0.00412407 0.10846683 0.00636207]\n"
     ]
    },
    {
     "data": {
      "image/png": "[encoded data removed]",
      "text/plain": [
       "<Figure size 504x144 with 1 Axes>"
      ]
     },
     "metadata": {
      "needs_background": "light"
     },
     "output_type": "display_data"
    },
    {
     "name": "stdout",
     "output_type": "stream",
     "text": [
      "     temp_difference  AC  rain  sun\n",
      "138        11.500000   0     1    0\n",
      "363        -1.000000   0     0    0\n",
      "299         7.000000   1     0    1\n",
      "57         13.500000   0     0    0\n",
      "73         13.500000   0     0    0\n",
      "43         14.500000   0     0    0\n",
      "198         7.500000   0     0    0\n",
      "180        22.500000   0     0    0\n",
      "7          15.500000   0     0    0\n",
      "339        -2.000000   0     0    0\n",
      "223        11.500000   0     0    0\n",
      "70          9.500000   0     0    0\n",
      "222        12.500000   0     0    0\n",
      "218        10.500000   0     0    0\n",
      "108        17.000000   0     0    0\n",
      "373        -3.000000   1     0    0\n",
      "44         14.500000   0     0    0\n",
      "129        24.500000   0     0    0\n",
      "179        21.000000   0     0    0\n",
      "319         1.000000   0     0    1\n",
      "122        20.000000   0     0    0\n",
      "22         20.500000   0     0    0\n",
      "199         8.500000   0     0    0\n",
      "380        -2.500000   0     0    0\n",
      "97         12.929521   0     0    0\n",
      "140        11.500000   0     1    0\n",
      "78         14.500000   0     0    0\n",
      "99         11.929521   0     0    0\n",
      "92          7.000000   0     0    0\n",
      "59         13.500000   0     1    0\n",
      "..               ...  ..   ...  ...\n",
      "134        16.500000   0     0    0\n",
      "312         5.000000   0     0    1\n",
      "370         3.000000   0     0    0\n",
      "157        12.500000   0     1    0\n",
      "202         1.000000   0     0    0\n",
      "313         5.000000   0     0    0\n",
      "131        17.500000   0     0    0\n",
      "110        14.000000   0     0    0\n",
      "304        11.000000   0     0    0\n",
      "230        18.500000   0     0    0\n",
      "252         8.500000   0     0    0\n",
      "216         9.500000   0     0    0\n",
      "327         5.000000   0     0    0\n",
      "192        18.000000   0     0    0\n",
      "71         11.500000   0     0    0\n",
      "207        10.000000   0     0    0\n",
      "219         5.500000   0     0    1\n",
      "66         15.500000   0     0    0\n",
      "111        14.000000   0     0    0\n",
      "261         6.929521   0     0    1\n",
      "323         7.000000   0     0    0\n",
      "229        20.500000   0     0    0\n",
      "55         18.500000   0     1    0\n",
      "169        14.500000   0     0    0\n",
      "104        10.000000   1     1    0\n",
      "376         3.000000   0     0    0\n",
      "33         14.500000   0     0    0\n",
      "239        13.500000   0     0    1\n",
      "185        10.500000   0     0    0\n",
      "54         13.500000   0     0    0\n",
      "\n",
      "[78 rows x 4 columns]\n"
     ]
    }
   ],
   "source": [
    "def mse(y,y_pred):\n",
    "    mean_squared_error(y,y_pred)\n",
    "    \n",
    "    return mean_squared_error(y,y_pred)\n",
    "\n",
    "# import decision_tree as dt\n",
    "test_size = 0.2\n",
    "\n",
    "X = df[['temp_difference', 'AC', 'rain', 'sun']]\n",
    "y_0 = df[\"consume\"]\n",
    "y = y_0.astype(float)\n",
    "X_train, X_test, y_train, y_test = train_test_split(X, y, test_size=test_size, random_state=1234) # ホールドアウト法を実行（テストデータはランダム選択）}\n",
    "\n",
    "clf = DecisionTreeRegressor(criterion=\"mse\",splitter=\"best\",max_depth=5,min_samples_split=3,min_samples_leaf=3,min_weight_fraction_leaf=0.0,max_features=None,random_state=1234)\n",
    "\n",
    "clf = clf.fit(X_train,y_train)\n",
    "mse1 = mse(y_test,clf.predict(X_test))\n",
    "print(\"score=\",clf.score(X_test,y_test))\n",
    "print(\"決定木_MSE_訓練誤差 = \",(mse(y_train,clf.predict(X_train))))\n",
    "print()\n",
    "print(\"決定木_MSE_汎化誤差 = \",(mse(y_test,clf.predict(X_test))))\n",
    "print(clf.feature_importances_)\n",
    "pd.DataFrame(clf.feature_importances_,index=['temp_difference', 'AC', 'rain', 'sun']).plot.bar(figsize=(7,2))\n",
    "plt.ylabel(\"Importance\")\n",
    "plt.xlabel(\"Features\")\n",
    "plt.show()\n",
    "\n",
    "dot_data = StringIO() \n",
    "export_graphviz(clf,out_file=dot_data,\n",
    "                   feature_names=['temp_difference', 'AC', 'rain', 'sun'],\n",
    "                   class_names=[\"0\",\"1\",\"2\"],\n",
    "                   filled=True,rounded=True,\n",
    "                   special_characters=True)\n",
    "graph = pydotplus.graph_from_dot_data(dot_data.getvalue())\n",
    "Image(graph.create_png())\n",
    "\n",
    "decision = clf.predict(X_test)\n",
    "print(X_test)"
   ]
  },
  {
   "cell_type": "markdown",
   "metadata": {},
   "source": [
    "# ランダムフォレストの生成"
   ]
  },
  {
   "cell_type": "code",
   "execution_count": 20,
   "metadata": {},
   "outputs": [
    {
     "name": "stdout",
     "output_type": "stream",
     "text": [
      "Fitting 5 folds for each of 72 candidates, totalling 360 fits\n"
     ]
    },
    {
     "name": "stderr",
     "output_type": "stream",
     "text": [
      "[Parallel(n_jobs=1)]: Using backend SequentialBackend with 1 concurrent workers.\n"
     ]
    },
    {
     "name": "stdout",
     "output_type": "stream",
     "text": [
      "[CV] criterion=mse, max_depth=1, min_samples_leaf=2, min_samples_split=2 \n"
     ]
    },
    {
     "name": "stderr",
     "output_type": "stream",
     "text": [
      "C:\\Users\\N394\\Anaconda3\\lib\\site-packages\\sklearn\\ensemble\\forest.py:246: FutureWarning: The default value of n_estimators will change from 10 in version 0.20 to 100 in 0.22.\n",
      "  \"10 in version 0.20 to 100 in 0.22.\", FutureWarning)\n"
     ]
    },
    {
     "name": "stdout",
     "output_type": "stream",
     "text": [
      "[CV]  criterion=mse, max_depth=1, min_samples_leaf=2, min_samples_split=2, total=   0.0s\n"
     ]
    },
    {
     "name": "stderr",
     "output_type": "stream",
     "text": [
      "[Parallel(n_jobs=1)]: Done   1 out of   1 | elapsed:    0.0s remaining:    0.0s\n"
     ]
    },
    {
     "name": "stdout",
     "output_type": "stream",
     "text": [
      "[CV] criterion=mse, max_depth=1, min_samples_leaf=2, min_samples_split=2 \n"
     ]
    },
    {
     "name": "stderr",
     "output_type": "stream",
     "text": [
      "C:\\Users\\N394\\Anaconda3\\lib\\site-packages\\sklearn\\ensemble\\forest.py:246: FutureWarning: The default value of n_estimators will change from 10 in version 0.20 to 100 in 0.22.\n",
      "  \"10 in version 0.20 to 100 in 0.22.\", FutureWarning)\n"
     ]
    },
    {
     "name": "stdout",
     "output_type": "stream",
     "text": [
      "[CV]  criterion=mse, max_depth=1, min_samples_leaf=2, min_samples_split=2, total=   0.0s\n",
      "[CV] criterion=mse, max_depth=1, min_samples_leaf=2, min_samples_split=2 \n"
     ]
    },
    {
     "name": "stderr",
     "output_type": "stream",
     "text": [
      "C:\\Users\\N394\\Anaconda3\\lib\\site-packages\\sklearn\\ensemble\\forest.py:246: FutureWarning: The default value of n_estimators will change from 10 in version 0.20 to 100 in 0.22.\n",
      "  \"10 in version 0.20 to 100 in 0.22.\", FutureWarning)\n"
     ]
    },
    {
     "name": "stdout",
     "output_type": "stream",
     "text": [
      "[CV]  criterion=mse, max_depth=1, min_samples_leaf=2, min_samples_split=2, total=   0.0s\n",
      "[CV] criterion=mse, max_depth=1, min_samples_leaf=2, min_samples_split=2 \n"
     ]
    },
    {
     "name": "stderr",
     "output_type": "stream",
     "text": [
      "C:\\Users\\N394\\Anaconda3\\lib\\site-packages\\sklearn\\ensemble\\forest.py:246: FutureWarning: The default value of n_estimators will change from 10 in version 0.20 to 100 in 0.22.\n",
      "  \"10 in version 0.20 to 100 in 0.22.\", FutureWarning)\n"
     ]
    },
    {
     "name": "stdout",
     "output_type": "stream",
     "text": [
      "[CV]  criterion=mse, max_depth=1, min_samples_leaf=2, min_samples_split=2, total=   0.0s\n",
      "[CV] criterion=mse, max_depth=1, min_samples_leaf=2, min_samples_split=2 \n"
     ]
    },
    {
     "name": "stderr",
     "output_type": "stream",
     "text": [
      "C:\\Users\\N394\\Anaconda3\\lib\\site-packages\\sklearn\\ensemble\\forest.py:246: FutureWarning: The default value of n_estimators will change from 10 in version 0.20 to 100 in 0.22.\n",
      "  \"10 in version 0.20 to 100 in 0.22.\", FutureWarning)\n"
     ]
    },
    {
     "name": "stdout",
     "output_type": "stream",
     "text": [
      "[CV]  criterion=mse, max_depth=1, min_samples_leaf=2, min_samples_split=2, total=   0.0s\n",
      "[CV] criterion=mse, max_depth=1, min_samples_leaf=2, min_samples_split=3 \n"
     ]
    },
    {
     "name": "stderr",
     "output_type": "stream",
     "text": [
      "C:\\Users\\N394\\Anaconda3\\lib\\site-packages\\sklearn\\ensemble\\forest.py:246: FutureWarning: The default value of n_estimators will change from 10 in version 0.20 to 100 in 0.22.\n",
      "  \"10 in version 0.20 to 100 in 0.22.\", FutureWarning)\n"
     ]
    },
    {
     "name": "stdout",
     "output_type": "stream",
     "text": [
      "[CV]  criterion=mse, max_depth=1, min_samples_leaf=2, min_samples_split=3, total=   0.0s\n",
      "[CV] criterion=mse, max_depth=1, min_samples_leaf=2, min_samples_split=3 \n"
     ]
    },
    {
     "name": "stderr",
     "output_type": "stream",
     "text": [
      "C:\\Users\\N394\\Anaconda3\\lib\\site-packages\\sklearn\\ensemble\\forest.py:246: FutureWarning: The default value of n_estimators will change from 10 in version 0.20 to 100 in 0.22.\n",
      "  \"10 in version 0.20 to 100 in 0.22.\", FutureWarning)\n"
     ]
    },
    {
     "name": "stdout",
     "output_type": "stream",
     "text": [
      "[CV]  criterion=mse, max_depth=1, min_samples_leaf=2, min_samples_split=3, total=   0.0s\n",
      "[CV] criterion=mse, max_depth=1, min_samples_leaf=2, min_samples_split=3 \n"
     ]
    },
    {
     "name": "stderr",
     "output_type": "stream",
     "text": [
      "C:\\Users\\N394\\Anaconda3\\lib\\site-packages\\sklearn\\ensemble\\forest.py:246: FutureWarning: The default value of n_estimators will change from 10 in version 0.20 to 100 in 0.22.\n",
      "  \"10 in version 0.20 to 100 in 0.22.\", FutureWarning)\n"
     ]
    },
    {
     "name": "stdout",
     "output_type": "stream",
     "text": [
      "[CV]  criterion=mse, max_depth=1, min_samples_leaf=2, min_samples_split=3, total=   0.0s\n",
      "[CV] criterion=mse, max_depth=1, min_samples_leaf=2, min_samples_split=3 \n"
     ]
    },
    {
     "name": "stderr",
     "output_type": "stream",
     "text": [
      "C:\\Users\\N394\\Anaconda3\\lib\\site-packages\\sklearn\\ensemble\\forest.py:246: FutureWarning: The default value of n_estimators will change from 10 in version 0.20 to 100 in 0.22.\n",
      "  \"10 in version 0.20 to 100 in 0.22.\", FutureWarning)\n"
     ]
    },
    {
     "name": "stdout",
     "output_type": "stream",
     "text": [
      "[CV]  criterion=mse, max_depth=1, min_samples_leaf=2, min_samples_split=3, total=   0.0s\n",
      "[CV] criterion=mse, max_depth=1, min_samples_leaf=2, min_samples_split=3 \n"
     ]
    },
    {
     "name": "stderr",
     "output_type": "stream",
     "text": [
      "C:\\Users\\N394\\Anaconda3\\lib\\site-packages\\sklearn\\ensemble\\forest.py:246: FutureWarning: The default value of n_estimators will change from 10 in version 0.20 to 100 in 0.22.\n",
      "  \"10 in version 0.20 to 100 in 0.22.\", FutureWarning)\n"
     ]
    },
    {
     "name": "stdout",
     "output_type": "stream",
     "text": [
      "[CV]  criterion=mse, max_depth=1, min_samples_leaf=2, min_samples_split=3, total=   0.0s\n",
      "[CV] criterion=mse, max_depth=1, min_samples_leaf=2, min_samples_split=4 \n"
     ]
    },
    {
     "name": "stderr",
     "output_type": "stream",
     "text": [
      "C:\\Users\\N394\\Anaconda3\\lib\\site-packages\\sklearn\\ensemble\\forest.py:246: FutureWarning: The default value of n_estimators will change from 10 in version 0.20 to 100 in 0.22.\n",
      "  \"10 in version 0.20 to 100 in 0.22.\", FutureWarning)\n"
     ]
    },
    {
     "name": "stdout",
     "output_type": "stream",
     "text": [
      "[CV]  criterion=mse, max_depth=1, min_samples_leaf=2, min_samples_split=4, total=   0.0s\n",
      "[CV] criterion=mse, max_depth=1, min_samples_leaf=2, min_samples_split=4 \n"
     ]
    },
    {
     "name": "stderr",
     "output_type": "stream",
     "text": [
      "C:\\Users\\N394\\Anaconda3\\lib\\site-packages\\sklearn\\ensemble\\forest.py:246: FutureWarning: The default value of n_estimators will change from 10 in version 0.20 to 100 in 0.22.\n",
      "  \"10 in version 0.20 to 100 in 0.22.\", FutureWarning)\n"
     ]
    },
    {
     "name": "stdout",
     "output_type": "stream",
     "text": [
      "[CV]  criterion=mse, max_depth=1, min_samples_leaf=2, min_samples_split=4, total=   0.0s\n",
      "[CV] criterion=mse, max_depth=1, min_samples_leaf=2, min_samples_split=4 \n"
     ]
    },
    {
     "name": "stderr",
     "output_type": "stream",
     "text": [
      "C:\\Users\\N394\\Anaconda3\\lib\\site-packages\\sklearn\\ensemble\\forest.py:246: FutureWarning: The default value of n_estimators will change from 10 in version 0.20 to 100 in 0.22.\n",
      "  \"10 in version 0.20 to 100 in 0.22.\", FutureWarning)\n"
     ]
    },
    {
     "name": "stdout",
     "output_type": "stream",
     "text": [
      "[CV]  criterion=mse, max_depth=1, min_samples_leaf=2, min_samples_split=4, total=   0.0s\n",
      "[CV] criterion=mse, max_depth=1, min_samples_leaf=2, min_samples_split=4 \n"
     ]
    },
    {
     "name": "stderr",
     "output_type": "stream",
     "text": [
      "C:\\Users\\N394\\Anaconda3\\lib\\site-packages\\sklearn\\ensemble\\forest.py:246: FutureWarning: The default value of n_estimators will change from 10 in version 0.20 to 100 in 0.22.\n",
      "  \"10 in version 0.20 to 100 in 0.22.\", FutureWarning)\n"
     ]
    },
    {
     "name": "stdout",
     "output_type": "stream",
     "text": [
      "[CV]  criterion=mse, max_depth=1, min_samples_leaf=2, min_samples_split=4, total=   0.0s\n",
      "[CV] criterion=mse, max_depth=1, min_samples_leaf=2, min_samples_split=4 \n"
     ]
    },
    {
     "name": "stderr",
     "output_type": "stream",
     "text": [
      "C:\\Users\\N394\\Anaconda3\\lib\\site-packages\\sklearn\\ensemble\\forest.py:246: FutureWarning: The default value of n_estimators will change from 10 in version 0.20 to 100 in 0.22.\n",
      "  \"10 in version 0.20 to 100 in 0.22.\", FutureWarning)\n"
     ]
    },
    {
     "name": "stdout",
     "output_type": "stream",
     "text": [
      "[CV]  criterion=mse, max_depth=1, min_samples_leaf=2, min_samples_split=4, total=   0.0s\n",
      "[CV] criterion=mse, max_depth=1, min_samples_leaf=3, min_samples_split=2 \n"
     ]
    },
    {
     "name": "stderr",
     "output_type": "stream",
     "text": [
      "C:\\Users\\N394\\Anaconda3\\lib\\site-packages\\sklearn\\ensemble\\forest.py:246: FutureWarning: The default value of n_estimators will change from 10 in version 0.20 to 100 in 0.22.\n",
      "  \"10 in version 0.20 to 100 in 0.22.\", FutureWarning)\n"
     ]
    },
    {
     "name": "stdout",
     "output_type": "stream",
     "text": [
      "[CV]  criterion=mse, max_depth=1, min_samples_leaf=3, min_samples_split=2, total=   0.0s\n",
      "[CV] criterion=mse, max_depth=1, min_samples_leaf=3, min_samples_split=2 \n"
     ]
    },
    {
     "name": "stderr",
     "output_type": "stream",
     "text": [
      "C:\\Users\\N394\\Anaconda3\\lib\\site-packages\\sklearn\\ensemble\\forest.py:246: FutureWarning: The default value of n_estimators will change from 10 in version 0.20 to 100 in 0.22.\n",
      "  \"10 in version 0.20 to 100 in 0.22.\", FutureWarning)\n"
     ]
    },
    {
     "name": "stdout",
     "output_type": "stream",
     "text": [
      "[CV]  criterion=mse, max_depth=1, min_samples_leaf=3, min_samples_split=2, total=   0.0s\n",
      "[CV] criterion=mse, max_depth=1, min_samples_leaf=3, min_samples_split=2 \n"
     ]
    },
    {
     "name": "stderr",
     "output_type": "stream",
     "text": [
      "C:\\Users\\N394\\Anaconda3\\lib\\site-packages\\sklearn\\ensemble\\forest.py:246: FutureWarning: The default value of n_estimators will change from 10 in version 0.20 to 100 in 0.22.\n",
      "  \"10 in version 0.20 to 100 in 0.22.\", FutureWarning)\n"
     ]
    },
    {
     "name": "stdout",
     "output_type": "stream",
     "text": [
      "[CV]  criterion=mse, max_depth=1, min_samples_leaf=3, min_samples_split=2, total=   0.0s\n",
      "[CV] criterion=mse, max_depth=1, min_samples_leaf=3, min_samples_split=2 \n"
     ]
    },
    {
     "name": "stderr",
     "output_type": "stream",
     "text": [
      "C:\\Users\\N394\\Anaconda3\\lib\\site-packages\\sklearn\\ensemble\\forest.py:246: FutureWarning: The default value of n_estimators will change from 10 in version 0.20 to 100 in 0.22.\n",
      "  \"10 in version 0.20 to 100 in 0.22.\", FutureWarning)\n"
     ]
    },
    {
     "name": "stdout",
     "output_type": "stream",
     "text": [
      "[CV]  criterion=mse, max_depth=1, min_samples_leaf=3, min_samples_split=2, total=   0.0s\n",
      "[CV] criterion=mse, max_depth=1, min_samples_leaf=3, min_samples_split=2 \n"
     ]
    },
    {
     "name": "stderr",
     "output_type": "stream",
     "text": [
      "C:\\Users\\N394\\Anaconda3\\lib\\site-packages\\sklearn\\ensemble\\forest.py:246: FutureWarning: The default value of n_estimators will change from 10 in version 0.20 to 100 in 0.22.\n",
      "  \"10 in version 0.20 to 100 in 0.22.\", FutureWarning)\n"
     ]
    },
    {
     "name": "stdout",
     "output_type": "stream",
     "text": [
      "[CV]  criterion=mse, max_depth=1, min_samples_leaf=3, min_samples_split=2, total=   0.0s\n",
      "[CV] criterion=mse, max_depth=1, min_samples_leaf=3, min_samples_split=3 \n"
     ]
    },
    {
     "name": "stderr",
     "output_type": "stream",
     "text": [
      "C:\\Users\\N394\\Anaconda3\\lib\\site-packages\\sklearn\\ensemble\\forest.py:246: FutureWarning: The default value of n_estimators will change from 10 in version 0.20 to 100 in 0.22.\n",
      "  \"10 in version 0.20 to 100 in 0.22.\", FutureWarning)\n"
     ]
    },
    {
     "name": "stdout",
     "output_type": "stream",
     "text": [
      "[CV]  criterion=mse, max_depth=1, min_samples_leaf=3, min_samples_split=3, total=   0.0s\n",
      "[CV] criterion=mse, max_depth=1, min_samples_leaf=3, min_samples_split=3 \n"
     ]
    },
    {
     "name": "stderr",
     "output_type": "stream",
     "text": [
      "C:\\Users\\N394\\Anaconda3\\lib\\site-packages\\sklearn\\ensemble\\forest.py:246: FutureWarning: The default value of n_estimators will change from 10 in version 0.20 to 100 in 0.22.\n",
      "  \"10 in version 0.20 to 100 in 0.22.\", FutureWarning)\n"
     ]
    },
    {
     "name": "stdout",
     "output_type": "stream",
     "text": [
      "[CV]  criterion=mse, max_depth=1, min_samples_leaf=3, min_samples_split=3, total=   0.0s\n",
      "[CV] criterion=mse, max_depth=1, min_samples_leaf=3, min_samples_split=3 \n"
     ]
    },
    {
     "name": "stderr",
     "output_type": "stream",
     "text": [
      "C:\\Users\\N394\\Anaconda3\\lib\\site-packages\\sklearn\\ensemble\\forest.py:246: FutureWarning: The default value of n_estimators will change from 10 in version 0.20 to 100 in 0.22.\n",
      "  \"10 in version 0.20 to 100 in 0.22.\", FutureWarning)\n"
     ]
    },
    {
     "name": "stdout",
     "output_type": "stream",
     "text": [
      "[CV]  criterion=mse, max_depth=1, min_samples_leaf=3, min_samples_split=3, total=   0.0s\n",
      "[CV] criterion=mse, max_depth=1, min_samples_leaf=3, min_samples_split=3 \n"
     ]
    },
    {
     "name": "stderr",
     "output_type": "stream",
     "text": [
      "C:\\Users\\N394\\Anaconda3\\lib\\site-packages\\sklearn\\ensemble\\forest.py:246: FutureWarning: The default value of n_estimators will change from 10 in version 0.20 to 100 in 0.22.\n",
      "  \"10 in version 0.20 to 100 in 0.22.\", FutureWarning)\n"
     ]
    },
    {
     "name": "stdout",
     "output_type": "stream",
     "text": [
      "[CV]  criterion=mse, max_depth=1, min_samples_leaf=3, min_samples_split=3, total=   0.0s\n",
      "[CV] criterion=mse, max_depth=1, min_samples_leaf=3, min_samples_split=3 \n"
     ]
    },
    {
     "name": "stderr",
     "output_type": "stream",
     "text": [
      "C:\\Users\\N394\\Anaconda3\\lib\\site-packages\\sklearn\\ensemble\\forest.py:246: FutureWarning: The default value of n_estimators will change from 10 in version 0.20 to 100 in 0.22.\n",
      "  \"10 in version 0.20 to 100 in 0.22.\", FutureWarning)\n"
     ]
    },
    {
     "name": "stdout",
     "output_type": "stream",
     "text": [
      "[CV]  criterion=mse, max_depth=1, min_samples_leaf=3, min_samples_split=3, total=   0.0s\n",
      "[CV] criterion=mse, max_depth=1, min_samples_leaf=3, min_samples_split=4 \n"
     ]
    },
    {
     "name": "stderr",
     "output_type": "stream",
     "text": [
      "C:\\Users\\N394\\Anaconda3\\lib\\site-packages\\sklearn\\ensemble\\forest.py:246: FutureWarning: The default value of n_estimators will change from 10 in version 0.20 to 100 in 0.22.\n",
      "  \"10 in version 0.20 to 100 in 0.22.\", FutureWarning)\n"
     ]
    },
    {
     "name": "stdout",
     "output_type": "stream",
     "text": [
      "[CV]  criterion=mse, max_depth=1, min_samples_leaf=3, min_samples_split=4, total=   0.0s\n",
      "[CV] criterion=mse, max_depth=1, min_samples_leaf=3, min_samples_split=4 \n"
     ]
    },
    {
     "name": "stderr",
     "output_type": "stream",
     "text": [
      "C:\\Users\\N394\\Anaconda3\\lib\\site-packages\\sklearn\\ensemble\\forest.py:246: FutureWarning: The default value of n_estimators will change from 10 in version 0.20 to 100 in 0.22.\n",
      "  \"10 in version 0.20 to 100 in 0.22.\", FutureWarning)\n"
     ]
    },
    {
     "name": "stdout",
     "output_type": "stream",
     "text": [
      "[CV]  criterion=mse, max_depth=1, min_samples_leaf=3, min_samples_split=4, total=   0.0s\n",
      "[CV] criterion=mse, max_depth=1, min_samples_leaf=3, min_samples_split=4 \n"
     ]
    },
    {
     "name": "stderr",
     "output_type": "stream",
     "text": [
      "C:\\Users\\N394\\Anaconda3\\lib\\site-packages\\sklearn\\ensemble\\forest.py:246: FutureWarning: The default value of n_estimators will change from 10 in version 0.20 to 100 in 0.22.\n",
      "  \"10 in version 0.20 to 100 in 0.22.\", FutureWarning)\n"
     ]
    },
    {
     "name": "stdout",
     "output_type": "stream",
     "text": [
      "[CV]  criterion=mse, max_depth=1, min_samples_leaf=3, min_samples_split=4, total=   0.0s\n",
      "[CV] criterion=mse, max_depth=1, min_samples_leaf=3, min_samples_split=4 \n"
     ]
    },
    {
     "name": "stderr",
     "output_type": "stream",
     "text": [
      "C:\\Users\\N394\\Anaconda3\\lib\\site-packages\\sklearn\\ensemble\\forest.py:246: FutureWarning: The default value of n_estimators will change from 10 in version 0.20 to 100 in 0.22.\n",
      "  \"10 in version 0.20 to 100 in 0.22.\", FutureWarning)\n"
     ]
    },
    {
     "name": "stdout",
     "output_type": "stream",
     "text": [
      "[CV]  criterion=mse, max_depth=1, min_samples_leaf=3, min_samples_split=4, total=   0.0s\n",
      "[CV] criterion=mse, max_depth=1, min_samples_leaf=3, min_samples_split=4 \n"
     ]
    },
    {
     "name": "stderr",
     "output_type": "stream",
     "text": [
      "C:\\Users\\N394\\Anaconda3\\lib\\site-packages\\sklearn\\ensemble\\forest.py:246: FutureWarning: The default value of n_estimators will change from 10 in version 0.20 to 100 in 0.22.\n",
      "  \"10 in version 0.20 to 100 in 0.22.\", FutureWarning)\n"
     ]
    },
    {
     "name": "stdout",
     "output_type": "stream",
     "text": [
      "[CV]  criterion=mse, max_depth=1, min_samples_leaf=3, min_samples_split=4, total=   0.0s\n",
      "[CV] criterion=mse, max_depth=1, min_samples_leaf=4, min_samples_split=2 \n"
     ]
    },
    {
     "name": "stderr",
     "output_type": "stream",
     "text": [
      "C:\\Users\\N394\\Anaconda3\\lib\\site-packages\\sklearn\\ensemble\\forest.py:246: FutureWarning: The default value of n_estimators will change from 10 in version 0.20 to 100 in 0.22.\n",
      "  \"10 in version 0.20 to 100 in 0.22.\", FutureWarning)\n"
     ]
    },
    {
     "name": "stdout",
     "output_type": "stream",
     "text": [
      "[CV]  criterion=mse, max_depth=1, min_samples_leaf=4, min_samples_split=2, total=   0.0s\n",
      "[CV] criterion=mse, max_depth=1, min_samples_leaf=4, min_samples_split=2 \n"
     ]
    },
    {
     "name": "stderr",
     "output_type": "stream",
     "text": [
      "C:\\Users\\N394\\Anaconda3\\lib\\site-packages\\sklearn\\ensemble\\forest.py:246: FutureWarning: The default value of n_estimators will change from 10 in version 0.20 to 100 in 0.22.\n",
      "  \"10 in version 0.20 to 100 in 0.22.\", FutureWarning)\n"
     ]
    },
    {
     "name": "stdout",
     "output_type": "stream",
     "text": [
      "[CV]  criterion=mse, max_depth=1, min_samples_leaf=4, min_samples_split=2, total=   0.0s\n",
      "[CV] criterion=mse, max_depth=1, min_samples_leaf=4, min_samples_split=2 \n"
     ]
    },
    {
     "name": "stderr",
     "output_type": "stream",
     "text": [
      "C:\\Users\\N394\\Anaconda3\\lib\\site-packages\\sklearn\\ensemble\\forest.py:246: FutureWarning: The default value of n_estimators will change from 10 in version 0.20 to 100 in 0.22.\n",
      "  \"10 in version 0.20 to 100 in 0.22.\", FutureWarning)\n"
     ]
    },
    {
     "name": "stdout",
     "output_type": "stream",
     "text": [
      "[CV]  criterion=mse, max_depth=1, min_samples_leaf=4, min_samples_split=2, total=   0.0s\n",
      "[CV] criterion=mse, max_depth=1, min_samples_leaf=4, min_samples_split=2 \n"
     ]
    },
    {
     "name": "stderr",
     "output_type": "stream",
     "text": [
      "C:\\Users\\N394\\Anaconda3\\lib\\site-packages\\sklearn\\ensemble\\forest.py:246: FutureWarning: The default value of n_estimators will change from 10 in version 0.20 to 100 in 0.22.\n",
      "  \"10 in version 0.20 to 100 in 0.22.\", FutureWarning)\n"
     ]
    },
    {
     "name": "stdout",
     "output_type": "stream",
     "text": [
      "[CV]  criterion=mse, max_depth=1, min_samples_leaf=4, min_samples_split=2, total=   0.0s\n",
      "[CV] criterion=mse, max_depth=1, min_samples_leaf=4, min_samples_split=2 \n"
     ]
    },
    {
     "name": "stderr",
     "output_type": "stream",
     "text": [
      "C:\\Users\\N394\\Anaconda3\\lib\\site-packages\\sklearn\\ensemble\\forest.py:246: FutureWarning: The default value of n_estimators will change from 10 in version 0.20 to 100 in 0.22.\n",
      "  \"10 in version 0.20 to 100 in 0.22.\", FutureWarning)\n"
     ]
    },
    {
     "name": "stdout",
     "output_type": "stream",
     "text": [
      "[CV]  criterion=mse, max_depth=1, min_samples_leaf=4, min_samples_split=2, total=   0.0s\n",
      "[CV] criterion=mse, max_depth=1, min_samples_leaf=4, min_samples_split=3 \n"
     ]
    },
    {
     "name": "stderr",
     "output_type": "stream",
     "text": [
      "C:\\Users\\N394\\Anaconda3\\lib\\site-packages\\sklearn\\ensemble\\forest.py:246: FutureWarning: The default value of n_estimators will change from 10 in version 0.20 to 100 in 0.22.\n",
      "  \"10 in version 0.20 to 100 in 0.22.\", FutureWarning)\n"
     ]
    },
    {
     "name": "stdout",
     "output_type": "stream",
     "text": [
      "[CV]  criterion=mse, max_depth=1, min_samples_leaf=4, min_samples_split=3, total=   0.0s\n",
      "[CV] criterion=mse, max_depth=1, min_samples_leaf=4, min_samples_split=3 \n"
     ]
    },
    {
     "name": "stderr",
     "output_type": "stream",
     "text": [
      "C:\\Users\\N394\\Anaconda3\\lib\\site-packages\\sklearn\\ensemble\\forest.py:246: FutureWarning: The default value of n_estimators will change from 10 in version 0.20 to 100 in 0.22.\n",
      "  \"10 in version 0.20 to 100 in 0.22.\", FutureWarning)\n"
     ]
    },
    {
     "name": "stdout",
     "output_type": "stream",
     "text": [
      "[CV]  criterion=mse, max_depth=1, min_samples_leaf=4, min_samples_split=3, total=   0.0s\n",
      "[CV] criterion=mse, max_depth=1, min_samples_leaf=4, min_samples_split=3 \n"
     ]
    },
    {
     "name": "stderr",
     "output_type": "stream",
     "text": [
      "C:\\Users\\N394\\Anaconda3\\lib\\site-packages\\sklearn\\ensemble\\forest.py:246: FutureWarning: The default value of n_estimators will change from 10 in version 0.20 to 100 in 0.22.\n",
      "  \"10 in version 0.20 to 100 in 0.22.\", FutureWarning)\n"
     ]
    },
    {
     "name": "stdout",
     "output_type": "stream",
     "text": [
      "[CV]  criterion=mse, max_depth=1, min_samples_leaf=4, min_samples_split=3, total=   0.0s\n",
      "[CV] criterion=mse, max_depth=1, min_samples_leaf=4, min_samples_split=3 \n"
     ]
    },
    {
     "name": "stderr",
     "output_type": "stream",
     "text": [
      "C:\\Users\\N394\\Anaconda3\\lib\\site-packages\\sklearn\\ensemble\\forest.py:246: FutureWarning: The default value of n_estimators will change from 10 in version 0.20 to 100 in 0.22.\n",
      "  \"10 in version 0.20 to 100 in 0.22.\", FutureWarning)\n"
     ]
    },
    {
     "name": "stdout",
     "output_type": "stream",
     "text": [
      "[CV]  criterion=mse, max_depth=1, min_samples_leaf=4, min_samples_split=3, total=   0.0s\n",
      "[CV] criterion=mse, max_depth=1, min_samples_leaf=4, min_samples_split=3 \n"
     ]
    },
    {
     "name": "stderr",
     "output_type": "stream",
     "text": [
      "C:\\Users\\N394\\Anaconda3\\lib\\site-packages\\sklearn\\ensemble\\forest.py:246: FutureWarning: The default value of n_estimators will change from 10 in version 0.20 to 100 in 0.22.\n",
      "  \"10 in version 0.20 to 100 in 0.22.\", FutureWarning)\n"
     ]
    },
    {
     "name": "stdout",
     "output_type": "stream",
     "text": [
      "[CV]  criterion=mse, max_depth=1, min_samples_leaf=4, min_samples_split=3, total=   0.0s\n",
      "[CV] criterion=mse, max_depth=1, min_samples_leaf=4, min_samples_split=4 \n"
     ]
    },
    {
     "name": "stderr",
     "output_type": "stream",
     "text": [
      "C:\\Users\\N394\\Anaconda3\\lib\\site-packages\\sklearn\\ensemble\\forest.py:246: FutureWarning: The default value of n_estimators will change from 10 in version 0.20 to 100 in 0.22.\n",
      "  \"10 in version 0.20 to 100 in 0.22.\", FutureWarning)\n"
     ]
    },
    {
     "name": "stdout",
     "output_type": "stream",
     "text": [
      "[CV]  criterion=mse, max_depth=1, min_samples_leaf=4, min_samples_split=4, total=   0.0s\n",
      "[CV] criterion=mse, max_depth=1, min_samples_leaf=4, min_samples_split=4 \n"
     ]
    },
    {
     "name": "stderr",
     "output_type": "stream",
     "text": [
      "C:\\Users\\N394\\Anaconda3\\lib\\site-packages\\sklearn\\ensemble\\forest.py:246: FutureWarning: The default value of n_estimators will change from 10 in version 0.20 to 100 in 0.22.\n",
      "  \"10 in version 0.20 to 100 in 0.22.\", FutureWarning)\n"
     ]
    },
    {
     "name": "stdout",
     "output_type": "stream",
     "text": [
      "[CV]  criterion=mse, max_depth=1, min_samples_leaf=4, min_samples_split=4, total=   0.0s\n",
      "[CV] criterion=mse, max_depth=1, min_samples_leaf=4, min_samples_split=4 \n"
     ]
    },
    {
     "name": "stderr",
     "output_type": "stream",
     "text": [
      "C:\\Users\\N394\\Anaconda3\\lib\\site-packages\\sklearn\\ensemble\\forest.py:246: FutureWarning: The default value of n_estimators will change from 10 in version 0.20 to 100 in 0.22.\n",
      "  \"10 in version 0.20 to 100 in 0.22.\", FutureWarning)\n"
     ]
    },
    {
     "name": "stdout",
     "output_type": "stream",
     "text": [
      "[CV]  criterion=mse, max_depth=1, min_samples_leaf=4, min_samples_split=4, total=   0.0s\n",
      "[CV] criterion=mse, max_depth=1, min_samples_leaf=4, min_samples_split=4 \n"
     ]
    },
    {
     "name": "stderr",
     "output_type": "stream",
     "text": [
      "C:\\Users\\N394\\Anaconda3\\lib\\site-packages\\sklearn\\ensemble\\forest.py:246: FutureWarning: The default value of n_estimators will change from 10 in version 0.20 to 100 in 0.22.\n",
      "  \"10 in version 0.20 to 100 in 0.22.\", FutureWarning)\n"
     ]
    },
    {
     "name": "stdout",
     "output_type": "stream",
     "text": [
      "[CV]  criterion=mse, max_depth=1, min_samples_leaf=4, min_samples_split=4, total=   0.0s\n",
      "[CV] criterion=mse, max_depth=1, min_samples_leaf=4, min_samples_split=4 \n"
     ]
    },
    {
     "name": "stderr",
     "output_type": "stream",
     "text": [
      "C:\\Users\\N394\\Anaconda3\\lib\\site-packages\\sklearn\\ensemble\\forest.py:246: FutureWarning: The default value of n_estimators will change from 10 in version 0.20 to 100 in 0.22.\n",
      "  \"10 in version 0.20 to 100 in 0.22.\", FutureWarning)\n"
     ]
    },
    {
     "name": "stdout",
     "output_type": "stream",
     "text": [
      "[CV]  criterion=mse, max_depth=1, min_samples_leaf=4, min_samples_split=4, total=   0.0s\n",
      "[CV] criterion=mse, max_depth=2, min_samples_leaf=2, min_samples_split=2 \n"
     ]
    },
    {
     "name": "stderr",
     "output_type": "stream",
     "text": [
      "C:\\Users\\N394\\Anaconda3\\lib\\site-packages\\sklearn\\ensemble\\forest.py:246: FutureWarning: The default value of n_estimators will change from 10 in version 0.20 to 100 in 0.22.\n",
      "  \"10 in version 0.20 to 100 in 0.22.\", FutureWarning)\n"
     ]
    },
    {
     "name": "stdout",
     "output_type": "stream",
     "text": [
      "[CV]  criterion=mse, max_depth=2, min_samples_leaf=2, min_samples_split=2, total=   0.0s\n",
      "[CV] criterion=mse, max_depth=2, min_samples_leaf=2, min_samples_split=2 \n"
     ]
    },
    {
     "name": "stderr",
     "output_type": "stream",
     "text": [
      "C:\\Users\\N394\\Anaconda3\\lib\\site-packages\\sklearn\\ensemble\\forest.py:246: FutureWarning: The default value of n_estimators will change from 10 in version 0.20 to 100 in 0.22.\n",
      "  \"10 in version 0.20 to 100 in 0.22.\", FutureWarning)\n"
     ]
    },
    {
     "name": "stdout",
     "output_type": "stream",
     "text": [
      "[CV]  criterion=mse, max_depth=2, min_samples_leaf=2, min_samples_split=2, total=   0.0s\n",
      "[CV] criterion=mse, max_depth=2, min_samples_leaf=2, min_samples_split=2 \n"
     ]
    },
    {
     "name": "stderr",
     "output_type": "stream",
     "text": [
      "C:\\Users\\N394\\Anaconda3\\lib\\site-packages\\sklearn\\ensemble\\forest.py:246: FutureWarning: The default value of n_estimators will change from 10 in version 0.20 to 100 in 0.22.\n",
      "  \"10 in version 0.20 to 100 in 0.22.\", FutureWarning)\n"
     ]
    },
    {
     "name": "stdout",
     "output_type": "stream",
     "text": [
      "[CV]  criterion=mse, max_depth=2, min_samples_leaf=2, min_samples_split=2, total=   0.0s\n",
      "[CV] criterion=mse, max_depth=2, min_samples_leaf=2, min_samples_split=2 \n"
     ]
    },
    {
     "name": "stderr",
     "output_type": "stream",
     "text": [
      "C:\\Users\\N394\\Anaconda3\\lib\\site-packages\\sklearn\\ensemble\\forest.py:246: FutureWarning: The default value of n_estimators will change from 10 in version 0.20 to 100 in 0.22.\n",
      "  \"10 in version 0.20 to 100 in 0.22.\", FutureWarning)\n"
     ]
    },
    {
     "name": "stdout",
     "output_type": "stream",
     "text": [
      "[CV]  criterion=mse, max_depth=2, min_samples_leaf=2, min_samples_split=2, total=   0.0s\n",
      "[CV] criterion=mse, max_depth=2, min_samples_leaf=2, min_samples_split=2 \n"
     ]
    },
    {
     "name": "stderr",
     "output_type": "stream",
     "text": [
      "C:\\Users\\N394\\Anaconda3\\lib\\site-packages\\sklearn\\ensemble\\forest.py:246: FutureWarning: The default value of n_estimators will change from 10 in version 0.20 to 100 in 0.22.\n",
      "  \"10 in version 0.20 to 100 in 0.22.\", FutureWarning)\n"
     ]
    },
    {
     "name": "stdout",
     "output_type": "stream",
     "text": [
      "[CV]  criterion=mse, max_depth=2, min_samples_leaf=2, min_samples_split=2, total=   0.0s\n",
      "[CV] criterion=mse, max_depth=2, min_samples_leaf=2, min_samples_split=3 \n"
     ]
    },
    {
     "name": "stderr",
     "output_type": "stream",
     "text": [
      "C:\\Users\\N394\\Anaconda3\\lib\\site-packages\\sklearn\\ensemble\\forest.py:246: FutureWarning: The default value of n_estimators will change from 10 in version 0.20 to 100 in 0.22.\n",
      "  \"10 in version 0.20 to 100 in 0.22.\", FutureWarning)\n"
     ]
    },
    {
     "name": "stdout",
     "output_type": "stream",
     "text": [
      "[CV]  criterion=mse, max_depth=2, min_samples_leaf=2, min_samples_split=3, total=   0.0s\n",
      "[CV] criterion=mse, max_depth=2, min_samples_leaf=2, min_samples_split=3 \n"
     ]
    },
    {
     "name": "stderr",
     "output_type": "stream",
     "text": [
      "C:\\Users\\N394\\Anaconda3\\lib\\site-packages\\sklearn\\ensemble\\forest.py:246: FutureWarning: The default value of n_estimators will change from 10 in version 0.20 to 100 in 0.22.\n",
      "  \"10 in version 0.20 to 100 in 0.22.\", FutureWarning)\n"
     ]
    },
    {
     "name": "stdout",
     "output_type": "stream",
     "text": [
      "[CV]  criterion=mse, max_depth=2, min_samples_leaf=2, min_samples_split=3, total=   0.0s\n",
      "[CV] criterion=mse, max_depth=2, min_samples_leaf=2, min_samples_split=3 \n"
     ]
    },
    {
     "name": "stderr",
     "output_type": "stream",
     "text": [
      "C:\\Users\\N394\\Anaconda3\\lib\\site-packages\\sklearn\\ensemble\\forest.py:246: FutureWarning: The default value of n_estimators will change from 10 in version 0.20 to 100 in 0.22.\n",
      "  \"10 in version 0.20 to 100 in 0.22.\", FutureWarning)\n"
     ]
    },
    {
     "name": "stdout",
     "output_type": "stream",
     "text": [
      "[CV]  criterion=mse, max_depth=2, min_samples_leaf=2, min_samples_split=3, total=   0.0s\n",
      "[CV] criterion=mse, max_depth=2, min_samples_leaf=2, min_samples_split=3 \n"
     ]
    },
    {
     "name": "stderr",
     "output_type": "stream",
     "text": [
      "C:\\Users\\N394\\Anaconda3\\lib\\site-packages\\sklearn\\ensemble\\forest.py:246: FutureWarning: The default value of n_estimators will change from 10 in version 0.20 to 100 in 0.22.\n",
      "  \"10 in version 0.20 to 100 in 0.22.\", FutureWarning)\n"
     ]
    },
    {
     "name": "stdout",
     "output_type": "stream",
     "text": [
      "[CV]  criterion=mse, max_depth=2, min_samples_leaf=2, min_samples_split=3, total=   0.0s\n",
      "[CV] criterion=mse, max_depth=2, min_samples_leaf=2, min_samples_split=3 \n"
     ]
    },
    {
     "name": "stderr",
     "output_type": "stream",
     "text": [
      "C:\\Users\\N394\\Anaconda3\\lib\\site-packages\\sklearn\\ensemble\\forest.py:246: FutureWarning: The default value of n_estimators will change from 10 in version 0.20 to 100 in 0.22.\n",
      "  \"10 in version 0.20 to 100 in 0.22.\", FutureWarning)\n"
     ]
    },
    {
     "name": "stdout",
     "output_type": "stream",
     "text": [
      "[CV]  criterion=mse, max_depth=2, min_samples_leaf=2, min_samples_split=3, total=   0.0s\n",
      "[CV] criterion=mse, max_depth=2, min_samples_leaf=2, min_samples_split=4 \n"
     ]
    },
    {
     "name": "stderr",
     "output_type": "stream",
     "text": [
      "C:\\Users\\N394\\Anaconda3\\lib\\site-packages\\sklearn\\ensemble\\forest.py:246: FutureWarning: The default value of n_estimators will change from 10 in version 0.20 to 100 in 0.22.\n",
      "  \"10 in version 0.20 to 100 in 0.22.\", FutureWarning)\n"
     ]
    },
    {
     "name": "stdout",
     "output_type": "stream",
     "text": [
      "[CV]  criterion=mse, max_depth=2, min_samples_leaf=2, min_samples_split=4, total=   0.0s\n",
      "[CV] criterion=mse, max_depth=2, min_samples_leaf=2, min_samples_split=4 \n"
     ]
    },
    {
     "name": "stderr",
     "output_type": "stream",
     "text": [
      "C:\\Users\\N394\\Anaconda3\\lib\\site-packages\\sklearn\\ensemble\\forest.py:246: FutureWarning: The default value of n_estimators will change from 10 in version 0.20 to 100 in 0.22.\n",
      "  \"10 in version 0.20 to 100 in 0.22.\", FutureWarning)\n"
     ]
    },
    {
     "name": "stdout",
     "output_type": "stream",
     "text": [
      "[CV]  criterion=mse, max_depth=2, min_samples_leaf=2, min_samples_split=4, total=   0.0s\n",
      "[CV] criterion=mse, max_depth=2, min_samples_leaf=2, min_samples_split=4 \n"
     ]
    },
    {
     "name": "stderr",
     "output_type": "stream",
     "text": [
      "C:\\Users\\N394\\Anaconda3\\lib\\site-packages\\sklearn\\ensemble\\forest.py:246: FutureWarning: The default value of n_estimators will change from 10 in version 0.20 to 100 in 0.22.\n",
      "  \"10 in version 0.20 to 100 in 0.22.\", FutureWarning)\n"
     ]
    },
    {
     "name": "stdout",
     "output_type": "stream",
     "text": [
      "[CV]  criterion=mse, max_depth=2, min_samples_leaf=2, min_samples_split=4, total=   0.0s\n",
      "[CV] criterion=mse, max_depth=2, min_samples_leaf=2, min_samples_split=4 \n"
     ]
    },
    {
     "name": "stderr",
     "output_type": "stream",
     "text": [
      "C:\\Users\\N394\\Anaconda3\\lib\\site-packages\\sklearn\\ensemble\\forest.py:246: FutureWarning: The default value of n_estimators will change from 10 in version 0.20 to 100 in 0.22.\n",
      "  \"10 in version 0.20 to 100 in 0.22.\", FutureWarning)\n"
     ]
    },
    {
     "name": "stdout",
     "output_type": "stream",
     "text": [
      "[CV]  criterion=mse, max_depth=2, min_samples_leaf=2, min_samples_split=4, total=   0.0s\n",
      "[CV] criterion=mse, max_depth=2, min_samples_leaf=2, min_samples_split=4 \n"
     ]
    },
    {
     "name": "stderr",
     "output_type": "stream",
     "text": [
      "C:\\Users\\N394\\Anaconda3\\lib\\site-packages\\sklearn\\ensemble\\forest.py:246: FutureWarning: The default value of n_estimators will change from 10 in version 0.20 to 100 in 0.22.\n",
      "  \"10 in version 0.20 to 100 in 0.22.\", FutureWarning)\n"
     ]
    },
    {
     "name": "stdout",
     "output_type": "stream",
     "text": [
      "[CV]  criterion=mse, max_depth=2, min_samples_leaf=2, min_samples_split=4, total=   0.0s\n",
      "[CV] criterion=mse, max_depth=2, min_samples_leaf=3, min_samples_split=2 \n"
     ]
    },
    {
     "name": "stderr",
     "output_type": "stream",
     "text": [
      "C:\\Users\\N394\\Anaconda3\\lib\\site-packages\\sklearn\\ensemble\\forest.py:246: FutureWarning: The default value of n_estimators will change from 10 in version 0.20 to 100 in 0.22.\n",
      "  \"10 in version 0.20 to 100 in 0.22.\", FutureWarning)\n"
     ]
    },
    {
     "name": "stdout",
     "output_type": "stream",
     "text": [
      "[CV]  criterion=mse, max_depth=2, min_samples_leaf=3, min_samples_split=2, total=   0.0s\n",
      "[CV] criterion=mse, max_depth=2, min_samples_leaf=3, min_samples_split=2 \n"
     ]
    },
    {
     "name": "stderr",
     "output_type": "stream",
     "text": [
      "C:\\Users\\N394\\Anaconda3\\lib\\site-packages\\sklearn\\ensemble\\forest.py:246: FutureWarning: The default value of n_estimators will change from 10 in version 0.20 to 100 in 0.22.\n",
      "  \"10 in version 0.20 to 100 in 0.22.\", FutureWarning)\n"
     ]
    },
    {
     "name": "stdout",
     "output_type": "stream",
     "text": [
      "[CV]  criterion=mse, max_depth=2, min_samples_leaf=3, min_samples_split=2, total=   0.0s\n",
      "[CV] criterion=mse, max_depth=2, min_samples_leaf=3, min_samples_split=2 \n"
     ]
    },
    {
     "name": "stderr",
     "output_type": "stream",
     "text": [
      "C:\\Users\\N394\\Anaconda3\\lib\\site-packages\\sklearn\\ensemble\\forest.py:246: FutureWarning: The default value of n_estimators will change from 10 in version 0.20 to 100 in 0.22.\n",
      "  \"10 in version 0.20 to 100 in 0.22.\", FutureWarning)\n"
     ]
    },
    {
     "name": "stdout",
     "output_type": "stream",
     "text": [
      "[CV]  criterion=mse, max_depth=2, min_samples_leaf=3, min_samples_split=2, total=   0.0s\n",
      "[CV] criterion=mse, max_depth=2, min_samples_leaf=3, min_samples_split=2 \n"
     ]
    },
    {
     "name": "stderr",
     "output_type": "stream",
     "text": [
      "C:\\Users\\N394\\Anaconda3\\lib\\site-packages\\sklearn\\ensemble\\forest.py:246: FutureWarning: The default value of n_estimators will change from 10 in version 0.20 to 100 in 0.22.\n",
      "  \"10 in version 0.20 to 100 in 0.22.\", FutureWarning)\n"
     ]
    },
    {
     "name": "stdout",
     "output_type": "stream",
     "text": [
      "[CV]  criterion=mse, max_depth=2, min_samples_leaf=3, min_samples_split=2, total=   0.0s\n",
      "[CV] criterion=mse, max_depth=2, min_samples_leaf=3, min_samples_split=2 \n"
     ]
    },
    {
     "name": "stderr",
     "output_type": "stream",
     "text": [
      "C:\\Users\\N394\\Anaconda3\\lib\\site-packages\\sklearn\\ensemble\\forest.py:246: FutureWarning: The default value of n_estimators will change from 10 in version 0.20 to 100 in 0.22.\n",
      "  \"10 in version 0.20 to 100 in 0.22.\", FutureWarning)\n"
     ]
    },
    {
     "name": "stdout",
     "output_type": "stream",
     "text": [
      "[CV]  criterion=mse, max_depth=2, min_samples_leaf=3, min_samples_split=2, total=   0.0s\n",
      "[CV] criterion=mse, max_depth=2, min_samples_leaf=3, min_samples_split=3 \n"
     ]
    },
    {
     "name": "stderr",
     "output_type": "stream",
     "text": [
      "C:\\Users\\N394\\Anaconda3\\lib\\site-packages\\sklearn\\ensemble\\forest.py:246: FutureWarning: The default value of n_estimators will change from 10 in version 0.20 to 100 in 0.22.\n",
      "  \"10 in version 0.20 to 100 in 0.22.\", FutureWarning)\n"
     ]
    },
    {
     "name": "stdout",
     "output_type": "stream",
     "text": [
      "[CV]  criterion=mse, max_depth=2, min_samples_leaf=3, min_samples_split=3, total=   0.0s\n",
      "[CV] criterion=mse, max_depth=2, min_samples_leaf=3, min_samples_split=3 \n"
     ]
    },
    {
     "name": "stderr",
     "output_type": "stream",
     "text": [
      "C:\\Users\\N394\\Anaconda3\\lib\\site-packages\\sklearn\\ensemble\\forest.py:246: FutureWarning: The default value of n_estimators will change from 10 in version 0.20 to 100 in 0.22.\n",
      "  \"10 in version 0.20 to 100 in 0.22.\", FutureWarning)\n"
     ]
    },
    {
     "name": "stdout",
     "output_type": "stream",
     "text": [
      "[CV]  criterion=mse, max_depth=2, min_samples_leaf=3, min_samples_split=3, total=   0.0s\n",
      "[CV] criterion=mse, max_depth=2, min_samples_leaf=3, min_samples_split=3 \n"
     ]
    },
    {
     "name": "stderr",
     "output_type": "stream",
     "text": [
      "C:\\Users\\N394\\Anaconda3\\lib\\site-packages\\sklearn\\ensemble\\forest.py:246: FutureWarning: The default value of n_estimators will change from 10 in version 0.20 to 100 in 0.22.\n",
      "  \"10 in version 0.20 to 100 in 0.22.\", FutureWarning)\n"
     ]
    },
    {
     "name": "stdout",
     "output_type": "stream",
     "text": [
      "[CV]  criterion=mse, max_depth=2, min_samples_leaf=3, min_samples_split=3, total=   0.0s\n",
      "[CV] criterion=mse, max_depth=2, min_samples_leaf=3, min_samples_split=3 \n"
     ]
    },
    {
     "name": "stderr",
     "output_type": "stream",
     "text": [
      "C:\\Users\\N394\\Anaconda3\\lib\\site-packages\\sklearn\\ensemble\\forest.py:246: FutureWarning: The default value of n_estimators will change from 10 in version 0.20 to 100 in 0.22.\n",
      "  \"10 in version 0.20 to 100 in 0.22.\", FutureWarning)\n"
     ]
    },
    {
     "name": "stdout",
     "output_type": "stream",
     "text": [
      "[CV]  criterion=mse, max_depth=2, min_samples_leaf=3, min_samples_split=3, total=   0.0s\n",
      "[CV] criterion=mse, max_depth=2, min_samples_leaf=3, min_samples_split=3 \n"
     ]
    },
    {
     "name": "stderr",
     "output_type": "stream",
     "text": [
      "C:\\Users\\N394\\Anaconda3\\lib\\site-packages\\sklearn\\ensemble\\forest.py:246: FutureWarning: The default value of n_estimators will change from 10 in version 0.20 to 100 in 0.22.\n",
      "  \"10 in version 0.20 to 100 in 0.22.\", FutureWarning)\n"
     ]
    },
    {
     "name": "stdout",
     "output_type": "stream",
     "text": [
      "[CV]  criterion=mse, max_depth=2, min_samples_leaf=3, min_samples_split=3, total=   0.0s\n",
      "[CV] criterion=mse, max_depth=2, min_samples_leaf=3, min_samples_split=4 \n"
     ]
    },
    {
     "name": "stderr",
     "output_type": "stream",
     "text": [
      "C:\\Users\\N394\\Anaconda3\\lib\\site-packages\\sklearn\\ensemble\\forest.py:246: FutureWarning: The default value of n_estimators will change from 10 in version 0.20 to 100 in 0.22.\n",
      "  \"10 in version 0.20 to 100 in 0.22.\", FutureWarning)\n"
     ]
    },
    {
     "name": "stdout",
     "output_type": "stream",
     "text": [
      "[CV]  criterion=mse, max_depth=2, min_samples_leaf=3, min_samples_split=4, total=   0.0s\n",
      "[CV] criterion=mse, max_depth=2, min_samples_leaf=3, min_samples_split=4 \n"
     ]
    },
    {
     "name": "stderr",
     "output_type": "stream",
     "text": [
      "C:\\Users\\N394\\Anaconda3\\lib\\site-packages\\sklearn\\ensemble\\forest.py:246: FutureWarning: The default value of n_estimators will change from 10 in version 0.20 to 100 in 0.22.\n",
      "  \"10 in version 0.20 to 100 in 0.22.\", FutureWarning)\n"
     ]
    },
    {
     "name": "stdout",
     "output_type": "stream",
     "text": [
      "[CV]  criterion=mse, max_depth=2, min_samples_leaf=3, min_samples_split=4, total=   0.0s\n",
      "[CV] criterion=mse, max_depth=2, min_samples_leaf=3, min_samples_split=4 \n"
     ]
    },
    {
     "name": "stderr",
     "output_type": "stream",
     "text": [
      "C:\\Users\\N394\\Anaconda3\\lib\\site-packages\\sklearn\\ensemble\\forest.py:246: FutureWarning: The default value of n_estimators will change from 10 in version 0.20 to 100 in 0.22.\n",
      "  \"10 in version 0.20 to 100 in 0.22.\", FutureWarning)\n"
     ]
    },
    {
     "name": "stdout",
     "output_type": "stream",
     "text": [
      "[CV]  criterion=mse, max_depth=2, min_samples_leaf=3, min_samples_split=4, total=   0.0s\n",
      "[CV] criterion=mse, max_depth=2, min_samples_leaf=3, min_samples_split=4 \n"
     ]
    },
    {
     "name": "stderr",
     "output_type": "stream",
     "text": [
      "C:\\Users\\N394\\Anaconda3\\lib\\site-packages\\sklearn\\ensemble\\forest.py:246: FutureWarning: The default value of n_estimators will change from 10 in version 0.20 to 100 in 0.22.\n",
      "  \"10 in version 0.20 to 100 in 0.22.\", FutureWarning)\n"
     ]
    },
    {
     "name": "stdout",
     "output_type": "stream",
     "text": [
      "[CV]  criterion=mse, max_depth=2, min_samples_leaf=3, min_samples_split=4, total=   0.0s\n",
      "[CV] criterion=mse, max_depth=2, min_samples_leaf=3, min_samples_split=4 \n"
     ]
    },
    {
     "name": "stderr",
     "output_type": "stream",
     "text": [
      "C:\\Users\\N394\\Anaconda3\\lib\\site-packages\\sklearn\\ensemble\\forest.py:246: FutureWarning: The default value of n_estimators will change from 10 in version 0.20 to 100 in 0.22.\n",
      "  \"10 in version 0.20 to 100 in 0.22.\", FutureWarning)\n"
     ]
    },
    {
     "name": "stdout",
     "output_type": "stream",
     "text": [
      "[CV]  criterion=mse, max_depth=2, min_samples_leaf=3, min_samples_split=4, total=   0.0s\n",
      "[CV] criterion=mse, max_depth=2, min_samples_leaf=4, min_samples_split=2 \n"
     ]
    },
    {
     "name": "stderr",
     "output_type": "stream",
     "text": [
      "C:\\Users\\N394\\Anaconda3\\lib\\site-packages\\sklearn\\ensemble\\forest.py:246: FutureWarning: The default value of n_estimators will change from 10 in version 0.20 to 100 in 0.22.\n",
      "  \"10 in version 0.20 to 100 in 0.22.\", FutureWarning)\n"
     ]
    },
    {
     "name": "stdout",
     "output_type": "stream",
     "text": [
      "[CV]  criterion=mse, max_depth=2, min_samples_leaf=4, min_samples_split=2, total=   0.0s\n",
      "[CV] criterion=mse, max_depth=2, min_samples_leaf=4, min_samples_split=2 \n"
     ]
    },
    {
     "name": "stderr",
     "output_type": "stream",
     "text": [
      "C:\\Users\\N394\\Anaconda3\\lib\\site-packages\\sklearn\\ensemble\\forest.py:246: FutureWarning: The default value of n_estimators will change from 10 in version 0.20 to 100 in 0.22.\n",
      "  \"10 in version 0.20 to 100 in 0.22.\", FutureWarning)\n"
     ]
    },
    {
     "name": "stdout",
     "output_type": "stream",
     "text": [
      "[CV]  criterion=mse, max_depth=2, min_samples_leaf=4, min_samples_split=2, total=   0.0s\n",
      "[CV] criterion=mse, max_depth=2, min_samples_leaf=4, min_samples_split=2 \n"
     ]
    },
    {
     "name": "stderr",
     "output_type": "stream",
     "text": [
      "C:\\Users\\N394\\Anaconda3\\lib\\site-packages\\sklearn\\ensemble\\forest.py:246: FutureWarning: The default value of n_estimators will change from 10 in version 0.20 to 100 in 0.22.\n",
      "  \"10 in version 0.20 to 100 in 0.22.\", FutureWarning)\n"
     ]
    },
    {
     "name": "stdout",
     "output_type": "stream",
     "text": [
      "[CV]  criterion=mse, max_depth=2, min_samples_leaf=4, min_samples_split=2, total=   0.0s\n",
      "[CV] criterion=mse, max_depth=2, min_samples_leaf=4, min_samples_split=2 \n"
     ]
    },
    {
     "name": "stderr",
     "output_type": "stream",
     "text": [
      "C:\\Users\\N394\\Anaconda3\\lib\\site-packages\\sklearn\\ensemble\\forest.py:246: FutureWarning: The default value of n_estimators will change from 10 in version 0.20 to 100 in 0.22.\n",
      "  \"10 in version 0.20 to 100 in 0.22.\", FutureWarning)\n"
     ]
    },
    {
     "name": "stdout",
     "output_type": "stream",
     "text": [
      "[CV]  criterion=mse, max_depth=2, min_samples_leaf=4, min_samples_split=2, total=   0.0s\n",
      "[CV] criterion=mse, max_depth=2, min_samples_leaf=4, min_samples_split=2 \n"
     ]
    },
    {
     "name": "stderr",
     "output_type": "stream",
     "text": [
      "C:\\Users\\N394\\Anaconda3\\lib\\site-packages\\sklearn\\ensemble\\forest.py:246: FutureWarning: The default value of n_estimators will change from 10 in version 0.20 to 100 in 0.22.\n",
      "  \"10 in version 0.20 to 100 in 0.22.\", FutureWarning)\n"
     ]
    },
    {
     "name": "stdout",
     "output_type": "stream",
     "text": [
      "[CV]  criterion=mse, max_depth=2, min_samples_leaf=4, min_samples_split=2, total=   0.0s\n",
      "[CV] criterion=mse, max_depth=2, min_samples_leaf=4, min_samples_split=3 \n"
     ]
    },
    {
     "name": "stderr",
     "output_type": "stream",
     "text": [
      "C:\\Users\\N394\\Anaconda3\\lib\\site-packages\\sklearn\\ensemble\\forest.py:246: FutureWarning: The default value of n_estimators will change from 10 in version 0.20 to 100 in 0.22.\n",
      "  \"10 in version 0.20 to 100 in 0.22.\", FutureWarning)\n"
     ]
    },
    {
     "name": "stdout",
     "output_type": "stream",
     "text": [
      "[CV]  criterion=mse, max_depth=2, min_samples_leaf=4, min_samples_split=3, total=   0.0s\n",
      "[CV] criterion=mse, max_depth=2, min_samples_leaf=4, min_samples_split=3 \n"
     ]
    },
    {
     "name": "stderr",
     "output_type": "stream",
     "text": [
      "C:\\Users\\N394\\Anaconda3\\lib\\site-packages\\sklearn\\ensemble\\forest.py:246: FutureWarning: The default value of n_estimators will change from 10 in version 0.20 to 100 in 0.22.\n",
      "  \"10 in version 0.20 to 100 in 0.22.\", FutureWarning)\n"
     ]
    },
    {
     "name": "stdout",
     "output_type": "stream",
     "text": [
      "[CV]  criterion=mse, max_depth=2, min_samples_leaf=4, min_samples_split=3, total=   0.0s\n",
      "[CV] criterion=mse, max_depth=2, min_samples_leaf=4, min_samples_split=3 \n"
     ]
    },
    {
     "name": "stderr",
     "output_type": "stream",
     "text": [
      "C:\\Users\\N394\\Anaconda3\\lib\\site-packages\\sklearn\\ensemble\\forest.py:246: FutureWarning: The default value of n_estimators will change from 10 in version 0.20 to 100 in 0.22.\n",
      "  \"10 in version 0.20 to 100 in 0.22.\", FutureWarning)\n"
     ]
    },
    {
     "name": "stdout",
     "output_type": "stream",
     "text": [
      "[CV]  criterion=mse, max_depth=2, min_samples_leaf=4, min_samples_split=3, total=   0.0s\n",
      "[CV] criterion=mse, max_depth=2, min_samples_leaf=4, min_samples_split=3 \n"
     ]
    },
    {
     "name": "stderr",
     "output_type": "stream",
     "text": [
      "C:\\Users\\N394\\Anaconda3\\lib\\site-packages\\sklearn\\ensemble\\forest.py:246: FutureWarning: The default value of n_estimators will change from 10 in version 0.20 to 100 in 0.22.\n",
      "  \"10 in version 0.20 to 100 in 0.22.\", FutureWarning)\n"
     ]
    },
    {
     "name": "stdout",
     "output_type": "stream",
     "text": [
      "[CV]  criterion=mse, max_depth=2, min_samples_leaf=4, min_samples_split=3, total=   0.0s\n",
      "[CV] criterion=mse, max_depth=2, min_samples_leaf=4, min_samples_split=3 \n"
     ]
    },
    {
     "name": "stderr",
     "output_type": "stream",
     "text": [
      "C:\\Users\\N394\\Anaconda3\\lib\\site-packages\\sklearn\\ensemble\\forest.py:246: FutureWarning: The default value of n_estimators will change from 10 in version 0.20 to 100 in 0.22.\n",
      "  \"10 in version 0.20 to 100 in 0.22.\", FutureWarning)\n"
     ]
    },
    {
     "name": "stdout",
     "output_type": "stream",
     "text": [
      "[CV]  criterion=mse, max_depth=2, min_samples_leaf=4, min_samples_split=3, total=   0.0s\n",
      "[CV] criterion=mse, max_depth=2, min_samples_leaf=4, min_samples_split=4 \n"
     ]
    },
    {
     "name": "stderr",
     "output_type": "stream",
     "text": [
      "C:\\Users\\N394\\Anaconda3\\lib\\site-packages\\sklearn\\ensemble\\forest.py:246: FutureWarning: The default value of n_estimators will change from 10 in version 0.20 to 100 in 0.22.\n",
      "  \"10 in version 0.20 to 100 in 0.22.\", FutureWarning)\n"
     ]
    },
    {
     "name": "stdout",
     "output_type": "stream",
     "text": [
      "[CV]  criterion=mse, max_depth=2, min_samples_leaf=4, min_samples_split=4, total=   0.0s\n",
      "[CV] criterion=mse, max_depth=2, min_samples_leaf=4, min_samples_split=4 \n"
     ]
    },
    {
     "name": "stderr",
     "output_type": "stream",
     "text": [
      "C:\\Users\\N394\\Anaconda3\\lib\\site-packages\\sklearn\\ensemble\\forest.py:246: FutureWarning: The default value of n_estimators will change from 10 in version 0.20 to 100 in 0.22.\n",
      "  \"10 in version 0.20 to 100 in 0.22.\", FutureWarning)\n"
     ]
    },
    {
     "name": "stdout",
     "output_type": "stream",
     "text": [
      "[CV]  criterion=mse, max_depth=2, min_samples_leaf=4, min_samples_split=4, total=   0.0s\n",
      "[CV] criterion=mse, max_depth=2, min_samples_leaf=4, min_samples_split=4 \n"
     ]
    },
    {
     "name": "stderr",
     "output_type": "stream",
     "text": [
      "C:\\Users\\N394\\Anaconda3\\lib\\site-packages\\sklearn\\ensemble\\forest.py:246: FutureWarning: The default value of n_estimators will change from 10 in version 0.20 to 100 in 0.22.\n",
      "  \"10 in version 0.20 to 100 in 0.22.\", FutureWarning)\n"
     ]
    },
    {
     "name": "stdout",
     "output_type": "stream",
     "text": [
      "[CV]  criterion=mse, max_depth=2, min_samples_leaf=4, min_samples_split=4, total=   0.0s\n",
      "[CV] criterion=mse, max_depth=2, min_samples_leaf=4, min_samples_split=4 \n"
     ]
    },
    {
     "name": "stderr",
     "output_type": "stream",
     "text": [
      "C:\\Users\\N394\\Anaconda3\\lib\\site-packages\\sklearn\\ensemble\\forest.py:246: FutureWarning: The default value of n_estimators will change from 10 in version 0.20 to 100 in 0.22.\n",
      "  \"10 in version 0.20 to 100 in 0.22.\", FutureWarning)\n"
     ]
    },
    {
     "name": "stdout",
     "output_type": "stream",
     "text": [
      "[CV]  criterion=mse, max_depth=2, min_samples_leaf=4, min_samples_split=4, total=   0.0s\n",
      "[CV] criterion=mse, max_depth=2, min_samples_leaf=4, min_samples_split=4 \n"
     ]
    },
    {
     "name": "stderr",
     "output_type": "stream",
     "text": [
      "C:\\Users\\N394\\Anaconda3\\lib\\site-packages\\sklearn\\ensemble\\forest.py:246: FutureWarning: The default value of n_estimators will change from 10 in version 0.20 to 100 in 0.22.\n",
      "  \"10 in version 0.20 to 100 in 0.22.\", FutureWarning)\n"
     ]
    },
    {
     "name": "stdout",
     "output_type": "stream",
     "text": [
      "[CV]  criterion=mse, max_depth=2, min_samples_leaf=4, min_samples_split=4, total=   0.0s\n",
      "[CV] criterion=mse, max_depth=3, min_samples_leaf=2, min_samples_split=2 \n"
     ]
    },
    {
     "name": "stderr",
     "output_type": "stream",
     "text": [
      "C:\\Users\\N394\\Anaconda3\\lib\\site-packages\\sklearn\\ensemble\\forest.py:246: FutureWarning: The default value of n_estimators will change from 10 in version 0.20 to 100 in 0.22.\n",
      "  \"10 in version 0.20 to 100 in 0.22.\", FutureWarning)\n"
     ]
    },
    {
     "name": "stdout",
     "output_type": "stream",
     "text": [
      "[CV]  criterion=mse, max_depth=3, min_samples_leaf=2, min_samples_split=2, total=   0.0s\n",
      "[CV] criterion=mse, max_depth=3, min_samples_leaf=2, min_samples_split=2 \n"
     ]
    },
    {
     "name": "stderr",
     "output_type": "stream",
     "text": [
      "C:\\Users\\N394\\Anaconda3\\lib\\site-packages\\sklearn\\ensemble\\forest.py:246: FutureWarning: The default value of n_estimators will change from 10 in version 0.20 to 100 in 0.22.\n",
      "  \"10 in version 0.20 to 100 in 0.22.\", FutureWarning)\n"
     ]
    },
    {
     "name": "stdout",
     "output_type": "stream",
     "text": [
      "[CV]  criterion=mse, max_depth=3, min_samples_leaf=2, min_samples_split=2, total=   0.0s\n",
      "[CV] criterion=mse, max_depth=3, min_samples_leaf=2, min_samples_split=2 \n"
     ]
    },
    {
     "name": "stderr",
     "output_type": "stream",
     "text": [
      "C:\\Users\\N394\\Anaconda3\\lib\\site-packages\\sklearn\\ensemble\\forest.py:246: FutureWarning: The default value of n_estimators will change from 10 in version 0.20 to 100 in 0.22.\n",
      "  \"10 in version 0.20 to 100 in 0.22.\", FutureWarning)\n"
     ]
    },
    {
     "name": "stdout",
     "output_type": "stream",
     "text": [
      "[CV]  criterion=mse, max_depth=3, min_samples_leaf=2, min_samples_split=2, total=   0.0s\n",
      "[CV] criterion=mse, max_depth=3, min_samples_leaf=2, min_samples_split=2 \n"
     ]
    },
    {
     "name": "stderr",
     "output_type": "stream",
     "text": [
      "C:\\Users\\N394\\Anaconda3\\lib\\site-packages\\sklearn\\ensemble\\forest.py:246: FutureWarning: The default value of n_estimators will change from 10 in version 0.20 to 100 in 0.22.\n",
      "  \"10 in version 0.20 to 100 in 0.22.\", FutureWarning)\n"
     ]
    },
    {
     "name": "stdout",
     "output_type": "stream",
     "text": [
      "[CV]  criterion=mse, max_depth=3, min_samples_leaf=2, min_samples_split=2, total=   0.0s\n",
      "[CV] criterion=mse, max_depth=3, min_samples_leaf=2, min_samples_split=2 \n"
     ]
    },
    {
     "name": "stderr",
     "output_type": "stream",
     "text": [
      "C:\\Users\\N394\\Anaconda3\\lib\\site-packages\\sklearn\\ensemble\\forest.py:246: FutureWarning: The default value of n_estimators will change from 10 in version 0.20 to 100 in 0.22.\n",
      "  \"10 in version 0.20 to 100 in 0.22.\", FutureWarning)\n"
     ]
    },
    {
     "name": "stdout",
     "output_type": "stream",
     "text": [
      "[CV]  criterion=mse, max_depth=3, min_samples_leaf=2, min_samples_split=2, total=   0.0s\n",
      "[CV] criterion=mse, max_depth=3, min_samples_leaf=2, min_samples_split=3 \n"
     ]
    },
    {
     "name": "stderr",
     "output_type": "stream",
     "text": [
      "C:\\Users\\N394\\Anaconda3\\lib\\site-packages\\sklearn\\ensemble\\forest.py:246: FutureWarning: The default value of n_estimators will change from 10 in version 0.20 to 100 in 0.22.\n",
      "  \"10 in version 0.20 to 100 in 0.22.\", FutureWarning)\n"
     ]
    },
    {
     "name": "stdout",
     "output_type": "stream",
     "text": [
      "[CV]  criterion=mse, max_depth=3, min_samples_leaf=2, min_samples_split=3, total=   0.0s\n",
      "[CV] criterion=mse, max_depth=3, min_samples_leaf=2, min_samples_split=3 \n"
     ]
    },
    {
     "name": "stderr",
     "output_type": "stream",
     "text": [
      "C:\\Users\\N394\\Anaconda3\\lib\\site-packages\\sklearn\\ensemble\\forest.py:246: FutureWarning: The default value of n_estimators will change from 10 in version 0.20 to 100 in 0.22.\n",
      "  \"10 in version 0.20 to 100 in 0.22.\", FutureWarning)\n"
     ]
    },
    {
     "name": "stdout",
     "output_type": "stream",
     "text": [
      "[CV]  criterion=mse, max_depth=3, min_samples_leaf=2, min_samples_split=3, total=   0.0s\n",
      "[CV] criterion=mse, max_depth=3, min_samples_leaf=2, min_samples_split=3 \n"
     ]
    },
    {
     "name": "stderr",
     "output_type": "stream",
     "text": [
      "C:\\Users\\N394\\Anaconda3\\lib\\site-packages\\sklearn\\ensemble\\forest.py:246: FutureWarning: The default value of n_estimators will change from 10 in version 0.20 to 100 in 0.22.\n",
      "  \"10 in version 0.20 to 100 in 0.22.\", FutureWarning)\n"
     ]
    },
    {
     "name": "stdout",
     "output_type": "stream",
     "text": [
      "[CV]  criterion=mse, max_depth=3, min_samples_leaf=2, min_samples_split=3, total=   0.0s\n",
      "[CV] criterion=mse, max_depth=3, min_samples_leaf=2, min_samples_split=3 \n"
     ]
    },
    {
     "name": "stderr",
     "output_type": "stream",
     "text": [
      "C:\\Users\\N394\\Anaconda3\\lib\\site-packages\\sklearn\\ensemble\\forest.py:246: FutureWarning: The default value of n_estimators will change from 10 in version 0.20 to 100 in 0.22.\n",
      "  \"10 in version 0.20 to 100 in 0.22.\", FutureWarning)\n"
     ]
    },
    {
     "name": "stdout",
     "output_type": "stream",
     "text": [
      "[CV]  criterion=mse, max_depth=3, min_samples_leaf=2, min_samples_split=3, total=   0.0s\n",
      "[CV] criterion=mse, max_depth=3, min_samples_leaf=2, min_samples_split=3 \n"
     ]
    },
    {
     "name": "stderr",
     "output_type": "stream",
     "text": [
      "C:\\Users\\N394\\Anaconda3\\lib\\site-packages\\sklearn\\ensemble\\forest.py:246: FutureWarning: The default value of n_estimators will change from 10 in version 0.20 to 100 in 0.22.\n",
      "  \"10 in version 0.20 to 100 in 0.22.\", FutureWarning)\n"
     ]
    },
    {
     "name": "stdout",
     "output_type": "stream",
     "text": [
      "[CV]  criterion=mse, max_depth=3, min_samples_leaf=2, min_samples_split=3, total=   0.0s\n",
      "[CV] criterion=mse, max_depth=3, min_samples_leaf=2, min_samples_split=4 \n"
     ]
    },
    {
     "name": "stderr",
     "output_type": "stream",
     "text": [
      "C:\\Users\\N394\\Anaconda3\\lib\\site-packages\\sklearn\\ensemble\\forest.py:246: FutureWarning: The default value of n_estimators will change from 10 in version 0.20 to 100 in 0.22.\n",
      "  \"10 in version 0.20 to 100 in 0.22.\", FutureWarning)\n"
     ]
    },
    {
     "name": "stdout",
     "output_type": "stream",
     "text": [
      "[CV]  criterion=mse, max_depth=3, min_samples_leaf=2, min_samples_split=4, total=   0.0s\n",
      "[CV] criterion=mse, max_depth=3, min_samples_leaf=2, min_samples_split=4 \n"
     ]
    },
    {
     "name": "stderr",
     "output_type": "stream",
     "text": [
      "C:\\Users\\N394\\Anaconda3\\lib\\site-packages\\sklearn\\ensemble\\forest.py:246: FutureWarning: The default value of n_estimators will change from 10 in version 0.20 to 100 in 0.22.\n",
      "  \"10 in version 0.20 to 100 in 0.22.\", FutureWarning)\n"
     ]
    },
    {
     "name": "stdout",
     "output_type": "stream",
     "text": [
      "[CV]  criterion=mse, max_depth=3, min_samples_leaf=2, min_samples_split=4, total=   0.0s\n",
      "[CV] criterion=mse, max_depth=3, min_samples_leaf=2, min_samples_split=4 \n"
     ]
    },
    {
     "name": "stderr",
     "output_type": "stream",
     "text": [
      "C:\\Users\\N394\\Anaconda3\\lib\\site-packages\\sklearn\\ensemble\\forest.py:246: FutureWarning: The default value of n_estimators will change from 10 in version 0.20 to 100 in 0.22.\n",
      "  \"10 in version 0.20 to 100 in 0.22.\", FutureWarning)\n"
     ]
    },
    {
     "name": "stdout",
     "output_type": "stream",
     "text": [
      "[CV]  criterion=mse, max_depth=3, min_samples_leaf=2, min_samples_split=4, total=   0.0s\n",
      "[CV] criterion=mse, max_depth=3, min_samples_leaf=2, min_samples_split=4 \n"
     ]
    },
    {
     "name": "stderr",
     "output_type": "stream",
     "text": [
      "C:\\Users\\N394\\Anaconda3\\lib\\site-packages\\sklearn\\ensemble\\forest.py:246: FutureWarning: The default value of n_estimators will change from 10 in version 0.20 to 100 in 0.22.\n",
      "  \"10 in version 0.20 to 100 in 0.22.\", FutureWarning)\n"
     ]
    },
    {
     "name": "stdout",
     "output_type": "stream",
     "text": [
      "[CV]  criterion=mse, max_depth=3, min_samples_leaf=2, min_samples_split=4, total=   0.0s\n",
      "[CV] criterion=mse, max_depth=3, min_samples_leaf=2, min_samples_split=4 \n"
     ]
    },
    {
     "name": "stderr",
     "output_type": "stream",
     "text": [
      "C:\\Users\\N394\\Anaconda3\\lib\\site-packages\\sklearn\\ensemble\\forest.py:246: FutureWarning: The default value of n_estimators will change from 10 in version 0.20 to 100 in 0.22.\n",
      "  \"10 in version 0.20 to 100 in 0.22.\", FutureWarning)\n"
     ]
    },
    {
     "name": "stdout",
     "output_type": "stream",
     "text": [
      "[CV]  criterion=mse, max_depth=3, min_samples_leaf=2, min_samples_split=4, total=   0.0s\n",
      "[CV] criterion=mse, max_depth=3, min_samples_leaf=3, min_samples_split=2 \n"
     ]
    },
    {
     "name": "stderr",
     "output_type": "stream",
     "text": [
      "C:\\Users\\N394\\Anaconda3\\lib\\site-packages\\sklearn\\ensemble\\forest.py:246: FutureWarning: The default value of n_estimators will change from 10 in version 0.20 to 100 in 0.22.\n",
      "  \"10 in version 0.20 to 100 in 0.22.\", FutureWarning)\n"
     ]
    },
    {
     "name": "stdout",
     "output_type": "stream",
     "text": [
      "[CV]  criterion=mse, max_depth=3, min_samples_leaf=3, min_samples_split=2, total=   0.0s\n",
      "[CV] criterion=mse, max_depth=3, min_samples_leaf=3, min_samples_split=2 \n"
     ]
    },
    {
     "name": "stderr",
     "output_type": "stream",
     "text": [
      "C:\\Users\\N394\\Anaconda3\\lib\\site-packages\\sklearn\\ensemble\\forest.py:246: FutureWarning: The default value of n_estimators will change from 10 in version 0.20 to 100 in 0.22.\n",
      "  \"10 in version 0.20 to 100 in 0.22.\", FutureWarning)\n"
     ]
    },
    {
     "name": "stdout",
     "output_type": "stream",
     "text": [
      "[CV]  criterion=mse, max_depth=3, min_samples_leaf=3, min_samples_split=2, total=   0.0s\n",
      "[CV] criterion=mse, max_depth=3, min_samples_leaf=3, min_samples_split=2 \n"
     ]
    },
    {
     "name": "stderr",
     "output_type": "stream",
     "text": [
      "C:\\Users\\N394\\Anaconda3\\lib\\site-packages\\sklearn\\ensemble\\forest.py:246: FutureWarning: The default value of n_estimators will change from 10 in version 0.20 to 100 in 0.22.\n",
      "  \"10 in version 0.20 to 100 in 0.22.\", FutureWarning)\n"
     ]
    },
    {
     "name": "stdout",
     "output_type": "stream",
     "text": [
      "[CV]  criterion=mse, max_depth=3, min_samples_leaf=3, min_samples_split=2, total=   0.0s\n",
      "[CV] criterion=mse, max_depth=3, min_samples_leaf=3, min_samples_split=2 \n"
     ]
    },
    {
     "name": "stderr",
     "output_type": "stream",
     "text": [
      "C:\\Users\\N394\\Anaconda3\\lib\\site-packages\\sklearn\\ensemble\\forest.py:246: FutureWarning: The default value of n_estimators will change from 10 in version 0.20 to 100 in 0.22.\n",
      "  \"10 in version 0.20 to 100 in 0.22.\", FutureWarning)\n"
     ]
    },
    {
     "name": "stdout",
     "output_type": "stream",
     "text": [
      "[CV]  criterion=mse, max_depth=3, min_samples_leaf=3, min_samples_split=2, total=   0.0s\n",
      "[CV] criterion=mse, max_depth=3, min_samples_leaf=3, min_samples_split=2 \n"
     ]
    },
    {
     "name": "stderr",
     "output_type": "stream",
     "text": [
      "C:\\Users\\N394\\Anaconda3\\lib\\site-packages\\sklearn\\ensemble\\forest.py:246: FutureWarning: The default value of n_estimators will change from 10 in version 0.20 to 100 in 0.22.\n",
      "  \"10 in version 0.20 to 100 in 0.22.\", FutureWarning)\n"
     ]
    },
    {
     "name": "stdout",
     "output_type": "stream",
     "text": [
      "[CV]  criterion=mse, max_depth=3, min_samples_leaf=3, min_samples_split=2, total=   0.0s\n",
      "[CV] criterion=mse, max_depth=3, min_samples_leaf=3, min_samples_split=3 \n"
     ]
    },
    {
     "name": "stderr",
     "output_type": "stream",
     "text": [
      "C:\\Users\\N394\\Anaconda3\\lib\\site-packages\\sklearn\\ensemble\\forest.py:246: FutureWarning: The default value of n_estimators will change from 10 in version 0.20 to 100 in 0.22.\n",
      "  \"10 in version 0.20 to 100 in 0.22.\", FutureWarning)\n"
     ]
    },
    {
     "name": "stdout",
     "output_type": "stream",
     "text": [
      "[CV]  criterion=mse, max_depth=3, min_samples_leaf=3, min_samples_split=3, total=   0.0s\n",
      "[CV] criterion=mse, max_depth=3, min_samples_leaf=3, min_samples_split=3 \n"
     ]
    },
    {
     "name": "stderr",
     "output_type": "stream",
     "text": [
      "C:\\Users\\N394\\Anaconda3\\lib\\site-packages\\sklearn\\ensemble\\forest.py:246: FutureWarning: The default value of n_estimators will change from 10 in version 0.20 to 100 in 0.22.\n",
      "  \"10 in version 0.20 to 100 in 0.22.\", FutureWarning)\n"
     ]
    },
    {
     "name": "stdout",
     "output_type": "stream",
     "text": [
      "[CV]  criterion=mse, max_depth=3, min_samples_leaf=3, min_samples_split=3, total=   0.0s\n",
      "[CV] criterion=mse, max_depth=3, min_samples_leaf=3, min_samples_split=3 \n"
     ]
    },
    {
     "name": "stderr",
     "output_type": "stream",
     "text": [
      "C:\\Users\\N394\\Anaconda3\\lib\\site-packages\\sklearn\\ensemble\\forest.py:246: FutureWarning: The default value of n_estimators will change from 10 in version 0.20 to 100 in 0.22.\n",
      "  \"10 in version 0.20 to 100 in 0.22.\", FutureWarning)\n"
     ]
    },
    {
     "name": "stdout",
     "output_type": "stream",
     "text": [
      "[CV]  criterion=mse, max_depth=3, min_samples_leaf=3, min_samples_split=3, total=   0.0s\n",
      "[CV] criterion=mse, max_depth=3, min_samples_leaf=3, min_samples_split=3 \n"
     ]
    },
    {
     "name": "stderr",
     "output_type": "stream",
     "text": [
      "C:\\Users\\N394\\Anaconda3\\lib\\site-packages\\sklearn\\ensemble\\forest.py:246: FutureWarning: The default value of n_estimators will change from 10 in version 0.20 to 100 in 0.22.\n",
      "  \"10 in version 0.20 to 100 in 0.22.\", FutureWarning)\n"
     ]
    },
    {
     "name": "stdout",
     "output_type": "stream",
     "text": [
      "[CV]  criterion=mse, max_depth=3, min_samples_leaf=3, min_samples_split=3, total=   0.0s\n",
      "[CV] criterion=mse, max_depth=3, min_samples_leaf=3, min_samples_split=3 \n"
     ]
    },
    {
     "name": "stderr",
     "output_type": "stream",
     "text": [
      "C:\\Users\\N394\\Anaconda3\\lib\\site-packages\\sklearn\\ensemble\\forest.py:246: FutureWarning: The default value of n_estimators will change from 10 in version 0.20 to 100 in 0.22.\n",
      "  \"10 in version 0.20 to 100 in 0.22.\", FutureWarning)\n"
     ]
    },
    {
     "name": "stdout",
     "output_type": "stream",
     "text": [
      "[CV]  criterion=mse, max_depth=3, min_samples_leaf=3, min_samples_split=3, total=   0.0s\n",
      "[CV] criterion=mse, max_depth=3, min_samples_leaf=3, min_samples_split=4 \n"
     ]
    },
    {
     "name": "stderr",
     "output_type": "stream",
     "text": [
      "C:\\Users\\N394\\Anaconda3\\lib\\site-packages\\sklearn\\ensemble\\forest.py:246: FutureWarning: The default value of n_estimators will change from 10 in version 0.20 to 100 in 0.22.\n",
      "  \"10 in version 0.20 to 100 in 0.22.\", FutureWarning)\n"
     ]
    },
    {
     "name": "stdout",
     "output_type": "stream",
     "text": [
      "[CV]  criterion=mse, max_depth=3, min_samples_leaf=3, min_samples_split=4, total=   0.0s\n",
      "[CV] criterion=mse, max_depth=3, min_samples_leaf=3, min_samples_split=4 \n"
     ]
    },
    {
     "name": "stderr",
     "output_type": "stream",
     "text": [
      "C:\\Users\\N394\\Anaconda3\\lib\\site-packages\\sklearn\\ensemble\\forest.py:246: FutureWarning: The default value of n_estimators will change from 10 in version 0.20 to 100 in 0.22.\n",
      "  \"10 in version 0.20 to 100 in 0.22.\", FutureWarning)\n"
     ]
    },
    {
     "name": "stdout",
     "output_type": "stream",
     "text": [
      "[CV]  criterion=mse, max_depth=3, min_samples_leaf=3, min_samples_split=4, total=   0.0s\n",
      "[CV] criterion=mse, max_depth=3, min_samples_leaf=3, min_samples_split=4 \n"
     ]
    },
    {
     "name": "stderr",
     "output_type": "stream",
     "text": [
      "C:\\Users\\N394\\Anaconda3\\lib\\site-packages\\sklearn\\ensemble\\forest.py:246: FutureWarning: The default value of n_estimators will change from 10 in version 0.20 to 100 in 0.22.\n",
      "  \"10 in version 0.20 to 100 in 0.22.\", FutureWarning)\n"
     ]
    },
    {
     "name": "stdout",
     "output_type": "stream",
     "text": [
      "[CV]  criterion=mse, max_depth=3, min_samples_leaf=3, min_samples_split=4, total=   0.0s\n",
      "[CV] criterion=mse, max_depth=3, min_samples_leaf=3, min_samples_split=4 \n"
     ]
    },
    {
     "name": "stderr",
     "output_type": "stream",
     "text": [
      "C:\\Users\\N394\\Anaconda3\\lib\\site-packages\\sklearn\\ensemble\\forest.py:246: FutureWarning: The default value of n_estimators will change from 10 in version 0.20 to 100 in 0.22.\n",
      "  \"10 in version 0.20 to 100 in 0.22.\", FutureWarning)\n"
     ]
    },
    {
     "name": "stdout",
     "output_type": "stream",
     "text": [
      "[CV]  criterion=mse, max_depth=3, min_samples_leaf=3, min_samples_split=4, total=   0.0s\n",
      "[CV] criterion=mse, max_depth=3, min_samples_leaf=3, min_samples_split=4 \n"
     ]
    },
    {
     "name": "stderr",
     "output_type": "stream",
     "text": [
      "C:\\Users\\N394\\Anaconda3\\lib\\site-packages\\sklearn\\ensemble\\forest.py:246: FutureWarning: The default value of n_estimators will change from 10 in version 0.20 to 100 in 0.22.\n",
      "  \"10 in version 0.20 to 100 in 0.22.\", FutureWarning)\n"
     ]
    },
    {
     "name": "stdout",
     "output_type": "stream",
     "text": [
      "[CV]  criterion=mse, max_depth=3, min_samples_leaf=3, min_samples_split=4, total=   0.0s\n",
      "[CV] criterion=mse, max_depth=3, min_samples_leaf=4, min_samples_split=2 \n"
     ]
    },
    {
     "name": "stderr",
     "output_type": "stream",
     "text": [
      "C:\\Users\\N394\\Anaconda3\\lib\\site-packages\\sklearn\\ensemble\\forest.py:246: FutureWarning: The default value of n_estimators will change from 10 in version 0.20 to 100 in 0.22.\n",
      "  \"10 in version 0.20 to 100 in 0.22.\", FutureWarning)\n"
     ]
    },
    {
     "name": "stdout",
     "output_type": "stream",
     "text": [
      "[CV]  criterion=mse, max_depth=3, min_samples_leaf=4, min_samples_split=2, total=   0.0s\n",
      "[CV] criterion=mse, max_depth=3, min_samples_leaf=4, min_samples_split=2 \n"
     ]
    },
    {
     "name": "stderr",
     "output_type": "stream",
     "text": [
      "C:\\Users\\N394\\Anaconda3\\lib\\site-packages\\sklearn\\ensemble\\forest.py:246: FutureWarning: The default value of n_estimators will change from 10 in version 0.20 to 100 in 0.22.\n",
      "  \"10 in version 0.20 to 100 in 0.22.\", FutureWarning)\n"
     ]
    },
    {
     "name": "stdout",
     "output_type": "stream",
     "text": [
      "[CV]  criterion=mse, max_depth=3, min_samples_leaf=4, min_samples_split=2, total=   0.0s\n",
      "[CV] criterion=mse, max_depth=3, min_samples_leaf=4, min_samples_split=2 \n"
     ]
    },
    {
     "name": "stderr",
     "output_type": "stream",
     "text": [
      "C:\\Users\\N394\\Anaconda3\\lib\\site-packages\\sklearn\\ensemble\\forest.py:246: FutureWarning: The default value of n_estimators will change from 10 in version 0.20 to 100 in 0.22.\n",
      "  \"10 in version 0.20 to 100 in 0.22.\", FutureWarning)\n"
     ]
    },
    {
     "name": "stdout",
     "output_type": "stream",
     "text": [
      "[CV]  criterion=mse, max_depth=3, min_samples_leaf=4, min_samples_split=2, total=   0.0s\n",
      "[CV] criterion=mse, max_depth=3, min_samples_leaf=4, min_samples_split=2 \n"
     ]
    },
    {
     "name": "stderr",
     "output_type": "stream",
     "text": [
      "C:\\Users\\N394\\Anaconda3\\lib\\site-packages\\sklearn\\ensemble\\forest.py:246: FutureWarning: The default value of n_estimators will change from 10 in version 0.20 to 100 in 0.22.\n",
      "  \"10 in version 0.20 to 100 in 0.22.\", FutureWarning)\n"
     ]
    },
    {
     "name": "stdout",
     "output_type": "stream",
     "text": [
      "[CV]  criterion=mse, max_depth=3, min_samples_leaf=4, min_samples_split=2, total=   0.0s\n",
      "[CV] criterion=mse, max_depth=3, min_samples_leaf=4, min_samples_split=2 \n"
     ]
    },
    {
     "name": "stderr",
     "output_type": "stream",
     "text": [
      "C:\\Users\\N394\\Anaconda3\\lib\\site-packages\\sklearn\\ensemble\\forest.py:246: FutureWarning: The default value of n_estimators will change from 10 in version 0.20 to 100 in 0.22.\n",
      "  \"10 in version 0.20 to 100 in 0.22.\", FutureWarning)\n"
     ]
    },
    {
     "name": "stdout",
     "output_type": "stream",
     "text": [
      "[CV]  criterion=mse, max_depth=3, min_samples_leaf=4, min_samples_split=2, total=   0.0s\n",
      "[CV] criterion=mse, max_depth=3, min_samples_leaf=4, min_samples_split=3 \n"
     ]
    },
    {
     "name": "stderr",
     "output_type": "stream",
     "text": [
      "C:\\Users\\N394\\Anaconda3\\lib\\site-packages\\sklearn\\ensemble\\forest.py:246: FutureWarning: The default value of n_estimators will change from 10 in version 0.20 to 100 in 0.22.\n",
      "  \"10 in version 0.20 to 100 in 0.22.\", FutureWarning)\n"
     ]
    },
    {
     "name": "stdout",
     "output_type": "stream",
     "text": [
      "[CV]  criterion=mse, max_depth=3, min_samples_leaf=4, min_samples_split=3, total=   0.0s\n",
      "[CV] criterion=mse, max_depth=3, min_samples_leaf=4, min_samples_split=3 \n"
     ]
    },
    {
     "name": "stderr",
     "output_type": "stream",
     "text": [
      "C:\\Users\\N394\\Anaconda3\\lib\\site-packages\\sklearn\\ensemble\\forest.py:246: FutureWarning: The default value of n_estimators will change from 10 in version 0.20 to 100 in 0.22.\n",
      "  \"10 in version 0.20 to 100 in 0.22.\", FutureWarning)\n"
     ]
    },
    {
     "name": "stdout",
     "output_type": "stream",
     "text": [
      "[CV]  criterion=mse, max_depth=3, min_samples_leaf=4, min_samples_split=3, total=   0.0s\n",
      "[CV] criterion=mse, max_depth=3, min_samples_leaf=4, min_samples_split=3 \n"
     ]
    },
    {
     "name": "stderr",
     "output_type": "stream",
     "text": [
      "C:\\Users\\N394\\Anaconda3\\lib\\site-packages\\sklearn\\ensemble\\forest.py:246: FutureWarning: The default value of n_estimators will change from 10 in version 0.20 to 100 in 0.22.\n",
      "  \"10 in version 0.20 to 100 in 0.22.\", FutureWarning)\n"
     ]
    },
    {
     "name": "stdout",
     "output_type": "stream",
     "text": [
      "[CV]  criterion=mse, max_depth=3, min_samples_leaf=4, min_samples_split=3, total=   0.0s\n",
      "[CV] criterion=mse, max_depth=3, min_samples_leaf=4, min_samples_split=3 \n"
     ]
    },
    {
     "name": "stderr",
     "output_type": "stream",
     "text": [
      "C:\\Users\\N394\\Anaconda3\\lib\\site-packages\\sklearn\\ensemble\\forest.py:246: FutureWarning: The default value of n_estimators will change from 10 in version 0.20 to 100 in 0.22.\n",
      "  \"10 in version 0.20 to 100 in 0.22.\", FutureWarning)\n"
     ]
    },
    {
     "name": "stdout",
     "output_type": "stream",
     "text": [
      "[CV]  criterion=mse, max_depth=3, min_samples_leaf=4, min_samples_split=3, total=   0.0s\n",
      "[CV] criterion=mse, max_depth=3, min_samples_leaf=4, min_samples_split=3 \n"
     ]
    },
    {
     "name": "stderr",
     "output_type": "stream",
     "text": [
      "C:\\Users\\N394\\Anaconda3\\lib\\site-packages\\sklearn\\ensemble\\forest.py:246: FutureWarning: The default value of n_estimators will change from 10 in version 0.20 to 100 in 0.22.\n",
      "  \"10 in version 0.20 to 100 in 0.22.\", FutureWarning)\n"
     ]
    },
    {
     "name": "stdout",
     "output_type": "stream",
     "text": [
      "[CV]  criterion=mse, max_depth=3, min_samples_leaf=4, min_samples_split=3, total=   0.0s\n",
      "[CV] criterion=mse, max_depth=3, min_samples_leaf=4, min_samples_split=4 \n"
     ]
    },
    {
     "name": "stderr",
     "output_type": "stream",
     "text": [
      "C:\\Users\\N394\\Anaconda3\\lib\\site-packages\\sklearn\\ensemble\\forest.py:246: FutureWarning: The default value of n_estimators will change from 10 in version 0.20 to 100 in 0.22.\n",
      "  \"10 in version 0.20 to 100 in 0.22.\", FutureWarning)\n"
     ]
    },
    {
     "name": "stdout",
     "output_type": "stream",
     "text": [
      "[CV]  criterion=mse, max_depth=3, min_samples_leaf=4, min_samples_split=4, total=   0.0s\n",
      "[CV] criterion=mse, max_depth=3, min_samples_leaf=4, min_samples_split=4 \n"
     ]
    },
    {
     "name": "stderr",
     "output_type": "stream",
     "text": [
      "C:\\Users\\N394\\Anaconda3\\lib\\site-packages\\sklearn\\ensemble\\forest.py:246: FutureWarning: The default value of n_estimators will change from 10 in version 0.20 to 100 in 0.22.\n",
      "  \"10 in version 0.20 to 100 in 0.22.\", FutureWarning)\n"
     ]
    },
    {
     "name": "stdout",
     "output_type": "stream",
     "text": [
      "[CV]  criterion=mse, max_depth=3, min_samples_leaf=4, min_samples_split=4, total=   0.0s\n",
      "[CV] criterion=mse, max_depth=3, min_samples_leaf=4, min_samples_split=4 \n"
     ]
    },
    {
     "name": "stderr",
     "output_type": "stream",
     "text": [
      "C:\\Users\\N394\\Anaconda3\\lib\\site-packages\\sklearn\\ensemble\\forest.py:246: FutureWarning: The default value of n_estimators will change from 10 in version 0.20 to 100 in 0.22.\n",
      "  \"10 in version 0.20 to 100 in 0.22.\", FutureWarning)\n"
     ]
    },
    {
     "name": "stdout",
     "output_type": "stream",
     "text": [
      "[CV]  criterion=mse, max_depth=3, min_samples_leaf=4, min_samples_split=4, total=   0.0s\n",
      "[CV] criterion=mse, max_depth=3, min_samples_leaf=4, min_samples_split=4 \n"
     ]
    },
    {
     "name": "stderr",
     "output_type": "stream",
     "text": [
      "C:\\Users\\N394\\Anaconda3\\lib\\site-packages\\sklearn\\ensemble\\forest.py:246: FutureWarning: The default value of n_estimators will change from 10 in version 0.20 to 100 in 0.22.\n",
      "  \"10 in version 0.20 to 100 in 0.22.\", FutureWarning)\n"
     ]
    },
    {
     "name": "stdout",
     "output_type": "stream",
     "text": [
      "[CV]  criterion=mse, max_depth=3, min_samples_leaf=4, min_samples_split=4, total=   0.0s\n",
      "[CV] criterion=mse, max_depth=3, min_samples_leaf=4, min_samples_split=4 \n"
     ]
    },
    {
     "name": "stderr",
     "output_type": "stream",
     "text": [
      "C:\\Users\\N394\\Anaconda3\\lib\\site-packages\\sklearn\\ensemble\\forest.py:246: FutureWarning: The default value of n_estimators will change from 10 in version 0.20 to 100 in 0.22.\n",
      "  \"10 in version 0.20 to 100 in 0.22.\", FutureWarning)\n"
     ]
    },
    {
     "name": "stdout",
     "output_type": "stream",
     "text": [
      "[CV]  criterion=mse, max_depth=3, min_samples_leaf=4, min_samples_split=4, total=   0.0s\n",
      "[CV] criterion=mse, max_depth=4, min_samples_leaf=2, min_samples_split=2 \n"
     ]
    },
    {
     "name": "stderr",
     "output_type": "stream",
     "text": [
      "C:\\Users\\N394\\Anaconda3\\lib\\site-packages\\sklearn\\ensemble\\forest.py:246: FutureWarning: The default value of n_estimators will change from 10 in version 0.20 to 100 in 0.22.\n",
      "  \"10 in version 0.20 to 100 in 0.22.\", FutureWarning)\n"
     ]
    },
    {
     "name": "stdout",
     "output_type": "stream",
     "text": [
      "[CV]  criterion=mse, max_depth=4, min_samples_leaf=2, min_samples_split=2, total=   0.0s\n",
      "[CV] criterion=mse, max_depth=4, min_samples_leaf=2, min_samples_split=2 \n"
     ]
    },
    {
     "name": "stderr",
     "output_type": "stream",
     "text": [
      "C:\\Users\\N394\\Anaconda3\\lib\\site-packages\\sklearn\\ensemble\\forest.py:246: FutureWarning: The default value of n_estimators will change from 10 in version 0.20 to 100 in 0.22.\n",
      "  \"10 in version 0.20 to 100 in 0.22.\", FutureWarning)\n"
     ]
    },
    {
     "name": "stdout",
     "output_type": "stream",
     "text": [
      "[CV]  criterion=mse, max_depth=4, min_samples_leaf=2, min_samples_split=2, total=   0.0s\n",
      "[CV] criterion=mse, max_depth=4, min_samples_leaf=2, min_samples_split=2 \n"
     ]
    },
    {
     "name": "stderr",
     "output_type": "stream",
     "text": [
      "C:\\Users\\N394\\Anaconda3\\lib\\site-packages\\sklearn\\ensemble\\forest.py:246: FutureWarning: The default value of n_estimators will change from 10 in version 0.20 to 100 in 0.22.\n",
      "  \"10 in version 0.20 to 100 in 0.22.\", FutureWarning)\n"
     ]
    },
    {
     "name": "stdout",
     "output_type": "stream",
     "text": [
      "[CV]  criterion=mse, max_depth=4, min_samples_leaf=2, min_samples_split=2, total=   0.0s\n",
      "[CV] criterion=mse, max_depth=4, min_samples_leaf=2, min_samples_split=2 \n"
     ]
    },
    {
     "name": "stderr",
     "output_type": "stream",
     "text": [
      "C:\\Users\\N394\\Anaconda3\\lib\\site-packages\\sklearn\\ensemble\\forest.py:246: FutureWarning: The default value of n_estimators will change from 10 in version 0.20 to 100 in 0.22.\n",
      "  \"10 in version 0.20 to 100 in 0.22.\", FutureWarning)\n"
     ]
    },
    {
     "name": "stdout",
     "output_type": "stream",
     "text": [
      "[CV]  criterion=mse, max_depth=4, min_samples_leaf=2, min_samples_split=2, total=   0.0s\n",
      "[CV] criterion=mse, max_depth=4, min_samples_leaf=2, min_samples_split=2 \n"
     ]
    },
    {
     "name": "stderr",
     "output_type": "stream",
     "text": [
      "C:\\Users\\N394\\Anaconda3\\lib\\site-packages\\sklearn\\ensemble\\forest.py:246: FutureWarning: The default value of n_estimators will change from 10 in version 0.20 to 100 in 0.22.\n",
      "  \"10 in version 0.20 to 100 in 0.22.\", FutureWarning)\n"
     ]
    },
    {
     "name": "stdout",
     "output_type": "stream",
     "text": [
      "[CV]  criterion=mse, max_depth=4, min_samples_leaf=2, min_samples_split=2, total=   0.0s\n",
      "[CV] criterion=mse, max_depth=4, min_samples_leaf=2, min_samples_split=3 \n"
     ]
    },
    {
     "name": "stderr",
     "output_type": "stream",
     "text": [
      "C:\\Users\\N394\\Anaconda3\\lib\\site-packages\\sklearn\\ensemble\\forest.py:246: FutureWarning: The default value of n_estimators will change from 10 in version 0.20 to 100 in 0.22.\n",
      "  \"10 in version 0.20 to 100 in 0.22.\", FutureWarning)\n"
     ]
    },
    {
     "name": "stdout",
     "output_type": "stream",
     "text": [
      "[CV]  criterion=mse, max_depth=4, min_samples_leaf=2, min_samples_split=3, total=   0.0s\n",
      "[CV] criterion=mse, max_depth=4, min_samples_leaf=2, min_samples_split=3 \n"
     ]
    },
    {
     "name": "stderr",
     "output_type": "stream",
     "text": [
      "C:\\Users\\N394\\Anaconda3\\lib\\site-packages\\sklearn\\ensemble\\forest.py:246: FutureWarning: The default value of n_estimators will change from 10 in version 0.20 to 100 in 0.22.\n",
      "  \"10 in version 0.20 to 100 in 0.22.\", FutureWarning)\n"
     ]
    },
    {
     "name": "stdout",
     "output_type": "stream",
     "text": [
      "[CV]  criterion=mse, max_depth=4, min_samples_leaf=2, min_samples_split=3, total=   0.0s\n",
      "[CV] criterion=mse, max_depth=4, min_samples_leaf=2, min_samples_split=3 \n"
     ]
    },
    {
     "name": "stderr",
     "output_type": "stream",
     "text": [
      "C:\\Users\\N394\\Anaconda3\\lib\\site-packages\\sklearn\\ensemble\\forest.py:246: FutureWarning: The default value of n_estimators will change from 10 in version 0.20 to 100 in 0.22.\n",
      "  \"10 in version 0.20 to 100 in 0.22.\", FutureWarning)\n"
     ]
    },
    {
     "name": "stdout",
     "output_type": "stream",
     "text": [
      "[CV]  criterion=mse, max_depth=4, min_samples_leaf=2, min_samples_split=3, total=   0.0s\n",
      "[CV] criterion=mse, max_depth=4, min_samples_leaf=2, min_samples_split=3 \n"
     ]
    },
    {
     "name": "stderr",
     "output_type": "stream",
     "text": [
      "C:\\Users\\N394\\Anaconda3\\lib\\site-packages\\sklearn\\ensemble\\forest.py:246: FutureWarning: The default value of n_estimators will change from 10 in version 0.20 to 100 in 0.22.\n",
      "  \"10 in version 0.20 to 100 in 0.22.\", FutureWarning)\n"
     ]
    },
    {
     "name": "stdout",
     "output_type": "stream",
     "text": [
      "[CV]  criterion=mse, max_depth=4, min_samples_leaf=2, min_samples_split=3, total=   0.0s\n",
      "[CV] criterion=mse, max_depth=4, min_samples_leaf=2, min_samples_split=3 \n"
     ]
    },
    {
     "name": "stderr",
     "output_type": "stream",
     "text": [
      "C:\\Users\\N394\\Anaconda3\\lib\\site-packages\\sklearn\\ensemble\\forest.py:246: FutureWarning: The default value of n_estimators will change from 10 in version 0.20 to 100 in 0.22.\n",
      "  \"10 in version 0.20 to 100 in 0.22.\", FutureWarning)\n"
     ]
    },
    {
     "name": "stdout",
     "output_type": "stream",
     "text": [
      "[CV]  criterion=mse, max_depth=4, min_samples_leaf=2, min_samples_split=3, total=   0.0s\n",
      "[CV] criterion=mse, max_depth=4, min_samples_leaf=2, min_samples_split=4 \n"
     ]
    },
    {
     "name": "stderr",
     "output_type": "stream",
     "text": [
      "C:\\Users\\N394\\Anaconda3\\lib\\site-packages\\sklearn\\ensemble\\forest.py:246: FutureWarning: The default value of n_estimators will change from 10 in version 0.20 to 100 in 0.22.\n",
      "  \"10 in version 0.20 to 100 in 0.22.\", FutureWarning)\n"
     ]
    },
    {
     "name": "stdout",
     "output_type": "stream",
     "text": [
      "[CV]  criterion=mse, max_depth=4, min_samples_leaf=2, min_samples_split=4, total=   0.0s\n",
      "[CV] criterion=mse, max_depth=4, min_samples_leaf=2, min_samples_split=4 \n"
     ]
    },
    {
     "name": "stderr",
     "output_type": "stream",
     "text": [
      "C:\\Users\\N394\\Anaconda3\\lib\\site-packages\\sklearn\\ensemble\\forest.py:246: FutureWarning: The default value of n_estimators will change from 10 in version 0.20 to 100 in 0.22.\n",
      "  \"10 in version 0.20 to 100 in 0.22.\", FutureWarning)\n"
     ]
    },
    {
     "name": "stdout",
     "output_type": "stream",
     "text": [
      "[CV]  criterion=mse, max_depth=4, min_samples_leaf=2, min_samples_split=4, total=   0.0s\n",
      "[CV] criterion=mse, max_depth=4, min_samples_leaf=2, min_samples_split=4 \n"
     ]
    },
    {
     "name": "stderr",
     "output_type": "stream",
     "text": [
      "C:\\Users\\N394\\Anaconda3\\lib\\site-packages\\sklearn\\ensemble\\forest.py:246: FutureWarning: The default value of n_estimators will change from 10 in version 0.20 to 100 in 0.22.\n",
      "  \"10 in version 0.20 to 100 in 0.22.\", FutureWarning)\n"
     ]
    },
    {
     "name": "stdout",
     "output_type": "stream",
     "text": [
      "[CV]  criterion=mse, max_depth=4, min_samples_leaf=2, min_samples_split=4, total=   0.0s\n",
      "[CV] criterion=mse, max_depth=4, min_samples_leaf=2, min_samples_split=4 \n"
     ]
    },
    {
     "name": "stderr",
     "output_type": "stream",
     "text": [
      "C:\\Users\\N394\\Anaconda3\\lib\\site-packages\\sklearn\\ensemble\\forest.py:246: FutureWarning: The default value of n_estimators will change from 10 in version 0.20 to 100 in 0.22.\n",
      "  \"10 in version 0.20 to 100 in 0.22.\", FutureWarning)\n"
     ]
    },
    {
     "name": "stdout",
     "output_type": "stream",
     "text": [
      "[CV]  criterion=mse, max_depth=4, min_samples_leaf=2, min_samples_split=4, total=   0.0s\n",
      "[CV] criterion=mse, max_depth=4, min_samples_leaf=2, min_samples_split=4 \n"
     ]
    },
    {
     "name": "stderr",
     "output_type": "stream",
     "text": [
      "C:\\Users\\N394\\Anaconda3\\lib\\site-packages\\sklearn\\ensemble\\forest.py:246: FutureWarning: The default value of n_estimators will change from 10 in version 0.20 to 100 in 0.22.\n",
      "  \"10 in version 0.20 to 100 in 0.22.\", FutureWarning)\n"
     ]
    },
    {
     "name": "stdout",
     "output_type": "stream",
     "text": [
      "[CV]  criterion=mse, max_depth=4, min_samples_leaf=2, min_samples_split=4, total=   0.0s\n",
      "[CV] criterion=mse, max_depth=4, min_samples_leaf=3, min_samples_split=2 \n"
     ]
    },
    {
     "name": "stderr",
     "output_type": "stream",
     "text": [
      "C:\\Users\\N394\\Anaconda3\\lib\\site-packages\\sklearn\\ensemble\\forest.py:246: FutureWarning: The default value of n_estimators will change from 10 in version 0.20 to 100 in 0.22.\n",
      "  \"10 in version 0.20 to 100 in 0.22.\", FutureWarning)\n"
     ]
    },
    {
     "name": "stdout",
     "output_type": "stream",
     "text": [
      "[CV]  criterion=mse, max_depth=4, min_samples_leaf=3, min_samples_split=2, total=   0.0s\n",
      "[CV] criterion=mse, max_depth=4, min_samples_leaf=3, min_samples_split=2 \n"
     ]
    },
    {
     "name": "stderr",
     "output_type": "stream",
     "text": [
      "C:\\Users\\N394\\Anaconda3\\lib\\site-packages\\sklearn\\ensemble\\forest.py:246: FutureWarning: The default value of n_estimators will change from 10 in version 0.20 to 100 in 0.22.\n",
      "  \"10 in version 0.20 to 100 in 0.22.\", FutureWarning)\n"
     ]
    },
    {
     "name": "stdout",
     "output_type": "stream",
     "text": [
      "[CV]  criterion=mse, max_depth=4, min_samples_leaf=3, min_samples_split=2, total=   0.0s\n",
      "[CV] criterion=mse, max_depth=4, min_samples_leaf=3, min_samples_split=2 \n"
     ]
    },
    {
     "name": "stderr",
     "output_type": "stream",
     "text": [
      "C:\\Users\\N394\\Anaconda3\\lib\\site-packages\\sklearn\\ensemble\\forest.py:246: FutureWarning: The default value of n_estimators will change from 10 in version 0.20 to 100 in 0.22.\n",
      "  \"10 in version 0.20 to 100 in 0.22.\", FutureWarning)\n"
     ]
    },
    {
     "name": "stdout",
     "output_type": "stream",
     "text": [
      "[CV]  criterion=mse, max_depth=4, min_samples_leaf=3, min_samples_split=2, total=   0.0s\n",
      "[CV] criterion=mse, max_depth=4, min_samples_leaf=3, min_samples_split=2 \n"
     ]
    },
    {
     "name": "stderr",
     "output_type": "stream",
     "text": [
      "C:\\Users\\N394\\Anaconda3\\lib\\site-packages\\sklearn\\ensemble\\forest.py:246: FutureWarning: The default value of n_estimators will change from 10 in version 0.20 to 100 in 0.22.\n",
      "  \"10 in version 0.20 to 100 in 0.22.\", FutureWarning)\n"
     ]
    },
    {
     "name": "stdout",
     "output_type": "stream",
     "text": [
      "[CV]  criterion=mse, max_depth=4, min_samples_leaf=3, min_samples_split=2, total=   0.0s\n",
      "[CV] criterion=mse, max_depth=4, min_samples_leaf=3, min_samples_split=2 \n"
     ]
    },
    {
     "name": "stderr",
     "output_type": "stream",
     "text": [
      "C:\\Users\\N394\\Anaconda3\\lib\\site-packages\\sklearn\\ensemble\\forest.py:246: FutureWarning: The default value of n_estimators will change from 10 in version 0.20 to 100 in 0.22.\n",
      "  \"10 in version 0.20 to 100 in 0.22.\", FutureWarning)\n"
     ]
    },
    {
     "name": "stdout",
     "output_type": "stream",
     "text": [
      "[CV]  criterion=mse, max_depth=4, min_samples_leaf=3, min_samples_split=2, total=   0.0s\n",
      "[CV] criterion=mse, max_depth=4, min_samples_leaf=3, min_samples_split=3 \n"
     ]
    },
    {
     "name": "stderr",
     "output_type": "stream",
     "text": [
      "C:\\Users\\N394\\Anaconda3\\lib\\site-packages\\sklearn\\ensemble\\forest.py:246: FutureWarning: The default value of n_estimators will change from 10 in version 0.20 to 100 in 0.22.\n",
      "  \"10 in version 0.20 to 100 in 0.22.\", FutureWarning)\n"
     ]
    },
    {
     "name": "stdout",
     "output_type": "stream",
     "text": [
      "[CV]  criterion=mse, max_depth=4, min_samples_leaf=3, min_samples_split=3, total=   0.0s\n",
      "[CV] criterion=mse, max_depth=4, min_samples_leaf=3, min_samples_split=3 \n"
     ]
    },
    {
     "name": "stderr",
     "output_type": "stream",
     "text": [
      "C:\\Users\\N394\\Anaconda3\\lib\\site-packages\\sklearn\\ensemble\\forest.py:246: FutureWarning: The default value of n_estimators will change from 10 in version 0.20 to 100 in 0.22.\n",
      "  \"10 in version 0.20 to 100 in 0.22.\", FutureWarning)\n"
     ]
    },
    {
     "name": "stdout",
     "output_type": "stream",
     "text": [
      "[CV]  criterion=mse, max_depth=4, min_samples_leaf=3, min_samples_split=3, total=   0.0s\n",
      "[CV] criterion=mse, max_depth=4, min_samples_leaf=3, min_samples_split=3 \n"
     ]
    },
    {
     "name": "stderr",
     "output_type": "stream",
     "text": [
      "C:\\Users\\N394\\Anaconda3\\lib\\site-packages\\sklearn\\ensemble\\forest.py:246: FutureWarning: The default value of n_estimators will change from 10 in version 0.20 to 100 in 0.22.\n",
      "  \"10 in version 0.20 to 100 in 0.22.\", FutureWarning)\n"
     ]
    },
    {
     "name": "stdout",
     "output_type": "stream",
     "text": [
      "[CV]  criterion=mse, max_depth=4, min_samples_leaf=3, min_samples_split=3, total=   0.0s\n",
      "[CV] criterion=mse, max_depth=4, min_samples_leaf=3, min_samples_split=3 \n"
     ]
    },
    {
     "name": "stderr",
     "output_type": "stream",
     "text": [
      "C:\\Users\\N394\\Anaconda3\\lib\\site-packages\\sklearn\\ensemble\\forest.py:246: FutureWarning: The default value of n_estimators will change from 10 in version 0.20 to 100 in 0.22.\n",
      "  \"10 in version 0.20 to 100 in 0.22.\", FutureWarning)\n"
     ]
    },
    {
     "name": "stdout",
     "output_type": "stream",
     "text": [
      "[CV]  criterion=mse, max_depth=4, min_samples_leaf=3, min_samples_split=3, total=   0.0s\n",
      "[CV] criterion=mse, max_depth=4, min_samples_leaf=3, min_samples_split=3 \n"
     ]
    },
    {
     "name": "stderr",
     "output_type": "stream",
     "text": [
      "C:\\Users\\N394\\Anaconda3\\lib\\site-packages\\sklearn\\ensemble\\forest.py:246: FutureWarning: The default value of n_estimators will change from 10 in version 0.20 to 100 in 0.22.\n",
      "  \"10 in version 0.20 to 100 in 0.22.\", FutureWarning)\n"
     ]
    },
    {
     "name": "stdout",
     "output_type": "stream",
     "text": [
      "[CV]  criterion=mse, max_depth=4, min_samples_leaf=3, min_samples_split=3, total=   0.0s\n",
      "[CV] criterion=mse, max_depth=4, min_samples_leaf=3, min_samples_split=4 \n"
     ]
    },
    {
     "name": "stderr",
     "output_type": "stream",
     "text": [
      "C:\\Users\\N394\\Anaconda3\\lib\\site-packages\\sklearn\\ensemble\\forest.py:246: FutureWarning: The default value of n_estimators will change from 10 in version 0.20 to 100 in 0.22.\n",
      "  \"10 in version 0.20 to 100 in 0.22.\", FutureWarning)\n"
     ]
    },
    {
     "name": "stdout",
     "output_type": "stream",
     "text": [
      "[CV]  criterion=mse, max_depth=4, min_samples_leaf=3, min_samples_split=4, total=   0.0s\n",
      "[CV] criterion=mse, max_depth=4, min_samples_leaf=3, min_samples_split=4 \n"
     ]
    },
    {
     "name": "stderr",
     "output_type": "stream",
     "text": [
      "C:\\Users\\N394\\Anaconda3\\lib\\site-packages\\sklearn\\ensemble\\forest.py:246: FutureWarning: The default value of n_estimators will change from 10 in version 0.20 to 100 in 0.22.\n",
      "  \"10 in version 0.20 to 100 in 0.22.\", FutureWarning)\n"
     ]
    },
    {
     "name": "stdout",
     "output_type": "stream",
     "text": [
      "[CV]  criterion=mse, max_depth=4, min_samples_leaf=3, min_samples_split=4, total=   0.0s\n",
      "[CV] criterion=mse, max_depth=4, min_samples_leaf=3, min_samples_split=4 \n"
     ]
    },
    {
     "name": "stderr",
     "output_type": "stream",
     "text": [
      "C:\\Users\\N394\\Anaconda3\\lib\\site-packages\\sklearn\\ensemble\\forest.py:246: FutureWarning: The default value of n_estimators will change from 10 in version 0.20 to 100 in 0.22.\n",
      "  \"10 in version 0.20 to 100 in 0.22.\", FutureWarning)\n"
     ]
    },
    {
     "name": "stdout",
     "output_type": "stream",
     "text": [
      "[CV]  criterion=mse, max_depth=4, min_samples_leaf=3, min_samples_split=4, total=   0.0s\n",
      "[CV] criterion=mse, max_depth=4, min_samples_leaf=3, min_samples_split=4 \n"
     ]
    },
    {
     "name": "stderr",
     "output_type": "stream",
     "text": [
      "C:\\Users\\N394\\Anaconda3\\lib\\site-packages\\sklearn\\ensemble\\forest.py:246: FutureWarning: The default value of n_estimators will change from 10 in version 0.20 to 100 in 0.22.\n",
      "  \"10 in version 0.20 to 100 in 0.22.\", FutureWarning)\n"
     ]
    },
    {
     "name": "stdout",
     "output_type": "stream",
     "text": [
      "[CV]  criterion=mse, max_depth=4, min_samples_leaf=3, min_samples_split=4, total=   0.0s\n",
      "[CV] criterion=mse, max_depth=4, min_samples_leaf=3, min_samples_split=4 \n"
     ]
    },
    {
     "name": "stderr",
     "output_type": "stream",
     "text": [
      "C:\\Users\\N394\\Anaconda3\\lib\\site-packages\\sklearn\\ensemble\\forest.py:246: FutureWarning: The default value of n_estimators will change from 10 in version 0.20 to 100 in 0.22.\n",
      "  \"10 in version 0.20 to 100 in 0.22.\", FutureWarning)\n"
     ]
    },
    {
     "name": "stdout",
     "output_type": "stream",
     "text": [
      "[CV]  criterion=mse, max_depth=4, min_samples_leaf=3, min_samples_split=4, total=   0.0s\n",
      "[CV] criterion=mse, max_depth=4, min_samples_leaf=4, min_samples_split=2 \n"
     ]
    },
    {
     "name": "stderr",
     "output_type": "stream",
     "text": [
      "C:\\Users\\N394\\Anaconda3\\lib\\site-packages\\sklearn\\ensemble\\forest.py:246: FutureWarning: The default value of n_estimators will change from 10 in version 0.20 to 100 in 0.22.\n",
      "  \"10 in version 0.20 to 100 in 0.22.\", FutureWarning)\n"
     ]
    },
    {
     "name": "stdout",
     "output_type": "stream",
     "text": [
      "[CV]  criterion=mse, max_depth=4, min_samples_leaf=4, min_samples_split=2, total=   0.0s\n",
      "[CV] criterion=mse, max_depth=4, min_samples_leaf=4, min_samples_split=2 \n"
     ]
    },
    {
     "name": "stderr",
     "output_type": "stream",
     "text": [
      "C:\\Users\\N394\\Anaconda3\\lib\\site-packages\\sklearn\\ensemble\\forest.py:246: FutureWarning: The default value of n_estimators will change from 10 in version 0.20 to 100 in 0.22.\n",
      "  \"10 in version 0.20 to 100 in 0.22.\", FutureWarning)\n"
     ]
    },
    {
     "name": "stdout",
     "output_type": "stream",
     "text": [
      "[CV]  criterion=mse, max_depth=4, min_samples_leaf=4, min_samples_split=2, total=   0.0s\n",
      "[CV] criterion=mse, max_depth=4, min_samples_leaf=4, min_samples_split=2 \n"
     ]
    },
    {
     "name": "stderr",
     "output_type": "stream",
     "text": [
      "C:\\Users\\N394\\Anaconda3\\lib\\site-packages\\sklearn\\ensemble\\forest.py:246: FutureWarning: The default value of n_estimators will change from 10 in version 0.20 to 100 in 0.22.\n",
      "  \"10 in version 0.20 to 100 in 0.22.\", FutureWarning)\n"
     ]
    },
    {
     "name": "stdout",
     "output_type": "stream",
     "text": [
      "[CV]  criterion=mse, max_depth=4, min_samples_leaf=4, min_samples_split=2, total=   0.0s\n",
      "[CV] criterion=mse, max_depth=4, min_samples_leaf=4, min_samples_split=2 \n"
     ]
    },
    {
     "name": "stderr",
     "output_type": "stream",
     "text": [
      "C:\\Users\\N394\\Anaconda3\\lib\\site-packages\\sklearn\\ensemble\\forest.py:246: FutureWarning: The default value of n_estimators will change from 10 in version 0.20 to 100 in 0.22.\n",
      "  \"10 in version 0.20 to 100 in 0.22.\", FutureWarning)\n"
     ]
    },
    {
     "name": "stdout",
     "output_type": "stream",
     "text": [
      "[CV]  criterion=mse, max_depth=4, min_samples_leaf=4, min_samples_split=2, total=   0.0s\n",
      "[CV] criterion=mse, max_depth=4, min_samples_leaf=4, min_samples_split=2 \n"
     ]
    },
    {
     "name": "stderr",
     "output_type": "stream",
     "text": [
      "C:\\Users\\N394\\Anaconda3\\lib\\site-packages\\sklearn\\ensemble\\forest.py:246: FutureWarning: The default value of n_estimators will change from 10 in version 0.20 to 100 in 0.22.\n",
      "  \"10 in version 0.20 to 100 in 0.22.\", FutureWarning)\n"
     ]
    },
    {
     "name": "stdout",
     "output_type": "stream",
     "text": [
      "[CV]  criterion=mse, max_depth=4, min_samples_leaf=4, min_samples_split=2, total=   0.0s\n",
      "[CV] criterion=mse, max_depth=4, min_samples_leaf=4, min_samples_split=3 \n"
     ]
    },
    {
     "name": "stderr",
     "output_type": "stream",
     "text": [
      "C:\\Users\\N394\\Anaconda3\\lib\\site-packages\\sklearn\\ensemble\\forest.py:246: FutureWarning: The default value of n_estimators will change from 10 in version 0.20 to 100 in 0.22.\n",
      "  \"10 in version 0.20 to 100 in 0.22.\", FutureWarning)\n"
     ]
    },
    {
     "name": "stdout",
     "output_type": "stream",
     "text": [
      "[CV]  criterion=mse, max_depth=4, min_samples_leaf=4, min_samples_split=3, total=   0.0s\n",
      "[CV] criterion=mse, max_depth=4, min_samples_leaf=4, min_samples_split=3 \n"
     ]
    },
    {
     "name": "stderr",
     "output_type": "stream",
     "text": [
      "C:\\Users\\N394\\Anaconda3\\lib\\site-packages\\sklearn\\ensemble\\forest.py:246: FutureWarning: The default value of n_estimators will change from 10 in version 0.20 to 100 in 0.22.\n",
      "  \"10 in version 0.20 to 100 in 0.22.\", FutureWarning)\n"
     ]
    },
    {
     "name": "stdout",
     "output_type": "stream",
     "text": [
      "[CV]  criterion=mse, max_depth=4, min_samples_leaf=4, min_samples_split=3, total=   0.0s\n",
      "[CV] criterion=mse, max_depth=4, min_samples_leaf=4, min_samples_split=3 \n"
     ]
    },
    {
     "name": "stderr",
     "output_type": "stream",
     "text": [
      "C:\\Users\\N394\\Anaconda3\\lib\\site-packages\\sklearn\\ensemble\\forest.py:246: FutureWarning: The default value of n_estimators will change from 10 in version 0.20 to 100 in 0.22.\n",
      "  \"10 in version 0.20 to 100 in 0.22.\", FutureWarning)\n"
     ]
    },
    {
     "name": "stdout",
     "output_type": "stream",
     "text": [
      "[CV]  criterion=mse, max_depth=4, min_samples_leaf=4, min_samples_split=3, total=   0.0s\n",
      "[CV] criterion=mse, max_depth=4, min_samples_leaf=4, min_samples_split=3 \n"
     ]
    },
    {
     "name": "stderr",
     "output_type": "stream",
     "text": [
      "C:\\Users\\N394\\Anaconda3\\lib\\site-packages\\sklearn\\ensemble\\forest.py:246: FutureWarning: The default value of n_estimators will change from 10 in version 0.20 to 100 in 0.22.\n",
      "  \"10 in version 0.20 to 100 in 0.22.\", FutureWarning)\n"
     ]
    },
    {
     "name": "stdout",
     "output_type": "stream",
     "text": [
      "[CV]  criterion=mse, max_depth=4, min_samples_leaf=4, min_samples_split=3, total=   0.0s\n",
      "[CV] criterion=mse, max_depth=4, min_samples_leaf=4, min_samples_split=3 \n"
     ]
    },
    {
     "name": "stderr",
     "output_type": "stream",
     "text": [
      "C:\\Users\\N394\\Anaconda3\\lib\\site-packages\\sklearn\\ensemble\\forest.py:246: FutureWarning: The default value of n_estimators will change from 10 in version 0.20 to 100 in 0.22.\n",
      "  \"10 in version 0.20 to 100 in 0.22.\", FutureWarning)\n"
     ]
    },
    {
     "name": "stdout",
     "output_type": "stream",
     "text": [
      "[CV]  criterion=mse, max_depth=4, min_samples_leaf=4, min_samples_split=3, total=   0.0s\n",
      "[CV] criterion=mse, max_depth=4, min_samples_leaf=4, min_samples_split=4 \n"
     ]
    },
    {
     "name": "stderr",
     "output_type": "stream",
     "text": [
      "C:\\Users\\N394\\Anaconda3\\lib\\site-packages\\sklearn\\ensemble\\forest.py:246: FutureWarning: The default value of n_estimators will change from 10 in version 0.20 to 100 in 0.22.\n",
      "  \"10 in version 0.20 to 100 in 0.22.\", FutureWarning)\n"
     ]
    },
    {
     "name": "stdout",
     "output_type": "stream",
     "text": [
      "[CV]  criterion=mse, max_depth=4, min_samples_leaf=4, min_samples_split=4, total=   0.0s\n",
      "[CV] criterion=mse, max_depth=4, min_samples_leaf=4, min_samples_split=4 \n"
     ]
    },
    {
     "name": "stderr",
     "output_type": "stream",
     "text": [
      "C:\\Users\\N394\\Anaconda3\\lib\\site-packages\\sklearn\\ensemble\\forest.py:246: FutureWarning: The default value of n_estimators will change from 10 in version 0.20 to 100 in 0.22.\n",
      "  \"10 in version 0.20 to 100 in 0.22.\", FutureWarning)\n"
     ]
    },
    {
     "name": "stdout",
     "output_type": "stream",
     "text": [
      "[CV]  criterion=mse, max_depth=4, min_samples_leaf=4, min_samples_split=4, total=   0.0s\n",
      "[CV] criterion=mse, max_depth=4, min_samples_leaf=4, min_samples_split=4 \n"
     ]
    },
    {
     "name": "stderr",
     "output_type": "stream",
     "text": [
      "C:\\Users\\N394\\Anaconda3\\lib\\site-packages\\sklearn\\ensemble\\forest.py:246: FutureWarning: The default value of n_estimators will change from 10 in version 0.20 to 100 in 0.22.\n",
      "  \"10 in version 0.20 to 100 in 0.22.\", FutureWarning)\n"
     ]
    },
    {
     "name": "stdout",
     "output_type": "stream",
     "text": [
      "[CV]  criterion=mse, max_depth=4, min_samples_leaf=4, min_samples_split=4, total=   0.0s\n",
      "[CV] criterion=mse, max_depth=4, min_samples_leaf=4, min_samples_split=4 \n"
     ]
    },
    {
     "name": "stderr",
     "output_type": "stream",
     "text": [
      "C:\\Users\\N394\\Anaconda3\\lib\\site-packages\\sklearn\\ensemble\\forest.py:246: FutureWarning: The default value of n_estimators will change from 10 in version 0.20 to 100 in 0.22.\n",
      "  \"10 in version 0.20 to 100 in 0.22.\", FutureWarning)\n"
     ]
    },
    {
     "name": "stdout",
     "output_type": "stream",
     "text": [
      "[CV]  criterion=mse, max_depth=4, min_samples_leaf=4, min_samples_split=4, total=   0.0s\n",
      "[CV] criterion=mse, max_depth=4, min_samples_leaf=4, min_samples_split=4 \n"
     ]
    },
    {
     "name": "stderr",
     "output_type": "stream",
     "text": [
      "C:\\Users\\N394\\Anaconda3\\lib\\site-packages\\sklearn\\ensemble\\forest.py:246: FutureWarning: The default value of n_estimators will change from 10 in version 0.20 to 100 in 0.22.\n",
      "  \"10 in version 0.20 to 100 in 0.22.\", FutureWarning)\n"
     ]
    },
    {
     "name": "stdout",
     "output_type": "stream",
     "text": [
      "[CV]  criterion=mse, max_depth=4, min_samples_leaf=4, min_samples_split=4, total=   0.0s\n",
      "[CV] criterion=mae, max_depth=1, min_samples_leaf=2, min_samples_split=2 \n"
     ]
    },
    {
     "name": "stderr",
     "output_type": "stream",
     "text": [
      "C:\\Users\\N394\\Anaconda3\\lib\\site-packages\\sklearn\\ensemble\\forest.py:246: FutureWarning: The default value of n_estimators will change from 10 in version 0.20 to 100 in 0.22.\n",
      "  \"10 in version 0.20 to 100 in 0.22.\", FutureWarning)\n"
     ]
    },
    {
     "name": "stdout",
     "output_type": "stream",
     "text": [
      "[CV]  criterion=mae, max_depth=1, min_samples_leaf=2, min_samples_split=2, total=   0.0s\n",
      "[CV] criterion=mae, max_depth=1, min_samples_leaf=2, min_samples_split=2 \n"
     ]
    },
    {
     "name": "stderr",
     "output_type": "stream",
     "text": [
      "C:\\Users\\N394\\Anaconda3\\lib\\site-packages\\sklearn\\ensemble\\forest.py:246: FutureWarning: The default value of n_estimators will change from 10 in version 0.20 to 100 in 0.22.\n",
      "  \"10 in version 0.20 to 100 in 0.22.\", FutureWarning)\n"
     ]
    },
    {
     "name": "stdout",
     "output_type": "stream",
     "text": [
      "[CV]  criterion=mae, max_depth=1, min_samples_leaf=2, min_samples_split=2, total=   0.0s\n",
      "[CV] criterion=mae, max_depth=1, min_samples_leaf=2, min_samples_split=2 \n"
     ]
    },
    {
     "name": "stderr",
     "output_type": "stream",
     "text": [
      "C:\\Users\\N394\\Anaconda3\\lib\\site-packages\\sklearn\\ensemble\\forest.py:246: FutureWarning: The default value of n_estimators will change from 10 in version 0.20 to 100 in 0.22.\n",
      "  \"10 in version 0.20 to 100 in 0.22.\", FutureWarning)\n"
     ]
    },
    {
     "name": "stdout",
     "output_type": "stream",
     "text": [
      "[CV]  criterion=mae, max_depth=1, min_samples_leaf=2, min_samples_split=2, total=   0.0s\n",
      "[CV] criterion=mae, max_depth=1, min_samples_leaf=2, min_samples_split=2 \n"
     ]
    },
    {
     "name": "stderr",
     "output_type": "stream",
     "text": [
      "C:\\Users\\N394\\Anaconda3\\lib\\site-packages\\sklearn\\ensemble\\forest.py:246: FutureWarning: The default value of n_estimators will change from 10 in version 0.20 to 100 in 0.22.\n",
      "  \"10 in version 0.20 to 100 in 0.22.\", FutureWarning)\n"
     ]
    },
    {
     "name": "stdout",
     "output_type": "stream",
     "text": [
      "[CV]  criterion=mae, max_depth=1, min_samples_leaf=2, min_samples_split=2, total=   0.0s\n",
      "[CV] criterion=mae, max_depth=1, min_samples_leaf=2, min_samples_split=2 \n"
     ]
    },
    {
     "name": "stderr",
     "output_type": "stream",
     "text": [
      "C:\\Users\\N394\\Anaconda3\\lib\\site-packages\\sklearn\\ensemble\\forest.py:246: FutureWarning: The default value of n_estimators will change from 10 in version 0.20 to 100 in 0.22.\n",
      "  \"10 in version 0.20 to 100 in 0.22.\", FutureWarning)\n"
     ]
    },
    {
     "name": "stdout",
     "output_type": "stream",
     "text": [
      "[CV]  criterion=mae, max_depth=1, min_samples_leaf=2, min_samples_split=2, total=   0.0s\n",
      "[CV] criterion=mae, max_depth=1, min_samples_leaf=2, min_samples_split=3 \n"
     ]
    },
    {
     "name": "stderr",
     "output_type": "stream",
     "text": [
      "C:\\Users\\N394\\Anaconda3\\lib\\site-packages\\sklearn\\ensemble\\forest.py:246: FutureWarning: The default value of n_estimators will change from 10 in version 0.20 to 100 in 0.22.\n",
      "  \"10 in version 0.20 to 100 in 0.22.\", FutureWarning)\n"
     ]
    },
    {
     "name": "stdout",
     "output_type": "stream",
     "text": [
      "[CV]  criterion=mae, max_depth=1, min_samples_leaf=2, min_samples_split=3, total=   0.0s\n",
      "[CV] criterion=mae, max_depth=1, min_samples_leaf=2, min_samples_split=3 \n"
     ]
    },
    {
     "name": "stderr",
     "output_type": "stream",
     "text": [
      "C:\\Users\\N394\\Anaconda3\\lib\\site-packages\\sklearn\\ensemble\\forest.py:246: FutureWarning: The default value of n_estimators will change from 10 in version 0.20 to 100 in 0.22.\n",
      "  \"10 in version 0.20 to 100 in 0.22.\", FutureWarning)\n"
     ]
    },
    {
     "name": "stdout",
     "output_type": "stream",
     "text": [
      "[CV]  criterion=mae, max_depth=1, min_samples_leaf=2, min_samples_split=3, total=   0.0s\n",
      "[CV] criterion=mae, max_depth=1, min_samples_leaf=2, min_samples_split=3 \n"
     ]
    },
    {
     "name": "stderr",
     "output_type": "stream",
     "text": [
      "C:\\Users\\N394\\Anaconda3\\lib\\site-packages\\sklearn\\ensemble\\forest.py:246: FutureWarning: The default value of n_estimators will change from 10 in version 0.20 to 100 in 0.22.\n",
      "  \"10 in version 0.20 to 100 in 0.22.\", FutureWarning)\n"
     ]
    },
    {
     "name": "stdout",
     "output_type": "stream",
     "text": [
      "[CV]  criterion=mae, max_depth=1, min_samples_leaf=2, min_samples_split=3, total=   0.0s\n",
      "[CV] criterion=mae, max_depth=1, min_samples_leaf=2, min_samples_split=3 \n"
     ]
    },
    {
     "name": "stderr",
     "output_type": "stream",
     "text": [
      "C:\\Users\\N394\\Anaconda3\\lib\\site-packages\\sklearn\\ensemble\\forest.py:246: FutureWarning: The default value of n_estimators will change from 10 in version 0.20 to 100 in 0.22.\n",
      "  \"10 in version 0.20 to 100 in 0.22.\", FutureWarning)\n"
     ]
    },
    {
     "name": "stdout",
     "output_type": "stream",
     "text": [
      "[CV]  criterion=mae, max_depth=1, min_samples_leaf=2, min_samples_split=3, total=   0.0s\n",
      "[CV] criterion=mae, max_depth=1, min_samples_leaf=2, min_samples_split=3 \n"
     ]
    },
    {
     "name": "stderr",
     "output_type": "stream",
     "text": [
      "C:\\Users\\N394\\Anaconda3\\lib\\site-packages\\sklearn\\ensemble\\forest.py:246: FutureWarning: The default value of n_estimators will change from 10 in version 0.20 to 100 in 0.22.\n",
      "  \"10 in version 0.20 to 100 in 0.22.\", FutureWarning)\n"
     ]
    },
    {
     "name": "stdout",
     "output_type": "stream",
     "text": [
      "[CV]  criterion=mae, max_depth=1, min_samples_leaf=2, min_samples_split=3, total=   0.0s\n",
      "[CV] criterion=mae, max_depth=1, min_samples_leaf=2, min_samples_split=4 \n"
     ]
    },
    {
     "name": "stderr",
     "output_type": "stream",
     "text": [
      "C:\\Users\\N394\\Anaconda3\\lib\\site-packages\\sklearn\\ensemble\\forest.py:246: FutureWarning: The default value of n_estimators will change from 10 in version 0.20 to 100 in 0.22.\n",
      "  \"10 in version 0.20 to 100 in 0.22.\", FutureWarning)\n"
     ]
    },
    {
     "name": "stdout",
     "output_type": "stream",
     "text": [
      "[CV]  criterion=mae, max_depth=1, min_samples_leaf=2, min_samples_split=4, total=   0.0s\n",
      "[CV] criterion=mae, max_depth=1, min_samples_leaf=2, min_samples_split=4 \n"
     ]
    },
    {
     "name": "stderr",
     "output_type": "stream",
     "text": [
      "C:\\Users\\N394\\Anaconda3\\lib\\site-packages\\sklearn\\ensemble\\forest.py:246: FutureWarning: The default value of n_estimators will change from 10 in version 0.20 to 100 in 0.22.\n",
      "  \"10 in version 0.20 to 100 in 0.22.\", FutureWarning)\n"
     ]
    },
    {
     "name": "stdout",
     "output_type": "stream",
     "text": [
      "[CV]  criterion=mae, max_depth=1, min_samples_leaf=2, min_samples_split=4, total=   0.0s\n",
      "[CV] criterion=mae, max_depth=1, min_samples_leaf=2, min_samples_split=4 \n"
     ]
    },
    {
     "name": "stderr",
     "output_type": "stream",
     "text": [
      "C:\\Users\\N394\\Anaconda3\\lib\\site-packages\\sklearn\\ensemble\\forest.py:246: FutureWarning: The default value of n_estimators will change from 10 in version 0.20 to 100 in 0.22.\n",
      "  \"10 in version 0.20 to 100 in 0.22.\", FutureWarning)\n"
     ]
    },
    {
     "name": "stdout",
     "output_type": "stream",
     "text": [
      "[CV]  criterion=mae, max_depth=1, min_samples_leaf=2, min_samples_split=4, total=   0.0s\n",
      "[CV] criterion=mae, max_depth=1, min_samples_leaf=2, min_samples_split=4 \n"
     ]
    },
    {
     "name": "stderr",
     "output_type": "stream",
     "text": [
      "C:\\Users\\N394\\Anaconda3\\lib\\site-packages\\sklearn\\ensemble\\forest.py:246: FutureWarning: The default value of n_estimators will change from 10 in version 0.20 to 100 in 0.22.\n",
      "  \"10 in version 0.20 to 100 in 0.22.\", FutureWarning)\n"
     ]
    },
    {
     "name": "stdout",
     "output_type": "stream",
     "text": [
      "[CV]  criterion=mae, max_depth=1, min_samples_leaf=2, min_samples_split=4, total=   0.0s\n",
      "[CV] criterion=mae, max_depth=1, min_samples_leaf=2, min_samples_split=4 \n"
     ]
    },
    {
     "name": "stderr",
     "output_type": "stream",
     "text": [
      "C:\\Users\\N394\\Anaconda3\\lib\\site-packages\\sklearn\\ensemble\\forest.py:246: FutureWarning: The default value of n_estimators will change from 10 in version 0.20 to 100 in 0.22.\n",
      "  \"10 in version 0.20 to 100 in 0.22.\", FutureWarning)\n"
     ]
    },
    {
     "name": "stdout",
     "output_type": "stream",
     "text": [
      "[CV]  criterion=mae, max_depth=1, min_samples_leaf=2, min_samples_split=4, total=   0.0s\n",
      "[CV] criterion=mae, max_depth=1, min_samples_leaf=3, min_samples_split=2 \n"
     ]
    },
    {
     "name": "stderr",
     "output_type": "stream",
     "text": [
      "C:\\Users\\N394\\Anaconda3\\lib\\site-packages\\sklearn\\ensemble\\forest.py:246: FutureWarning: The default value of n_estimators will change from 10 in version 0.20 to 100 in 0.22.\n",
      "  \"10 in version 0.20 to 100 in 0.22.\", FutureWarning)\n"
     ]
    },
    {
     "name": "stdout",
     "output_type": "stream",
     "text": [
      "[CV]  criterion=mae, max_depth=1, min_samples_leaf=3, min_samples_split=2, total=   0.0s\n",
      "[CV] criterion=mae, max_depth=1, min_samples_leaf=3, min_samples_split=2 \n"
     ]
    },
    {
     "name": "stderr",
     "output_type": "stream",
     "text": [
      "C:\\Users\\N394\\Anaconda3\\lib\\site-packages\\sklearn\\ensemble\\forest.py:246: FutureWarning: The default value of n_estimators will change from 10 in version 0.20 to 100 in 0.22.\n",
      "  \"10 in version 0.20 to 100 in 0.22.\", FutureWarning)\n"
     ]
    },
    {
     "name": "stdout",
     "output_type": "stream",
     "text": [
      "[CV]  criterion=mae, max_depth=1, min_samples_leaf=3, min_samples_split=2, total=   0.0s\n",
      "[CV] criterion=mae, max_depth=1, min_samples_leaf=3, min_samples_split=2 \n"
     ]
    },
    {
     "name": "stderr",
     "output_type": "stream",
     "text": [
      "C:\\Users\\N394\\Anaconda3\\lib\\site-packages\\sklearn\\ensemble\\forest.py:246: FutureWarning: The default value of n_estimators will change from 10 in version 0.20 to 100 in 0.22.\n",
      "  \"10 in version 0.20 to 100 in 0.22.\", FutureWarning)\n"
     ]
    },
    {
     "name": "stdout",
     "output_type": "stream",
     "text": [
      "[CV]  criterion=mae, max_depth=1, min_samples_leaf=3, min_samples_split=2, total=   0.0s\n",
      "[CV] criterion=mae, max_depth=1, min_samples_leaf=3, min_samples_split=2 \n"
     ]
    },
    {
     "name": "stderr",
     "output_type": "stream",
     "text": [
      "C:\\Users\\N394\\Anaconda3\\lib\\site-packages\\sklearn\\ensemble\\forest.py:246: FutureWarning: The default value of n_estimators will change from 10 in version 0.20 to 100 in 0.22.\n",
      "  \"10 in version 0.20 to 100 in 0.22.\", FutureWarning)\n"
     ]
    },
    {
     "name": "stdout",
     "output_type": "stream",
     "text": [
      "[CV]  criterion=mae, max_depth=1, min_samples_leaf=3, min_samples_split=2, total=   0.0s\n",
      "[CV] criterion=mae, max_depth=1, min_samples_leaf=3, min_samples_split=2 \n"
     ]
    },
    {
     "name": "stderr",
     "output_type": "stream",
     "text": [
      "C:\\Users\\N394\\Anaconda3\\lib\\site-packages\\sklearn\\ensemble\\forest.py:246: FutureWarning: The default value of n_estimators will change from 10 in version 0.20 to 100 in 0.22.\n",
      "  \"10 in version 0.20 to 100 in 0.22.\", FutureWarning)\n"
     ]
    },
    {
     "name": "stdout",
     "output_type": "stream",
     "text": [
      "[CV]  criterion=mae, max_depth=1, min_samples_leaf=3, min_samples_split=2, total=   0.0s\n",
      "[CV] criterion=mae, max_depth=1, min_samples_leaf=3, min_samples_split=3 \n"
     ]
    },
    {
     "name": "stderr",
     "output_type": "stream",
     "text": [
      "C:\\Users\\N394\\Anaconda3\\lib\\site-packages\\sklearn\\ensemble\\forest.py:246: FutureWarning: The default value of n_estimators will change from 10 in version 0.20 to 100 in 0.22.\n",
      "  \"10 in version 0.20 to 100 in 0.22.\", FutureWarning)\n"
     ]
    },
    {
     "name": "stdout",
     "output_type": "stream",
     "text": [
      "[CV]  criterion=mae, max_depth=1, min_samples_leaf=3, min_samples_split=3, total=   0.0s\n",
      "[CV] criterion=mae, max_depth=1, min_samples_leaf=3, min_samples_split=3 \n"
     ]
    },
    {
     "name": "stderr",
     "output_type": "stream",
     "text": [
      "C:\\Users\\N394\\Anaconda3\\lib\\site-packages\\sklearn\\ensemble\\forest.py:246: FutureWarning: The default value of n_estimators will change from 10 in version 0.20 to 100 in 0.22.\n",
      "  \"10 in version 0.20 to 100 in 0.22.\", FutureWarning)\n"
     ]
    },
    {
     "name": "stdout",
     "output_type": "stream",
     "text": [
      "[CV]  criterion=mae, max_depth=1, min_samples_leaf=3, min_samples_split=3, total=   0.0s\n",
      "[CV] criterion=mae, max_depth=1, min_samples_leaf=3, min_samples_split=3 \n"
     ]
    },
    {
     "name": "stderr",
     "output_type": "stream",
     "text": [
      "C:\\Users\\N394\\Anaconda3\\lib\\site-packages\\sklearn\\ensemble\\forest.py:246: FutureWarning: The default value of n_estimators will change from 10 in version 0.20 to 100 in 0.22.\n",
      "  \"10 in version 0.20 to 100 in 0.22.\", FutureWarning)\n"
     ]
    },
    {
     "name": "stdout",
     "output_type": "stream",
     "text": [
      "[CV]  criterion=mae, max_depth=1, min_samples_leaf=3, min_samples_split=3, total=   0.0s\n",
      "[CV] criterion=mae, max_depth=1, min_samples_leaf=3, min_samples_split=3 \n"
     ]
    },
    {
     "name": "stderr",
     "output_type": "stream",
     "text": [
      "C:\\Users\\N394\\Anaconda3\\lib\\site-packages\\sklearn\\ensemble\\forest.py:246: FutureWarning: The default value of n_estimators will change from 10 in version 0.20 to 100 in 0.22.\n",
      "  \"10 in version 0.20 to 100 in 0.22.\", FutureWarning)\n"
     ]
    },
    {
     "name": "stdout",
     "output_type": "stream",
     "text": [
      "[CV]  criterion=mae, max_depth=1, min_samples_leaf=3, min_samples_split=3, total=   0.0s\n",
      "[CV] criterion=mae, max_depth=1, min_samples_leaf=3, min_samples_split=3 \n"
     ]
    },
    {
     "name": "stderr",
     "output_type": "stream",
     "text": [
      "C:\\Users\\N394\\Anaconda3\\lib\\site-packages\\sklearn\\ensemble\\forest.py:246: FutureWarning: The default value of n_estimators will change from 10 in version 0.20 to 100 in 0.22.\n",
      "  \"10 in version 0.20 to 100 in 0.22.\", FutureWarning)\n"
     ]
    },
    {
     "name": "stdout",
     "output_type": "stream",
     "text": [
      "[CV]  criterion=mae, max_depth=1, min_samples_leaf=3, min_samples_split=3, total=   0.0s\n",
      "[CV] criterion=mae, max_depth=1, min_samples_leaf=3, min_samples_split=4 \n"
     ]
    },
    {
     "name": "stderr",
     "output_type": "stream",
     "text": [
      "C:\\Users\\N394\\Anaconda3\\lib\\site-packages\\sklearn\\ensemble\\forest.py:246: FutureWarning: The default value of n_estimators will change from 10 in version 0.20 to 100 in 0.22.\n",
      "  \"10 in version 0.20 to 100 in 0.22.\", FutureWarning)\n"
     ]
    },
    {
     "name": "stdout",
     "output_type": "stream",
     "text": [
      "[CV]  criterion=mae, max_depth=1, min_samples_leaf=3, min_samples_split=4, total=   0.0s\n",
      "[CV] criterion=mae, max_depth=1, min_samples_leaf=3, min_samples_split=4 \n"
     ]
    },
    {
     "name": "stderr",
     "output_type": "stream",
     "text": [
      "C:\\Users\\N394\\Anaconda3\\lib\\site-packages\\sklearn\\ensemble\\forest.py:246: FutureWarning: The default value of n_estimators will change from 10 in version 0.20 to 100 in 0.22.\n",
      "  \"10 in version 0.20 to 100 in 0.22.\", FutureWarning)\n"
     ]
    },
    {
     "name": "stdout",
     "output_type": "stream",
     "text": [
      "[CV]  criterion=mae, max_depth=1, min_samples_leaf=3, min_samples_split=4, total=   0.0s\n",
      "[CV] criterion=mae, max_depth=1, min_samples_leaf=3, min_samples_split=4 \n"
     ]
    },
    {
     "name": "stderr",
     "output_type": "stream",
     "text": [
      "C:\\Users\\N394\\Anaconda3\\lib\\site-packages\\sklearn\\ensemble\\forest.py:246: FutureWarning: The default value of n_estimators will change from 10 in version 0.20 to 100 in 0.22.\n",
      "  \"10 in version 0.20 to 100 in 0.22.\", FutureWarning)\n"
     ]
    },
    {
     "name": "stdout",
     "output_type": "stream",
     "text": [
      "[CV]  criterion=mae, max_depth=1, min_samples_leaf=3, min_samples_split=4, total=   0.0s\n",
      "[CV] criterion=mae, max_depth=1, min_samples_leaf=3, min_samples_split=4 \n"
     ]
    },
    {
     "name": "stderr",
     "output_type": "stream",
     "text": [
      "C:\\Users\\N394\\Anaconda3\\lib\\site-packages\\sklearn\\ensemble\\forest.py:246: FutureWarning: The default value of n_estimators will change from 10 in version 0.20 to 100 in 0.22.\n",
      "  \"10 in version 0.20 to 100 in 0.22.\", FutureWarning)\n"
     ]
    },
    {
     "name": "stdout",
     "output_type": "stream",
     "text": [
      "[CV]  criterion=mae, max_depth=1, min_samples_leaf=3, min_samples_split=4, total=   0.0s\n",
      "[CV] criterion=mae, max_depth=1, min_samples_leaf=3, min_samples_split=4 \n"
     ]
    },
    {
     "name": "stderr",
     "output_type": "stream",
     "text": [
      "C:\\Users\\N394\\Anaconda3\\lib\\site-packages\\sklearn\\ensemble\\forest.py:246: FutureWarning: The default value of n_estimators will change from 10 in version 0.20 to 100 in 0.22.\n",
      "  \"10 in version 0.20 to 100 in 0.22.\", FutureWarning)\n"
     ]
    },
    {
     "name": "stdout",
     "output_type": "stream",
     "text": [
      "[CV]  criterion=mae, max_depth=1, min_samples_leaf=3, min_samples_split=4, total=   0.0s\n",
      "[CV] criterion=mae, max_depth=1, min_samples_leaf=4, min_samples_split=2 \n"
     ]
    },
    {
     "name": "stderr",
     "output_type": "stream",
     "text": [
      "C:\\Users\\N394\\Anaconda3\\lib\\site-packages\\sklearn\\ensemble\\forest.py:246: FutureWarning: The default value of n_estimators will change from 10 in version 0.20 to 100 in 0.22.\n",
      "  \"10 in version 0.20 to 100 in 0.22.\", FutureWarning)\n"
     ]
    },
    {
     "name": "stdout",
     "output_type": "stream",
     "text": [
      "[CV]  criterion=mae, max_depth=1, min_samples_leaf=4, min_samples_split=2, total=   0.0s\n",
      "[CV] criterion=mae, max_depth=1, min_samples_leaf=4, min_samples_split=2 \n"
     ]
    },
    {
     "name": "stderr",
     "output_type": "stream",
     "text": [
      "C:\\Users\\N394\\Anaconda3\\lib\\site-packages\\sklearn\\ensemble\\forest.py:246: FutureWarning: The default value of n_estimators will change from 10 in version 0.20 to 100 in 0.22.\n",
      "  \"10 in version 0.20 to 100 in 0.22.\", FutureWarning)\n"
     ]
    },
    {
     "name": "stdout",
     "output_type": "stream",
     "text": [
      "[CV]  criterion=mae, max_depth=1, min_samples_leaf=4, min_samples_split=2, total=   0.0s\n",
      "[CV] criterion=mae, max_depth=1, min_samples_leaf=4, min_samples_split=2 \n"
     ]
    },
    {
     "name": "stderr",
     "output_type": "stream",
     "text": [
      "C:\\Users\\N394\\Anaconda3\\lib\\site-packages\\sklearn\\ensemble\\forest.py:246: FutureWarning: The default value of n_estimators will change from 10 in version 0.20 to 100 in 0.22.\n",
      "  \"10 in version 0.20 to 100 in 0.22.\", FutureWarning)\n"
     ]
    },
    {
     "name": "stdout",
     "output_type": "stream",
     "text": [
      "[CV]  criterion=mae, max_depth=1, min_samples_leaf=4, min_samples_split=2, total=   0.0s\n",
      "[CV] criterion=mae, max_depth=1, min_samples_leaf=4, min_samples_split=2 \n"
     ]
    },
    {
     "name": "stderr",
     "output_type": "stream",
     "text": [
      "C:\\Users\\N394\\Anaconda3\\lib\\site-packages\\sklearn\\ensemble\\forest.py:246: FutureWarning: The default value of n_estimators will change from 10 in version 0.20 to 100 in 0.22.\n",
      "  \"10 in version 0.20 to 100 in 0.22.\", FutureWarning)\n"
     ]
    },
    {
     "name": "stdout",
     "output_type": "stream",
     "text": [
      "[CV]  criterion=mae, max_depth=1, min_samples_leaf=4, min_samples_split=2, total=   0.0s\n",
      "[CV] criterion=mae, max_depth=1, min_samples_leaf=4, min_samples_split=2 \n"
     ]
    },
    {
     "name": "stderr",
     "output_type": "stream",
     "text": [
      "C:\\Users\\N394\\Anaconda3\\lib\\site-packages\\sklearn\\ensemble\\forest.py:246: FutureWarning: The default value of n_estimators will change from 10 in version 0.20 to 100 in 0.22.\n",
      "  \"10 in version 0.20 to 100 in 0.22.\", FutureWarning)\n"
     ]
    },
    {
     "name": "stdout",
     "output_type": "stream",
     "text": [
      "[CV]  criterion=mae, max_depth=1, min_samples_leaf=4, min_samples_split=2, total=   0.0s\n",
      "[CV] criterion=mae, max_depth=1, min_samples_leaf=4, min_samples_split=3 \n"
     ]
    },
    {
     "name": "stderr",
     "output_type": "stream",
     "text": [
      "C:\\Users\\N394\\Anaconda3\\lib\\site-packages\\sklearn\\ensemble\\forest.py:246: FutureWarning: The default value of n_estimators will change from 10 in version 0.20 to 100 in 0.22.\n",
      "  \"10 in version 0.20 to 100 in 0.22.\", FutureWarning)\n"
     ]
    },
    {
     "name": "stdout",
     "output_type": "stream",
     "text": [
      "[CV]  criterion=mae, max_depth=1, min_samples_leaf=4, min_samples_split=3, total=   0.0s\n",
      "[CV] criterion=mae, max_depth=1, min_samples_leaf=4, min_samples_split=3 \n"
     ]
    },
    {
     "name": "stderr",
     "output_type": "stream",
     "text": [
      "C:\\Users\\N394\\Anaconda3\\lib\\site-packages\\sklearn\\ensemble\\forest.py:246: FutureWarning: The default value of n_estimators will change from 10 in version 0.20 to 100 in 0.22.\n",
      "  \"10 in version 0.20 to 100 in 0.22.\", FutureWarning)\n"
     ]
    },
    {
     "name": "stdout",
     "output_type": "stream",
     "text": [
      "[CV]  criterion=mae, max_depth=1, min_samples_leaf=4, min_samples_split=3, total=   0.0s\n",
      "[CV] criterion=mae, max_depth=1, min_samples_leaf=4, min_samples_split=3 \n"
     ]
    },
    {
     "name": "stderr",
     "output_type": "stream",
     "text": [
      "C:\\Users\\N394\\Anaconda3\\lib\\site-packages\\sklearn\\ensemble\\forest.py:246: FutureWarning: The default value of n_estimators will change from 10 in version 0.20 to 100 in 0.22.\n",
      "  \"10 in version 0.20 to 100 in 0.22.\", FutureWarning)\n"
     ]
    },
    {
     "name": "stdout",
     "output_type": "stream",
     "text": [
      "[CV]  criterion=mae, max_depth=1, min_samples_leaf=4, min_samples_split=3, total=   0.0s\n",
      "[CV] criterion=mae, max_depth=1, min_samples_leaf=4, min_samples_split=3 \n"
     ]
    },
    {
     "name": "stderr",
     "output_type": "stream",
     "text": [
      "C:\\Users\\N394\\Anaconda3\\lib\\site-packages\\sklearn\\ensemble\\forest.py:246: FutureWarning: The default value of n_estimators will change from 10 in version 0.20 to 100 in 0.22.\n",
      "  \"10 in version 0.20 to 100 in 0.22.\", FutureWarning)\n"
     ]
    },
    {
     "name": "stdout",
     "output_type": "stream",
     "text": [
      "[CV]  criterion=mae, max_depth=1, min_samples_leaf=4, min_samples_split=3, total=   0.0s\n",
      "[CV] criterion=mae, max_depth=1, min_samples_leaf=4, min_samples_split=3 \n"
     ]
    },
    {
     "name": "stderr",
     "output_type": "stream",
     "text": [
      "C:\\Users\\N394\\Anaconda3\\lib\\site-packages\\sklearn\\ensemble\\forest.py:246: FutureWarning: The default value of n_estimators will change from 10 in version 0.20 to 100 in 0.22.\n",
      "  \"10 in version 0.20 to 100 in 0.22.\", FutureWarning)\n"
     ]
    },
    {
     "name": "stdout",
     "output_type": "stream",
     "text": [
      "[CV]  criterion=mae, max_depth=1, min_samples_leaf=4, min_samples_split=3, total=   0.0s\n",
      "[CV] criterion=mae, max_depth=1, min_samples_leaf=4, min_samples_split=4 \n"
     ]
    },
    {
     "name": "stderr",
     "output_type": "stream",
     "text": [
      "C:\\Users\\N394\\Anaconda3\\lib\\site-packages\\sklearn\\ensemble\\forest.py:246: FutureWarning: The default value of n_estimators will change from 10 in version 0.20 to 100 in 0.22.\n",
      "  \"10 in version 0.20 to 100 in 0.22.\", FutureWarning)\n"
     ]
    },
    {
     "name": "stdout",
     "output_type": "stream",
     "text": [
      "[CV]  criterion=mae, max_depth=1, min_samples_leaf=4, min_samples_split=4, total=   0.0s\n",
      "[CV] criterion=mae, max_depth=1, min_samples_leaf=4, min_samples_split=4 \n"
     ]
    },
    {
     "name": "stderr",
     "output_type": "stream",
     "text": [
      "C:\\Users\\N394\\Anaconda3\\lib\\site-packages\\sklearn\\ensemble\\forest.py:246: FutureWarning: The default value of n_estimators will change from 10 in version 0.20 to 100 in 0.22.\n",
      "  \"10 in version 0.20 to 100 in 0.22.\", FutureWarning)\n"
     ]
    },
    {
     "name": "stdout",
     "output_type": "stream",
     "text": [
      "[CV]  criterion=mae, max_depth=1, min_samples_leaf=4, min_samples_split=4, total=   0.0s\n",
      "[CV] criterion=mae, max_depth=1, min_samples_leaf=4, min_samples_split=4 \n"
     ]
    },
    {
     "name": "stderr",
     "output_type": "stream",
     "text": [
      "C:\\Users\\N394\\Anaconda3\\lib\\site-packages\\sklearn\\ensemble\\forest.py:246: FutureWarning: The default value of n_estimators will change from 10 in version 0.20 to 100 in 0.22.\n",
      "  \"10 in version 0.20 to 100 in 0.22.\", FutureWarning)\n"
     ]
    },
    {
     "name": "stdout",
     "output_type": "stream",
     "text": [
      "[CV]  criterion=mae, max_depth=1, min_samples_leaf=4, min_samples_split=4, total=   0.0s\n",
      "[CV] criterion=mae, max_depth=1, min_samples_leaf=4, min_samples_split=4 \n"
     ]
    },
    {
     "name": "stderr",
     "output_type": "stream",
     "text": [
      "C:\\Users\\N394\\Anaconda3\\lib\\site-packages\\sklearn\\ensemble\\forest.py:246: FutureWarning: The default value of n_estimators will change from 10 in version 0.20 to 100 in 0.22.\n",
      "  \"10 in version 0.20 to 100 in 0.22.\", FutureWarning)\n"
     ]
    },
    {
     "name": "stdout",
     "output_type": "stream",
     "text": [
      "[CV]  criterion=mae, max_depth=1, min_samples_leaf=4, min_samples_split=4, total=   0.0s\n",
      "[CV] criterion=mae, max_depth=1, min_samples_leaf=4, min_samples_split=4 \n"
     ]
    },
    {
     "name": "stderr",
     "output_type": "stream",
     "text": [
      "C:\\Users\\N394\\Anaconda3\\lib\\site-packages\\sklearn\\ensemble\\forest.py:246: FutureWarning: The default value of n_estimators will change from 10 in version 0.20 to 100 in 0.22.\n",
      "  \"10 in version 0.20 to 100 in 0.22.\", FutureWarning)\n"
     ]
    },
    {
     "name": "stdout",
     "output_type": "stream",
     "text": [
      "[CV]  criterion=mae, max_depth=1, min_samples_leaf=4, min_samples_split=4, total=   0.0s\n",
      "[CV] criterion=mae, max_depth=2, min_samples_leaf=2, min_samples_split=2 \n"
     ]
    },
    {
     "name": "stderr",
     "output_type": "stream",
     "text": [
      "C:\\Users\\N394\\Anaconda3\\lib\\site-packages\\sklearn\\ensemble\\forest.py:246: FutureWarning: The default value of n_estimators will change from 10 in version 0.20 to 100 in 0.22.\n",
      "  \"10 in version 0.20 to 100 in 0.22.\", FutureWarning)\n"
     ]
    },
    {
     "name": "stdout",
     "output_type": "stream",
     "text": [
      "[CV]  criterion=mae, max_depth=2, min_samples_leaf=2, min_samples_split=2, total=   0.0s\n",
      "[CV] criterion=mae, max_depth=2, min_samples_leaf=2, min_samples_split=2 \n"
     ]
    },
    {
     "name": "stderr",
     "output_type": "stream",
     "text": [
      "C:\\Users\\N394\\Anaconda3\\lib\\site-packages\\sklearn\\ensemble\\forest.py:246: FutureWarning: The default value of n_estimators will change from 10 in version 0.20 to 100 in 0.22.\n",
      "  \"10 in version 0.20 to 100 in 0.22.\", FutureWarning)\n"
     ]
    },
    {
     "name": "stdout",
     "output_type": "stream",
     "text": [
      "[CV]  criterion=mae, max_depth=2, min_samples_leaf=2, min_samples_split=2, total=   0.0s\n",
      "[CV] criterion=mae, max_depth=2, min_samples_leaf=2, min_samples_split=2 \n"
     ]
    },
    {
     "name": "stderr",
     "output_type": "stream",
     "text": [
      "C:\\Users\\N394\\Anaconda3\\lib\\site-packages\\sklearn\\ensemble\\forest.py:246: FutureWarning: The default value of n_estimators will change from 10 in version 0.20 to 100 in 0.22.\n",
      "  \"10 in version 0.20 to 100 in 0.22.\", FutureWarning)\n"
     ]
    },
    {
     "name": "stdout",
     "output_type": "stream",
     "text": [
      "[CV]  criterion=mae, max_depth=2, min_samples_leaf=2, min_samples_split=2, total=   0.0s\n",
      "[CV] criterion=mae, max_depth=2, min_samples_leaf=2, min_samples_split=2 \n"
     ]
    },
    {
     "name": "stderr",
     "output_type": "stream",
     "text": [
      "C:\\Users\\N394\\Anaconda3\\lib\\site-packages\\sklearn\\ensemble\\forest.py:246: FutureWarning: The default value of n_estimators will change from 10 in version 0.20 to 100 in 0.22.\n",
      "  \"10 in version 0.20 to 100 in 0.22.\", FutureWarning)\n"
     ]
    },
    {
     "name": "stdout",
     "output_type": "stream",
     "text": [
      "[CV]  criterion=mae, max_depth=2, min_samples_leaf=2, min_samples_split=2, total=   0.0s\n",
      "[CV] criterion=mae, max_depth=2, min_samples_leaf=2, min_samples_split=2 \n"
     ]
    },
    {
     "name": "stderr",
     "output_type": "stream",
     "text": [
      "C:\\Users\\N394\\Anaconda3\\lib\\site-packages\\sklearn\\ensemble\\forest.py:246: FutureWarning: The default value of n_estimators will change from 10 in version 0.20 to 100 in 0.22.\n",
      "  \"10 in version 0.20 to 100 in 0.22.\", FutureWarning)\n"
     ]
    },
    {
     "name": "stdout",
     "output_type": "stream",
     "text": [
      "[CV]  criterion=mae, max_depth=2, min_samples_leaf=2, min_samples_split=2, total=   0.0s\n",
      "[CV] criterion=mae, max_depth=2, min_samples_leaf=2, min_samples_split=3 \n"
     ]
    },
    {
     "name": "stderr",
     "output_type": "stream",
     "text": [
      "C:\\Users\\N394\\Anaconda3\\lib\\site-packages\\sklearn\\ensemble\\forest.py:246: FutureWarning: The default value of n_estimators will change from 10 in version 0.20 to 100 in 0.22.\n",
      "  \"10 in version 0.20 to 100 in 0.22.\", FutureWarning)\n"
     ]
    },
    {
     "name": "stdout",
     "output_type": "stream",
     "text": [
      "[CV]  criterion=mae, max_depth=2, min_samples_leaf=2, min_samples_split=3, total=   0.0s\n",
      "[CV] criterion=mae, max_depth=2, min_samples_leaf=2, min_samples_split=3 \n"
     ]
    },
    {
     "name": "stderr",
     "output_type": "stream",
     "text": [
      "C:\\Users\\N394\\Anaconda3\\lib\\site-packages\\sklearn\\ensemble\\forest.py:246: FutureWarning: The default value of n_estimators will change from 10 in version 0.20 to 100 in 0.22.\n",
      "  \"10 in version 0.20 to 100 in 0.22.\", FutureWarning)\n"
     ]
    },
    {
     "name": "stdout",
     "output_type": "stream",
     "text": [
      "[CV]  criterion=mae, max_depth=2, min_samples_leaf=2, min_samples_split=3, total=   0.0s\n",
      "[CV] criterion=mae, max_depth=2, min_samples_leaf=2, min_samples_split=3 \n"
     ]
    },
    {
     "name": "stderr",
     "output_type": "stream",
     "text": [
      "C:\\Users\\N394\\Anaconda3\\lib\\site-packages\\sklearn\\ensemble\\forest.py:246: FutureWarning: The default value of n_estimators will change from 10 in version 0.20 to 100 in 0.22.\n",
      "  \"10 in version 0.20 to 100 in 0.22.\", FutureWarning)\n"
     ]
    },
    {
     "name": "stdout",
     "output_type": "stream",
     "text": [
      "[CV]  criterion=mae, max_depth=2, min_samples_leaf=2, min_samples_split=3, total=   0.0s\n",
      "[CV] criterion=mae, max_depth=2, min_samples_leaf=2, min_samples_split=3 \n"
     ]
    },
    {
     "name": "stderr",
     "output_type": "stream",
     "text": [
      "C:\\Users\\N394\\Anaconda3\\lib\\site-packages\\sklearn\\ensemble\\forest.py:246: FutureWarning: The default value of n_estimators will change from 10 in version 0.20 to 100 in 0.22.\n",
      "  \"10 in version 0.20 to 100 in 0.22.\", FutureWarning)\n"
     ]
    },
    {
     "name": "stdout",
     "output_type": "stream",
     "text": [
      "[CV]  criterion=mae, max_depth=2, min_samples_leaf=2, min_samples_split=3, total=   0.0s\n",
      "[CV] criterion=mae, max_depth=2, min_samples_leaf=2, min_samples_split=3 \n"
     ]
    },
    {
     "name": "stderr",
     "output_type": "stream",
     "text": [
      "C:\\Users\\N394\\Anaconda3\\lib\\site-packages\\sklearn\\ensemble\\forest.py:246: FutureWarning: The default value of n_estimators will change from 10 in version 0.20 to 100 in 0.22.\n",
      "  \"10 in version 0.20 to 100 in 0.22.\", FutureWarning)\n"
     ]
    },
    {
     "name": "stdout",
     "output_type": "stream",
     "text": [
      "[CV]  criterion=mae, max_depth=2, min_samples_leaf=2, min_samples_split=3, total=   0.0s\n",
      "[CV] criterion=mae, max_depth=2, min_samples_leaf=2, min_samples_split=4 \n"
     ]
    },
    {
     "name": "stderr",
     "output_type": "stream",
     "text": [
      "C:\\Users\\N394\\Anaconda3\\lib\\site-packages\\sklearn\\ensemble\\forest.py:246: FutureWarning: The default value of n_estimators will change from 10 in version 0.20 to 100 in 0.22.\n",
      "  \"10 in version 0.20 to 100 in 0.22.\", FutureWarning)\n"
     ]
    },
    {
     "name": "stdout",
     "output_type": "stream",
     "text": [
      "[CV]  criterion=mae, max_depth=2, min_samples_leaf=2, min_samples_split=4, total=   0.0s\n",
      "[CV] criterion=mae, max_depth=2, min_samples_leaf=2, min_samples_split=4 \n"
     ]
    },
    {
     "name": "stderr",
     "output_type": "stream",
     "text": [
      "C:\\Users\\N394\\Anaconda3\\lib\\site-packages\\sklearn\\ensemble\\forest.py:246: FutureWarning: The default value of n_estimators will change from 10 in version 0.20 to 100 in 0.22.\n",
      "  \"10 in version 0.20 to 100 in 0.22.\", FutureWarning)\n"
     ]
    },
    {
     "name": "stdout",
     "output_type": "stream",
     "text": [
      "[CV]  criterion=mae, max_depth=2, min_samples_leaf=2, min_samples_split=4, total=   0.0s\n",
      "[CV] criterion=mae, max_depth=2, min_samples_leaf=2, min_samples_split=4 \n"
     ]
    },
    {
     "name": "stderr",
     "output_type": "stream",
     "text": [
      "C:\\Users\\N394\\Anaconda3\\lib\\site-packages\\sklearn\\ensemble\\forest.py:246: FutureWarning: The default value of n_estimators will change from 10 in version 0.20 to 100 in 0.22.\n",
      "  \"10 in version 0.20 to 100 in 0.22.\", FutureWarning)\n"
     ]
    },
    {
     "name": "stdout",
     "output_type": "stream",
     "text": [
      "[CV]  criterion=mae, max_depth=2, min_samples_leaf=2, min_samples_split=4, total=   0.0s\n",
      "[CV] criterion=mae, max_depth=2, min_samples_leaf=2, min_samples_split=4 \n"
     ]
    },
    {
     "name": "stderr",
     "output_type": "stream",
     "text": [
      "C:\\Users\\N394\\Anaconda3\\lib\\site-packages\\sklearn\\ensemble\\forest.py:246: FutureWarning: The default value of n_estimators will change from 10 in version 0.20 to 100 in 0.22.\n",
      "  \"10 in version 0.20 to 100 in 0.22.\", FutureWarning)\n"
     ]
    },
    {
     "name": "stdout",
     "output_type": "stream",
     "text": [
      "[CV]  criterion=mae, max_depth=2, min_samples_leaf=2, min_samples_split=4, total=   0.0s\n",
      "[CV] criterion=mae, max_depth=2, min_samples_leaf=2, min_samples_split=4 \n"
     ]
    },
    {
     "name": "stderr",
     "output_type": "stream",
     "text": [
      "C:\\Users\\N394\\Anaconda3\\lib\\site-packages\\sklearn\\ensemble\\forest.py:246: FutureWarning: The default value of n_estimators will change from 10 in version 0.20 to 100 in 0.22.\n",
      "  \"10 in version 0.20 to 100 in 0.22.\", FutureWarning)\n"
     ]
    },
    {
     "name": "stdout",
     "output_type": "stream",
     "text": [
      "[CV]  criterion=mae, max_depth=2, min_samples_leaf=2, min_samples_split=4, total=   0.0s\n",
      "[CV] criterion=mae, max_depth=2, min_samples_leaf=3, min_samples_split=2 \n"
     ]
    },
    {
     "name": "stderr",
     "output_type": "stream",
     "text": [
      "C:\\Users\\N394\\Anaconda3\\lib\\site-packages\\sklearn\\ensemble\\forest.py:246: FutureWarning: The default value of n_estimators will change from 10 in version 0.20 to 100 in 0.22.\n",
      "  \"10 in version 0.20 to 100 in 0.22.\", FutureWarning)\n"
     ]
    },
    {
     "name": "stdout",
     "output_type": "stream",
     "text": [
      "[CV]  criterion=mae, max_depth=2, min_samples_leaf=3, min_samples_split=2, total=   0.0s\n",
      "[CV] criterion=mae, max_depth=2, min_samples_leaf=3, min_samples_split=2 \n"
     ]
    },
    {
     "name": "stderr",
     "output_type": "stream",
     "text": [
      "C:\\Users\\N394\\Anaconda3\\lib\\site-packages\\sklearn\\ensemble\\forest.py:246: FutureWarning: The default value of n_estimators will change from 10 in version 0.20 to 100 in 0.22.\n",
      "  \"10 in version 0.20 to 100 in 0.22.\", FutureWarning)\n"
     ]
    },
    {
     "name": "stdout",
     "output_type": "stream",
     "text": [
      "[CV]  criterion=mae, max_depth=2, min_samples_leaf=3, min_samples_split=2, total=   0.0s\n",
      "[CV] criterion=mae, max_depth=2, min_samples_leaf=3, min_samples_split=2 \n"
     ]
    },
    {
     "name": "stderr",
     "output_type": "stream",
     "text": [
      "C:\\Users\\N394\\Anaconda3\\lib\\site-packages\\sklearn\\ensemble\\forest.py:246: FutureWarning: The default value of n_estimators will change from 10 in version 0.20 to 100 in 0.22.\n",
      "  \"10 in version 0.20 to 100 in 0.22.\", FutureWarning)\n"
     ]
    },
    {
     "name": "stdout",
     "output_type": "stream",
     "text": [
      "[CV]  criterion=mae, max_depth=2, min_samples_leaf=3, min_samples_split=2, total=   0.0s\n",
      "[CV] criterion=mae, max_depth=2, min_samples_leaf=3, min_samples_split=2 \n"
     ]
    },
    {
     "name": "stderr",
     "output_type": "stream",
     "text": [
      "C:\\Users\\N394\\Anaconda3\\lib\\site-packages\\sklearn\\ensemble\\forest.py:246: FutureWarning: The default value of n_estimators will change from 10 in version 0.20 to 100 in 0.22.\n",
      "  \"10 in version 0.20 to 100 in 0.22.\", FutureWarning)\n"
     ]
    },
    {
     "name": "stdout",
     "output_type": "stream",
     "text": [
      "[CV]  criterion=mae, max_depth=2, min_samples_leaf=3, min_samples_split=2, total=   0.0s\n",
      "[CV] criterion=mae, max_depth=2, min_samples_leaf=3, min_samples_split=2 \n"
     ]
    },
    {
     "name": "stderr",
     "output_type": "stream",
     "text": [
      "C:\\Users\\N394\\Anaconda3\\lib\\site-packages\\sklearn\\ensemble\\forest.py:246: FutureWarning: The default value of n_estimators will change from 10 in version 0.20 to 100 in 0.22.\n",
      "  \"10 in version 0.20 to 100 in 0.22.\", FutureWarning)\n"
     ]
    },
    {
     "name": "stdout",
     "output_type": "stream",
     "text": [
      "[CV]  criterion=mae, max_depth=2, min_samples_leaf=3, min_samples_split=2, total=   0.0s\n",
      "[CV] criterion=mae, max_depth=2, min_samples_leaf=3, min_samples_split=3 \n"
     ]
    },
    {
     "name": "stderr",
     "output_type": "stream",
     "text": [
      "C:\\Users\\N394\\Anaconda3\\lib\\site-packages\\sklearn\\ensemble\\forest.py:246: FutureWarning: The default value of n_estimators will change from 10 in version 0.20 to 100 in 0.22.\n",
      "  \"10 in version 0.20 to 100 in 0.22.\", FutureWarning)\n"
     ]
    },
    {
     "name": "stdout",
     "output_type": "stream",
     "text": [
      "[CV]  criterion=mae, max_depth=2, min_samples_leaf=3, min_samples_split=3, total=   0.0s\n",
      "[CV] criterion=mae, max_depth=2, min_samples_leaf=3, min_samples_split=3 \n"
     ]
    },
    {
     "name": "stderr",
     "output_type": "stream",
     "text": [
      "C:\\Users\\N394\\Anaconda3\\lib\\site-packages\\sklearn\\ensemble\\forest.py:246: FutureWarning: The default value of n_estimators will change from 10 in version 0.20 to 100 in 0.22.\n",
      "  \"10 in version 0.20 to 100 in 0.22.\", FutureWarning)\n"
     ]
    },
    {
     "name": "stdout",
     "output_type": "stream",
     "text": [
      "[CV]  criterion=mae, max_depth=2, min_samples_leaf=3, min_samples_split=3, total=   0.0s\n",
      "[CV] criterion=mae, max_depth=2, min_samples_leaf=3, min_samples_split=3 \n"
     ]
    },
    {
     "name": "stderr",
     "output_type": "stream",
     "text": [
      "C:\\Users\\N394\\Anaconda3\\lib\\site-packages\\sklearn\\ensemble\\forest.py:246: FutureWarning: The default value of n_estimators will change from 10 in version 0.20 to 100 in 0.22.\n",
      "  \"10 in version 0.20 to 100 in 0.22.\", FutureWarning)\n"
     ]
    },
    {
     "name": "stdout",
     "output_type": "stream",
     "text": [
      "[CV]  criterion=mae, max_depth=2, min_samples_leaf=3, min_samples_split=3, total=   0.0s\n",
      "[CV] criterion=mae, max_depth=2, min_samples_leaf=3, min_samples_split=3 \n"
     ]
    },
    {
     "name": "stderr",
     "output_type": "stream",
     "text": [
      "C:\\Users\\N394\\Anaconda3\\lib\\site-packages\\sklearn\\ensemble\\forest.py:246: FutureWarning: The default value of n_estimators will change from 10 in version 0.20 to 100 in 0.22.\n",
      "  \"10 in version 0.20 to 100 in 0.22.\", FutureWarning)\n"
     ]
    },
    {
     "name": "stdout",
     "output_type": "stream",
     "text": [
      "[CV]  criterion=mae, max_depth=2, min_samples_leaf=3, min_samples_split=3, total=   0.0s\n",
      "[CV] criterion=mae, max_depth=2, min_samples_leaf=3, min_samples_split=3 \n"
     ]
    },
    {
     "name": "stderr",
     "output_type": "stream",
     "text": [
      "C:\\Users\\N394\\Anaconda3\\lib\\site-packages\\sklearn\\ensemble\\forest.py:246: FutureWarning: The default value of n_estimators will change from 10 in version 0.20 to 100 in 0.22.\n",
      "  \"10 in version 0.20 to 100 in 0.22.\", FutureWarning)\n"
     ]
    },
    {
     "name": "stdout",
     "output_type": "stream",
     "text": [
      "[CV]  criterion=mae, max_depth=2, min_samples_leaf=3, min_samples_split=3, total=   0.0s\n",
      "[CV] criterion=mae, max_depth=2, min_samples_leaf=3, min_samples_split=4 \n"
     ]
    },
    {
     "name": "stderr",
     "output_type": "stream",
     "text": [
      "C:\\Users\\N394\\Anaconda3\\lib\\site-packages\\sklearn\\ensemble\\forest.py:246: FutureWarning: The default value of n_estimators will change from 10 in version 0.20 to 100 in 0.22.\n",
      "  \"10 in version 0.20 to 100 in 0.22.\", FutureWarning)\n"
     ]
    },
    {
     "name": "stdout",
     "output_type": "stream",
     "text": [
      "[CV]  criterion=mae, max_depth=2, min_samples_leaf=3, min_samples_split=4, total=   0.0s\n",
      "[CV] criterion=mae, max_depth=2, min_samples_leaf=3, min_samples_split=4 \n"
     ]
    },
    {
     "name": "stderr",
     "output_type": "stream",
     "text": [
      "C:\\Users\\N394\\Anaconda3\\lib\\site-packages\\sklearn\\ensemble\\forest.py:246: FutureWarning: The default value of n_estimators will change from 10 in version 0.20 to 100 in 0.22.\n",
      "  \"10 in version 0.20 to 100 in 0.22.\", FutureWarning)\n"
     ]
    },
    {
     "name": "stdout",
     "output_type": "stream",
     "text": [
      "[CV]  criterion=mae, max_depth=2, min_samples_leaf=3, min_samples_split=4, total=   0.0s\n",
      "[CV] criterion=mae, max_depth=2, min_samples_leaf=3, min_samples_split=4 \n"
     ]
    },
    {
     "name": "stderr",
     "output_type": "stream",
     "text": [
      "C:\\Users\\N394\\Anaconda3\\lib\\site-packages\\sklearn\\ensemble\\forest.py:246: FutureWarning: The default value of n_estimators will change from 10 in version 0.20 to 100 in 0.22.\n",
      "  \"10 in version 0.20 to 100 in 0.22.\", FutureWarning)\n"
     ]
    },
    {
     "name": "stdout",
     "output_type": "stream",
     "text": [
      "[CV]  criterion=mae, max_depth=2, min_samples_leaf=3, min_samples_split=4, total=   0.0s\n",
      "[CV] criterion=mae, max_depth=2, min_samples_leaf=3, min_samples_split=4 \n"
     ]
    },
    {
     "name": "stderr",
     "output_type": "stream",
     "text": [
      "C:\\Users\\N394\\Anaconda3\\lib\\site-packages\\sklearn\\ensemble\\forest.py:246: FutureWarning: The default value of n_estimators will change from 10 in version 0.20 to 100 in 0.22.\n",
      "  \"10 in version 0.20 to 100 in 0.22.\", FutureWarning)\n"
     ]
    },
    {
     "name": "stdout",
     "output_type": "stream",
     "text": [
      "[CV]  criterion=mae, max_depth=2, min_samples_leaf=3, min_samples_split=4, total=   0.0s\n",
      "[CV] criterion=mae, max_depth=2, min_samples_leaf=3, min_samples_split=4 \n"
     ]
    },
    {
     "name": "stderr",
     "output_type": "stream",
     "text": [
      "C:\\Users\\N394\\Anaconda3\\lib\\site-packages\\sklearn\\ensemble\\forest.py:246: FutureWarning: The default value of n_estimators will change from 10 in version 0.20 to 100 in 0.22.\n",
      "  \"10 in version 0.20 to 100 in 0.22.\", FutureWarning)\n"
     ]
    },
    {
     "name": "stdout",
     "output_type": "stream",
     "text": [
      "[CV]  criterion=mae, max_depth=2, min_samples_leaf=3, min_samples_split=4, total=   0.0s\n",
      "[CV] criterion=mae, max_depth=2, min_samples_leaf=4, min_samples_split=2 \n"
     ]
    },
    {
     "name": "stderr",
     "output_type": "stream",
     "text": [
      "C:\\Users\\N394\\Anaconda3\\lib\\site-packages\\sklearn\\ensemble\\forest.py:246: FutureWarning: The default value of n_estimators will change from 10 in version 0.20 to 100 in 0.22.\n",
      "  \"10 in version 0.20 to 100 in 0.22.\", FutureWarning)\n"
     ]
    },
    {
     "name": "stdout",
     "output_type": "stream",
     "text": [
      "[CV]  criterion=mae, max_depth=2, min_samples_leaf=4, min_samples_split=2, total=   0.0s\n",
      "[CV] criterion=mae, max_depth=2, min_samples_leaf=4, min_samples_split=2 \n"
     ]
    },
    {
     "name": "stderr",
     "output_type": "stream",
     "text": [
      "C:\\Users\\N394\\Anaconda3\\lib\\site-packages\\sklearn\\ensemble\\forest.py:246: FutureWarning: The default value of n_estimators will change from 10 in version 0.20 to 100 in 0.22.\n",
      "  \"10 in version 0.20 to 100 in 0.22.\", FutureWarning)\n"
     ]
    },
    {
     "name": "stdout",
     "output_type": "stream",
     "text": [
      "[CV]  criterion=mae, max_depth=2, min_samples_leaf=4, min_samples_split=2, total=   0.0s\n",
      "[CV] criterion=mae, max_depth=2, min_samples_leaf=4, min_samples_split=2 \n"
     ]
    },
    {
     "name": "stderr",
     "output_type": "stream",
     "text": [
      "C:\\Users\\N394\\Anaconda3\\lib\\site-packages\\sklearn\\ensemble\\forest.py:246: FutureWarning: The default value of n_estimators will change from 10 in version 0.20 to 100 in 0.22.\n",
      "  \"10 in version 0.20 to 100 in 0.22.\", FutureWarning)\n"
     ]
    },
    {
     "name": "stdout",
     "output_type": "stream",
     "text": [
      "[CV]  criterion=mae, max_depth=2, min_samples_leaf=4, min_samples_split=2, total=   0.0s\n",
      "[CV] criterion=mae, max_depth=2, min_samples_leaf=4, min_samples_split=2 \n"
     ]
    },
    {
     "name": "stderr",
     "output_type": "stream",
     "text": [
      "C:\\Users\\N394\\Anaconda3\\lib\\site-packages\\sklearn\\ensemble\\forest.py:246: FutureWarning: The default value of n_estimators will change from 10 in version 0.20 to 100 in 0.22.\n",
      "  \"10 in version 0.20 to 100 in 0.22.\", FutureWarning)\n"
     ]
    },
    {
     "name": "stdout",
     "output_type": "stream",
     "text": [
      "[CV]  criterion=mae, max_depth=2, min_samples_leaf=4, min_samples_split=2, total=   0.0s\n",
      "[CV] criterion=mae, max_depth=2, min_samples_leaf=4, min_samples_split=2 \n"
     ]
    },
    {
     "name": "stderr",
     "output_type": "stream",
     "text": [
      "C:\\Users\\N394\\Anaconda3\\lib\\site-packages\\sklearn\\ensemble\\forest.py:246: FutureWarning: The default value of n_estimators will change from 10 in version 0.20 to 100 in 0.22.\n",
      "  \"10 in version 0.20 to 100 in 0.22.\", FutureWarning)\n"
     ]
    },
    {
     "name": "stdout",
     "output_type": "stream",
     "text": [
      "[CV]  criterion=mae, max_depth=2, min_samples_leaf=4, min_samples_split=2, total=   0.0s\n",
      "[CV] criterion=mae, max_depth=2, min_samples_leaf=4, min_samples_split=3 \n"
     ]
    },
    {
     "name": "stderr",
     "output_type": "stream",
     "text": [
      "C:\\Users\\N394\\Anaconda3\\lib\\site-packages\\sklearn\\ensemble\\forest.py:246: FutureWarning: The default value of n_estimators will change from 10 in version 0.20 to 100 in 0.22.\n",
      "  \"10 in version 0.20 to 100 in 0.22.\", FutureWarning)\n"
     ]
    },
    {
     "name": "stdout",
     "output_type": "stream",
     "text": [
      "[CV]  criterion=mae, max_depth=2, min_samples_leaf=4, min_samples_split=3, total=   0.0s\n",
      "[CV] criterion=mae, max_depth=2, min_samples_leaf=4, min_samples_split=3 \n"
     ]
    },
    {
     "name": "stderr",
     "output_type": "stream",
     "text": [
      "C:\\Users\\N394\\Anaconda3\\lib\\site-packages\\sklearn\\ensemble\\forest.py:246: FutureWarning: The default value of n_estimators will change from 10 in version 0.20 to 100 in 0.22.\n",
      "  \"10 in version 0.20 to 100 in 0.22.\", FutureWarning)\n"
     ]
    },
    {
     "name": "stdout",
     "output_type": "stream",
     "text": [
      "[CV]  criterion=mae, max_depth=2, min_samples_leaf=4, min_samples_split=3, total=   0.0s\n",
      "[CV] criterion=mae, max_depth=2, min_samples_leaf=4, min_samples_split=3 \n"
     ]
    },
    {
     "name": "stderr",
     "output_type": "stream",
     "text": [
      "C:\\Users\\N394\\Anaconda3\\lib\\site-packages\\sklearn\\ensemble\\forest.py:246: FutureWarning: The default value of n_estimators will change from 10 in version 0.20 to 100 in 0.22.\n",
      "  \"10 in version 0.20 to 100 in 0.22.\", FutureWarning)\n"
     ]
    },
    {
     "name": "stdout",
     "output_type": "stream",
     "text": [
      "[CV]  criterion=mae, max_depth=2, min_samples_leaf=4, min_samples_split=3, total=   0.0s\n",
      "[CV] criterion=mae, max_depth=2, min_samples_leaf=4, min_samples_split=3 \n"
     ]
    },
    {
     "name": "stderr",
     "output_type": "stream",
     "text": [
      "C:\\Users\\N394\\Anaconda3\\lib\\site-packages\\sklearn\\ensemble\\forest.py:246: FutureWarning: The default value of n_estimators will change from 10 in version 0.20 to 100 in 0.22.\n",
      "  \"10 in version 0.20 to 100 in 0.22.\", FutureWarning)\n"
     ]
    },
    {
     "name": "stdout",
     "output_type": "stream",
     "text": [
      "[CV]  criterion=mae, max_depth=2, min_samples_leaf=4, min_samples_split=3, total=   0.0s\n",
      "[CV] criterion=mae, max_depth=2, min_samples_leaf=4, min_samples_split=3 \n"
     ]
    },
    {
     "name": "stderr",
     "output_type": "stream",
     "text": [
      "C:\\Users\\N394\\Anaconda3\\lib\\site-packages\\sklearn\\ensemble\\forest.py:246: FutureWarning: The default value of n_estimators will change from 10 in version 0.20 to 100 in 0.22.\n",
      "  \"10 in version 0.20 to 100 in 0.22.\", FutureWarning)\n"
     ]
    },
    {
     "name": "stdout",
     "output_type": "stream",
     "text": [
      "[CV]  criterion=mae, max_depth=2, min_samples_leaf=4, min_samples_split=3, total=   0.0s\n",
      "[CV] criterion=mae, max_depth=2, min_samples_leaf=4, min_samples_split=4 \n"
     ]
    },
    {
     "name": "stderr",
     "output_type": "stream",
     "text": [
      "C:\\Users\\N394\\Anaconda3\\lib\\site-packages\\sklearn\\ensemble\\forest.py:246: FutureWarning: The default value of n_estimators will change from 10 in version 0.20 to 100 in 0.22.\n",
      "  \"10 in version 0.20 to 100 in 0.22.\", FutureWarning)\n"
     ]
    },
    {
     "name": "stdout",
     "output_type": "stream",
     "text": [
      "[CV]  criterion=mae, max_depth=2, min_samples_leaf=4, min_samples_split=4, total=   0.0s\n",
      "[CV] criterion=mae, max_depth=2, min_samples_leaf=4, min_samples_split=4 \n"
     ]
    },
    {
     "name": "stderr",
     "output_type": "stream",
     "text": [
      "C:\\Users\\N394\\Anaconda3\\lib\\site-packages\\sklearn\\ensemble\\forest.py:246: FutureWarning: The default value of n_estimators will change from 10 in version 0.20 to 100 in 0.22.\n",
      "  \"10 in version 0.20 to 100 in 0.22.\", FutureWarning)\n"
     ]
    },
    {
     "name": "stdout",
     "output_type": "stream",
     "text": [
      "[CV]  criterion=mae, max_depth=2, min_samples_leaf=4, min_samples_split=4, total=   0.0s\n",
      "[CV] criterion=mae, max_depth=2, min_samples_leaf=4, min_samples_split=4 \n"
     ]
    },
    {
     "name": "stderr",
     "output_type": "stream",
     "text": [
      "C:\\Users\\N394\\Anaconda3\\lib\\site-packages\\sklearn\\ensemble\\forest.py:246: FutureWarning: The default value of n_estimators will change from 10 in version 0.20 to 100 in 0.22.\n",
      "  \"10 in version 0.20 to 100 in 0.22.\", FutureWarning)\n"
     ]
    },
    {
     "name": "stdout",
     "output_type": "stream",
     "text": [
      "[CV]  criterion=mae, max_depth=2, min_samples_leaf=4, min_samples_split=4, total=   0.0s\n",
      "[CV] criterion=mae, max_depth=2, min_samples_leaf=4, min_samples_split=4 \n"
     ]
    },
    {
     "name": "stderr",
     "output_type": "stream",
     "text": [
      "C:\\Users\\N394\\Anaconda3\\lib\\site-packages\\sklearn\\ensemble\\forest.py:246: FutureWarning: The default value of n_estimators will change from 10 in version 0.20 to 100 in 0.22.\n",
      "  \"10 in version 0.20 to 100 in 0.22.\", FutureWarning)\n"
     ]
    },
    {
     "name": "stdout",
     "output_type": "stream",
     "text": [
      "[CV]  criterion=mae, max_depth=2, min_samples_leaf=4, min_samples_split=4, total=   0.0s\n",
      "[CV] criterion=mae, max_depth=2, min_samples_leaf=4, min_samples_split=4 \n"
     ]
    },
    {
     "name": "stderr",
     "output_type": "stream",
     "text": [
      "C:\\Users\\N394\\Anaconda3\\lib\\site-packages\\sklearn\\ensemble\\forest.py:246: FutureWarning: The default value of n_estimators will change from 10 in version 0.20 to 100 in 0.22.\n",
      "  \"10 in version 0.20 to 100 in 0.22.\", FutureWarning)\n"
     ]
    },
    {
     "name": "stdout",
     "output_type": "stream",
     "text": [
      "[CV]  criterion=mae, max_depth=2, min_samples_leaf=4, min_samples_split=4, total=   0.0s\n",
      "[CV] criterion=mae, max_depth=3, min_samples_leaf=2, min_samples_split=2 \n"
     ]
    },
    {
     "name": "stderr",
     "output_type": "stream",
     "text": [
      "C:\\Users\\N394\\Anaconda3\\lib\\site-packages\\sklearn\\ensemble\\forest.py:246: FutureWarning: The default value of n_estimators will change from 10 in version 0.20 to 100 in 0.22.\n",
      "  \"10 in version 0.20 to 100 in 0.22.\", FutureWarning)\n"
     ]
    },
    {
     "name": "stdout",
     "output_type": "stream",
     "text": [
      "[CV]  criterion=mae, max_depth=3, min_samples_leaf=2, min_samples_split=2, total=   0.0s\n",
      "[CV] criterion=mae, max_depth=3, min_samples_leaf=2, min_samples_split=2 \n"
     ]
    },
    {
     "name": "stderr",
     "output_type": "stream",
     "text": [
      "C:\\Users\\N394\\Anaconda3\\lib\\site-packages\\sklearn\\ensemble\\forest.py:246: FutureWarning: The default value of n_estimators will change from 10 in version 0.20 to 100 in 0.22.\n",
      "  \"10 in version 0.20 to 100 in 0.22.\", FutureWarning)\n"
     ]
    },
    {
     "name": "stdout",
     "output_type": "stream",
     "text": [
      "[CV]  criterion=mae, max_depth=3, min_samples_leaf=2, min_samples_split=2, total=   0.0s\n",
      "[CV] criterion=mae, max_depth=3, min_samples_leaf=2, min_samples_split=2 \n"
     ]
    },
    {
     "name": "stderr",
     "output_type": "stream",
     "text": [
      "C:\\Users\\N394\\Anaconda3\\lib\\site-packages\\sklearn\\ensemble\\forest.py:246: FutureWarning: The default value of n_estimators will change from 10 in version 0.20 to 100 in 0.22.\n",
      "  \"10 in version 0.20 to 100 in 0.22.\", FutureWarning)\n"
     ]
    },
    {
     "name": "stdout",
     "output_type": "stream",
     "text": [
      "[CV]  criterion=mae, max_depth=3, min_samples_leaf=2, min_samples_split=2, total=   0.0s\n",
      "[CV] criterion=mae, max_depth=3, min_samples_leaf=2, min_samples_split=2 \n"
     ]
    },
    {
     "name": "stderr",
     "output_type": "stream",
     "text": [
      "C:\\Users\\N394\\Anaconda3\\lib\\site-packages\\sklearn\\ensemble\\forest.py:246: FutureWarning: The default value of n_estimators will change from 10 in version 0.20 to 100 in 0.22.\n",
      "  \"10 in version 0.20 to 100 in 0.22.\", FutureWarning)\n"
     ]
    },
    {
     "name": "stdout",
     "output_type": "stream",
     "text": [
      "[CV]  criterion=mae, max_depth=3, min_samples_leaf=2, min_samples_split=2, total=   0.0s\n",
      "[CV] criterion=mae, max_depth=3, min_samples_leaf=2, min_samples_split=2 \n"
     ]
    },
    {
     "name": "stderr",
     "output_type": "stream",
     "text": [
      "C:\\Users\\N394\\Anaconda3\\lib\\site-packages\\sklearn\\ensemble\\forest.py:246: FutureWarning: The default value of n_estimators will change from 10 in version 0.20 to 100 in 0.22.\n",
      "  \"10 in version 0.20 to 100 in 0.22.\", FutureWarning)\n"
     ]
    },
    {
     "name": "stdout",
     "output_type": "stream",
     "text": [
      "[CV]  criterion=mae, max_depth=3, min_samples_leaf=2, min_samples_split=2, total=   0.0s\n",
      "[CV] criterion=mae, max_depth=3, min_samples_leaf=2, min_samples_split=3 \n"
     ]
    },
    {
     "name": "stderr",
     "output_type": "stream",
     "text": [
      "C:\\Users\\N394\\Anaconda3\\lib\\site-packages\\sklearn\\ensemble\\forest.py:246: FutureWarning: The default value of n_estimators will change from 10 in version 0.20 to 100 in 0.22.\n",
      "  \"10 in version 0.20 to 100 in 0.22.\", FutureWarning)\n"
     ]
    },
    {
     "name": "stdout",
     "output_type": "stream",
     "text": [
      "[CV]  criterion=mae, max_depth=3, min_samples_leaf=2, min_samples_split=3, total=   0.0s\n",
      "[CV] criterion=mae, max_depth=3, min_samples_leaf=2, min_samples_split=3 \n"
     ]
    },
    {
     "name": "stderr",
     "output_type": "stream",
     "text": [
      "C:\\Users\\N394\\Anaconda3\\lib\\site-packages\\sklearn\\ensemble\\forest.py:246: FutureWarning: The default value of n_estimators will change from 10 in version 0.20 to 100 in 0.22.\n",
      "  \"10 in version 0.20 to 100 in 0.22.\", FutureWarning)\n"
     ]
    },
    {
     "name": "stdout",
     "output_type": "stream",
     "text": [
      "[CV]  criterion=mae, max_depth=3, min_samples_leaf=2, min_samples_split=3, total=   0.0s\n",
      "[CV] criterion=mae, max_depth=3, min_samples_leaf=2, min_samples_split=3 \n"
     ]
    },
    {
     "name": "stderr",
     "output_type": "stream",
     "text": [
      "C:\\Users\\N394\\Anaconda3\\lib\\site-packages\\sklearn\\ensemble\\forest.py:246: FutureWarning: The default value of n_estimators will change from 10 in version 0.20 to 100 in 0.22.\n",
      "  \"10 in version 0.20 to 100 in 0.22.\", FutureWarning)\n"
     ]
    },
    {
     "name": "stdout",
     "output_type": "stream",
     "text": [
      "[CV]  criterion=mae, max_depth=3, min_samples_leaf=2, min_samples_split=3, total=   0.0s\n",
      "[CV] criterion=mae, max_depth=3, min_samples_leaf=2, min_samples_split=3 \n"
     ]
    },
    {
     "name": "stderr",
     "output_type": "stream",
     "text": [
      "C:\\Users\\N394\\Anaconda3\\lib\\site-packages\\sklearn\\ensemble\\forest.py:246: FutureWarning: The default value of n_estimators will change from 10 in version 0.20 to 100 in 0.22.\n",
      "  \"10 in version 0.20 to 100 in 0.22.\", FutureWarning)\n"
     ]
    },
    {
     "name": "stdout",
     "output_type": "stream",
     "text": [
      "[CV]  criterion=mae, max_depth=3, min_samples_leaf=2, min_samples_split=3, total=   0.0s\n",
      "[CV] criterion=mae, max_depth=3, min_samples_leaf=2, min_samples_split=3 \n"
     ]
    },
    {
     "name": "stderr",
     "output_type": "stream",
     "text": [
      "C:\\Users\\N394\\Anaconda3\\lib\\site-packages\\sklearn\\ensemble\\forest.py:246: FutureWarning: The default value of n_estimators will change from 10 in version 0.20 to 100 in 0.22.\n",
      "  \"10 in version 0.20 to 100 in 0.22.\", FutureWarning)\n"
     ]
    },
    {
     "name": "stdout",
     "output_type": "stream",
     "text": [
      "[CV]  criterion=mae, max_depth=3, min_samples_leaf=2, min_samples_split=3, total=   0.0s\n",
      "[CV] criterion=mae, max_depth=3, min_samples_leaf=2, min_samples_split=4 \n"
     ]
    },
    {
     "name": "stderr",
     "output_type": "stream",
     "text": [
      "C:\\Users\\N394\\Anaconda3\\lib\\site-packages\\sklearn\\ensemble\\forest.py:246: FutureWarning: The default value of n_estimators will change from 10 in version 0.20 to 100 in 0.22.\n",
      "  \"10 in version 0.20 to 100 in 0.22.\", FutureWarning)\n"
     ]
    },
    {
     "name": "stdout",
     "output_type": "stream",
     "text": [
      "[CV]  criterion=mae, max_depth=3, min_samples_leaf=2, min_samples_split=4, total=   0.0s\n",
      "[CV] criterion=mae, max_depth=3, min_samples_leaf=2, min_samples_split=4 \n"
     ]
    },
    {
     "name": "stderr",
     "output_type": "stream",
     "text": [
      "C:\\Users\\N394\\Anaconda3\\lib\\site-packages\\sklearn\\ensemble\\forest.py:246: FutureWarning: The default value of n_estimators will change from 10 in version 0.20 to 100 in 0.22.\n",
      "  \"10 in version 0.20 to 100 in 0.22.\", FutureWarning)\n"
     ]
    },
    {
     "name": "stdout",
     "output_type": "stream",
     "text": [
      "[CV]  criterion=mae, max_depth=3, min_samples_leaf=2, min_samples_split=4, total=   0.0s\n",
      "[CV] criterion=mae, max_depth=3, min_samples_leaf=2, min_samples_split=4 \n"
     ]
    },
    {
     "name": "stderr",
     "output_type": "stream",
     "text": [
      "C:\\Users\\N394\\Anaconda3\\lib\\site-packages\\sklearn\\ensemble\\forest.py:246: FutureWarning: The default value of n_estimators will change from 10 in version 0.20 to 100 in 0.22.\n",
      "  \"10 in version 0.20 to 100 in 0.22.\", FutureWarning)\n"
     ]
    },
    {
     "name": "stdout",
     "output_type": "stream",
     "text": [
      "[CV]  criterion=mae, max_depth=3, min_samples_leaf=2, min_samples_split=4, total=   0.0s\n",
      "[CV] criterion=mae, max_depth=3, min_samples_leaf=2, min_samples_split=4 \n"
     ]
    },
    {
     "name": "stderr",
     "output_type": "stream",
     "text": [
      "C:\\Users\\N394\\Anaconda3\\lib\\site-packages\\sklearn\\ensemble\\forest.py:246: FutureWarning: The default value of n_estimators will change from 10 in version 0.20 to 100 in 0.22.\n",
      "  \"10 in version 0.20 to 100 in 0.22.\", FutureWarning)\n"
     ]
    },
    {
     "name": "stdout",
     "output_type": "stream",
     "text": [
      "[CV]  criterion=mae, max_depth=3, min_samples_leaf=2, min_samples_split=4, total=   0.0s\n",
      "[CV] criterion=mae, max_depth=3, min_samples_leaf=2, min_samples_split=4 \n"
     ]
    },
    {
     "name": "stderr",
     "output_type": "stream",
     "text": [
      "C:\\Users\\N394\\Anaconda3\\lib\\site-packages\\sklearn\\ensemble\\forest.py:246: FutureWarning: The default value of n_estimators will change from 10 in version 0.20 to 100 in 0.22.\n",
      "  \"10 in version 0.20 to 100 in 0.22.\", FutureWarning)\n"
     ]
    },
    {
     "name": "stdout",
     "output_type": "stream",
     "text": [
      "[CV]  criterion=mae, max_depth=3, min_samples_leaf=2, min_samples_split=4, total=   0.0s\n",
      "[CV] criterion=mae, max_depth=3, min_samples_leaf=3, min_samples_split=2 \n"
     ]
    },
    {
     "name": "stderr",
     "output_type": "stream",
     "text": [
      "C:\\Users\\N394\\Anaconda3\\lib\\site-packages\\sklearn\\ensemble\\forest.py:246: FutureWarning: The default value of n_estimators will change from 10 in version 0.20 to 100 in 0.22.\n",
      "  \"10 in version 0.20 to 100 in 0.22.\", FutureWarning)\n"
     ]
    },
    {
     "name": "stdout",
     "output_type": "stream",
     "text": [
      "[CV]  criterion=mae, max_depth=3, min_samples_leaf=3, min_samples_split=2, total=   0.0s\n",
      "[CV] criterion=mae, max_depth=3, min_samples_leaf=3, min_samples_split=2 \n"
     ]
    },
    {
     "name": "stderr",
     "output_type": "stream",
     "text": [
      "C:\\Users\\N394\\Anaconda3\\lib\\site-packages\\sklearn\\ensemble\\forest.py:246: FutureWarning: The default value of n_estimators will change from 10 in version 0.20 to 100 in 0.22.\n",
      "  \"10 in version 0.20 to 100 in 0.22.\", FutureWarning)\n"
     ]
    },
    {
     "name": "stdout",
     "output_type": "stream",
     "text": [
      "[CV]  criterion=mae, max_depth=3, min_samples_leaf=3, min_samples_split=2, total=   0.0s\n",
      "[CV] criterion=mae, max_depth=3, min_samples_leaf=3, min_samples_split=2 \n"
     ]
    },
    {
     "name": "stderr",
     "output_type": "stream",
     "text": [
      "C:\\Users\\N394\\Anaconda3\\lib\\site-packages\\sklearn\\ensemble\\forest.py:246: FutureWarning: The default value of n_estimators will change from 10 in version 0.20 to 100 in 0.22.\n",
      "  \"10 in version 0.20 to 100 in 0.22.\", FutureWarning)\n"
     ]
    },
    {
     "name": "stdout",
     "output_type": "stream",
     "text": [
      "[CV]  criterion=mae, max_depth=3, min_samples_leaf=3, min_samples_split=2, total=   0.0s\n",
      "[CV] criterion=mae, max_depth=3, min_samples_leaf=3, min_samples_split=2 \n"
     ]
    },
    {
     "name": "stderr",
     "output_type": "stream",
     "text": [
      "C:\\Users\\N394\\Anaconda3\\lib\\site-packages\\sklearn\\ensemble\\forest.py:246: FutureWarning: The default value of n_estimators will change from 10 in version 0.20 to 100 in 0.22.\n",
      "  \"10 in version 0.20 to 100 in 0.22.\", FutureWarning)\n"
     ]
    },
    {
     "name": "stdout",
     "output_type": "stream",
     "text": [
      "[CV]  criterion=mae, max_depth=3, min_samples_leaf=3, min_samples_split=2, total=   0.0s\n",
      "[CV] criterion=mae, max_depth=3, min_samples_leaf=3, min_samples_split=2 \n"
     ]
    },
    {
     "name": "stderr",
     "output_type": "stream",
     "text": [
      "C:\\Users\\N394\\Anaconda3\\lib\\site-packages\\sklearn\\ensemble\\forest.py:246: FutureWarning: The default value of n_estimators will change from 10 in version 0.20 to 100 in 0.22.\n",
      "  \"10 in version 0.20 to 100 in 0.22.\", FutureWarning)\n"
     ]
    },
    {
     "name": "stdout",
     "output_type": "stream",
     "text": [
      "[CV]  criterion=mae, max_depth=3, min_samples_leaf=3, min_samples_split=2, total=   0.0s\n",
      "[CV] criterion=mae, max_depth=3, min_samples_leaf=3, min_samples_split=3 \n"
     ]
    },
    {
     "name": "stderr",
     "output_type": "stream",
     "text": [
      "C:\\Users\\N394\\Anaconda3\\lib\\site-packages\\sklearn\\ensemble\\forest.py:246: FutureWarning: The default value of n_estimators will change from 10 in version 0.20 to 100 in 0.22.\n",
      "  \"10 in version 0.20 to 100 in 0.22.\", FutureWarning)\n"
     ]
    },
    {
     "name": "stdout",
     "output_type": "stream",
     "text": [
      "[CV]  criterion=mae, max_depth=3, min_samples_leaf=3, min_samples_split=3, total=   0.0s\n",
      "[CV] criterion=mae, max_depth=3, min_samples_leaf=3, min_samples_split=3 \n"
     ]
    },
    {
     "name": "stderr",
     "output_type": "stream",
     "text": [
      "C:\\Users\\N394\\Anaconda3\\lib\\site-packages\\sklearn\\ensemble\\forest.py:246: FutureWarning: The default value of n_estimators will change from 10 in version 0.20 to 100 in 0.22.\n",
      "  \"10 in version 0.20 to 100 in 0.22.\", FutureWarning)\n"
     ]
    },
    {
     "name": "stdout",
     "output_type": "stream",
     "text": [
      "[CV]  criterion=mae, max_depth=3, min_samples_leaf=3, min_samples_split=3, total=   0.0s\n",
      "[CV] criterion=mae, max_depth=3, min_samples_leaf=3, min_samples_split=3 \n"
     ]
    },
    {
     "name": "stderr",
     "output_type": "stream",
     "text": [
      "C:\\Users\\N394\\Anaconda3\\lib\\site-packages\\sklearn\\ensemble\\forest.py:246: FutureWarning: The default value of n_estimators will change from 10 in version 0.20 to 100 in 0.22.\n",
      "  \"10 in version 0.20 to 100 in 0.22.\", FutureWarning)\n"
     ]
    },
    {
     "name": "stdout",
     "output_type": "stream",
     "text": [
      "[CV]  criterion=mae, max_depth=3, min_samples_leaf=3, min_samples_split=3, total=   0.0s\n",
      "[CV] criterion=mae, max_depth=3, min_samples_leaf=3, min_samples_split=3 \n"
     ]
    },
    {
     "name": "stderr",
     "output_type": "stream",
     "text": [
      "C:\\Users\\N394\\Anaconda3\\lib\\site-packages\\sklearn\\ensemble\\forest.py:246: FutureWarning: The default value of n_estimators will change from 10 in version 0.20 to 100 in 0.22.\n",
      "  \"10 in version 0.20 to 100 in 0.22.\", FutureWarning)\n"
     ]
    },
    {
     "name": "stdout",
     "output_type": "stream",
     "text": [
      "[CV]  criterion=mae, max_depth=3, min_samples_leaf=3, min_samples_split=3, total=   0.0s\n",
      "[CV] criterion=mae, max_depth=3, min_samples_leaf=3, min_samples_split=3 \n"
     ]
    },
    {
     "name": "stderr",
     "output_type": "stream",
     "text": [
      "C:\\Users\\N394\\Anaconda3\\lib\\site-packages\\sklearn\\ensemble\\forest.py:246: FutureWarning: The default value of n_estimators will change from 10 in version 0.20 to 100 in 0.22.\n",
      "  \"10 in version 0.20 to 100 in 0.22.\", FutureWarning)\n"
     ]
    },
    {
     "name": "stdout",
     "output_type": "stream",
     "text": [
      "[CV]  criterion=mae, max_depth=3, min_samples_leaf=3, min_samples_split=3, total=   0.0s\n",
      "[CV] criterion=mae, max_depth=3, min_samples_leaf=3, min_samples_split=4 \n"
     ]
    },
    {
     "name": "stderr",
     "output_type": "stream",
     "text": [
      "C:\\Users\\N394\\Anaconda3\\lib\\site-packages\\sklearn\\ensemble\\forest.py:246: FutureWarning: The default value of n_estimators will change from 10 in version 0.20 to 100 in 0.22.\n",
      "  \"10 in version 0.20 to 100 in 0.22.\", FutureWarning)\n"
     ]
    },
    {
     "name": "stdout",
     "output_type": "stream",
     "text": [
      "[CV]  criterion=mae, max_depth=3, min_samples_leaf=3, min_samples_split=4, total=   0.0s\n",
      "[CV] criterion=mae, max_depth=3, min_samples_leaf=3, min_samples_split=4 \n"
     ]
    },
    {
     "name": "stderr",
     "output_type": "stream",
     "text": [
      "C:\\Users\\N394\\Anaconda3\\lib\\site-packages\\sklearn\\ensemble\\forest.py:246: FutureWarning: The default value of n_estimators will change from 10 in version 0.20 to 100 in 0.22.\n",
      "  \"10 in version 0.20 to 100 in 0.22.\", FutureWarning)\n"
     ]
    },
    {
     "name": "stdout",
     "output_type": "stream",
     "text": [
      "[CV]  criterion=mae, max_depth=3, min_samples_leaf=3, min_samples_split=4, total=   0.0s\n",
      "[CV] criterion=mae, max_depth=3, min_samples_leaf=3, min_samples_split=4 \n"
     ]
    },
    {
     "name": "stderr",
     "output_type": "stream",
     "text": [
      "C:\\Users\\N394\\Anaconda3\\lib\\site-packages\\sklearn\\ensemble\\forest.py:246: FutureWarning: The default value of n_estimators will change from 10 in version 0.20 to 100 in 0.22.\n",
      "  \"10 in version 0.20 to 100 in 0.22.\", FutureWarning)\n"
     ]
    },
    {
     "name": "stdout",
     "output_type": "stream",
     "text": [
      "[CV]  criterion=mae, max_depth=3, min_samples_leaf=3, min_samples_split=4, total=   0.0s\n",
      "[CV] criterion=mae, max_depth=3, min_samples_leaf=3, min_samples_split=4 \n"
     ]
    },
    {
     "name": "stderr",
     "output_type": "stream",
     "text": [
      "C:\\Users\\N394\\Anaconda3\\lib\\site-packages\\sklearn\\ensemble\\forest.py:246: FutureWarning: The default value of n_estimators will change from 10 in version 0.20 to 100 in 0.22.\n",
      "  \"10 in version 0.20 to 100 in 0.22.\", FutureWarning)\n"
     ]
    },
    {
     "name": "stdout",
     "output_type": "stream",
     "text": [
      "[CV]  criterion=mae, max_depth=3, min_samples_leaf=3, min_samples_split=4, total=   0.0s\n",
      "[CV] criterion=mae, max_depth=3, min_samples_leaf=3, min_samples_split=4 \n"
     ]
    },
    {
     "name": "stderr",
     "output_type": "stream",
     "text": [
      "C:\\Users\\N394\\Anaconda3\\lib\\site-packages\\sklearn\\ensemble\\forest.py:246: FutureWarning: The default value of n_estimators will change from 10 in version 0.20 to 100 in 0.22.\n",
      "  \"10 in version 0.20 to 100 in 0.22.\", FutureWarning)\n"
     ]
    },
    {
     "name": "stdout",
     "output_type": "stream",
     "text": [
      "[CV]  criterion=mae, max_depth=3, min_samples_leaf=3, min_samples_split=4, total=   0.0s\n",
      "[CV] criterion=mae, max_depth=3, min_samples_leaf=4, min_samples_split=2 \n"
     ]
    },
    {
     "name": "stderr",
     "output_type": "stream",
     "text": [
      "C:\\Users\\N394\\Anaconda3\\lib\\site-packages\\sklearn\\ensemble\\forest.py:246: FutureWarning: The default value of n_estimators will change from 10 in version 0.20 to 100 in 0.22.\n",
      "  \"10 in version 0.20 to 100 in 0.22.\", FutureWarning)\n"
     ]
    },
    {
     "name": "stdout",
     "output_type": "stream",
     "text": [
      "[CV]  criterion=mae, max_depth=3, min_samples_leaf=4, min_samples_split=2, total=   0.0s\n",
      "[CV] criterion=mae, max_depth=3, min_samples_leaf=4, min_samples_split=2 \n"
     ]
    },
    {
     "name": "stderr",
     "output_type": "stream",
     "text": [
      "C:\\Users\\N394\\Anaconda3\\lib\\site-packages\\sklearn\\ensemble\\forest.py:246: FutureWarning: The default value of n_estimators will change from 10 in version 0.20 to 100 in 0.22.\n",
      "  \"10 in version 0.20 to 100 in 0.22.\", FutureWarning)\n"
     ]
    },
    {
     "name": "stdout",
     "output_type": "stream",
     "text": [
      "[CV]  criterion=mae, max_depth=3, min_samples_leaf=4, min_samples_split=2, total=   0.0s\n",
      "[CV] criterion=mae, max_depth=3, min_samples_leaf=4, min_samples_split=2 \n"
     ]
    },
    {
     "name": "stderr",
     "output_type": "stream",
     "text": [
      "C:\\Users\\N394\\Anaconda3\\lib\\site-packages\\sklearn\\ensemble\\forest.py:246: FutureWarning: The default value of n_estimators will change from 10 in version 0.20 to 100 in 0.22.\n",
      "  \"10 in version 0.20 to 100 in 0.22.\", FutureWarning)\n"
     ]
    },
    {
     "name": "stdout",
     "output_type": "stream",
     "text": [
      "[CV]  criterion=mae, max_depth=3, min_samples_leaf=4, min_samples_split=2, total=   0.0s\n",
      "[CV] criterion=mae, max_depth=3, min_samples_leaf=4, min_samples_split=2 \n"
     ]
    },
    {
     "name": "stderr",
     "output_type": "stream",
     "text": [
      "C:\\Users\\N394\\Anaconda3\\lib\\site-packages\\sklearn\\ensemble\\forest.py:246: FutureWarning: The default value of n_estimators will change from 10 in version 0.20 to 100 in 0.22.\n",
      "  \"10 in version 0.20 to 100 in 0.22.\", FutureWarning)\n"
     ]
    },
    {
     "name": "stdout",
     "output_type": "stream",
     "text": [
      "[CV]  criterion=mae, max_depth=3, min_samples_leaf=4, min_samples_split=2, total=   0.0s\n",
      "[CV] criterion=mae, max_depth=3, min_samples_leaf=4, min_samples_split=2 \n"
     ]
    },
    {
     "name": "stderr",
     "output_type": "stream",
     "text": [
      "C:\\Users\\N394\\Anaconda3\\lib\\site-packages\\sklearn\\ensemble\\forest.py:246: FutureWarning: The default value of n_estimators will change from 10 in version 0.20 to 100 in 0.22.\n",
      "  \"10 in version 0.20 to 100 in 0.22.\", FutureWarning)\n"
     ]
    },
    {
     "name": "stdout",
     "output_type": "stream",
     "text": [
      "[CV]  criterion=mae, max_depth=3, min_samples_leaf=4, min_samples_split=2, total=   0.0s\n",
      "[CV] criterion=mae, max_depth=3, min_samples_leaf=4, min_samples_split=3 \n"
     ]
    },
    {
     "name": "stderr",
     "output_type": "stream",
     "text": [
      "C:\\Users\\N394\\Anaconda3\\lib\\site-packages\\sklearn\\ensemble\\forest.py:246: FutureWarning: The default value of n_estimators will change from 10 in version 0.20 to 100 in 0.22.\n",
      "  \"10 in version 0.20 to 100 in 0.22.\", FutureWarning)\n"
     ]
    },
    {
     "name": "stdout",
     "output_type": "stream",
     "text": [
      "[CV]  criterion=mae, max_depth=3, min_samples_leaf=4, min_samples_split=3, total=   0.0s\n",
      "[CV] criterion=mae, max_depth=3, min_samples_leaf=4, min_samples_split=3 \n"
     ]
    },
    {
     "name": "stderr",
     "output_type": "stream",
     "text": [
      "C:\\Users\\N394\\Anaconda3\\lib\\site-packages\\sklearn\\ensemble\\forest.py:246: FutureWarning: The default value of n_estimators will change from 10 in version 0.20 to 100 in 0.22.\n",
      "  \"10 in version 0.20 to 100 in 0.22.\", FutureWarning)\n"
     ]
    },
    {
     "name": "stdout",
     "output_type": "stream",
     "text": [
      "[CV]  criterion=mae, max_depth=3, min_samples_leaf=4, min_samples_split=3, total=   0.0s\n",
      "[CV] criterion=mae, max_depth=3, min_samples_leaf=4, min_samples_split=3 \n"
     ]
    },
    {
     "name": "stderr",
     "output_type": "stream",
     "text": [
      "C:\\Users\\N394\\Anaconda3\\lib\\site-packages\\sklearn\\ensemble\\forest.py:246: FutureWarning: The default value of n_estimators will change from 10 in version 0.20 to 100 in 0.22.\n",
      "  \"10 in version 0.20 to 100 in 0.22.\", FutureWarning)\n"
     ]
    },
    {
     "name": "stdout",
     "output_type": "stream",
     "text": [
      "[CV]  criterion=mae, max_depth=3, min_samples_leaf=4, min_samples_split=3, total=   0.0s\n",
      "[CV] criterion=mae, max_depth=3, min_samples_leaf=4, min_samples_split=3 \n"
     ]
    },
    {
     "name": "stderr",
     "output_type": "stream",
     "text": [
      "C:\\Users\\N394\\Anaconda3\\lib\\site-packages\\sklearn\\ensemble\\forest.py:246: FutureWarning: The default value of n_estimators will change from 10 in version 0.20 to 100 in 0.22.\n",
      "  \"10 in version 0.20 to 100 in 0.22.\", FutureWarning)\n"
     ]
    },
    {
     "name": "stdout",
     "output_type": "stream",
     "text": [
      "[CV]  criterion=mae, max_depth=3, min_samples_leaf=4, min_samples_split=3, total=   0.0s\n",
      "[CV] criterion=mae, max_depth=3, min_samples_leaf=4, min_samples_split=3 \n"
     ]
    },
    {
     "name": "stderr",
     "output_type": "stream",
     "text": [
      "C:\\Users\\N394\\Anaconda3\\lib\\site-packages\\sklearn\\ensemble\\forest.py:246: FutureWarning: The default value of n_estimators will change from 10 in version 0.20 to 100 in 0.22.\n",
      "  \"10 in version 0.20 to 100 in 0.22.\", FutureWarning)\n"
     ]
    },
    {
     "name": "stdout",
     "output_type": "stream",
     "text": [
      "[CV]  criterion=mae, max_depth=3, min_samples_leaf=4, min_samples_split=3, total=   0.0s\n",
      "[CV] criterion=mae, max_depth=3, min_samples_leaf=4, min_samples_split=4 \n"
     ]
    },
    {
     "name": "stderr",
     "output_type": "stream",
     "text": [
      "C:\\Users\\N394\\Anaconda3\\lib\\site-packages\\sklearn\\ensemble\\forest.py:246: FutureWarning: The default value of n_estimators will change from 10 in version 0.20 to 100 in 0.22.\n",
      "  \"10 in version 0.20 to 100 in 0.22.\", FutureWarning)\n"
     ]
    },
    {
     "name": "stdout",
     "output_type": "stream",
     "text": [
      "[CV]  criterion=mae, max_depth=3, min_samples_leaf=4, min_samples_split=4, total=   0.0s\n",
      "[CV] criterion=mae, max_depth=3, min_samples_leaf=4, min_samples_split=4 \n"
     ]
    },
    {
     "name": "stderr",
     "output_type": "stream",
     "text": [
      "C:\\Users\\N394\\Anaconda3\\lib\\site-packages\\sklearn\\ensemble\\forest.py:246: FutureWarning: The default value of n_estimators will change from 10 in version 0.20 to 100 in 0.22.\n",
      "  \"10 in version 0.20 to 100 in 0.22.\", FutureWarning)\n"
     ]
    },
    {
     "name": "stdout",
     "output_type": "stream",
     "text": [
      "[CV]  criterion=mae, max_depth=3, min_samples_leaf=4, min_samples_split=4, total=   0.0s\n",
      "[CV] criterion=mae, max_depth=3, min_samples_leaf=4, min_samples_split=4 \n"
     ]
    },
    {
     "name": "stderr",
     "output_type": "stream",
     "text": [
      "C:\\Users\\N394\\Anaconda3\\lib\\site-packages\\sklearn\\ensemble\\forest.py:246: FutureWarning: The default value of n_estimators will change from 10 in version 0.20 to 100 in 0.22.\n",
      "  \"10 in version 0.20 to 100 in 0.22.\", FutureWarning)\n"
     ]
    },
    {
     "name": "stdout",
     "output_type": "stream",
     "text": [
      "[CV]  criterion=mae, max_depth=3, min_samples_leaf=4, min_samples_split=4, total=   0.0s\n",
      "[CV] criterion=mae, max_depth=3, min_samples_leaf=4, min_samples_split=4 \n"
     ]
    },
    {
     "name": "stderr",
     "output_type": "stream",
     "text": [
      "C:\\Users\\N394\\Anaconda3\\lib\\site-packages\\sklearn\\ensemble\\forest.py:246: FutureWarning: The default value of n_estimators will change from 10 in version 0.20 to 100 in 0.22.\n",
      "  \"10 in version 0.20 to 100 in 0.22.\", FutureWarning)\n"
     ]
    },
    {
     "name": "stdout",
     "output_type": "stream",
     "text": [
      "[CV]  criterion=mae, max_depth=3, min_samples_leaf=4, min_samples_split=4, total=   0.0s\n",
      "[CV] criterion=mae, max_depth=3, min_samples_leaf=4, min_samples_split=4 \n"
     ]
    },
    {
     "name": "stderr",
     "output_type": "stream",
     "text": [
      "C:\\Users\\N394\\Anaconda3\\lib\\site-packages\\sklearn\\ensemble\\forest.py:246: FutureWarning: The default value of n_estimators will change from 10 in version 0.20 to 100 in 0.22.\n",
      "  \"10 in version 0.20 to 100 in 0.22.\", FutureWarning)\n"
     ]
    },
    {
     "name": "stdout",
     "output_type": "stream",
     "text": [
      "[CV]  criterion=mae, max_depth=3, min_samples_leaf=4, min_samples_split=4, total=   0.0s\n",
      "[CV] criterion=mae, max_depth=4, min_samples_leaf=2, min_samples_split=2 \n"
     ]
    },
    {
     "name": "stderr",
     "output_type": "stream",
     "text": [
      "C:\\Users\\N394\\Anaconda3\\lib\\site-packages\\sklearn\\ensemble\\forest.py:246: FutureWarning: The default value of n_estimators will change from 10 in version 0.20 to 100 in 0.22.\n",
      "  \"10 in version 0.20 to 100 in 0.22.\", FutureWarning)\n"
     ]
    },
    {
     "name": "stdout",
     "output_type": "stream",
     "text": [
      "[CV]  criterion=mae, max_depth=4, min_samples_leaf=2, min_samples_split=2, total=   0.0s\n",
      "[CV] criterion=mae, max_depth=4, min_samples_leaf=2, min_samples_split=2 \n"
     ]
    },
    {
     "name": "stderr",
     "output_type": "stream",
     "text": [
      "C:\\Users\\N394\\Anaconda3\\lib\\site-packages\\sklearn\\ensemble\\forest.py:246: FutureWarning: The default value of n_estimators will change from 10 in version 0.20 to 100 in 0.22.\n",
      "  \"10 in version 0.20 to 100 in 0.22.\", FutureWarning)\n"
     ]
    },
    {
     "name": "stdout",
     "output_type": "stream",
     "text": [
      "[CV]  criterion=mae, max_depth=4, min_samples_leaf=2, min_samples_split=2, total=   0.0s\n",
      "[CV] criterion=mae, max_depth=4, min_samples_leaf=2, min_samples_split=2 \n"
     ]
    },
    {
     "name": "stderr",
     "output_type": "stream",
     "text": [
      "C:\\Users\\N394\\Anaconda3\\lib\\site-packages\\sklearn\\ensemble\\forest.py:246: FutureWarning: The default value of n_estimators will change from 10 in version 0.20 to 100 in 0.22.\n",
      "  \"10 in version 0.20 to 100 in 0.22.\", FutureWarning)\n"
     ]
    },
    {
     "name": "stdout",
     "output_type": "stream",
     "text": [
      "[CV]  criterion=mae, max_depth=4, min_samples_leaf=2, min_samples_split=2, total=   0.0s\n",
      "[CV] criterion=mae, max_depth=4, min_samples_leaf=2, min_samples_split=2 \n"
     ]
    },
    {
     "name": "stderr",
     "output_type": "stream",
     "text": [
      "C:\\Users\\N394\\Anaconda3\\lib\\site-packages\\sklearn\\ensemble\\forest.py:246: FutureWarning: The default value of n_estimators will change from 10 in version 0.20 to 100 in 0.22.\n",
      "  \"10 in version 0.20 to 100 in 0.22.\", FutureWarning)\n"
     ]
    },
    {
     "name": "stdout",
     "output_type": "stream",
     "text": [
      "[CV]  criterion=mae, max_depth=4, min_samples_leaf=2, min_samples_split=2, total=   0.0s\n",
      "[CV] criterion=mae, max_depth=4, min_samples_leaf=2, min_samples_split=2 \n"
     ]
    },
    {
     "name": "stderr",
     "output_type": "stream",
     "text": [
      "C:\\Users\\N394\\Anaconda3\\lib\\site-packages\\sklearn\\ensemble\\forest.py:246: FutureWarning: The default value of n_estimators will change from 10 in version 0.20 to 100 in 0.22.\n",
      "  \"10 in version 0.20 to 100 in 0.22.\", FutureWarning)\n"
     ]
    },
    {
     "name": "stdout",
     "output_type": "stream",
     "text": [
      "[CV]  criterion=mae, max_depth=4, min_samples_leaf=2, min_samples_split=2, total=   0.0s\n",
      "[CV] criterion=mae, max_depth=4, min_samples_leaf=2, min_samples_split=3 \n"
     ]
    },
    {
     "name": "stderr",
     "output_type": "stream",
     "text": [
      "C:\\Users\\N394\\Anaconda3\\lib\\site-packages\\sklearn\\ensemble\\forest.py:246: FutureWarning: The default value of n_estimators will change from 10 in version 0.20 to 100 in 0.22.\n",
      "  \"10 in version 0.20 to 100 in 0.22.\", FutureWarning)\n"
     ]
    },
    {
     "name": "stdout",
     "output_type": "stream",
     "text": [
      "[CV]  criterion=mae, max_depth=4, min_samples_leaf=2, min_samples_split=3, total=   0.0s\n",
      "[CV] criterion=mae, max_depth=4, min_samples_leaf=2, min_samples_split=3 \n"
     ]
    },
    {
     "name": "stderr",
     "output_type": "stream",
     "text": [
      "C:\\Users\\N394\\Anaconda3\\lib\\site-packages\\sklearn\\ensemble\\forest.py:246: FutureWarning: The default value of n_estimators will change from 10 in version 0.20 to 100 in 0.22.\n",
      "  \"10 in version 0.20 to 100 in 0.22.\", FutureWarning)\n"
     ]
    },
    {
     "name": "stdout",
     "output_type": "stream",
     "text": [
      "[CV]  criterion=mae, max_depth=4, min_samples_leaf=2, min_samples_split=3, total=   0.0s\n",
      "[CV] criterion=mae, max_depth=4, min_samples_leaf=2, min_samples_split=3 \n"
     ]
    },
    {
     "name": "stderr",
     "output_type": "stream",
     "text": [
      "C:\\Users\\N394\\Anaconda3\\lib\\site-packages\\sklearn\\ensemble\\forest.py:246: FutureWarning: The default value of n_estimators will change from 10 in version 0.20 to 100 in 0.22.\n",
      "  \"10 in version 0.20 to 100 in 0.22.\", FutureWarning)\n"
     ]
    },
    {
     "name": "stdout",
     "output_type": "stream",
     "text": [
      "[CV]  criterion=mae, max_depth=4, min_samples_leaf=2, min_samples_split=3, total=   0.0s\n",
      "[CV] criterion=mae, max_depth=4, min_samples_leaf=2, min_samples_split=3 \n"
     ]
    },
    {
     "name": "stderr",
     "output_type": "stream",
     "text": [
      "C:\\Users\\N394\\Anaconda3\\lib\\site-packages\\sklearn\\ensemble\\forest.py:246: FutureWarning: The default value of n_estimators will change from 10 in version 0.20 to 100 in 0.22.\n",
      "  \"10 in version 0.20 to 100 in 0.22.\", FutureWarning)\n"
     ]
    },
    {
     "name": "stdout",
     "output_type": "stream",
     "text": [
      "[CV]  criterion=mae, max_depth=4, min_samples_leaf=2, min_samples_split=3, total=   0.0s\n",
      "[CV] criterion=mae, max_depth=4, min_samples_leaf=2, min_samples_split=3 \n"
     ]
    },
    {
     "name": "stderr",
     "output_type": "stream",
     "text": [
      "C:\\Users\\N394\\Anaconda3\\lib\\site-packages\\sklearn\\ensemble\\forest.py:246: FutureWarning: The default value of n_estimators will change from 10 in version 0.20 to 100 in 0.22.\n",
      "  \"10 in version 0.20 to 100 in 0.22.\", FutureWarning)\n"
     ]
    },
    {
     "name": "stdout",
     "output_type": "stream",
     "text": [
      "[CV]  criterion=mae, max_depth=4, min_samples_leaf=2, min_samples_split=3, total=   0.0s\n",
      "[CV] criterion=mae, max_depth=4, min_samples_leaf=2, min_samples_split=4 \n"
     ]
    },
    {
     "name": "stderr",
     "output_type": "stream",
     "text": [
      "C:\\Users\\N394\\Anaconda3\\lib\\site-packages\\sklearn\\ensemble\\forest.py:246: FutureWarning: The default value of n_estimators will change from 10 in version 0.20 to 100 in 0.22.\n",
      "  \"10 in version 0.20 to 100 in 0.22.\", FutureWarning)\n"
     ]
    },
    {
     "name": "stdout",
     "output_type": "stream",
     "text": [
      "[CV]  criterion=mae, max_depth=4, min_samples_leaf=2, min_samples_split=4, total=   0.0s\n",
      "[CV] criterion=mae, max_depth=4, min_samples_leaf=2, min_samples_split=4 \n"
     ]
    },
    {
     "name": "stderr",
     "output_type": "stream",
     "text": [
      "C:\\Users\\N394\\Anaconda3\\lib\\site-packages\\sklearn\\ensemble\\forest.py:246: FutureWarning: The default value of n_estimators will change from 10 in version 0.20 to 100 in 0.22.\n",
      "  \"10 in version 0.20 to 100 in 0.22.\", FutureWarning)\n"
     ]
    },
    {
     "name": "stdout",
     "output_type": "stream",
     "text": [
      "[CV]  criterion=mae, max_depth=4, min_samples_leaf=2, min_samples_split=4, total=   0.0s\n",
      "[CV] criterion=mae, max_depth=4, min_samples_leaf=2, min_samples_split=4 \n"
     ]
    },
    {
     "name": "stderr",
     "output_type": "stream",
     "text": [
      "C:\\Users\\N394\\Anaconda3\\lib\\site-packages\\sklearn\\ensemble\\forest.py:246: FutureWarning: The default value of n_estimators will change from 10 in version 0.20 to 100 in 0.22.\n",
      "  \"10 in version 0.20 to 100 in 0.22.\", FutureWarning)\n"
     ]
    },
    {
     "name": "stdout",
     "output_type": "stream",
     "text": [
      "[CV]  criterion=mae, max_depth=4, min_samples_leaf=2, min_samples_split=4, total=   0.0s\n",
      "[CV] criterion=mae, max_depth=4, min_samples_leaf=2, min_samples_split=4 \n"
     ]
    },
    {
     "name": "stderr",
     "output_type": "stream",
     "text": [
      "C:\\Users\\N394\\Anaconda3\\lib\\site-packages\\sklearn\\ensemble\\forest.py:246: FutureWarning: The default value of n_estimators will change from 10 in version 0.20 to 100 in 0.22.\n",
      "  \"10 in version 0.20 to 100 in 0.22.\", FutureWarning)\n"
     ]
    },
    {
     "name": "stdout",
     "output_type": "stream",
     "text": [
      "[CV]  criterion=mae, max_depth=4, min_samples_leaf=2, min_samples_split=4, total=   0.0s\n",
      "[CV] criterion=mae, max_depth=4, min_samples_leaf=2, min_samples_split=4 \n"
     ]
    },
    {
     "name": "stderr",
     "output_type": "stream",
     "text": [
      "C:\\Users\\N394\\Anaconda3\\lib\\site-packages\\sklearn\\ensemble\\forest.py:246: FutureWarning: The default value of n_estimators will change from 10 in version 0.20 to 100 in 0.22.\n",
      "  \"10 in version 0.20 to 100 in 0.22.\", FutureWarning)\n"
     ]
    },
    {
     "name": "stdout",
     "output_type": "stream",
     "text": [
      "[CV]  criterion=mae, max_depth=4, min_samples_leaf=2, min_samples_split=4, total=   0.0s\n",
      "[CV] criterion=mae, max_depth=4, min_samples_leaf=3, min_samples_split=2 \n"
     ]
    },
    {
     "name": "stderr",
     "output_type": "stream",
     "text": [
      "C:\\Users\\N394\\Anaconda3\\lib\\site-packages\\sklearn\\ensemble\\forest.py:246: FutureWarning: The default value of n_estimators will change from 10 in version 0.20 to 100 in 0.22.\n",
      "  \"10 in version 0.20 to 100 in 0.22.\", FutureWarning)\n"
     ]
    },
    {
     "name": "stdout",
     "output_type": "stream",
     "text": [
      "[CV]  criterion=mae, max_depth=4, min_samples_leaf=3, min_samples_split=2, total=   0.0s\n",
      "[CV] criterion=mae, max_depth=4, min_samples_leaf=3, min_samples_split=2 \n"
     ]
    },
    {
     "name": "stderr",
     "output_type": "stream",
     "text": [
      "C:\\Users\\N394\\Anaconda3\\lib\\site-packages\\sklearn\\ensemble\\forest.py:246: FutureWarning: The default value of n_estimators will change from 10 in version 0.20 to 100 in 0.22.\n",
      "  \"10 in version 0.20 to 100 in 0.22.\", FutureWarning)\n"
     ]
    },
    {
     "name": "stdout",
     "output_type": "stream",
     "text": [
      "[CV]  criterion=mae, max_depth=4, min_samples_leaf=3, min_samples_split=2, total=   0.0s\n",
      "[CV] criterion=mae, max_depth=4, min_samples_leaf=3, min_samples_split=2 \n"
     ]
    },
    {
     "name": "stderr",
     "output_type": "stream",
     "text": [
      "C:\\Users\\N394\\Anaconda3\\lib\\site-packages\\sklearn\\ensemble\\forest.py:246: FutureWarning: The default value of n_estimators will change from 10 in version 0.20 to 100 in 0.22.\n",
      "  \"10 in version 0.20 to 100 in 0.22.\", FutureWarning)\n"
     ]
    },
    {
     "name": "stdout",
     "output_type": "stream",
     "text": [
      "[CV]  criterion=mae, max_depth=4, min_samples_leaf=3, min_samples_split=2, total=   0.0s\n",
      "[CV] criterion=mae, max_depth=4, min_samples_leaf=3, min_samples_split=2 \n"
     ]
    },
    {
     "name": "stderr",
     "output_type": "stream",
     "text": [
      "C:\\Users\\N394\\Anaconda3\\lib\\site-packages\\sklearn\\ensemble\\forest.py:246: FutureWarning: The default value of n_estimators will change from 10 in version 0.20 to 100 in 0.22.\n",
      "  \"10 in version 0.20 to 100 in 0.22.\", FutureWarning)\n"
     ]
    },
    {
     "name": "stdout",
     "output_type": "stream",
     "text": [
      "[CV]  criterion=mae, max_depth=4, min_samples_leaf=3, min_samples_split=2, total=   0.0s\n",
      "[CV] criterion=mae, max_depth=4, min_samples_leaf=3, min_samples_split=2 \n"
     ]
    },
    {
     "name": "stderr",
     "output_type": "stream",
     "text": [
      "C:\\Users\\N394\\Anaconda3\\lib\\site-packages\\sklearn\\ensemble\\forest.py:246: FutureWarning: The default value of n_estimators will change from 10 in version 0.20 to 100 in 0.22.\n",
      "  \"10 in version 0.20 to 100 in 0.22.\", FutureWarning)\n"
     ]
    },
    {
     "name": "stdout",
     "output_type": "stream",
     "text": [
      "[CV]  criterion=mae, max_depth=4, min_samples_leaf=3, min_samples_split=2, total=   0.0s\n",
      "[CV] criterion=mae, max_depth=4, min_samples_leaf=3, min_samples_split=3 \n"
     ]
    },
    {
     "name": "stderr",
     "output_type": "stream",
     "text": [
      "C:\\Users\\N394\\Anaconda3\\lib\\site-packages\\sklearn\\ensemble\\forest.py:246: FutureWarning: The default value of n_estimators will change from 10 in version 0.20 to 100 in 0.22.\n",
      "  \"10 in version 0.20 to 100 in 0.22.\", FutureWarning)\n"
     ]
    },
    {
     "name": "stdout",
     "output_type": "stream",
     "text": [
      "[CV]  criterion=mae, max_depth=4, min_samples_leaf=3, min_samples_split=3, total=   0.0s\n",
      "[CV] criterion=mae, max_depth=4, min_samples_leaf=3, min_samples_split=3 \n"
     ]
    },
    {
     "name": "stderr",
     "output_type": "stream",
     "text": [
      "C:\\Users\\N394\\Anaconda3\\lib\\site-packages\\sklearn\\ensemble\\forest.py:246: FutureWarning: The default value of n_estimators will change from 10 in version 0.20 to 100 in 0.22.\n",
      "  \"10 in version 0.20 to 100 in 0.22.\", FutureWarning)\n"
     ]
    },
    {
     "name": "stdout",
     "output_type": "stream",
     "text": [
      "[CV]  criterion=mae, max_depth=4, min_samples_leaf=3, min_samples_split=3, total=   0.0s\n",
      "[CV] criterion=mae, max_depth=4, min_samples_leaf=3, min_samples_split=3 \n"
     ]
    },
    {
     "name": "stderr",
     "output_type": "stream",
     "text": [
      "C:\\Users\\N394\\Anaconda3\\lib\\site-packages\\sklearn\\ensemble\\forest.py:246: FutureWarning: The default value of n_estimators will change from 10 in version 0.20 to 100 in 0.22.\n",
      "  \"10 in version 0.20 to 100 in 0.22.\", FutureWarning)\n"
     ]
    },
    {
     "name": "stdout",
     "output_type": "stream",
     "text": [
      "[CV]  criterion=mae, max_depth=4, min_samples_leaf=3, min_samples_split=3, total=   0.0s\n",
      "[CV] criterion=mae, max_depth=4, min_samples_leaf=3, min_samples_split=3 \n"
     ]
    },
    {
     "name": "stderr",
     "output_type": "stream",
     "text": [
      "C:\\Users\\N394\\Anaconda3\\lib\\site-packages\\sklearn\\ensemble\\forest.py:246: FutureWarning: The default value of n_estimators will change from 10 in version 0.20 to 100 in 0.22.\n",
      "  \"10 in version 0.20 to 100 in 0.22.\", FutureWarning)\n"
     ]
    },
    {
     "name": "stdout",
     "output_type": "stream",
     "text": [
      "[CV]  criterion=mae, max_depth=4, min_samples_leaf=3, min_samples_split=3, total=   0.0s\n",
      "[CV] criterion=mae, max_depth=4, min_samples_leaf=3, min_samples_split=3 \n"
     ]
    },
    {
     "name": "stderr",
     "output_type": "stream",
     "text": [
      "C:\\Users\\N394\\Anaconda3\\lib\\site-packages\\sklearn\\ensemble\\forest.py:246: FutureWarning: The default value of n_estimators will change from 10 in version 0.20 to 100 in 0.22.\n",
      "  \"10 in version 0.20 to 100 in 0.22.\", FutureWarning)\n"
     ]
    },
    {
     "name": "stdout",
     "output_type": "stream",
     "text": [
      "[CV]  criterion=mae, max_depth=4, min_samples_leaf=3, min_samples_split=3, total=   0.0s\n",
      "[CV] criterion=mae, max_depth=4, min_samples_leaf=3, min_samples_split=4 \n"
     ]
    },
    {
     "name": "stderr",
     "output_type": "stream",
     "text": [
      "C:\\Users\\N394\\Anaconda3\\lib\\site-packages\\sklearn\\ensemble\\forest.py:246: FutureWarning: The default value of n_estimators will change from 10 in version 0.20 to 100 in 0.22.\n",
      "  \"10 in version 0.20 to 100 in 0.22.\", FutureWarning)\n"
     ]
    },
    {
     "name": "stdout",
     "output_type": "stream",
     "text": [
      "[CV]  criterion=mae, max_depth=4, min_samples_leaf=3, min_samples_split=4, total=   0.0s\n",
      "[CV] criterion=mae, max_depth=4, min_samples_leaf=3, min_samples_split=4 \n"
     ]
    },
    {
     "name": "stderr",
     "output_type": "stream",
     "text": [
      "C:\\Users\\N394\\Anaconda3\\lib\\site-packages\\sklearn\\ensemble\\forest.py:246: FutureWarning: The default value of n_estimators will change from 10 in version 0.20 to 100 in 0.22.\n",
      "  \"10 in version 0.20 to 100 in 0.22.\", FutureWarning)\n"
     ]
    },
    {
     "name": "stdout",
     "output_type": "stream",
     "text": [
      "[CV]  criterion=mae, max_depth=4, min_samples_leaf=3, min_samples_split=4, total=   0.0s\n",
      "[CV] criterion=mae, max_depth=4, min_samples_leaf=3, min_samples_split=4 \n"
     ]
    },
    {
     "name": "stderr",
     "output_type": "stream",
     "text": [
      "C:\\Users\\N394\\Anaconda3\\lib\\site-packages\\sklearn\\ensemble\\forest.py:246: FutureWarning: The default value of n_estimators will change from 10 in version 0.20 to 100 in 0.22.\n",
      "  \"10 in version 0.20 to 100 in 0.22.\", FutureWarning)\n"
     ]
    },
    {
     "name": "stdout",
     "output_type": "stream",
     "text": [
      "[CV]  criterion=mae, max_depth=4, min_samples_leaf=3, min_samples_split=4, total=   0.0s\n",
      "[CV] criterion=mae, max_depth=4, min_samples_leaf=3, min_samples_split=4 \n"
     ]
    },
    {
     "name": "stderr",
     "output_type": "stream",
     "text": [
      "C:\\Users\\N394\\Anaconda3\\lib\\site-packages\\sklearn\\ensemble\\forest.py:246: FutureWarning: The default value of n_estimators will change from 10 in version 0.20 to 100 in 0.22.\n",
      "  \"10 in version 0.20 to 100 in 0.22.\", FutureWarning)\n"
     ]
    },
    {
     "name": "stdout",
     "output_type": "stream",
     "text": [
      "[CV]  criterion=mae, max_depth=4, min_samples_leaf=3, min_samples_split=4, total=   0.0s\n",
      "[CV] criterion=mae, max_depth=4, min_samples_leaf=3, min_samples_split=4 \n"
     ]
    },
    {
     "name": "stderr",
     "output_type": "stream",
     "text": [
      "C:\\Users\\N394\\Anaconda3\\lib\\site-packages\\sklearn\\ensemble\\forest.py:246: FutureWarning: The default value of n_estimators will change from 10 in version 0.20 to 100 in 0.22.\n",
      "  \"10 in version 0.20 to 100 in 0.22.\", FutureWarning)\n"
     ]
    },
    {
     "name": "stdout",
     "output_type": "stream",
     "text": [
      "[CV]  criterion=mae, max_depth=4, min_samples_leaf=3, min_samples_split=4, total=   0.0s\n",
      "[CV] criterion=mae, max_depth=4, min_samples_leaf=4, min_samples_split=2 \n"
     ]
    },
    {
     "name": "stderr",
     "output_type": "stream",
     "text": [
      "C:\\Users\\N394\\Anaconda3\\lib\\site-packages\\sklearn\\ensemble\\forest.py:246: FutureWarning: The default value of n_estimators will change from 10 in version 0.20 to 100 in 0.22.\n",
      "  \"10 in version 0.20 to 100 in 0.22.\", FutureWarning)\n"
     ]
    },
    {
     "name": "stdout",
     "output_type": "stream",
     "text": [
      "[CV]  criterion=mae, max_depth=4, min_samples_leaf=4, min_samples_split=2, total=   0.0s\n",
      "[CV] criterion=mae, max_depth=4, min_samples_leaf=4, min_samples_split=2 \n"
     ]
    },
    {
     "name": "stderr",
     "output_type": "stream",
     "text": [
      "C:\\Users\\N394\\Anaconda3\\lib\\site-packages\\sklearn\\ensemble\\forest.py:246: FutureWarning: The default value of n_estimators will change from 10 in version 0.20 to 100 in 0.22.\n",
      "  \"10 in version 0.20 to 100 in 0.22.\", FutureWarning)\n"
     ]
    },
    {
     "name": "stdout",
     "output_type": "stream",
     "text": [
      "[CV]  criterion=mae, max_depth=4, min_samples_leaf=4, min_samples_split=2, total=   0.0s\n",
      "[CV] criterion=mae, max_depth=4, min_samples_leaf=4, min_samples_split=2 \n"
     ]
    },
    {
     "name": "stderr",
     "output_type": "stream",
     "text": [
      "C:\\Users\\N394\\Anaconda3\\lib\\site-packages\\sklearn\\ensemble\\forest.py:246: FutureWarning: The default value of n_estimators will change from 10 in version 0.20 to 100 in 0.22.\n",
      "  \"10 in version 0.20 to 100 in 0.22.\", FutureWarning)\n"
     ]
    },
    {
     "name": "stdout",
     "output_type": "stream",
     "text": [
      "[CV]  criterion=mae, max_depth=4, min_samples_leaf=4, min_samples_split=2, total=   0.0s\n",
      "[CV] criterion=mae, max_depth=4, min_samples_leaf=4, min_samples_split=2 \n"
     ]
    },
    {
     "name": "stderr",
     "output_type": "stream",
     "text": [
      "C:\\Users\\N394\\Anaconda3\\lib\\site-packages\\sklearn\\ensemble\\forest.py:246: FutureWarning: The default value of n_estimators will change from 10 in version 0.20 to 100 in 0.22.\n",
      "  \"10 in version 0.20 to 100 in 0.22.\", FutureWarning)\n"
     ]
    },
    {
     "name": "stdout",
     "output_type": "stream",
     "text": [
      "[CV]  criterion=mae, max_depth=4, min_samples_leaf=4, min_samples_split=2, total=   0.0s\n",
      "[CV] criterion=mae, max_depth=4, min_samples_leaf=4, min_samples_split=2 \n"
     ]
    },
    {
     "name": "stderr",
     "output_type": "stream",
     "text": [
      "C:\\Users\\N394\\Anaconda3\\lib\\site-packages\\sklearn\\ensemble\\forest.py:246: FutureWarning: The default value of n_estimators will change from 10 in version 0.20 to 100 in 0.22.\n",
      "  \"10 in version 0.20 to 100 in 0.22.\", FutureWarning)\n"
     ]
    },
    {
     "name": "stdout",
     "output_type": "stream",
     "text": [
      "[CV]  criterion=mae, max_depth=4, min_samples_leaf=4, min_samples_split=2, total=   0.0s\n",
      "[CV] criterion=mae, max_depth=4, min_samples_leaf=4, min_samples_split=3 \n"
     ]
    },
    {
     "name": "stderr",
     "output_type": "stream",
     "text": [
      "C:\\Users\\N394\\Anaconda3\\lib\\site-packages\\sklearn\\ensemble\\forest.py:246: FutureWarning: The default value of n_estimators will change from 10 in version 0.20 to 100 in 0.22.\n",
      "  \"10 in version 0.20 to 100 in 0.22.\", FutureWarning)\n"
     ]
    },
    {
     "name": "stdout",
     "output_type": "stream",
     "text": [
      "[CV]  criterion=mae, max_depth=4, min_samples_leaf=4, min_samples_split=3, total=   0.0s\n",
      "[CV] criterion=mae, max_depth=4, min_samples_leaf=4, min_samples_split=3 \n"
     ]
    },
    {
     "name": "stderr",
     "output_type": "stream",
     "text": [
      "C:\\Users\\N394\\Anaconda3\\lib\\site-packages\\sklearn\\ensemble\\forest.py:246: FutureWarning: The default value of n_estimators will change from 10 in version 0.20 to 100 in 0.22.\n",
      "  \"10 in version 0.20 to 100 in 0.22.\", FutureWarning)\n"
     ]
    },
    {
     "name": "stdout",
     "output_type": "stream",
     "text": [
      "[CV]  criterion=mae, max_depth=4, min_samples_leaf=4, min_samples_split=3, total=   0.0s\n",
      "[CV] criterion=mae, max_depth=4, min_samples_leaf=4, min_samples_split=3 \n"
     ]
    },
    {
     "name": "stderr",
     "output_type": "stream",
     "text": [
      "C:\\Users\\N394\\Anaconda3\\lib\\site-packages\\sklearn\\ensemble\\forest.py:246: FutureWarning: The default value of n_estimators will change from 10 in version 0.20 to 100 in 0.22.\n",
      "  \"10 in version 0.20 to 100 in 0.22.\", FutureWarning)\n"
     ]
    },
    {
     "name": "stdout",
     "output_type": "stream",
     "text": [
      "[CV]  criterion=mae, max_depth=4, min_samples_leaf=4, min_samples_split=3, total=   0.0s\n",
      "[CV] criterion=mae, max_depth=4, min_samples_leaf=4, min_samples_split=3 \n"
     ]
    },
    {
     "name": "stderr",
     "output_type": "stream",
     "text": [
      "C:\\Users\\N394\\Anaconda3\\lib\\site-packages\\sklearn\\ensemble\\forest.py:246: FutureWarning: The default value of n_estimators will change from 10 in version 0.20 to 100 in 0.22.\n",
      "  \"10 in version 0.20 to 100 in 0.22.\", FutureWarning)\n"
     ]
    },
    {
     "name": "stdout",
     "output_type": "stream",
     "text": [
      "[CV]  criterion=mae, max_depth=4, min_samples_leaf=4, min_samples_split=3, total=   0.0s\n",
      "[CV] criterion=mae, max_depth=4, min_samples_leaf=4, min_samples_split=3 \n"
     ]
    },
    {
     "name": "stderr",
     "output_type": "stream",
     "text": [
      "C:\\Users\\N394\\Anaconda3\\lib\\site-packages\\sklearn\\ensemble\\forest.py:246: FutureWarning: The default value of n_estimators will change from 10 in version 0.20 to 100 in 0.22.\n",
      "  \"10 in version 0.20 to 100 in 0.22.\", FutureWarning)\n"
     ]
    },
    {
     "name": "stdout",
     "output_type": "stream",
     "text": [
      "[CV]  criterion=mae, max_depth=4, min_samples_leaf=4, min_samples_split=3, total=   0.0s\n",
      "[CV] criterion=mae, max_depth=4, min_samples_leaf=4, min_samples_split=4 \n"
     ]
    },
    {
     "name": "stderr",
     "output_type": "stream",
     "text": [
      "C:\\Users\\N394\\Anaconda3\\lib\\site-packages\\sklearn\\ensemble\\forest.py:246: FutureWarning: The default value of n_estimators will change from 10 in version 0.20 to 100 in 0.22.\n",
      "  \"10 in version 0.20 to 100 in 0.22.\", FutureWarning)\n"
     ]
    },
    {
     "name": "stdout",
     "output_type": "stream",
     "text": [
      "[CV]  criterion=mae, max_depth=4, min_samples_leaf=4, min_samples_split=4, total=   0.0s\n",
      "[CV] criterion=mae, max_depth=4, min_samples_leaf=4, min_samples_split=4 \n"
     ]
    },
    {
     "name": "stderr",
     "output_type": "stream",
     "text": [
      "C:\\Users\\N394\\Anaconda3\\lib\\site-packages\\sklearn\\ensemble\\forest.py:246: FutureWarning: The default value of n_estimators will change from 10 in version 0.20 to 100 in 0.22.\n",
      "  \"10 in version 0.20 to 100 in 0.22.\", FutureWarning)\n"
     ]
    },
    {
     "name": "stdout",
     "output_type": "stream",
     "text": [
      "[CV]  criterion=mae, max_depth=4, min_samples_leaf=4, min_samples_split=4, total=   0.0s\n",
      "[CV] criterion=mae, max_depth=4, min_samples_leaf=4, min_samples_split=4 \n"
     ]
    },
    {
     "name": "stderr",
     "output_type": "stream",
     "text": [
      "C:\\Users\\N394\\Anaconda3\\lib\\site-packages\\sklearn\\ensemble\\forest.py:246: FutureWarning: The default value of n_estimators will change from 10 in version 0.20 to 100 in 0.22.\n",
      "  \"10 in version 0.20 to 100 in 0.22.\", FutureWarning)\n"
     ]
    },
    {
     "name": "stdout",
     "output_type": "stream",
     "text": [
      "[CV]  criterion=mae, max_depth=4, min_samples_leaf=4, min_samples_split=4, total=   0.0s\n",
      "[CV] criterion=mae, max_depth=4, min_samples_leaf=4, min_samples_split=4 \n"
     ]
    },
    {
     "name": "stderr",
     "output_type": "stream",
     "text": [
      "C:\\Users\\N394\\Anaconda3\\lib\\site-packages\\sklearn\\ensemble\\forest.py:246: FutureWarning: The default value of n_estimators will change from 10 in version 0.20 to 100 in 0.22.\n",
      "  \"10 in version 0.20 to 100 in 0.22.\", FutureWarning)\n"
     ]
    },
    {
     "name": "stdout",
     "output_type": "stream",
     "text": [
      "[CV]  criterion=mae, max_depth=4, min_samples_leaf=4, min_samples_split=4, total=   0.0s\n",
      "[CV] criterion=mae, max_depth=4, min_samples_leaf=4, min_samples_split=4 \n"
     ]
    },
    {
     "name": "stderr",
     "output_type": "stream",
     "text": [
      "C:\\Users\\N394\\Anaconda3\\lib\\site-packages\\sklearn\\ensemble\\forest.py:246: FutureWarning: The default value of n_estimators will change from 10 in version 0.20 to 100 in 0.22.\n",
      "  \"10 in version 0.20 to 100 in 0.22.\", FutureWarning)\n"
     ]
    },
    {
     "name": "stdout",
     "output_type": "stream",
     "text": [
      "[CV]  criterion=mae, max_depth=4, min_samples_leaf=4, min_samples_split=4, total=   0.0s\n"
     ]
    },
    {
     "name": "stderr",
     "output_type": "stream",
     "text": [
      "[Parallel(n_jobs=1)]: Done 360 out of 360 | elapsed:    6.3s finished\n",
      "C:\\Users\\N394\\Anaconda3\\lib\\site-packages\\sklearn\\ensemble\\forest.py:246: FutureWarning: The default value of n_estimators will change from 10 in version 0.20 to 100 in 0.22.\n",
      "  \"10 in version 0.20 to 100 in 0.22.\", FutureWarning)\n",
      "C:\\Users\\N394\\Anaconda3\\lib\\site-packages\\sklearn\\utils\\deprecation.py:125: FutureWarning: You are accessing a training score ('split0_train_score'), which will not be available by default any more in 0.21. If you need training scores, please set return_train_score=True\n",
      "  warnings.warn(*warn_args, **warn_kwargs)\n",
      "C:\\Users\\N394\\Anaconda3\\lib\\site-packages\\sklearn\\utils\\deprecation.py:125: FutureWarning: You are accessing a training score ('split1_train_score'), which will not be available by default any more in 0.21. If you need training scores, please set return_train_score=True\n",
      "  warnings.warn(*warn_args, **warn_kwargs)\n",
      "C:\\Users\\N394\\Anaconda3\\lib\\site-packages\\sklearn\\utils\\deprecation.py:125: FutureWarning: You are accessing a training score ('split2_train_score'), which will not be available by default any more in 0.21. If you need training scores, please set return_train_score=True\n",
      "  warnings.warn(*warn_args, **warn_kwargs)\n",
      "C:\\Users\\N394\\Anaconda3\\lib\\site-packages\\sklearn\\utils\\deprecation.py:125: FutureWarning: You are accessing a training score ('split3_train_score'), which will not be available by default any more in 0.21. If you need training scores, please set return_train_score=True\n",
      "  warnings.warn(*warn_args, **warn_kwargs)\n",
      "C:\\Users\\N394\\Anaconda3\\lib\\site-packages\\sklearn\\utils\\deprecation.py:125: FutureWarning: You are accessing a training score ('split4_train_score'), which will not be available by default any more in 0.21. If you need training scores, please set return_train_score=True\n",
      "  warnings.warn(*warn_args, **warn_kwargs)\n",
      "C:\\Users\\N394\\Anaconda3\\lib\\site-packages\\sklearn\\utils\\deprecation.py:125: FutureWarning: You are accessing a training score ('mean_train_score'), which will not be available by default any more in 0.21. If you need training scores, please set return_train_score=True\n",
      "  warnings.warn(*warn_args, **warn_kwargs)\n",
      "C:\\Users\\N394\\Anaconda3\\lib\\site-packages\\sklearn\\utils\\deprecation.py:125: FutureWarning: You are accessing a training score ('std_train_score'), which will not be available by default any more in 0.21. If you need training scores, please set return_train_score=True\n",
      "  warnings.warn(*warn_args, **warn_kwargs)\n"
     ]
    }
   ],
   "source": [
    "def param():\n",
    "    ret = {\n",
    "#         \"n_estimators\":np.arange(1,500,1),\n",
    "        \"criterion\":[\"mse\",\"mae\"],\n",
    "        \"max_depth\":np.arange(1,5,1),\n",
    "        \"min_samples_split\":np.arange(2,5,1),\n",
    "        \"min_samples_leaf\":np.arange(2,5,1)\n",
    "    }\n",
    "    return ret\n",
    "\n",
    "gscv = GridSearchCV(RandomForestRegressor(),param(),cv=5,verbose=2)\n",
    "gscv.fit(X_train,y_train)\n",
    "    \n",
    "gs_result = pd.DataFrame.from_dict(gscv.cv_results_)\n",
    "# print(gs_result)\n",
    "    \n",
    "best1 = gscv.best_estimator_"
   ]
  },
  {
   "cell_type": "code",
   "execution_count": 21,
   "metadata": {},
   "outputs": [
    {
     "data": {
      "text/plain": [
       "RandomForestRegressor(bootstrap=True, criterion='mae', max_depth=4,\n",
       "           max_features='auto', max_leaf_nodes=None,\n",
       "           min_impurity_decrease=0.0, min_impurity_split=None,\n",
       "           min_samples_leaf=2, min_samples_split=3,\n",
       "           min_weight_fraction_leaf=0.0, n_estimators=10, n_jobs=None,\n",
       "           oob_score=False, random_state=None, verbose=0, warm_start=False)"
      ]
     },
     "execution_count": 21,
     "metadata": {},
     "output_type": "execute_result"
    }
   ],
   "source": [
    "best1"
   ]
  },
  {
   "cell_type": "code",
   "execution_count": 22,
   "metadata": {
    "scrolled": true
   },
   "outputs": [
    {
     "name": "stdout",
     "output_type": "stream",
     "text": [
      "R2_score= -0.006441477674000495\n",
      "ランダムフォレスト_MSE_訓練誤差 =  0.8607337181018053\n",
      "\n",
      "ランダムフォレスト_MSE_汎化誤差 =  0.6922345508669665\n",
      "[0.82772558 0.04718994 0.1205341  0.00455039]\n"
     ]
    },
    {
     "data": {
      "image/png": "[encoded data removed]",
      "text/plain": [
       "<Figure size 504x144 with 1 Axes>"
      ]
     },
     "metadata": {
      "needs_background": "light"
     },
     "output_type": "display_data"
    }
   ],
   "source": [
    "clf = RandomForestRegressor(bootstrap=True, criterion='mse', max_depth=3,\n",
    "           max_features='auto', max_leaf_nodes=None,\n",
    "           min_impurity_decrease=0.0, min_impurity_split=None,\n",
    "           min_samples_leaf=4, min_samples_split=2,\n",
    "           min_weight_fraction_leaf=0.0, n_estimators=500, n_jobs=None,\n",
    "           oob_score=False, random_state=1234, verbose=0, warm_start=False)\n",
    "\n",
    "clf.fit(X_train,y_train)\n",
    "mse2 = mse(y_test,clf.predict(X_test))\n",
    "print(\"R2_score=\",clf.score(X_test,y_test))\n",
    "print(\"ランダムフォレスト_MSE_訓練誤差 = \",(mse(y_train,clf.predict(X_train))))\n",
    "print()\n",
    "print(\"ランダムフォレスト_MSE_汎化誤差 = \",(mse(y_test,clf.predict(X_test))))\n",
    "print(clf.feature_importances_)\n",
    "pd.DataFrame(clf.feature_importances_,index=['temp_difference', 'AC', 'rain', 'sun']).plot.bar(figsize=(7,2))\n",
    "plt.ylabel(\"Importance\")\n",
    "plt.xlabel(\"Feature\")\n",
    "plt.show\n",
    "\n",
    "random = clf.predict(X_test)"
   ]
  },
  {
   "cell_type": "markdown",
   "metadata": {},
   "source": [
    "# アダブースト"
   ]
  },
  {
   "cell_type": "code",
   "execution_count": 23,
   "metadata": {},
   "outputs": [
    {
     "name": "stdout",
     "output_type": "stream",
     "text": [
      "Fitting 5 folds for each of 72 candidates, totalling 360 fits\n"
     ]
    },
    {
     "name": "stderr",
     "output_type": "stream",
     "text": [
      "[Parallel(n_jobs=1)]: Using backend SequentialBackend with 1 concurrent workers.\n"
     ]
    },
    {
     "name": "stdout",
     "output_type": "stream",
     "text": [
      "[CV] criterion=mse, max_depth=1, min_samples_leaf=2, min_samples_split=2 \n",
      "[CV]  criterion=mse, max_depth=1, min_samples_leaf=2, min_samples_split=2, total=   0.0s\n"
     ]
    },
    {
     "name": "stderr",
     "output_type": "stream",
     "text": [
      "[Parallel(n_jobs=1)]: Done   1 out of   1 | elapsed:    0.0s remaining:    0.0s\n"
     ]
    },
    {
     "name": "stdout",
     "output_type": "stream",
     "text": [
      "[CV] criterion=mse, max_depth=1, min_samples_leaf=2, min_samples_split=2 \n",
      "[CV]  criterion=mse, max_depth=1, min_samples_leaf=2, min_samples_split=2, total=   0.0s\n",
      "[CV] criterion=mse, max_depth=1, min_samples_leaf=2, min_samples_split=2 \n",
      "[CV]  criterion=mse, max_depth=1, min_samples_leaf=2, min_samples_split=2, total=   0.0s\n",
      "[CV] criterion=mse, max_depth=1, min_samples_leaf=2, min_samples_split=2 \n",
      "[CV]  criterion=mse, max_depth=1, min_samples_leaf=2, min_samples_split=2, total=   0.0s\n",
      "[CV] criterion=mse, max_depth=1, min_samples_leaf=2, min_samples_split=2 \n",
      "[CV]  criterion=mse, max_depth=1, min_samples_leaf=2, min_samples_split=2, total=   0.0s\n",
      "[CV] criterion=mse, max_depth=1, min_samples_leaf=2, min_samples_split=3 \n",
      "[CV]  criterion=mse, max_depth=1, min_samples_leaf=2, min_samples_split=3, total=   0.0s\n",
      "[CV] criterion=mse, max_depth=1, min_samples_leaf=2, min_samples_split=3 \n",
      "[CV]  criterion=mse, max_depth=1, min_samples_leaf=2, min_samples_split=3, total=   0.0s\n",
      "[CV] criterion=mse, max_depth=1, min_samples_leaf=2, min_samples_split=3 \n",
      "[CV]  criterion=mse, max_depth=1, min_samples_leaf=2, min_samples_split=3, total=   0.0s\n",
      "[CV] criterion=mse, max_depth=1, min_samples_leaf=2, min_samples_split=3 \n",
      "[CV]  criterion=mse, max_depth=1, min_samples_leaf=2, min_samples_split=3, total=   0.0s\n",
      "[CV] criterion=mse, max_depth=1, min_samples_leaf=2, min_samples_split=3 \n",
      "[CV]  criterion=mse, max_depth=1, min_samples_leaf=2, min_samples_split=3, total=   0.0s\n",
      "[CV] criterion=mse, max_depth=1, min_samples_leaf=2, min_samples_split=4 \n",
      "[CV]  criterion=mse, max_depth=1, min_samples_leaf=2, min_samples_split=4, total=   0.0s\n",
      "[CV] criterion=mse, max_depth=1, min_samples_leaf=2, min_samples_split=4 \n",
      "[CV]  criterion=mse, max_depth=1, min_samples_leaf=2, min_samples_split=4, total=   0.0s\n",
      "[CV] criterion=mse, max_depth=1, min_samples_leaf=2, min_samples_split=4 \n",
      "[CV]  criterion=mse, max_depth=1, min_samples_leaf=2, min_samples_split=4, total=   0.0s\n",
      "[CV] criterion=mse, max_depth=1, min_samples_leaf=2, min_samples_split=4 \n",
      "[CV]  criterion=mse, max_depth=1, min_samples_leaf=2, min_samples_split=4, total=   0.0s\n",
      "[CV] criterion=mse, max_depth=1, min_samples_leaf=2, min_samples_split=4 \n",
      "[CV]  criterion=mse, max_depth=1, min_samples_leaf=2, min_samples_split=4, total=   0.0s\n",
      "[CV] criterion=mse, max_depth=1, min_samples_leaf=3, min_samples_split=2 \n",
      "[CV]  criterion=mse, max_depth=1, min_samples_leaf=3, min_samples_split=2, total=   0.0s\n",
      "[CV] criterion=mse, max_depth=1, min_samples_leaf=3, min_samples_split=2 \n",
      "[CV]  criterion=mse, max_depth=1, min_samples_leaf=3, min_samples_split=2, total=   0.0s\n",
      "[CV] criterion=mse, max_depth=1, min_samples_leaf=3, min_samples_split=2 \n",
      "[CV]  criterion=mse, max_depth=1, min_samples_leaf=3, min_samples_split=2, total=   0.0s\n",
      "[CV] criterion=mse, max_depth=1, min_samples_leaf=3, min_samples_split=2 \n",
      "[CV]  criterion=mse, max_depth=1, min_samples_leaf=3, min_samples_split=2, total=   0.0s\n",
      "[CV] criterion=mse, max_depth=1, min_samples_leaf=3, min_samples_split=2 \n",
      "[CV]  criterion=mse, max_depth=1, min_samples_leaf=3, min_samples_split=2, total=   0.0s\n",
      "[CV] criterion=mse, max_depth=1, min_samples_leaf=3, min_samples_split=3 \n",
      "[CV]  criterion=mse, max_depth=1, min_samples_leaf=3, min_samples_split=3, total=   0.0s\n",
      "[CV] criterion=mse, max_depth=1, min_samples_leaf=3, min_samples_split=3 \n",
      "[CV]  criterion=mse, max_depth=1, min_samples_leaf=3, min_samples_split=3, total=   0.0s\n",
      "[CV] criterion=mse, max_depth=1, min_samples_leaf=3, min_samples_split=3 \n",
      "[CV]  criterion=mse, max_depth=1, min_samples_leaf=3, min_samples_split=3, total=   0.0s\n",
      "[CV] criterion=mse, max_depth=1, min_samples_leaf=3, min_samples_split=3 \n",
      "[CV]  criterion=mse, max_depth=1, min_samples_leaf=3, min_samples_split=3, total=   0.0s\n",
      "[CV] criterion=mse, max_depth=1, min_samples_leaf=3, min_samples_split=3 \n",
      "[CV]  criterion=mse, max_depth=1, min_samples_leaf=3, min_samples_split=3, total=   0.0s\n",
      "[CV] criterion=mse, max_depth=1, min_samples_leaf=3, min_samples_split=4 \n",
      "[CV]  criterion=mse, max_depth=1, min_samples_leaf=3, min_samples_split=4, total=   0.0s\n",
      "[CV] criterion=mse, max_depth=1, min_samples_leaf=3, min_samples_split=4 \n",
      "[CV]  criterion=mse, max_depth=1, min_samples_leaf=3, min_samples_split=4, total=   0.0s\n",
      "[CV] criterion=mse, max_depth=1, min_samples_leaf=3, min_samples_split=4 \n",
      "[CV]  criterion=mse, max_depth=1, min_samples_leaf=3, min_samples_split=4, total=   0.0s\n",
      "[CV] criterion=mse, max_depth=1, min_samples_leaf=3, min_samples_split=4 \n",
      "[CV]  criterion=mse, max_depth=1, min_samples_leaf=3, min_samples_split=4, total=   0.0s\n",
      "[CV] criterion=mse, max_depth=1, min_samples_leaf=3, min_samples_split=4 \n",
      "[CV]  criterion=mse, max_depth=1, min_samples_leaf=3, min_samples_split=4, total=   0.0s\n",
      "[CV] criterion=mse, max_depth=1, min_samples_leaf=4, min_samples_split=2 \n",
      "[CV]  criterion=mse, max_depth=1, min_samples_leaf=4, min_samples_split=2, total=   0.0s\n",
      "[CV] criterion=mse, max_depth=1, min_samples_leaf=4, min_samples_split=2 \n",
      "[CV]  criterion=mse, max_depth=1, min_samples_leaf=4, min_samples_split=2, total=   0.0s\n",
      "[CV] criterion=mse, max_depth=1, min_samples_leaf=4, min_samples_split=2 \n",
      "[CV]  criterion=mse, max_depth=1, min_samples_leaf=4, min_samples_split=2, total=   0.0s\n",
      "[CV] criterion=mse, max_depth=1, min_samples_leaf=4, min_samples_split=2 \n",
      "[CV]  criterion=mse, max_depth=1, min_samples_leaf=4, min_samples_split=2, total=   0.0s\n",
      "[CV] criterion=mse, max_depth=1, min_samples_leaf=4, min_samples_split=2 \n",
      "[CV]  criterion=mse, max_depth=1, min_samples_leaf=4, min_samples_split=2, total=   0.0s\n",
      "[CV] criterion=mse, max_depth=1, min_samples_leaf=4, min_samples_split=3 \n",
      "[CV]  criterion=mse, max_depth=1, min_samples_leaf=4, min_samples_split=3, total=   0.0s\n",
      "[CV] criterion=mse, max_depth=1, min_samples_leaf=4, min_samples_split=3 \n",
      "[CV]  criterion=mse, max_depth=1, min_samples_leaf=4, min_samples_split=3, total=   0.0s\n",
      "[CV] criterion=mse, max_depth=1, min_samples_leaf=4, min_samples_split=3 \n",
      "[CV]  criterion=mse, max_depth=1, min_samples_leaf=4, min_samples_split=3, total=   0.0s\n",
      "[CV] criterion=mse, max_depth=1, min_samples_leaf=4, min_samples_split=3 \n",
      "[CV]  criterion=mse, max_depth=1, min_samples_leaf=4, min_samples_split=3, total=   0.0s\n",
      "[CV] criterion=mse, max_depth=1, min_samples_leaf=4, min_samples_split=3 \n",
      "[CV]  criterion=mse, max_depth=1, min_samples_leaf=4, min_samples_split=3, total=   0.0s\n",
      "[CV] criterion=mse, max_depth=1, min_samples_leaf=4, min_samples_split=4 \n",
      "[CV]  criterion=mse, max_depth=1, min_samples_leaf=4, min_samples_split=4, total=   0.0s\n",
      "[CV] criterion=mse, max_depth=1, min_samples_leaf=4, min_samples_split=4 \n",
      "[CV]  criterion=mse, max_depth=1, min_samples_leaf=4, min_samples_split=4, total=   0.0s\n",
      "[CV] criterion=mse, max_depth=1, min_samples_leaf=4, min_samples_split=4 \n",
      "[CV]  criterion=mse, max_depth=1, min_samples_leaf=4, min_samples_split=4, total=   0.0s\n",
      "[CV] criterion=mse, max_depth=1, min_samples_leaf=4, min_samples_split=4 \n",
      "[CV]  criterion=mse, max_depth=1, min_samples_leaf=4, min_samples_split=4, total=   0.0s\n",
      "[CV] criterion=mse, max_depth=1, min_samples_leaf=4, min_samples_split=4 \n",
      "[CV]  criterion=mse, max_depth=1, min_samples_leaf=4, min_samples_split=4, total=   0.0s\n",
      "[CV] criterion=mse, max_depth=2, min_samples_leaf=2, min_samples_split=2 \n",
      "[CV]  criterion=mse, max_depth=2, min_samples_leaf=2, min_samples_split=2, total=   0.0s\n",
      "[CV] criterion=mse, max_depth=2, min_samples_leaf=2, min_samples_split=2 \n",
      "[CV]  criterion=mse, max_depth=2, min_samples_leaf=2, min_samples_split=2, total=   0.0s\n",
      "[CV] criterion=mse, max_depth=2, min_samples_leaf=2, min_samples_split=2 \n",
      "[CV]  criterion=mse, max_depth=2, min_samples_leaf=2, min_samples_split=2, total=   0.0s\n",
      "[CV] criterion=mse, max_depth=2, min_samples_leaf=2, min_samples_split=2 \n",
      "[CV]  criterion=mse, max_depth=2, min_samples_leaf=2, min_samples_split=2, total=   0.0s\n",
      "[CV] criterion=mse, max_depth=2, min_samples_leaf=2, min_samples_split=2 \n",
      "[CV]  criterion=mse, max_depth=2, min_samples_leaf=2, min_samples_split=2, total=   0.0s\n",
      "[CV] criterion=mse, max_depth=2, min_samples_leaf=2, min_samples_split=3 \n",
      "[CV]  criterion=mse, max_depth=2, min_samples_leaf=2, min_samples_split=3, total=   0.0s\n"
     ]
    },
    {
     "name": "stdout",
     "output_type": "stream",
     "text": [
      "[CV] criterion=mse, max_depth=2, min_samples_leaf=2, min_samples_split=3 \n",
      "[CV]  criterion=mse, max_depth=2, min_samples_leaf=2, min_samples_split=3, total=   0.0s\n",
      "[CV] criterion=mse, max_depth=2, min_samples_leaf=2, min_samples_split=3 \n",
      "[CV]  criterion=mse, max_depth=2, min_samples_leaf=2, min_samples_split=3, total=   0.0s\n",
      "[CV] criterion=mse, max_depth=2, min_samples_leaf=2, min_samples_split=3 \n",
      "[CV]  criterion=mse, max_depth=2, min_samples_leaf=2, min_samples_split=3, total=   0.0s\n",
      "[CV] criterion=mse, max_depth=2, min_samples_leaf=2, min_samples_split=3 \n",
      "[CV]  criterion=mse, max_depth=2, min_samples_leaf=2, min_samples_split=3, total=   0.0s\n",
      "[CV] criterion=mse, max_depth=2, min_samples_leaf=2, min_samples_split=4 \n",
      "[CV]  criterion=mse, max_depth=2, min_samples_leaf=2, min_samples_split=4, total=   0.0s\n",
      "[CV] criterion=mse, max_depth=2, min_samples_leaf=2, min_samples_split=4 \n",
      "[CV]  criterion=mse, max_depth=2, min_samples_leaf=2, min_samples_split=4, total=   0.0s\n",
      "[CV] criterion=mse, max_depth=2, min_samples_leaf=2, min_samples_split=4 \n",
      "[CV]  criterion=mse, max_depth=2, min_samples_leaf=2, min_samples_split=4, total=   0.0s\n",
      "[CV] criterion=mse, max_depth=2, min_samples_leaf=2, min_samples_split=4 \n",
      "[CV]  criterion=mse, max_depth=2, min_samples_leaf=2, min_samples_split=4, total=   0.0s\n",
      "[CV] criterion=mse, max_depth=2, min_samples_leaf=2, min_samples_split=4 \n",
      "[CV]  criterion=mse, max_depth=2, min_samples_leaf=2, min_samples_split=4, total=   0.0s\n",
      "[CV] criterion=mse, max_depth=2, min_samples_leaf=3, min_samples_split=2 \n",
      "[CV]  criterion=mse, max_depth=2, min_samples_leaf=3, min_samples_split=2, total=   0.0s\n",
      "[CV] criterion=mse, max_depth=2, min_samples_leaf=3, min_samples_split=2 \n",
      "[CV]  criterion=mse, max_depth=2, min_samples_leaf=3, min_samples_split=2, total=   0.0s\n",
      "[CV] criterion=mse, max_depth=2, min_samples_leaf=3, min_samples_split=2 \n",
      "[CV]  criterion=mse, max_depth=2, min_samples_leaf=3, min_samples_split=2, total=   0.0s\n",
      "[CV] criterion=mse, max_depth=2, min_samples_leaf=3, min_samples_split=2 \n",
      "[CV]  criterion=mse, max_depth=2, min_samples_leaf=3, min_samples_split=2, total=   0.0s\n",
      "[CV] criterion=mse, max_depth=2, min_samples_leaf=3, min_samples_split=2 \n",
      "[CV]  criterion=mse, max_depth=2, min_samples_leaf=3, min_samples_split=2, total=   0.0s\n",
      "[CV] criterion=mse, max_depth=2, min_samples_leaf=3, min_samples_split=3 \n",
      "[CV]  criterion=mse, max_depth=2, min_samples_leaf=3, min_samples_split=3, total=   0.0s\n",
      "[CV] criterion=mse, max_depth=2, min_samples_leaf=3, min_samples_split=3 \n",
      "[CV]  criterion=mse, max_depth=2, min_samples_leaf=3, min_samples_split=3, total=   0.0s\n",
      "[CV] criterion=mse, max_depth=2, min_samples_leaf=3, min_samples_split=3 \n",
      "[CV]  criterion=mse, max_depth=2, min_samples_leaf=3, min_samples_split=3, total=   0.0s\n",
      "[CV] criterion=mse, max_depth=2, min_samples_leaf=3, min_samples_split=3 \n",
      "[CV]  criterion=mse, max_depth=2, min_samples_leaf=3, min_samples_split=3, total=   0.0s\n",
      "[CV] criterion=mse, max_depth=2, min_samples_leaf=3, min_samples_split=3 \n",
      "[CV]  criterion=mse, max_depth=2, min_samples_leaf=3, min_samples_split=3, total=   0.0s\n",
      "[CV] criterion=mse, max_depth=2, min_samples_leaf=3, min_samples_split=4 \n",
      "[CV]  criterion=mse, max_depth=2, min_samples_leaf=3, min_samples_split=4, total=   0.0s\n",
      "[CV] criterion=mse, max_depth=2, min_samples_leaf=3, min_samples_split=4 \n",
      "[CV]  criterion=mse, max_depth=2, min_samples_leaf=3, min_samples_split=4, total=   0.0s\n",
      "[CV] criterion=mse, max_depth=2, min_samples_leaf=3, min_samples_split=4 \n",
      "[CV]  criterion=mse, max_depth=2, min_samples_leaf=3, min_samples_split=4, total=   0.0s\n",
      "[CV] criterion=mse, max_depth=2, min_samples_leaf=3, min_samples_split=4 \n",
      "[CV]  criterion=mse, max_depth=2, min_samples_leaf=3, min_samples_split=4, total=   0.0s\n",
      "[CV] criterion=mse, max_depth=2, min_samples_leaf=3, min_samples_split=4 \n",
      "[CV]  criterion=mse, max_depth=2, min_samples_leaf=3, min_samples_split=4, total=   0.0s\n",
      "[CV] criterion=mse, max_depth=2, min_samples_leaf=4, min_samples_split=2 \n",
      "[CV]  criterion=mse, max_depth=2, min_samples_leaf=4, min_samples_split=2, total=   0.0s\n",
      "[CV] criterion=mse, max_depth=2, min_samples_leaf=4, min_samples_split=2 \n",
      "[CV]  criterion=mse, max_depth=2, min_samples_leaf=4, min_samples_split=2, total=   0.0s\n",
      "[CV] criterion=mse, max_depth=2, min_samples_leaf=4, min_samples_split=2 \n",
      "[CV]  criterion=mse, max_depth=2, min_samples_leaf=4, min_samples_split=2, total=   0.0s\n",
      "[CV] criterion=mse, max_depth=2, min_samples_leaf=4, min_samples_split=2 \n",
      "[CV]  criterion=mse, max_depth=2, min_samples_leaf=4, min_samples_split=2, total=   0.0s\n",
      "[CV] criterion=mse, max_depth=2, min_samples_leaf=4, min_samples_split=2 \n",
      "[CV]  criterion=mse, max_depth=2, min_samples_leaf=4, min_samples_split=2, total=   0.0s\n",
      "[CV] criterion=mse, max_depth=2, min_samples_leaf=4, min_samples_split=3 \n",
      "[CV]  criterion=mse, max_depth=2, min_samples_leaf=4, min_samples_split=3, total=   0.0s\n",
      "[CV] criterion=mse, max_depth=2, min_samples_leaf=4, min_samples_split=3 \n",
      "[CV]  criterion=mse, max_depth=2, min_samples_leaf=4, min_samples_split=3, total=   0.0s\n",
      "[CV] criterion=mse, max_depth=2, min_samples_leaf=4, min_samples_split=3 \n",
      "[CV]  criterion=mse, max_depth=2, min_samples_leaf=4, min_samples_split=3, total=   0.0s\n",
      "[CV] criterion=mse, max_depth=2, min_samples_leaf=4, min_samples_split=3 \n",
      "[CV]  criterion=mse, max_depth=2, min_samples_leaf=4, min_samples_split=3, total=   0.0s\n",
      "[CV] criterion=mse, max_depth=2, min_samples_leaf=4, min_samples_split=3 \n",
      "[CV]  criterion=mse, max_depth=2, min_samples_leaf=4, min_samples_split=3, total=   0.0s\n",
      "[CV] criterion=mse, max_depth=2, min_samples_leaf=4, min_samples_split=4 \n",
      "[CV]  criterion=mse, max_depth=2, min_samples_leaf=4, min_samples_split=4, total=   0.0s\n",
      "[CV] criterion=mse, max_depth=2, min_samples_leaf=4, min_samples_split=4 \n",
      "[CV]  criterion=mse, max_depth=2, min_samples_leaf=4, min_samples_split=4, total=   0.0s\n",
      "[CV] criterion=mse, max_depth=2, min_samples_leaf=4, min_samples_split=4 \n",
      "[CV]  criterion=mse, max_depth=2, min_samples_leaf=4, min_samples_split=4, total=   0.0s\n",
      "[CV] criterion=mse, max_depth=2, min_samples_leaf=4, min_samples_split=4 \n",
      "[CV]  criterion=mse, max_depth=2, min_samples_leaf=4, min_samples_split=4, total=   0.0s\n",
      "[CV] criterion=mse, max_depth=2, min_samples_leaf=4, min_samples_split=4 \n",
      "[CV]  criterion=mse, max_depth=2, min_samples_leaf=4, min_samples_split=4, total=   0.0s\n",
      "[CV] criterion=mse, max_depth=3, min_samples_leaf=2, min_samples_split=2 \n",
      "[CV]  criterion=mse, max_depth=3, min_samples_leaf=2, min_samples_split=2, total=   0.0s\n",
      "[CV] criterion=mse, max_depth=3, min_samples_leaf=2, min_samples_split=2 \n",
      "[CV]  criterion=mse, max_depth=3, min_samples_leaf=2, min_samples_split=2, total=   0.0s\n",
      "[CV] criterion=mse, max_depth=3, min_samples_leaf=2, min_samples_split=2 \n",
      "[CV]  criterion=mse, max_depth=3, min_samples_leaf=2, min_samples_split=2, total=   0.0s\n",
      "[CV] criterion=mse, max_depth=3, min_samples_leaf=2, min_samples_split=2 \n",
      "[CV]  criterion=mse, max_depth=3, min_samples_leaf=2, min_samples_split=2, total=   0.0s\n",
      "[CV] criterion=mse, max_depth=3, min_samples_leaf=2, min_samples_split=2 \n",
      "[CV]  criterion=mse, max_depth=3, min_samples_leaf=2, min_samples_split=2, total=   0.0s\n",
      "[CV] criterion=mse, max_depth=3, min_samples_leaf=2, min_samples_split=3 \n",
      "[CV]  criterion=mse, max_depth=3, min_samples_leaf=2, min_samples_split=3, total=   0.0s\n",
      "[CV] criterion=mse, max_depth=3, min_samples_leaf=2, min_samples_split=3 \n",
      "[CV]  criterion=mse, max_depth=3, min_samples_leaf=2, min_samples_split=3, total=   0.0s\n",
      "[CV] criterion=mse, max_depth=3, min_samples_leaf=2, min_samples_split=3 \n",
      "[CV]  criterion=mse, max_depth=3, min_samples_leaf=2, min_samples_split=3, total=   0.0s\n",
      "[CV] criterion=mse, max_depth=3, min_samples_leaf=2, min_samples_split=3 \n",
      "[CV]  criterion=mse, max_depth=3, min_samples_leaf=2, min_samples_split=3, total=   0.0s\n",
      "[CV] criterion=mse, max_depth=3, min_samples_leaf=2, min_samples_split=3 \n",
      "[CV]  criterion=mse, max_depth=3, min_samples_leaf=2, min_samples_split=3, total=   0.0s\n",
      "[CV] criterion=mse, max_depth=3, min_samples_leaf=2, min_samples_split=4 \n",
      "[CV]  criterion=mse, max_depth=3, min_samples_leaf=2, min_samples_split=4, total=   0.0s\n"
     ]
    },
    {
     "name": "stdout",
     "output_type": "stream",
     "text": [
      "[CV] criterion=mse, max_depth=3, min_samples_leaf=2, min_samples_split=4 \n",
      "[CV]  criterion=mse, max_depth=3, min_samples_leaf=2, min_samples_split=4, total=   0.0s\n",
      "[CV] criterion=mse, max_depth=3, min_samples_leaf=2, min_samples_split=4 \n",
      "[CV]  criterion=mse, max_depth=3, min_samples_leaf=2, min_samples_split=4, total=   0.0s\n",
      "[CV] criterion=mse, max_depth=3, min_samples_leaf=2, min_samples_split=4 \n",
      "[CV]  criterion=mse, max_depth=3, min_samples_leaf=2, min_samples_split=4, total=   0.0s\n",
      "[CV] criterion=mse, max_depth=3, min_samples_leaf=2, min_samples_split=4 \n",
      "[CV]  criterion=mse, max_depth=3, min_samples_leaf=2, min_samples_split=4, total=   0.0s\n",
      "[CV] criterion=mse, max_depth=3, min_samples_leaf=3, min_samples_split=2 \n",
      "[CV]  criterion=mse, max_depth=3, min_samples_leaf=3, min_samples_split=2, total=   0.0s\n",
      "[CV] criterion=mse, max_depth=3, min_samples_leaf=3, min_samples_split=2 \n",
      "[CV]  criterion=mse, max_depth=3, min_samples_leaf=3, min_samples_split=2, total=   0.0s\n",
      "[CV] criterion=mse, max_depth=3, min_samples_leaf=3, min_samples_split=2 \n",
      "[CV]  criterion=mse, max_depth=3, min_samples_leaf=3, min_samples_split=2, total=   0.0s\n",
      "[CV] criterion=mse, max_depth=3, min_samples_leaf=3, min_samples_split=2 \n",
      "[CV]  criterion=mse, max_depth=3, min_samples_leaf=3, min_samples_split=2, total=   0.0s\n",
      "[CV] criterion=mse, max_depth=3, min_samples_leaf=3, min_samples_split=2 \n",
      "[CV]  criterion=mse, max_depth=3, min_samples_leaf=3, min_samples_split=2, total=   0.0s\n",
      "[CV] criterion=mse, max_depth=3, min_samples_leaf=3, min_samples_split=3 \n",
      "[CV]  criterion=mse, max_depth=3, min_samples_leaf=3, min_samples_split=3, total=   0.0s\n",
      "[CV] criterion=mse, max_depth=3, min_samples_leaf=3, min_samples_split=3 \n",
      "[CV]  criterion=mse, max_depth=3, min_samples_leaf=3, min_samples_split=3, total=   0.0s\n",
      "[CV] criterion=mse, max_depth=3, min_samples_leaf=3, min_samples_split=3 \n",
      "[CV]  criterion=mse, max_depth=3, min_samples_leaf=3, min_samples_split=3, total=   0.0s\n",
      "[CV] criterion=mse, max_depth=3, min_samples_leaf=3, min_samples_split=3 \n",
      "[CV]  criterion=mse, max_depth=3, min_samples_leaf=3, min_samples_split=3, total=   0.0s\n",
      "[CV] criterion=mse, max_depth=3, min_samples_leaf=3, min_samples_split=3 \n",
      "[CV]  criterion=mse, max_depth=3, min_samples_leaf=3, min_samples_split=3, total=   0.0s\n",
      "[CV] criterion=mse, max_depth=3, min_samples_leaf=3, min_samples_split=4 \n",
      "[CV]  criterion=mse, max_depth=3, min_samples_leaf=3, min_samples_split=4, total=   0.0s\n",
      "[CV] criterion=mse, max_depth=3, min_samples_leaf=3, min_samples_split=4 \n",
      "[CV]  criterion=mse, max_depth=3, min_samples_leaf=3, min_samples_split=4, total=   0.0s\n",
      "[CV] criterion=mse, max_depth=3, min_samples_leaf=3, min_samples_split=4 \n",
      "[CV]  criterion=mse, max_depth=3, min_samples_leaf=3, min_samples_split=4, total=   0.0s\n",
      "[CV] criterion=mse, max_depth=3, min_samples_leaf=3, min_samples_split=4 \n",
      "[CV]  criterion=mse, max_depth=3, min_samples_leaf=3, min_samples_split=4, total=   0.0s\n",
      "[CV] criterion=mse, max_depth=3, min_samples_leaf=3, min_samples_split=4 \n",
      "[CV]  criterion=mse, max_depth=3, min_samples_leaf=3, min_samples_split=4, total=   0.0s\n",
      "[CV] criterion=mse, max_depth=3, min_samples_leaf=4, min_samples_split=2 \n",
      "[CV]  criterion=mse, max_depth=3, min_samples_leaf=4, min_samples_split=2, total=   0.0s\n",
      "[CV] criterion=mse, max_depth=3, min_samples_leaf=4, min_samples_split=2 \n",
      "[CV]  criterion=mse, max_depth=3, min_samples_leaf=4, min_samples_split=2, total=   0.0s\n",
      "[CV] criterion=mse, max_depth=3, min_samples_leaf=4, min_samples_split=2 \n",
      "[CV]  criterion=mse, max_depth=3, min_samples_leaf=4, min_samples_split=2, total=   0.0s\n",
      "[CV] criterion=mse, max_depth=3, min_samples_leaf=4, min_samples_split=2 \n",
      "[CV]  criterion=mse, max_depth=3, min_samples_leaf=4, min_samples_split=2, total=   0.0s\n",
      "[CV] criterion=mse, max_depth=3, min_samples_leaf=4, min_samples_split=2 \n",
      "[CV]  criterion=mse, max_depth=3, min_samples_leaf=4, min_samples_split=2, total=   0.0s\n",
      "[CV] criterion=mse, max_depth=3, min_samples_leaf=4, min_samples_split=3 \n",
      "[CV]  criterion=mse, max_depth=3, min_samples_leaf=4, min_samples_split=3, total=   0.0s\n",
      "[CV] criterion=mse, max_depth=3, min_samples_leaf=4, min_samples_split=3 \n",
      "[CV]  criterion=mse, max_depth=3, min_samples_leaf=4, min_samples_split=3, total=   0.0s\n",
      "[CV] criterion=mse, max_depth=3, min_samples_leaf=4, min_samples_split=3 \n",
      "[CV]  criterion=mse, max_depth=3, min_samples_leaf=4, min_samples_split=3, total=   0.0s\n",
      "[CV] criterion=mse, max_depth=3, min_samples_leaf=4, min_samples_split=3 \n",
      "[CV]  criterion=mse, max_depth=3, min_samples_leaf=4, min_samples_split=3, total=   0.0s\n",
      "[CV] criterion=mse, max_depth=3, min_samples_leaf=4, min_samples_split=3 \n",
      "[CV]  criterion=mse, max_depth=3, min_samples_leaf=4, min_samples_split=3, total=   0.0s\n",
      "[CV] criterion=mse, max_depth=3, min_samples_leaf=4, min_samples_split=4 \n",
      "[CV]  criterion=mse, max_depth=3, min_samples_leaf=4, min_samples_split=4, total=   0.0s\n",
      "[CV] criterion=mse, max_depth=3, min_samples_leaf=4, min_samples_split=4 \n",
      "[CV]  criterion=mse, max_depth=3, min_samples_leaf=4, min_samples_split=4, total=   0.0s\n",
      "[CV] criterion=mse, max_depth=3, min_samples_leaf=4, min_samples_split=4 \n",
      "[CV]  criterion=mse, max_depth=3, min_samples_leaf=4, min_samples_split=4, total=   0.0s\n",
      "[CV] criterion=mse, max_depth=3, min_samples_leaf=4, min_samples_split=4 \n",
      "[CV]  criterion=mse, max_depth=3, min_samples_leaf=4, min_samples_split=4, total=   0.0s\n",
      "[CV] criterion=mse, max_depth=3, min_samples_leaf=4, min_samples_split=4 \n",
      "[CV]  criterion=mse, max_depth=3, min_samples_leaf=4, min_samples_split=4, total=   0.0s\n",
      "[CV] criterion=mse, max_depth=4, min_samples_leaf=2, min_samples_split=2 \n",
      "[CV]  criterion=mse, max_depth=4, min_samples_leaf=2, min_samples_split=2, total=   0.0s\n",
      "[CV] criterion=mse, max_depth=4, min_samples_leaf=2, min_samples_split=2 \n",
      "[CV]  criterion=mse, max_depth=4, min_samples_leaf=2, min_samples_split=2, total=   0.0s\n",
      "[CV] criterion=mse, max_depth=4, min_samples_leaf=2, min_samples_split=2 \n",
      "[CV]  criterion=mse, max_depth=4, min_samples_leaf=2, min_samples_split=2, total=   0.0s\n",
      "[CV] criterion=mse, max_depth=4, min_samples_leaf=2, min_samples_split=2 \n",
      "[CV]  criterion=mse, max_depth=4, min_samples_leaf=2, min_samples_split=2, total=   0.0s\n",
      "[CV] criterion=mse, max_depth=4, min_samples_leaf=2, min_samples_split=2 \n",
      "[CV]  criterion=mse, max_depth=4, min_samples_leaf=2, min_samples_split=2, total=   0.0s\n",
      "[CV] criterion=mse, max_depth=4, min_samples_leaf=2, min_samples_split=3 \n",
      "[CV]  criterion=mse, max_depth=4, min_samples_leaf=2, min_samples_split=3, total=   0.0s\n",
      "[CV] criterion=mse, max_depth=4, min_samples_leaf=2, min_samples_split=3 \n",
      "[CV]  criterion=mse, max_depth=4, min_samples_leaf=2, min_samples_split=3, total=   0.0s\n",
      "[CV] criterion=mse, max_depth=4, min_samples_leaf=2, min_samples_split=3 \n",
      "[CV]  criterion=mse, max_depth=4, min_samples_leaf=2, min_samples_split=3, total=   0.0s\n",
      "[CV] criterion=mse, max_depth=4, min_samples_leaf=2, min_samples_split=3 \n",
      "[CV]  criterion=mse, max_depth=4, min_samples_leaf=2, min_samples_split=3, total=   0.0s\n",
      "[CV] criterion=mse, max_depth=4, min_samples_leaf=2, min_samples_split=3 \n",
      "[CV]  criterion=mse, max_depth=4, min_samples_leaf=2, min_samples_split=3, total=   0.0s\n",
      "[CV] criterion=mse, max_depth=4, min_samples_leaf=2, min_samples_split=4 \n",
      "[CV]  criterion=mse, max_depth=4, min_samples_leaf=2, min_samples_split=4, total=   0.0s\n",
      "[CV] criterion=mse, max_depth=4, min_samples_leaf=2, min_samples_split=4 \n",
      "[CV]  criterion=mse, max_depth=4, min_samples_leaf=2, min_samples_split=4, total=   0.0s\n",
      "[CV] criterion=mse, max_depth=4, min_samples_leaf=2, min_samples_split=4 \n",
      "[CV]  criterion=mse, max_depth=4, min_samples_leaf=2, min_samples_split=4, total=   0.0s\n",
      "[CV] criterion=mse, max_depth=4, min_samples_leaf=2, min_samples_split=4 \n",
      "[CV]  criterion=mse, max_depth=4, min_samples_leaf=2, min_samples_split=4, total=   0.0s\n",
      "[CV] criterion=mse, max_depth=4, min_samples_leaf=2, min_samples_split=4 \n",
      "[CV]  criterion=mse, max_depth=4, min_samples_leaf=2, min_samples_split=4, total=   0.0s\n",
      "[CV] criterion=mse, max_depth=4, min_samples_leaf=3, min_samples_split=2 \n",
      "[CV]  criterion=mse, max_depth=4, min_samples_leaf=3, min_samples_split=2, total=   0.0s\n"
     ]
    },
    {
     "name": "stdout",
     "output_type": "stream",
     "text": [
      "[CV] criterion=mse, max_depth=4, min_samples_leaf=3, min_samples_split=2 \n",
      "[CV]  criterion=mse, max_depth=4, min_samples_leaf=3, min_samples_split=2, total=   0.0s\n",
      "[CV] criterion=mse, max_depth=4, min_samples_leaf=3, min_samples_split=2 \n",
      "[CV]  criterion=mse, max_depth=4, min_samples_leaf=3, min_samples_split=2, total=   0.0s\n",
      "[CV] criterion=mse, max_depth=4, min_samples_leaf=3, min_samples_split=2 \n",
      "[CV]  criterion=mse, max_depth=4, min_samples_leaf=3, min_samples_split=2, total=   0.0s\n",
      "[CV] criterion=mse, max_depth=4, min_samples_leaf=3, min_samples_split=2 \n",
      "[CV]  criterion=mse, max_depth=4, min_samples_leaf=3, min_samples_split=2, total=   0.0s\n",
      "[CV] criterion=mse, max_depth=4, min_samples_leaf=3, min_samples_split=3 \n",
      "[CV]  criterion=mse, max_depth=4, min_samples_leaf=3, min_samples_split=3, total=   0.0s\n",
      "[CV] criterion=mse, max_depth=4, min_samples_leaf=3, min_samples_split=3 \n",
      "[CV]  criterion=mse, max_depth=4, min_samples_leaf=3, min_samples_split=3, total=   0.0s\n",
      "[CV] criterion=mse, max_depth=4, min_samples_leaf=3, min_samples_split=3 \n",
      "[CV]  criterion=mse, max_depth=4, min_samples_leaf=3, min_samples_split=3, total=   0.0s\n",
      "[CV] criterion=mse, max_depth=4, min_samples_leaf=3, min_samples_split=3 \n",
      "[CV]  criterion=mse, max_depth=4, min_samples_leaf=3, min_samples_split=3, total=   0.0s\n",
      "[CV] criterion=mse, max_depth=4, min_samples_leaf=3, min_samples_split=3 \n",
      "[CV]  criterion=mse, max_depth=4, min_samples_leaf=3, min_samples_split=3, total=   0.0s\n",
      "[CV] criterion=mse, max_depth=4, min_samples_leaf=3, min_samples_split=4 \n",
      "[CV]  criterion=mse, max_depth=4, min_samples_leaf=3, min_samples_split=4, total=   0.0s\n",
      "[CV] criterion=mse, max_depth=4, min_samples_leaf=3, min_samples_split=4 \n",
      "[CV]  criterion=mse, max_depth=4, min_samples_leaf=3, min_samples_split=4, total=   0.0s\n",
      "[CV] criterion=mse, max_depth=4, min_samples_leaf=3, min_samples_split=4 \n",
      "[CV]  criterion=mse, max_depth=4, min_samples_leaf=3, min_samples_split=4, total=   0.0s\n",
      "[CV] criterion=mse, max_depth=4, min_samples_leaf=3, min_samples_split=4 \n",
      "[CV]  criterion=mse, max_depth=4, min_samples_leaf=3, min_samples_split=4, total=   0.0s\n",
      "[CV] criterion=mse, max_depth=4, min_samples_leaf=3, min_samples_split=4 \n",
      "[CV]  criterion=mse, max_depth=4, min_samples_leaf=3, min_samples_split=4, total=   0.0s\n",
      "[CV] criterion=mse, max_depth=4, min_samples_leaf=4, min_samples_split=2 \n",
      "[CV]  criterion=mse, max_depth=4, min_samples_leaf=4, min_samples_split=2, total=   0.0s\n",
      "[CV] criterion=mse, max_depth=4, min_samples_leaf=4, min_samples_split=2 \n",
      "[CV]  criterion=mse, max_depth=4, min_samples_leaf=4, min_samples_split=2, total=   0.0s\n",
      "[CV] criterion=mse, max_depth=4, min_samples_leaf=4, min_samples_split=2 \n",
      "[CV]  criterion=mse, max_depth=4, min_samples_leaf=4, min_samples_split=2, total=   0.0s\n",
      "[CV] criterion=mse, max_depth=4, min_samples_leaf=4, min_samples_split=2 \n",
      "[CV]  criterion=mse, max_depth=4, min_samples_leaf=4, min_samples_split=2, total=   0.0s\n",
      "[CV] criterion=mse, max_depth=4, min_samples_leaf=4, min_samples_split=2 \n",
      "[CV]  criterion=mse, max_depth=4, min_samples_leaf=4, min_samples_split=2, total=   0.0s\n",
      "[CV] criterion=mse, max_depth=4, min_samples_leaf=4, min_samples_split=3 \n",
      "[CV]  criterion=mse, max_depth=4, min_samples_leaf=4, min_samples_split=3, total=   0.0s\n",
      "[CV] criterion=mse, max_depth=4, min_samples_leaf=4, min_samples_split=3 \n",
      "[CV]  criterion=mse, max_depth=4, min_samples_leaf=4, min_samples_split=3, total=   0.0s\n",
      "[CV] criterion=mse, max_depth=4, min_samples_leaf=4, min_samples_split=3 \n",
      "[CV]  criterion=mse, max_depth=4, min_samples_leaf=4, min_samples_split=3, total=   0.0s\n",
      "[CV] criterion=mse, max_depth=4, min_samples_leaf=4, min_samples_split=3 \n",
      "[CV]  criterion=mse, max_depth=4, min_samples_leaf=4, min_samples_split=3, total=   0.0s\n",
      "[CV] criterion=mse, max_depth=4, min_samples_leaf=4, min_samples_split=3 \n",
      "[CV]  criterion=mse, max_depth=4, min_samples_leaf=4, min_samples_split=3, total=   0.0s\n",
      "[CV] criterion=mse, max_depth=4, min_samples_leaf=4, min_samples_split=4 \n",
      "[CV]  criterion=mse, max_depth=4, min_samples_leaf=4, min_samples_split=4, total=   0.0s\n",
      "[CV] criterion=mse, max_depth=4, min_samples_leaf=4, min_samples_split=4 \n",
      "[CV]  criterion=mse, max_depth=4, min_samples_leaf=4, min_samples_split=4, total=   0.0s\n",
      "[CV] criterion=mse, max_depth=4, min_samples_leaf=4, min_samples_split=4 \n",
      "[CV]  criterion=mse, max_depth=4, min_samples_leaf=4, min_samples_split=4, total=   0.0s\n",
      "[CV] criterion=mse, max_depth=4, min_samples_leaf=4, min_samples_split=4 \n",
      "[CV]  criterion=mse, max_depth=4, min_samples_leaf=4, min_samples_split=4, total=   0.0s\n",
      "[CV] criterion=mse, max_depth=4, min_samples_leaf=4, min_samples_split=4 \n",
      "[CV]  criterion=mse, max_depth=4, min_samples_leaf=4, min_samples_split=4, total=   0.0s\n",
      "[CV] criterion=mae, max_depth=1, min_samples_leaf=2, min_samples_split=2 \n",
      "[CV]  criterion=mae, max_depth=1, min_samples_leaf=2, min_samples_split=2, total=   0.0s\n",
      "[CV] criterion=mae, max_depth=1, min_samples_leaf=2, min_samples_split=2 \n",
      "[CV]  criterion=mae, max_depth=1, min_samples_leaf=2, min_samples_split=2, total=   0.0s\n",
      "[CV] criterion=mae, max_depth=1, min_samples_leaf=2, min_samples_split=2 \n",
      "[CV]  criterion=mae, max_depth=1, min_samples_leaf=2, min_samples_split=2, total=   0.0s\n",
      "[CV] criterion=mae, max_depth=1, min_samples_leaf=2, min_samples_split=2 \n",
      "[CV]  criterion=mae, max_depth=1, min_samples_leaf=2, min_samples_split=2, total=   0.0s\n",
      "[CV] criterion=mae, max_depth=1, min_samples_leaf=2, min_samples_split=2 \n",
      "[CV]  criterion=mae, max_depth=1, min_samples_leaf=2, min_samples_split=2, total=   0.0s\n",
      "[CV] criterion=mae, max_depth=1, min_samples_leaf=2, min_samples_split=3 \n",
      "[CV]  criterion=mae, max_depth=1, min_samples_leaf=2, min_samples_split=3, total=   0.0s\n",
      "[CV] criterion=mae, max_depth=1, min_samples_leaf=2, min_samples_split=3 \n",
      "[CV]  criterion=mae, max_depth=1, min_samples_leaf=2, min_samples_split=3, total=   0.0s\n",
      "[CV] criterion=mae, max_depth=1, min_samples_leaf=2, min_samples_split=3 \n",
      "[CV]  criterion=mae, max_depth=1, min_samples_leaf=2, min_samples_split=3, total=   0.0s\n",
      "[CV] criterion=mae, max_depth=1, min_samples_leaf=2, min_samples_split=3 \n",
      "[CV]  criterion=mae, max_depth=1, min_samples_leaf=2, min_samples_split=3, total=   0.0s\n",
      "[CV] criterion=mae, max_depth=1, min_samples_leaf=2, min_samples_split=3 \n",
      "[CV]  criterion=mae, max_depth=1, min_samples_leaf=2, min_samples_split=3, total=   0.0s\n",
      "[CV] criterion=mae, max_depth=1, min_samples_leaf=2, min_samples_split=4 \n",
      "[CV]  criterion=mae, max_depth=1, min_samples_leaf=2, min_samples_split=4, total=   0.0s\n",
      "[CV] criterion=mae, max_depth=1, min_samples_leaf=2, min_samples_split=4 \n",
      "[CV]  criterion=mae, max_depth=1, min_samples_leaf=2, min_samples_split=4, total=   0.0s\n",
      "[CV] criterion=mae, max_depth=1, min_samples_leaf=2, min_samples_split=4 \n",
      "[CV]  criterion=mae, max_depth=1, min_samples_leaf=2, min_samples_split=4, total=   0.0s\n",
      "[CV] criterion=mae, max_depth=1, min_samples_leaf=2, min_samples_split=4 \n",
      "[CV]  criterion=mae, max_depth=1, min_samples_leaf=2, min_samples_split=4, total=   0.0s\n",
      "[CV] criterion=mae, max_depth=1, min_samples_leaf=2, min_samples_split=4 \n",
      "[CV]  criterion=mae, max_depth=1, min_samples_leaf=2, min_samples_split=4, total=   0.0s\n",
      "[CV] criterion=mae, max_depth=1, min_samples_leaf=3, min_samples_split=2 \n",
      "[CV]  criterion=mae, max_depth=1, min_samples_leaf=3, min_samples_split=2, total=   0.0s\n",
      "[CV] criterion=mae, max_depth=1, min_samples_leaf=3, min_samples_split=2 \n",
      "[CV]  criterion=mae, max_depth=1, min_samples_leaf=3, min_samples_split=2, total=   0.0s\n",
      "[CV] criterion=mae, max_depth=1, min_samples_leaf=3, min_samples_split=2 \n",
      "[CV]  criterion=mae, max_depth=1, min_samples_leaf=3, min_samples_split=2, total=   0.0s\n",
      "[CV] criterion=mae, max_depth=1, min_samples_leaf=3, min_samples_split=2 \n",
      "[CV]  criterion=mae, max_depth=1, min_samples_leaf=3, min_samples_split=2, total=   0.0s\n",
      "[CV] criterion=mae, max_depth=1, min_samples_leaf=3, min_samples_split=2 \n",
      "[CV]  criterion=mae, max_depth=1, min_samples_leaf=3, min_samples_split=2, total=   0.0s\n",
      "[CV] criterion=mae, max_depth=1, min_samples_leaf=3, min_samples_split=3 \n",
      "[CV]  criterion=mae, max_depth=1, min_samples_leaf=3, min_samples_split=3, total=   0.0s\n"
     ]
    },
    {
     "name": "stdout",
     "output_type": "stream",
     "text": [
      "[CV] criterion=mae, max_depth=1, min_samples_leaf=3, min_samples_split=3 \n",
      "[CV]  criterion=mae, max_depth=1, min_samples_leaf=3, min_samples_split=3, total=   0.0s\n",
      "[CV] criterion=mae, max_depth=1, min_samples_leaf=3, min_samples_split=3 \n",
      "[CV]  criterion=mae, max_depth=1, min_samples_leaf=3, min_samples_split=3, total=   0.0s\n",
      "[CV] criterion=mae, max_depth=1, min_samples_leaf=3, min_samples_split=3 \n",
      "[CV]  criterion=mae, max_depth=1, min_samples_leaf=3, min_samples_split=3, total=   0.0s\n",
      "[CV] criterion=mae, max_depth=1, min_samples_leaf=3, min_samples_split=3 \n",
      "[CV]  criterion=mae, max_depth=1, min_samples_leaf=3, min_samples_split=3, total=   0.0s\n",
      "[CV] criterion=mae, max_depth=1, min_samples_leaf=3, min_samples_split=4 \n",
      "[CV]  criterion=mae, max_depth=1, min_samples_leaf=3, min_samples_split=4, total=   0.0s\n",
      "[CV] criterion=mae, max_depth=1, min_samples_leaf=3, min_samples_split=4 \n",
      "[CV]  criterion=mae, max_depth=1, min_samples_leaf=3, min_samples_split=4, total=   0.0s\n",
      "[CV] criterion=mae, max_depth=1, min_samples_leaf=3, min_samples_split=4 \n",
      "[CV]  criterion=mae, max_depth=1, min_samples_leaf=3, min_samples_split=4, total=   0.0s\n",
      "[CV] criterion=mae, max_depth=1, min_samples_leaf=3, min_samples_split=4 \n",
      "[CV]  criterion=mae, max_depth=1, min_samples_leaf=3, min_samples_split=4, total=   0.0s\n",
      "[CV] criterion=mae, max_depth=1, min_samples_leaf=3, min_samples_split=4 \n",
      "[CV]  criterion=mae, max_depth=1, min_samples_leaf=3, min_samples_split=4, total=   0.0s\n",
      "[CV] criterion=mae, max_depth=1, min_samples_leaf=4, min_samples_split=2 \n",
      "[CV]  criterion=mae, max_depth=1, min_samples_leaf=4, min_samples_split=2, total=   0.0s\n",
      "[CV] criterion=mae, max_depth=1, min_samples_leaf=4, min_samples_split=2 \n",
      "[CV]  criterion=mae, max_depth=1, min_samples_leaf=4, min_samples_split=2, total=   0.0s\n",
      "[CV] criterion=mae, max_depth=1, min_samples_leaf=4, min_samples_split=2 \n",
      "[CV]  criterion=mae, max_depth=1, min_samples_leaf=4, min_samples_split=2, total=   0.0s\n",
      "[CV] criterion=mae, max_depth=1, min_samples_leaf=4, min_samples_split=2 \n",
      "[CV]  criterion=mae, max_depth=1, min_samples_leaf=4, min_samples_split=2, total=   0.0s\n",
      "[CV] criterion=mae, max_depth=1, min_samples_leaf=4, min_samples_split=2 \n",
      "[CV]  criterion=mae, max_depth=1, min_samples_leaf=4, min_samples_split=2, total=   0.0s\n",
      "[CV] criterion=mae, max_depth=1, min_samples_leaf=4, min_samples_split=3 \n",
      "[CV]  criterion=mae, max_depth=1, min_samples_leaf=4, min_samples_split=3, total=   0.0s\n",
      "[CV] criterion=mae, max_depth=1, min_samples_leaf=4, min_samples_split=3 \n",
      "[CV]  criterion=mae, max_depth=1, min_samples_leaf=4, min_samples_split=3, total=   0.0s\n",
      "[CV] criterion=mae, max_depth=1, min_samples_leaf=4, min_samples_split=3 \n",
      "[CV]  criterion=mae, max_depth=1, min_samples_leaf=4, min_samples_split=3, total=   0.0s\n",
      "[CV] criterion=mae, max_depth=1, min_samples_leaf=4, min_samples_split=3 \n",
      "[CV]  criterion=mae, max_depth=1, min_samples_leaf=4, min_samples_split=3, total=   0.0s\n",
      "[CV] criterion=mae, max_depth=1, min_samples_leaf=4, min_samples_split=3 \n",
      "[CV]  criterion=mae, max_depth=1, min_samples_leaf=4, min_samples_split=3, total=   0.0s\n",
      "[CV] criterion=mae, max_depth=1, min_samples_leaf=4, min_samples_split=4 \n",
      "[CV]  criterion=mae, max_depth=1, min_samples_leaf=4, min_samples_split=4, total=   0.0s\n",
      "[CV] criterion=mae, max_depth=1, min_samples_leaf=4, min_samples_split=4 \n",
      "[CV]  criterion=mae, max_depth=1, min_samples_leaf=4, min_samples_split=4, total=   0.0s\n",
      "[CV] criterion=mae, max_depth=1, min_samples_leaf=4, min_samples_split=4 \n",
      "[CV]  criterion=mae, max_depth=1, min_samples_leaf=4, min_samples_split=4, total=   0.0s\n",
      "[CV] criterion=mae, max_depth=1, min_samples_leaf=4, min_samples_split=4 \n",
      "[CV]  criterion=mae, max_depth=1, min_samples_leaf=4, min_samples_split=4, total=   0.0s\n",
      "[CV] criterion=mae, max_depth=1, min_samples_leaf=4, min_samples_split=4 \n",
      "[CV]  criterion=mae, max_depth=1, min_samples_leaf=4, min_samples_split=4, total=   0.0s\n",
      "[CV] criterion=mae, max_depth=2, min_samples_leaf=2, min_samples_split=2 \n",
      "[CV]  criterion=mae, max_depth=2, min_samples_leaf=2, min_samples_split=2, total=   0.0s\n",
      "[CV] criterion=mae, max_depth=2, min_samples_leaf=2, min_samples_split=2 \n",
      "[CV]  criterion=mae, max_depth=2, min_samples_leaf=2, min_samples_split=2, total=   0.0s\n",
      "[CV] criterion=mae, max_depth=2, min_samples_leaf=2, min_samples_split=2 \n",
      "[CV]  criterion=mae, max_depth=2, min_samples_leaf=2, min_samples_split=2, total=   0.0s\n",
      "[CV] criterion=mae, max_depth=2, min_samples_leaf=2, min_samples_split=2 \n",
      "[CV]  criterion=mae, max_depth=2, min_samples_leaf=2, min_samples_split=2, total=   0.0s\n",
      "[CV] criterion=mae, max_depth=2, min_samples_leaf=2, min_samples_split=2 \n",
      "[CV]  criterion=mae, max_depth=2, min_samples_leaf=2, min_samples_split=2, total=   0.0s\n",
      "[CV] criterion=mae, max_depth=2, min_samples_leaf=2, min_samples_split=3 \n",
      "[CV]  criterion=mae, max_depth=2, min_samples_leaf=2, min_samples_split=3, total=   0.0s\n",
      "[CV] criterion=mae, max_depth=2, min_samples_leaf=2, min_samples_split=3 \n",
      "[CV]  criterion=mae, max_depth=2, min_samples_leaf=2, min_samples_split=3, total=   0.0s\n",
      "[CV] criterion=mae, max_depth=2, min_samples_leaf=2, min_samples_split=3 \n",
      "[CV]  criterion=mae, max_depth=2, min_samples_leaf=2, min_samples_split=3, total=   0.0s\n",
      "[CV] criterion=mae, max_depth=2, min_samples_leaf=2, min_samples_split=3 \n",
      "[CV]  criterion=mae, max_depth=2, min_samples_leaf=2, min_samples_split=3, total=   0.0s\n",
      "[CV] criterion=mae, max_depth=2, min_samples_leaf=2, min_samples_split=3 \n",
      "[CV]  criterion=mae, max_depth=2, min_samples_leaf=2, min_samples_split=3, total=   0.0s\n",
      "[CV] criterion=mae, max_depth=2, min_samples_leaf=2, min_samples_split=4 \n",
      "[CV]  criterion=mae, max_depth=2, min_samples_leaf=2, min_samples_split=4, total=   0.0s\n",
      "[CV] criterion=mae, max_depth=2, min_samples_leaf=2, min_samples_split=4 \n",
      "[CV]  criterion=mae, max_depth=2, min_samples_leaf=2, min_samples_split=4, total=   0.0s\n",
      "[CV] criterion=mae, max_depth=2, min_samples_leaf=2, min_samples_split=4 \n",
      "[CV]  criterion=mae, max_depth=2, min_samples_leaf=2, min_samples_split=4, total=   0.0s\n",
      "[CV] criterion=mae, max_depth=2, min_samples_leaf=2, min_samples_split=4 \n",
      "[CV]  criterion=mae, max_depth=2, min_samples_leaf=2, min_samples_split=4, total=   0.0s\n",
      "[CV] criterion=mae, max_depth=2, min_samples_leaf=2, min_samples_split=4 \n",
      "[CV]  criterion=mae, max_depth=2, min_samples_leaf=2, min_samples_split=4, total=   0.0s\n",
      "[CV] criterion=mae, max_depth=2, min_samples_leaf=3, min_samples_split=2 \n",
      "[CV]  criterion=mae, max_depth=2, min_samples_leaf=3, min_samples_split=2, total=   0.0s\n",
      "[CV] criterion=mae, max_depth=2, min_samples_leaf=3, min_samples_split=2 \n",
      "[CV]  criterion=mae, max_depth=2, min_samples_leaf=3, min_samples_split=2, total=   0.0s\n",
      "[CV] criterion=mae, max_depth=2, min_samples_leaf=3, min_samples_split=2 \n",
      "[CV]  criterion=mae, max_depth=2, min_samples_leaf=3, min_samples_split=2, total=   0.0s\n",
      "[CV] criterion=mae, max_depth=2, min_samples_leaf=3, min_samples_split=2 \n",
      "[CV]  criterion=mae, max_depth=2, min_samples_leaf=3, min_samples_split=2, total=   0.0s\n",
      "[CV] criterion=mae, max_depth=2, min_samples_leaf=3, min_samples_split=2 \n",
      "[CV]  criterion=mae, max_depth=2, min_samples_leaf=3, min_samples_split=2, total=   0.0s\n",
      "[CV] criterion=mae, max_depth=2, min_samples_leaf=3, min_samples_split=3 \n",
      "[CV]  criterion=mae, max_depth=2, min_samples_leaf=3, min_samples_split=3, total=   0.0s\n",
      "[CV] criterion=mae, max_depth=2, min_samples_leaf=3, min_samples_split=3 \n",
      "[CV]  criterion=mae, max_depth=2, min_samples_leaf=3, min_samples_split=3, total=   0.0s\n",
      "[CV] criterion=mae, max_depth=2, min_samples_leaf=3, min_samples_split=3 \n",
      "[CV]  criterion=mae, max_depth=2, min_samples_leaf=3, min_samples_split=3, total=   0.0s\n",
      "[CV] criterion=mae, max_depth=2, min_samples_leaf=3, min_samples_split=3 \n",
      "[CV]  criterion=mae, max_depth=2, min_samples_leaf=3, min_samples_split=3, total=   0.0s\n",
      "[CV] criterion=mae, max_depth=2, min_samples_leaf=3, min_samples_split=3 \n",
      "[CV]  criterion=mae, max_depth=2, min_samples_leaf=3, min_samples_split=3, total=   0.0s\n",
      "[CV] criterion=mae, max_depth=2, min_samples_leaf=3, min_samples_split=4 \n",
      "[CV]  criterion=mae, max_depth=2, min_samples_leaf=3, min_samples_split=4, total=   0.0s\n"
     ]
    },
    {
     "name": "stdout",
     "output_type": "stream",
     "text": [
      "[CV] criterion=mae, max_depth=2, min_samples_leaf=3, min_samples_split=4 \n",
      "[CV]  criterion=mae, max_depth=2, min_samples_leaf=3, min_samples_split=4, total=   0.0s\n",
      "[CV] criterion=mae, max_depth=2, min_samples_leaf=3, min_samples_split=4 \n",
      "[CV]  criterion=mae, max_depth=2, min_samples_leaf=3, min_samples_split=4, total=   0.0s\n",
      "[CV] criterion=mae, max_depth=2, min_samples_leaf=3, min_samples_split=4 \n",
      "[CV]  criterion=mae, max_depth=2, min_samples_leaf=3, min_samples_split=4, total=   0.0s\n",
      "[CV] criterion=mae, max_depth=2, min_samples_leaf=3, min_samples_split=4 \n",
      "[CV]  criterion=mae, max_depth=2, min_samples_leaf=3, min_samples_split=4, total=   0.0s\n",
      "[CV] criterion=mae, max_depth=2, min_samples_leaf=4, min_samples_split=2 \n",
      "[CV]  criterion=mae, max_depth=2, min_samples_leaf=4, min_samples_split=2, total=   0.0s\n",
      "[CV] criterion=mae, max_depth=2, min_samples_leaf=4, min_samples_split=2 \n",
      "[CV]  criterion=mae, max_depth=2, min_samples_leaf=4, min_samples_split=2, total=   0.0s\n",
      "[CV] criterion=mae, max_depth=2, min_samples_leaf=4, min_samples_split=2 \n",
      "[CV]  criterion=mae, max_depth=2, min_samples_leaf=4, min_samples_split=2, total=   0.0s\n",
      "[CV] criterion=mae, max_depth=2, min_samples_leaf=4, min_samples_split=2 \n",
      "[CV]  criterion=mae, max_depth=2, min_samples_leaf=4, min_samples_split=2, total=   0.0s\n",
      "[CV] criterion=mae, max_depth=2, min_samples_leaf=4, min_samples_split=2 \n",
      "[CV]  criterion=mae, max_depth=2, min_samples_leaf=4, min_samples_split=2, total=   0.0s\n",
      "[CV] criterion=mae, max_depth=2, min_samples_leaf=4, min_samples_split=3 \n",
      "[CV]  criterion=mae, max_depth=2, min_samples_leaf=4, min_samples_split=3, total=   0.0s\n",
      "[CV] criterion=mae, max_depth=2, min_samples_leaf=4, min_samples_split=3 \n",
      "[CV]  criterion=mae, max_depth=2, min_samples_leaf=4, min_samples_split=3, total=   0.0s\n",
      "[CV] criterion=mae, max_depth=2, min_samples_leaf=4, min_samples_split=3 \n",
      "[CV]  criterion=mae, max_depth=2, min_samples_leaf=4, min_samples_split=3, total=   0.0s\n",
      "[CV] criterion=mae, max_depth=2, min_samples_leaf=4, min_samples_split=3 \n",
      "[CV]  criterion=mae, max_depth=2, min_samples_leaf=4, min_samples_split=3, total=   0.0s\n",
      "[CV] criterion=mae, max_depth=2, min_samples_leaf=4, min_samples_split=3 \n",
      "[CV]  criterion=mae, max_depth=2, min_samples_leaf=4, min_samples_split=3, total=   0.0s\n",
      "[CV] criterion=mae, max_depth=2, min_samples_leaf=4, min_samples_split=4 \n",
      "[CV]  criterion=mae, max_depth=2, min_samples_leaf=4, min_samples_split=4, total=   0.0s\n",
      "[CV] criterion=mae, max_depth=2, min_samples_leaf=4, min_samples_split=4 \n",
      "[CV]  criterion=mae, max_depth=2, min_samples_leaf=4, min_samples_split=4, total=   0.0s\n",
      "[CV] criterion=mae, max_depth=2, min_samples_leaf=4, min_samples_split=4 \n",
      "[CV]  criterion=mae, max_depth=2, min_samples_leaf=4, min_samples_split=4, total=   0.0s\n",
      "[CV] criterion=mae, max_depth=2, min_samples_leaf=4, min_samples_split=4 \n",
      "[CV]  criterion=mae, max_depth=2, min_samples_leaf=4, min_samples_split=4, total=   0.0s\n",
      "[CV] criterion=mae, max_depth=2, min_samples_leaf=4, min_samples_split=4 \n",
      "[CV]  criterion=mae, max_depth=2, min_samples_leaf=4, min_samples_split=4, total=   0.0s\n",
      "[CV] criterion=mae, max_depth=3, min_samples_leaf=2, min_samples_split=2 \n",
      "[CV]  criterion=mae, max_depth=3, min_samples_leaf=2, min_samples_split=2, total=   0.0s\n",
      "[CV] criterion=mae, max_depth=3, min_samples_leaf=2, min_samples_split=2 \n",
      "[CV]  criterion=mae, max_depth=3, min_samples_leaf=2, min_samples_split=2, total=   0.0s\n",
      "[CV] criterion=mae, max_depth=3, min_samples_leaf=2, min_samples_split=2 \n",
      "[CV]  criterion=mae, max_depth=3, min_samples_leaf=2, min_samples_split=2, total=   0.0s\n",
      "[CV] criterion=mae, max_depth=3, min_samples_leaf=2, min_samples_split=2 \n",
      "[CV]  criterion=mae, max_depth=3, min_samples_leaf=2, min_samples_split=2, total=   0.0s\n",
      "[CV] criterion=mae, max_depth=3, min_samples_leaf=2, min_samples_split=2 \n",
      "[CV]  criterion=mae, max_depth=3, min_samples_leaf=2, min_samples_split=2, total=   0.0s\n",
      "[CV] criterion=mae, max_depth=3, min_samples_leaf=2, min_samples_split=3 \n",
      "[CV]  criterion=mae, max_depth=3, min_samples_leaf=2, min_samples_split=3, total=   0.0s\n",
      "[CV] criterion=mae, max_depth=3, min_samples_leaf=2, min_samples_split=3 \n",
      "[CV]  criterion=mae, max_depth=3, min_samples_leaf=2, min_samples_split=3, total=   0.0s\n",
      "[CV] criterion=mae, max_depth=3, min_samples_leaf=2, min_samples_split=3 \n",
      "[CV]  criterion=mae, max_depth=3, min_samples_leaf=2, min_samples_split=3, total=   0.0s\n",
      "[CV] criterion=mae, max_depth=3, min_samples_leaf=2, min_samples_split=3 \n",
      "[CV]  criterion=mae, max_depth=3, min_samples_leaf=2, min_samples_split=3, total=   0.0s\n",
      "[CV] criterion=mae, max_depth=3, min_samples_leaf=2, min_samples_split=3 \n",
      "[CV]  criterion=mae, max_depth=3, min_samples_leaf=2, min_samples_split=3, total=   0.0s\n",
      "[CV] criterion=mae, max_depth=3, min_samples_leaf=2, min_samples_split=4 \n",
      "[CV]  criterion=mae, max_depth=3, min_samples_leaf=2, min_samples_split=4, total=   0.0s\n",
      "[CV] criterion=mae, max_depth=3, min_samples_leaf=2, min_samples_split=4 \n",
      "[CV]  criterion=mae, max_depth=3, min_samples_leaf=2, min_samples_split=4, total=   0.0s\n",
      "[CV] criterion=mae, max_depth=3, min_samples_leaf=2, min_samples_split=4 \n",
      "[CV]  criterion=mae, max_depth=3, min_samples_leaf=2, min_samples_split=4, total=   0.0s\n",
      "[CV] criterion=mae, max_depth=3, min_samples_leaf=2, min_samples_split=4 \n",
      "[CV]  criterion=mae, max_depth=3, min_samples_leaf=2, min_samples_split=4, total=   0.0s\n",
      "[CV] criterion=mae, max_depth=3, min_samples_leaf=2, min_samples_split=4 \n",
      "[CV]  criterion=mae, max_depth=3, min_samples_leaf=2, min_samples_split=4, total=   0.0s\n",
      "[CV] criterion=mae, max_depth=3, min_samples_leaf=3, min_samples_split=2 \n",
      "[CV]  criterion=mae, max_depth=3, min_samples_leaf=3, min_samples_split=2, total=   0.0s\n",
      "[CV] criterion=mae, max_depth=3, min_samples_leaf=3, min_samples_split=2 \n",
      "[CV]  criterion=mae, max_depth=3, min_samples_leaf=3, min_samples_split=2, total=   0.0s\n",
      "[CV] criterion=mae, max_depth=3, min_samples_leaf=3, min_samples_split=2 \n",
      "[CV]  criterion=mae, max_depth=3, min_samples_leaf=3, min_samples_split=2, total=   0.0s\n",
      "[CV] criterion=mae, max_depth=3, min_samples_leaf=3, min_samples_split=2 \n",
      "[CV]  criterion=mae, max_depth=3, min_samples_leaf=3, min_samples_split=2, total=   0.0s\n",
      "[CV] criterion=mae, max_depth=3, min_samples_leaf=3, min_samples_split=2 \n",
      "[CV]  criterion=mae, max_depth=3, min_samples_leaf=3, min_samples_split=2, total=   0.0s\n",
      "[CV] criterion=mae, max_depth=3, min_samples_leaf=3, min_samples_split=3 \n",
      "[CV]  criterion=mae, max_depth=3, min_samples_leaf=3, min_samples_split=3, total=   0.0s\n",
      "[CV] criterion=mae, max_depth=3, min_samples_leaf=3, min_samples_split=3 \n",
      "[CV]  criterion=mae, max_depth=3, min_samples_leaf=3, min_samples_split=3, total=   0.0s\n",
      "[CV] criterion=mae, max_depth=3, min_samples_leaf=3, min_samples_split=3 \n",
      "[CV]  criterion=mae, max_depth=3, min_samples_leaf=3, min_samples_split=3, total=   0.0s\n",
      "[CV] criterion=mae, max_depth=3, min_samples_leaf=3, min_samples_split=3 \n",
      "[CV]  criterion=mae, max_depth=3, min_samples_leaf=3, min_samples_split=3, total=   0.0s\n",
      "[CV] criterion=mae, max_depth=3, min_samples_leaf=3, min_samples_split=3 \n",
      "[CV]  criterion=mae, max_depth=3, min_samples_leaf=3, min_samples_split=3, total=   0.0s\n",
      "[CV] criterion=mae, max_depth=3, min_samples_leaf=3, min_samples_split=4 \n",
      "[CV]  criterion=mae, max_depth=3, min_samples_leaf=3, min_samples_split=4, total=   0.0s\n",
      "[CV] criterion=mae, max_depth=3, min_samples_leaf=3, min_samples_split=4 \n",
      "[CV]  criterion=mae, max_depth=3, min_samples_leaf=3, min_samples_split=4, total=   0.0s\n",
      "[CV] criterion=mae, max_depth=3, min_samples_leaf=3, min_samples_split=4 \n",
      "[CV]  criterion=mae, max_depth=3, min_samples_leaf=3, min_samples_split=4, total=   0.0s\n",
      "[CV] criterion=mae, max_depth=3, min_samples_leaf=3, min_samples_split=4 \n",
      "[CV]  criterion=mae, max_depth=3, min_samples_leaf=3, min_samples_split=4, total=   0.0s\n",
      "[CV] criterion=mae, max_depth=3, min_samples_leaf=3, min_samples_split=4 \n",
      "[CV]  criterion=mae, max_depth=3, min_samples_leaf=3, min_samples_split=4, total=   0.0s\n",
      "[CV] criterion=mae, max_depth=3, min_samples_leaf=4, min_samples_split=2 \n",
      "[CV]  criterion=mae, max_depth=3, min_samples_leaf=4, min_samples_split=2, total=   0.0s\n"
     ]
    },
    {
     "name": "stdout",
     "output_type": "stream",
     "text": [
      "[CV] criterion=mae, max_depth=3, min_samples_leaf=4, min_samples_split=2 \n",
      "[CV]  criterion=mae, max_depth=3, min_samples_leaf=4, min_samples_split=2, total=   0.0s\n",
      "[CV] criterion=mae, max_depth=3, min_samples_leaf=4, min_samples_split=2 \n",
      "[CV]  criterion=mae, max_depth=3, min_samples_leaf=4, min_samples_split=2, total=   0.0s\n",
      "[CV] criterion=mae, max_depth=3, min_samples_leaf=4, min_samples_split=2 \n",
      "[CV]  criterion=mae, max_depth=3, min_samples_leaf=4, min_samples_split=2, total=   0.0s\n",
      "[CV] criterion=mae, max_depth=3, min_samples_leaf=4, min_samples_split=2 \n",
      "[CV]  criterion=mae, max_depth=3, min_samples_leaf=4, min_samples_split=2, total=   0.0s\n",
      "[CV] criterion=mae, max_depth=3, min_samples_leaf=4, min_samples_split=3 \n",
      "[CV]  criterion=mae, max_depth=3, min_samples_leaf=4, min_samples_split=3, total=   0.0s\n",
      "[CV] criterion=mae, max_depth=3, min_samples_leaf=4, min_samples_split=3 \n",
      "[CV]  criterion=mae, max_depth=3, min_samples_leaf=4, min_samples_split=3, total=   0.0s\n",
      "[CV] criterion=mae, max_depth=3, min_samples_leaf=4, min_samples_split=3 \n",
      "[CV]  criterion=mae, max_depth=3, min_samples_leaf=4, min_samples_split=3, total=   0.0s\n",
      "[CV] criterion=mae, max_depth=3, min_samples_leaf=4, min_samples_split=3 \n",
      "[CV]  criterion=mae, max_depth=3, min_samples_leaf=4, min_samples_split=3, total=   0.0s\n",
      "[CV] criterion=mae, max_depth=3, min_samples_leaf=4, min_samples_split=3 \n",
      "[CV]  criterion=mae, max_depth=3, min_samples_leaf=4, min_samples_split=3, total=   0.0s\n",
      "[CV] criterion=mae, max_depth=3, min_samples_leaf=4, min_samples_split=4 \n",
      "[CV]  criterion=mae, max_depth=3, min_samples_leaf=4, min_samples_split=4, total=   0.0s\n",
      "[CV] criterion=mae, max_depth=3, min_samples_leaf=4, min_samples_split=4 \n",
      "[CV]  criterion=mae, max_depth=3, min_samples_leaf=4, min_samples_split=4, total=   0.0s\n",
      "[CV] criterion=mae, max_depth=3, min_samples_leaf=4, min_samples_split=4 \n",
      "[CV]  criterion=mae, max_depth=3, min_samples_leaf=4, min_samples_split=4, total=   0.0s\n",
      "[CV] criterion=mae, max_depth=3, min_samples_leaf=4, min_samples_split=4 \n",
      "[CV]  criterion=mae, max_depth=3, min_samples_leaf=4, min_samples_split=4, total=   0.0s\n",
      "[CV] criterion=mae, max_depth=3, min_samples_leaf=4, min_samples_split=4 \n",
      "[CV]  criterion=mae, max_depth=3, min_samples_leaf=4, min_samples_split=4, total=   0.0s\n",
      "[CV] criterion=mae, max_depth=4, min_samples_leaf=2, min_samples_split=2 \n",
      "[CV]  criterion=mae, max_depth=4, min_samples_leaf=2, min_samples_split=2, total=   0.0s\n",
      "[CV] criterion=mae, max_depth=4, min_samples_leaf=2, min_samples_split=2 \n",
      "[CV]  criterion=mae, max_depth=4, min_samples_leaf=2, min_samples_split=2, total=   0.0s\n",
      "[CV] criterion=mae, max_depth=4, min_samples_leaf=2, min_samples_split=2 \n",
      "[CV]  criterion=mae, max_depth=4, min_samples_leaf=2, min_samples_split=2, total=   0.0s\n",
      "[CV] criterion=mae, max_depth=4, min_samples_leaf=2, min_samples_split=2 \n",
      "[CV]  criterion=mae, max_depth=4, min_samples_leaf=2, min_samples_split=2, total=   0.0s\n",
      "[CV] criterion=mae, max_depth=4, min_samples_leaf=2, min_samples_split=2 \n",
      "[CV]  criterion=mae, max_depth=4, min_samples_leaf=2, min_samples_split=2, total=   0.0s\n",
      "[CV] criterion=mae, max_depth=4, min_samples_leaf=2, min_samples_split=3 \n",
      "[CV]  criterion=mae, max_depth=4, min_samples_leaf=2, min_samples_split=3, total=   0.0s\n",
      "[CV] criterion=mae, max_depth=4, min_samples_leaf=2, min_samples_split=3 \n",
      "[CV]  criterion=mae, max_depth=4, min_samples_leaf=2, min_samples_split=3, total=   0.0s\n",
      "[CV] criterion=mae, max_depth=4, min_samples_leaf=2, min_samples_split=3 \n",
      "[CV]  criterion=mae, max_depth=4, min_samples_leaf=2, min_samples_split=3, total=   0.0s\n",
      "[CV] criterion=mae, max_depth=4, min_samples_leaf=2, min_samples_split=3 \n",
      "[CV]  criterion=mae, max_depth=4, min_samples_leaf=2, min_samples_split=3, total=   0.0s\n",
      "[CV] criterion=mae, max_depth=4, min_samples_leaf=2, min_samples_split=3 \n",
      "[CV]  criterion=mae, max_depth=4, min_samples_leaf=2, min_samples_split=3, total=   0.0s\n",
      "[CV] criterion=mae, max_depth=4, min_samples_leaf=2, min_samples_split=4 \n",
      "[CV]  criterion=mae, max_depth=4, min_samples_leaf=2, min_samples_split=4, total=   0.0s\n",
      "[CV] criterion=mae, max_depth=4, min_samples_leaf=2, min_samples_split=4 \n",
      "[CV]  criterion=mae, max_depth=4, min_samples_leaf=2, min_samples_split=4, total=   0.0s\n",
      "[CV] criterion=mae, max_depth=4, min_samples_leaf=2, min_samples_split=4 \n",
      "[CV]  criterion=mae, max_depth=4, min_samples_leaf=2, min_samples_split=4, total=   0.0s\n",
      "[CV] criterion=mae, max_depth=4, min_samples_leaf=2, min_samples_split=4 \n",
      "[CV]  criterion=mae, max_depth=4, min_samples_leaf=2, min_samples_split=4, total=   0.0s\n",
      "[CV] criterion=mae, max_depth=4, min_samples_leaf=2, min_samples_split=4 \n",
      "[CV]  criterion=mae, max_depth=4, min_samples_leaf=2, min_samples_split=4, total=   0.0s\n",
      "[CV] criterion=mae, max_depth=4, min_samples_leaf=3, min_samples_split=2 \n",
      "[CV]  criterion=mae, max_depth=4, min_samples_leaf=3, min_samples_split=2, total=   0.0s\n",
      "[CV] criterion=mae, max_depth=4, min_samples_leaf=3, min_samples_split=2 \n",
      "[CV]  criterion=mae, max_depth=4, min_samples_leaf=3, min_samples_split=2, total=   0.0s\n",
      "[CV] criterion=mae, max_depth=4, min_samples_leaf=3, min_samples_split=2 \n",
      "[CV]  criterion=mae, max_depth=4, min_samples_leaf=3, min_samples_split=2, total=   0.0s\n",
      "[CV] criterion=mae, max_depth=4, min_samples_leaf=3, min_samples_split=2 \n",
      "[CV]  criterion=mae, max_depth=4, min_samples_leaf=3, min_samples_split=2, total=   0.0s\n",
      "[CV] criterion=mae, max_depth=4, min_samples_leaf=3, min_samples_split=2 \n",
      "[CV]  criterion=mae, max_depth=4, min_samples_leaf=3, min_samples_split=2, total=   0.0s\n",
      "[CV] criterion=mae, max_depth=4, min_samples_leaf=3, min_samples_split=3 \n",
      "[CV]  criterion=mae, max_depth=4, min_samples_leaf=3, min_samples_split=3, total=   0.0s\n",
      "[CV] criterion=mae, max_depth=4, min_samples_leaf=3, min_samples_split=3 \n",
      "[CV]  criterion=mae, max_depth=4, min_samples_leaf=3, min_samples_split=3, total=   0.0s\n",
      "[CV] criterion=mae, max_depth=4, min_samples_leaf=3, min_samples_split=3 \n",
      "[CV]  criterion=mae, max_depth=4, min_samples_leaf=3, min_samples_split=3, total=   0.0s\n",
      "[CV] criterion=mae, max_depth=4, min_samples_leaf=3, min_samples_split=3 \n",
      "[CV]  criterion=mae, max_depth=4, min_samples_leaf=3, min_samples_split=3, total=   0.0s\n",
      "[CV] criterion=mae, max_depth=4, min_samples_leaf=3, min_samples_split=3 \n",
      "[CV]  criterion=mae, max_depth=4, min_samples_leaf=3, min_samples_split=3, total=   0.0s\n",
      "[CV] criterion=mae, max_depth=4, min_samples_leaf=3, min_samples_split=4 \n",
      "[CV]  criterion=mae, max_depth=4, min_samples_leaf=3, min_samples_split=4, total=   0.0s\n",
      "[CV] criterion=mae, max_depth=4, min_samples_leaf=3, min_samples_split=4 \n",
      "[CV]  criterion=mae, max_depth=4, min_samples_leaf=3, min_samples_split=4, total=   0.0s\n",
      "[CV] criterion=mae, max_depth=4, min_samples_leaf=3, min_samples_split=4 \n",
      "[CV]  criterion=mae, max_depth=4, min_samples_leaf=3, min_samples_split=4, total=   0.0s\n",
      "[CV] criterion=mae, max_depth=4, min_samples_leaf=3, min_samples_split=4 \n",
      "[CV]  criterion=mae, max_depth=4, min_samples_leaf=3, min_samples_split=4, total=   0.0s\n",
      "[CV] criterion=mae, max_depth=4, min_samples_leaf=3, min_samples_split=4 \n",
      "[CV]  criterion=mae, max_depth=4, min_samples_leaf=3, min_samples_split=4, total=   0.0s\n",
      "[CV] criterion=mae, max_depth=4, min_samples_leaf=4, min_samples_split=2 \n",
      "[CV]  criterion=mae, max_depth=4, min_samples_leaf=4, min_samples_split=2, total=   0.0s\n",
      "[CV] criterion=mae, max_depth=4, min_samples_leaf=4, min_samples_split=2 \n",
      "[CV]  criterion=mae, max_depth=4, min_samples_leaf=4, min_samples_split=2, total=   0.0s\n",
      "[CV] criterion=mae, max_depth=4, min_samples_leaf=4, min_samples_split=2 \n",
      "[CV]  criterion=mae, max_depth=4, min_samples_leaf=4, min_samples_split=2, total=   0.0s\n",
      "[CV] criterion=mae, max_depth=4, min_samples_leaf=4, min_samples_split=2 \n",
      "[CV]  criterion=mae, max_depth=4, min_samples_leaf=4, min_samples_split=2, total=   0.0s\n",
      "[CV] criterion=mae, max_depth=4, min_samples_leaf=4, min_samples_split=2 \n",
      "[CV]  criterion=mae, max_depth=4, min_samples_leaf=4, min_samples_split=2, total=   0.0s\n",
      "[CV] criterion=mae, max_depth=4, min_samples_leaf=4, min_samples_split=3 \n",
      "[CV]  criterion=mae, max_depth=4, min_samples_leaf=4, min_samples_split=3, total=   0.0s\n"
     ]
    },
    {
     "name": "stdout",
     "output_type": "stream",
     "text": [
      "[CV] criterion=mae, max_depth=4, min_samples_leaf=4, min_samples_split=3 \n",
      "[CV]  criterion=mae, max_depth=4, min_samples_leaf=4, min_samples_split=3, total=   0.0s\n",
      "[CV] criterion=mae, max_depth=4, min_samples_leaf=4, min_samples_split=3 \n",
      "[CV]  criterion=mae, max_depth=4, min_samples_leaf=4, min_samples_split=3, total=   0.0s\n",
      "[CV] criterion=mae, max_depth=4, min_samples_leaf=4, min_samples_split=3 \n",
      "[CV]  criterion=mae, max_depth=4, min_samples_leaf=4, min_samples_split=3, total=   0.0s\n",
      "[CV] criterion=mae, max_depth=4, min_samples_leaf=4, min_samples_split=3 \n",
      "[CV]  criterion=mae, max_depth=4, min_samples_leaf=4, min_samples_split=3, total=   0.0s\n",
      "[CV] criterion=mae, max_depth=4, min_samples_leaf=4, min_samples_split=4 \n",
      "[CV]  criterion=mae, max_depth=4, min_samples_leaf=4, min_samples_split=4, total=   0.0s\n",
      "[CV] criterion=mae, max_depth=4, min_samples_leaf=4, min_samples_split=4 \n",
      "[CV]  criterion=mae, max_depth=4, min_samples_leaf=4, min_samples_split=4, total=   0.0s\n",
      "[CV] criterion=mae, max_depth=4, min_samples_leaf=4, min_samples_split=4 \n",
      "[CV]  criterion=mae, max_depth=4, min_samples_leaf=4, min_samples_split=4, total=   0.0s\n",
      "[CV] criterion=mae, max_depth=4, min_samples_leaf=4, min_samples_split=4 \n",
      "[CV]  criterion=mae, max_depth=4, min_samples_leaf=4, min_samples_split=4, total=   0.0s\n",
      "[CV] criterion=mae, max_depth=4, min_samples_leaf=4, min_samples_split=4 \n",
      "[CV]  criterion=mae, max_depth=4, min_samples_leaf=4, min_samples_split=4, total=   0.0s\n"
     ]
    },
    {
     "name": "stderr",
     "output_type": "stream",
     "text": [
      "[Parallel(n_jobs=1)]: Done 360 out of 360 | elapsed:    2.8s finished\n",
      "C:\\Users\\N394\\Anaconda3\\lib\\site-packages\\sklearn\\utils\\deprecation.py:125: FutureWarning: You are accessing a training score ('split0_train_score'), which will not be available by default any more in 0.21. If you need training scores, please set return_train_score=True\n",
      "  warnings.warn(*warn_args, **warn_kwargs)\n",
      "C:\\Users\\N394\\Anaconda3\\lib\\site-packages\\sklearn\\utils\\deprecation.py:125: FutureWarning: You are accessing a training score ('split1_train_score'), which will not be available by default any more in 0.21. If you need training scores, please set return_train_score=True\n",
      "  warnings.warn(*warn_args, **warn_kwargs)\n",
      "C:\\Users\\N394\\Anaconda3\\lib\\site-packages\\sklearn\\utils\\deprecation.py:125: FutureWarning: You are accessing a training score ('split2_train_score'), which will not be available by default any more in 0.21. If you need training scores, please set return_train_score=True\n",
      "  warnings.warn(*warn_args, **warn_kwargs)\n",
      "C:\\Users\\N394\\Anaconda3\\lib\\site-packages\\sklearn\\utils\\deprecation.py:125: FutureWarning: You are accessing a training score ('split3_train_score'), which will not be available by default any more in 0.21. If you need training scores, please set return_train_score=True\n",
      "  warnings.warn(*warn_args, **warn_kwargs)\n",
      "C:\\Users\\N394\\Anaconda3\\lib\\site-packages\\sklearn\\utils\\deprecation.py:125: FutureWarning: You are accessing a training score ('split4_train_score'), which will not be available by default any more in 0.21. If you need training scores, please set return_train_score=True\n",
      "  warnings.warn(*warn_args, **warn_kwargs)\n",
      "C:\\Users\\N394\\Anaconda3\\lib\\site-packages\\sklearn\\utils\\deprecation.py:125: FutureWarning: You are accessing a training score ('mean_train_score'), which will not be available by default any more in 0.21. If you need training scores, please set return_train_score=True\n",
      "  warnings.warn(*warn_args, **warn_kwargs)\n",
      "C:\\Users\\N394\\Anaconda3\\lib\\site-packages\\sklearn\\utils\\deprecation.py:125: FutureWarning: You are accessing a training score ('std_train_score'), which will not be available by default any more in 0.21. If you need training scores, please set return_train_score=True\n",
      "  warnings.warn(*warn_args, **warn_kwargs)\n"
     ]
    }
   ],
   "source": [
    "def param():\n",
    "    ret = {\n",
    "#         \"n_estimators\":np.arange(1,500,1),\n",
    "        \"criterion\":[\"mse\",\"mae\"],\n",
    "        \"max_depth\":np.arange(1,5,1),\n",
    "        \"min_samples_split\":np.arange(2,5,1),\n",
    "        \"min_samples_leaf\":np.arange(2,5,1)\n",
    "    }\n",
    "    return ret\n",
    "\n",
    "gscv = GridSearchCV(DecisionTreeRegressor(),param(),cv=5,verbose=2)\n",
    "gscv.fit(X_train,y_train)\n",
    "    \n",
    "gs_result = pd.DataFrame.from_dict(gscv.cv_results_)\n",
    "# print(gs_result)\n",
    "    \n",
    "best2 = gscv.best_estimator_"
   ]
  },
  {
   "cell_type": "code",
   "execution_count": 24,
   "metadata": {},
   "outputs": [
    {
     "data": {
      "text/plain": [
       "DecisionTreeRegressor(criterion='mse', max_depth=1, max_features=None,\n",
       "           max_leaf_nodes=None, min_impurity_decrease=0.0,\n",
       "           min_impurity_split=None, min_samples_leaf=2,\n",
       "           min_samples_split=2, min_weight_fraction_leaf=0.0,\n",
       "           presort=False, random_state=None, splitter='best')"
      ]
     },
     "execution_count": 24,
     "metadata": {},
     "output_type": "execute_result"
    }
   ],
   "source": [
    "best2"
   ]
  },
  {
   "cell_type": "code",
   "execution_count": 25,
   "metadata": {},
   "outputs": [
    {
     "data": {
      "text/plain": [
       "Ridge(alpha=13.503140378698722, copy_X=True, fit_intercept=True,\n",
       "   max_iter=None, normalize=False, random_state=None, solver='auto',\n",
       "   tol=0.001)"
      ]
     },
     "execution_count": 25,
     "metadata": {},
     "output_type": "execute_result"
    }
   ],
   "source": [
    "def param():\n",
    "    ret = {\n",
    "        \"alpha\":np.logspace(-2,4,24)\n",
    "    }\n",
    "    return ret\n",
    "\n",
    "gscv = GridSearchCV(Ridge(),param(),cv=5,scoring=\"r2\",return_train_score=True)\n",
    "gscv.fit(X_train,y_train)\n",
    "    \n",
    "gs_result = pd.DataFrame.from_dict(gscv.cv_results_)\n",
    "# print(gs_result)\n",
    "    \n",
    "best3 = gscv.best_estimator_\n",
    "\n",
    "best3"
   ]
  },
  {
   "cell_type": "code",
   "execution_count": 26,
   "metadata": {},
   "outputs": [
    {
     "name": "stdout",
     "output_type": "stream",
     "text": [
      "R2_score= -0.4804895119490582\n",
      "アダブースト_MSE_訓練誤差 =  0.8796968138581994\n",
      "\n",
      "アダブースト_MSE_汎化誤差 =  1.0182867211870532\n",
      "[0.79969777 0.08424812 0.11180408 0.00425003]\n"
     ]
    },
    {
     "data": {
      "image/png": "[encoded data removed]",
      "text/plain": [
       "<Figure size 504x144 with 1 Axes>"
      ]
     },
     "metadata": {
      "needs_background": "light"
     },
     "output_type": "display_data"
    }
   ],
   "source": [
    "clf = AdaBoostRegressor(DecisionTreeRegressor(criterion='mse', max_depth=3, max_features=None,\n",
    "           max_leaf_nodes=None, min_impurity_decrease=0.0,\n",
    "           min_impurity_split=None, min_samples_leaf=4,\n",
    "           min_samples_split=3, min_weight_fraction_leaf=0.0,\n",
    "           presort=False, random_state=1234, splitter='best'),n_estimators=500,random_state=1234)\n",
    "\n",
    "clf.fit(X_train,y_train)\n",
    "mse3 = mse(y_test,clf.predict(X_test))\n",
    "print(\"R2_score=\",clf.score(X_test,y_test))\n",
    "print(\"アダブースト_MSE_訓練誤差 = \",(mse(y_train,clf.predict(X_train))))\n",
    "print()\n",
    "print(\"アダブースト_MSE_汎化誤差 = \",(mse(y_test,clf.predict(X_test))))\n",
    "print(clf.feature_importances_)\n",
    "pd.DataFrame(clf.feature_importances_,index=['temp_difference', 'AC', 'rain', 'sun']).plot.bar(figsize=(7,2))\n",
    "plt.ylabel(\"Importance\")\n",
    "plt.xlabel(\"Features\")\n",
    "plt.show()\n",
    "regr = LinearRegression(fit_intercept=True)\n",
    "regr.fit(X_train, y_train)\n",
    "\n",
    "adaboost = clf.predict(X_train)"
   ]
  },
  {
   "cell_type": "code",
   "execution_count": 27,
   "metadata": {},
   "outputs": [],
   "source": [
    "# 各モデル準備\n",
    "random_state = 1234\n",
    "X_train_valid, X_meta_valid, y_train_valid, y_meta_valid = train_test_split(X, y, test_size=0.2, random_state=1234)\n",
    "X_train, X_valid, y_train, y_valid = train_test_split(X_train_valid, y_train_valid, test_size=0.5, random_state=1234)\n",
    "\n",
    "model1 =   AdaBoostRegressor(RandomForestRegressor(bootstrap=True, criterion='mse', max_depth=3,\n",
    "           max_features='auto', max_leaf_nodes=None,\n",
    "           min_impurity_decrease=0.0, min_impurity_split=None,\n",
    "           min_samples_leaf=4, min_samples_split=2,\n",
    "           min_weight_fraction_leaf=0.0, n_estimators=500, n_jobs=None,\n",
    "           oob_score=False, random_state=1234, verbose=0, warm_start=False),n_estimators=500,random_state=1234)\n",
    "model2 =   DecisionTreeRegressor(criterion='mse', max_depth=3, max_features=None,\n",
    "           max_leaf_nodes=None, min_impurity_decrease=0.0,\n",
    "           min_impurity_split=None, min_samples_leaf=4,\n",
    "           min_samples_split=3, min_weight_fraction_leaf=0.0,\n",
    "           presort=False, random_state=1234, splitter='best')\n",
    "\n",
    "model1.fit(X_train,y_train)\n",
    "\n",
    "model2.fit(X_train,y_train)\n",
    "\n",
    "model_pre_1 = model1.predict(X_valid)\n",
    "\n",
    "model_pre_2 = model2.predict(X_valid)\n",
    "\n",
    "model1.fit(X_train,y_train)\n",
    "\n",
    "model2.fit(X_train,y_train)\n",
    "\n",
    "model_pre_1_1 = model1.predict(X_train)\n",
    "\n",
    "model_pre_2_1 = model2.predict(X_train)"
   ]
  },
  {
   "cell_type": "code",
   "execution_count": 28,
   "metadata": {},
   "outputs": [
    {
     "data": {
      "text/plain": [
       "LinearRegression(copy_X=True, fit_intercept=True, n_jobs=None,\n",
       "         normalize=False)"
      ]
     },
     "execution_count": 28,
     "metadata": {},
     "output_type": "execute_result"
    }
   ],
   "source": [
    "# メタモデルの学習\n",
    "stacked_predictions = np.column_stack((model_pre_1,model_pre_2))\n",
    "stacked_predictions_1 = np.column_stack((model_pre_1_1,model_pre_2_1))\n",
    "\n",
    "meta_model = LinearRegression()\n",
    "meta_model_1 = LinearRegression()\n",
    "meta_model.fit(stacked_predictions,y_valid)\n",
    "meta_model_1.fit(stacked_predictions_1,y_valid)"
   ]
  },
  {
   "cell_type": "code",
   "execution_count": 29,
   "metadata": {},
   "outputs": [],
   "source": [
    "# 結果の検証\n",
    "valid_pred_1 = model1.predict(X_meta_valid)\n",
    "valid_pred_2 = model2.predict(X_meta_valid)\n",
    "\n",
    "valid_pred_1_1 = model1.predict(X_train_valid)\n",
    "valid_pred_2_1 = model2.predict(X_train_valid)\n",
    "\n",
    "stacked_valid_predictions = np.column_stack((valid_pred_1,valid_pred_2))\n",
    "meta_valid_pred = meta_model.predict(stacked_valid_predictions)\n",
    "mse4 = mse(y_meta_valid, meta_valid_pred)\n",
    "\n",
    "stacked_valid_predictions_1 = np.column_stack((valid_pred_1_1,valid_pred_2_1))\n",
    "meta_valid_pred_1 = meta_model.predict(stacked_valid_predictions_1)\n",
    "mse4_1 = mse(y_train_valid, meta_valid_pred_1)\n",
    "\n",
    "meta1 = meta_model.predict(stacked_valid_predictions_1)"
   ]
  },
  {
   "cell_type": "code",
   "execution_count": 30,
   "metadata": {},
   "outputs": [
    {
     "name": "stdout",
     "output_type": "stream",
     "text": [
      "r2_score of model 1_汎化誤差: -0.1241\n",
      "r2_score of model 2_汎化誤差: -0.1026\n",
      "r2_score of meta model_汎化誤差: -0.1510\n",
      "スタッキング_MSE_汎化誤差: 0.7917\n",
      "\n",
      "r2_score of model 1_汎化誤差: 0.2510\n",
      "r2_score of model 2_汎化誤差: 0.1674\n",
      "r2_score of meta model_汎化誤差: 0.2517\n",
      "スタッキング_MSE_汎化誤差: 0.8665\n"
     ]
    }
   ],
   "source": [
    "print (\"r2_score of model 1_汎化誤差: {:.4f}\".format(r2_score(y_meta_valid, valid_pred_1)))\n",
    "print (\"r2_score of model 2_汎化誤差: {:.4f}\".format(r2_score(y_meta_valid, valid_pred_2)))\n",
    "print (\"r2_score of meta model_汎化誤差: {:.4f}\".format(r2_score(y_meta_valid, meta_valid_pred)))\n",
    "print (\"スタッキング_MSE_汎化誤差: {:.4f}\".format(mean_squared_error(y_meta_valid, meta_valid_pred)))\n",
    "print()\n",
    "print (\"r2_score of model 1_汎化誤差: {:.4f}\".format(r2_score(y_train_valid, valid_pred_1_1)))\n",
    "print (\"r2_score of model 2_汎化誤差: {:.4f}\".format(r2_score(y_train_valid, valid_pred_2_1)))\n",
    "print (\"r2_score of meta model_汎化誤差: {:.4f}\".format(r2_score(y_train_valid, meta_valid_pred_1)))\n",
    "print (\"スタッキング_MSE_汎化誤差: {:.4f}\".format(mean_squared_error(y_train_valid, meta_valid_pred_1)))"
   ]
  },
  {
   "cell_type": "markdown",
   "metadata": {},
   "source": [
    "決定係数がとても低いため、上記のスタッキングは意味をなしていない<br>\n",
    "二つのモデルを用意し、それぞれで学習し。予測させる。<br>\n",
    "それらの予測値と分割したテストデータをメタモデルの引数として投入する。<br>\n",
    "この処理は、各モデルの処理がどの程度信頼できるのかを検証している。<br>\n",
    "そして最後に結果の検証として、<br>\n",
    "メタモデルの予測値とそれぞれの予測値を用いてR2_scoreを求めている<br>\n",
    "→しかし上手くいかない。精度がとても低くモデルとして完成度が低い"
   ]
  },
  {
   "cell_type": "code",
   "execution_count": 31,
   "metadata": {},
   "outputs": [],
   "source": [
    "import os\n",
    "import numpy as np\n",
    "import random as rn\n",
    "import tensorflow as tf\n",
    "\n",
    "os.environ['PYTHONHASHSEED'] = '0'\n",
    "np.random.seed(7)\n",
    "rn.seed(7)\n",
    "\n",
    "session_conf = tf.ConfigProto(\n",
    "    intra_op_parallelism_threads=1,\n",
    "    inter_op_parallelism_threads=1\n",
    ")\n",
    "\n",
    "from keras import backend as K\n",
    "\n",
    "tf.set_random_seed(7)\n",
    "sess = tf.Session(graph=tf.get_default_graph(), config=session_conf)\n",
    "K.set_session(sess)"
   ]
  },
  {
   "cell_type": "code",
   "execution_count": 32,
   "metadata": {},
   "outputs": [
    {
     "name": "stderr",
     "output_type": "stream",
     "text": [
      "WARNING: Logging before flag parsing goes to stderr.\n",
      "W1008 11:14:28.592953 15716 deprecation.py:506] From C:\\Users\\N394\\Anaconda3\\lib\\site-packages\\tensorflow\\python\\ops\\init_ops.py:1251: calling VarianceScaling.__init__ (from tensorflow.python.ops.init_ops) with dtype is deprecated and will be removed in a future version.\n",
      "Instructions for updating:\n",
      "Call initializer instance with the dtype argument instead of passing it to the constructor\n"
     ]
    }
   ],
   "source": [
    "# ニューラルネットワークの実装\n",
    "\n",
    "X_train, X_test, y_train, y_test = train_test_split(X, y, test_size=test_size, random_state=1234) # ホールドアウト法を実行（テストデータはランダム選択）}\n",
    "\n",
    "model = Sequential()\n",
    "model.add(Dense(6, activation='relu', \n",
    "                 kernel_initializer=tf.keras.initializers.he_normal(seed=666), \n",
    "                 input_dim=len(X_train.keys())))\n",
    "model.add(Dense(10, activation=\"relu\",input_dim=1))\n",
    "model.add(Dense(1))\n",
    "\n",
    "# ------ 最適化手法 ------\n",
    "# sgd = SGD(lr=0.1, momentum=0.9, nesterov=False)\n",
    "# rms = RMSprop(lr=0.01)\n",
    "# adag = Adagrad(lr=0.01)\n",
    "# adad = Adadelta(lr=0.01)\n",
    "adam = Adam(lr=0.01)\n",
    "# -----------------------------\n",
    "\n",
    "model.compile(loss=\"mean_squared_error\",\n",
    "              optimizer=adam,\n",
    "             metrics = [\"mse\"])"
   ]
  },
  {
   "cell_type": "code",
   "execution_count": 33,
   "metadata": {
    "scrolled": true
   },
   "outputs": [
    {
     "name": "stdout",
     "output_type": "stream",
     "text": [
      "Train on 310 samples, validate on 78 samples\n",
      "Epoch 1/100\n",
      "310/310 [==============================] - ETA: 3s - loss: 51.5776 - mean_squared_error: 51.57 - 0s 757us/sample - loss: 10.8066 - mean_squared_error: 10.8066 - val_loss: 3.5430 - val_mean_squared_error: 3.5430\n",
      "Epoch 2/100\n",
      "310/310 [==============================] - ETA: 0s - loss: 5.3712 - mean_squared_error: 5.37 - 0s 111us/sample - loss: 3.0488 - mean_squared_error: 3.0488 - val_loss: 2.1231 - val_mean_squared_error: 2.1231\n",
      "Epoch 3/100\n",
      "310/310 [==============================] - ETA: 0s - loss: 1.3408 - mean_squared_error: 1.34 - 0s 129us/sample - loss: 2.1022 - mean_squared_error: 2.1022 - val_loss: 1.6301 - val_mean_squared_error: 1.6301\n",
      "Epoch 4/100\n",
      "310/310 [==============================] - ETA: 0s - loss: 1.0669 - mean_squared_error: 1.06 - 0s 145us/sample - loss: 1.6001 - mean_squared_error: 1.6001 - val_loss: 1.1536 - val_mean_squared_error: 1.1536\n",
      "Epoch 5/100\n",
      "310/310 [==============================] - ETA: 0s - loss: 0.8482 - mean_squared_error: 0.84 - 0s 117us/sample - loss: 1.4041 - mean_squared_error: 1.4041 - val_loss: 1.0257 - val_mean_squared_error: 1.0257\n",
      "Epoch 6/100\n",
      "310/310 [==============================] - ETA: 0s - loss: 0.7096 - mean_squared_error: 0.70 - 0s 167us/sample - loss: 1.2602 - mean_squared_error: 1.2602 - val_loss: 1.1043 - val_mean_squared_error: 1.1043\n",
      "Epoch 7/100\n",
      "310/310 [==============================] - ETA: 0s - loss: 0.7475 - mean_squared_error: 0.74 - 0s 120us/sample - loss: 1.0830 - mean_squared_error: 1.0830 - val_loss: 0.7054 - val_mean_squared_error: 0.7054\n",
      "Epoch 8/100\n",
      "310/310 [==============================] - ETA: 0s - loss: 3.5623 - mean_squared_error: 3.56 - 0s 103us/sample - loss: 1.1100 - mean_squared_error: 1.1100 - val_loss: 0.7394 - val_mean_squared_error: 0.7394\n",
      "Epoch 9/100\n",
      "310/310 [==============================] - ETA: 0s - loss: 4.7764 - mean_squared_error: 4.77 - 0s 118us/sample - loss: 1.0475 - mean_squared_error: 1.0475 - val_loss: 0.6707 - val_mean_squared_error: 0.6707\n",
      "Epoch 10/100\n",
      "310/310 [==============================] - ETA: 0s - loss: 0.3864 - mean_squared_error: 0.38 - 0s 123us/sample - loss: 1.0023 - mean_squared_error: 1.0023 - val_loss: 0.6894 - val_mean_squared_error: 0.6894\n",
      "Epoch 11/100\n",
      "310/310 [==============================] - ETA: 0s - loss: 0.2366 - mean_squared_error: 0.23 - 0s 115us/sample - loss: 1.0098 - mean_squared_error: 1.0098 - val_loss: 0.8720 - val_mean_squared_error: 0.8720\n",
      "Epoch 12/100\n",
      "310/310 [==============================] - ETA: 0s - loss: 1.1311 - mean_squared_error: 1.13 - 0s 125us/sample - loss: 1.0724 - mean_squared_error: 1.0724 - val_loss: 0.7432 - val_mean_squared_error: 0.7432\n",
      "Epoch 13/100\n",
      "310/310 [==============================] - ETA: 0s - loss: 0.2693 - mean_squared_error: 0.26 - 0s 139us/sample - loss: 1.0817 - mean_squared_error: 1.0817 - val_loss: 0.8749 - val_mean_squared_error: 0.8749\n",
      "Epoch 14/100\n",
      "310/310 [==============================] - ETA: 0s - loss: 0.6003 - mean_squared_error: 0.60 - 0s 116us/sample - loss: 1.1495 - mean_squared_error: 1.1495 - val_loss: 0.8396 - val_mean_squared_error: 0.8396\n",
      "Epoch 15/100\n",
      "310/310 [==============================] - ETA: 0s - loss: 0.8694 - mean_squared_error: 0.86 - 0s 119us/sample - loss: 1.0059 - mean_squared_error: 1.0059 - val_loss: 1.1729 - val_mean_squared_error: 1.1729\n",
      "Epoch 16/100\n",
      "310/310 [==============================] - ETA: 0s - loss: 5.1215 - mean_squared_error: 5.12 - 0s 108us/sample - loss: 1.0431 - mean_squared_error: 1.0431 - val_loss: 0.6875 - val_mean_squared_error: 0.6875\n",
      "Epoch 17/100\n",
      "310/310 [==============================] - ETA: 0s - loss: 0.3990 - mean_squared_error: 0.39 - 0s 164us/sample - loss: 1.1213 - mean_squared_error: 1.1213 - val_loss: 0.7008 - val_mean_squared_error: 0.7008\n",
      "Epoch 18/100\n",
      "310/310 [==============================] - ETA: 0s - loss: 0.0870 - mean_squared_error: 0.08 - 0s 158us/sample - loss: 0.9944 - mean_squared_error: 0.9944 - val_loss: 0.7038 - val_mean_squared_error: 0.7038\n",
      "Epoch 19/100\n",
      "310/310 [==============================] - ETA: 0s - loss: 0.1351 - mean_squared_error: 0.13 - 0s 113us/sample - loss: 1.0291 - mean_squared_error: 1.0291 - val_loss: 0.7237 - val_mean_squared_error: 0.7237\n",
      "Epoch 20/100\n",
      "310/310 [==============================] - ETA: 0s - loss: 0.2509 - mean_squared_error: 0.25 - 0s 112us/sample - loss: 1.0498 - mean_squared_error: 1.0498 - val_loss: 0.7153 - val_mean_squared_error: 0.7153\n",
      "Epoch 21/100\n",
      "310/310 [==============================] - ETA: 0s - loss: 0.1215 - mean_squared_error: 0.12 - 0s 121us/sample - loss: 1.0292 - mean_squared_error: 1.0292 - val_loss: 0.7791 - val_mean_squared_error: 0.7791\n",
      "Epoch 22/100\n",
      "310/310 [==============================] - ETA: 0s - loss: 0.2819 - mean_squared_error: 0.28 - 0s 143us/sample - loss: 1.0555 - mean_squared_error: 1.0555 - val_loss: 0.7059 - val_mean_squared_error: 0.7059\n",
      "Epoch 23/100\n",
      "310/310 [==============================] - ETA: 0s - loss: 1.6637 - mean_squared_error: 1.66 - 0s 168us/sample - loss: 1.0145 - mean_squared_error: 1.0145 - val_loss: 0.6870 - val_mean_squared_error: 0.6870\n",
      "Epoch 24/100\n",
      "310/310 [==============================] - ETA: 0s - loss: 0.1891 - mean_squared_error: 0.18 - 0s 135us/sample - loss: 1.0262 - mean_squared_error: 1.0262 - val_loss: 0.8420 - val_mean_squared_error: 0.8420\n",
      "Epoch 25/100\n",
      "310/310 [==============================] - ETA: 0s - loss: 4.8803 - mean_squared_error: 4.88 - ETA: 0s - loss: 0.9689 - mean_squared_error: 0.96 - 0s 261us/sample - loss: 1.0766 - mean_squared_error: 1.0766 - val_loss: 0.6856 - val_mean_squared_error: 0.6856\n",
      "Epoch 26/100\n",
      "310/310 [==============================] - ETA: 0s - loss: 0.2712 - mean_squared_error: 0.27 - 0s 108us/sample - loss: 1.0471 - mean_squared_error: 1.0471 - val_loss: 0.6934 - val_mean_squared_error: 0.6934\n",
      "Epoch 27/100\n",
      "310/310 [==============================] - ETA: 0s - loss: 0.3422 - mean_squared_error: 0.34 - 0s 126us/sample - loss: 0.9926 - mean_squared_error: 0.9926 - val_loss: 0.7012 - val_mean_squared_error: 0.7012\n",
      "Epoch 28/100\n",
      "310/310 [==============================] - ETA: 0s - loss: 0.3686 - mean_squared_error: 0.36 - 0s 97us/sample - loss: 1.0063 - mean_squared_error: 1.0063 - val_loss: 0.7390 - val_mean_squared_error: 0.7390\n",
      "Epoch 29/100\n",
      "310/310 [==============================] - ETA: 0s - loss: 4.4396 - mean_squared_error: 4.43 - 0s 131us/sample - loss: 1.0336 - mean_squared_error: 1.0336 - val_loss: 0.6964 - val_mean_squared_error: 0.6964\n",
      "Epoch 30/100\n",
      "310/310 [==============================] - ETA: 0s - loss: 0.3751 - mean_squared_error: 0.37 - 0s 140us/sample - loss: 0.9880 - mean_squared_error: 0.9880 - val_loss: 1.0279 - val_mean_squared_error: 1.0279\n",
      "Epoch 31/100\n",
      "310/310 [==============================] - ETA: 0s - loss: 0.4461 - mean_squared_error: 0.44 - 0s 114us/sample - loss: 1.0219 - mean_squared_error: 1.0219 - val_loss: 0.8826 - val_mean_squared_error: 0.8826\n",
      "Epoch 32/100\n",
      "310/310 [==============================] - ETA: 0s - loss: 0.3197 - mean_squared_error: 0.31 - 0s 142us/sample - loss: 1.1087 - mean_squared_error: 1.1087 - val_loss: 0.7329 - val_mean_squared_error: 0.7329\n",
      "Epoch 33/100\n",
      "310/310 [==============================] - ETA: 0s - loss: 1.8083 - mean_squared_error: 1.80 - 0s 150us/sample - loss: 1.0035 - mean_squared_error: 1.0035 - val_loss: 0.6828 - val_mean_squared_error: 0.6828\n",
      "Epoch 34/100\n",
      "310/310 [==============================] - ETA: 0s - loss: 0.8613 - mean_squared_error: 0.86 - 0s 132us/sample - loss: 1.0511 - mean_squared_error: 1.0511 - val_loss: 1.1513 - val_mean_squared_error: 1.1513\n",
      "Epoch 35/100\n",
      "310/310 [==============================] - ETA: 0s - loss: 0.8339 - mean_squared_error: 0.83 - 0s 162us/sample - loss: 1.0838 - mean_squared_error: 1.0838 - val_loss: 0.6995 - val_mean_squared_error: 0.6995\n",
      "Epoch 36/100\n",
      "310/310 [==============================] - ETA: 0s - loss: 0.3004 - mean_squared_error: 0.30 - 0s 107us/sample - loss: 0.9998 - mean_squared_error: 0.9998 - val_loss: 0.7146 - val_mean_squared_error: 0.7146\n",
      "Epoch 37/100\n",
      "310/310 [==============================] - ETA: 0s - loss: 0.4113 - mean_squared_error: 0.41 - 0s 113us/sample - loss: 0.9937 - mean_squared_error: 0.9937 - val_loss: 0.7329 - val_mean_squared_error: 0.7329\n"
     ]
    },
    {
     "name": "stdout",
     "output_type": "stream",
     "text": [
      "Epoch 38/100\n",
      "310/310 [==============================] - ETA: 0s - loss: 0.5234 - mean_squared_error: 0.52 - 0s 129us/sample - loss: 1.0067 - mean_squared_error: 1.0067 - val_loss: 0.7128 - val_mean_squared_error: 0.7128\n",
      "Epoch 39/100\n",
      "310/310 [==============================] - ETA: 0s - loss: 1.1567 - mean_squared_error: 1.15 - 0s 111us/sample - loss: 1.0181 - mean_squared_error: 1.0181 - val_loss: 0.7685 - val_mean_squared_error: 0.7685\n",
      "Epoch 40/100\n",
      "310/310 [==============================] - ETA: 0s - loss: 0.2676 - mean_squared_error: 0.26 - 0s 110us/sample - loss: 1.0109 - mean_squared_error: 1.0109 - val_loss: 0.6750 - val_mean_squared_error: 0.6750\n",
      "Epoch 41/100\n",
      "310/310 [==============================] - ETA: 0s - loss: 0.6791 - mean_squared_error: 0.67 - 0s 114us/sample - loss: 0.9857 - mean_squared_error: 0.9857 - val_loss: 0.6820 - val_mean_squared_error: 0.6820\n",
      "Epoch 42/100\n",
      "310/310 [==============================] - ETA: 0s - loss: 0.3580 - mean_squared_error: 0.35 - 0s 170us/sample - loss: 0.9901 - mean_squared_error: 0.9901 - val_loss: 0.7059 - val_mean_squared_error: 0.7059\n",
      "Epoch 43/100\n",
      "310/310 [==============================] - ETA: 0s - loss: 0.4217 - mean_squared_error: 0.42 - 0s 122us/sample - loss: 0.9855 - mean_squared_error: 0.9855 - val_loss: 0.6984 - val_mean_squared_error: 0.6984\n",
      "Epoch 44/100\n",
      "310/310 [==============================] - ETA: 0s - loss: 0.5218 - mean_squared_error: 0.52 - 0s 151us/sample - loss: 0.9999 - mean_squared_error: 0.9999 - val_loss: 0.7615 - val_mean_squared_error: 0.7615\n",
      "Epoch 45/100\n",
      "310/310 [==============================] - ETA: 0s - loss: 0.2537 - mean_squared_error: 0.25 - 0s 150us/sample - loss: 0.9845 - mean_squared_error: 0.9845 - val_loss: 0.6960 - val_mean_squared_error: 0.6960\n",
      "Epoch 46/100\n",
      "310/310 [==============================] - ETA: 0s - loss: 0.4965 - mean_squared_error: 0.49 - ETA: 0s - loss: 0.7377 - mean_squared_error: 0.73 - 0s 360us/sample - loss: 0.9846 - mean_squared_error: 0.9846 - val_loss: 0.9026 - val_mean_squared_error: 0.9026\n",
      "Epoch 47/100\n",
      "310/310 [==============================] - ETA: 0s - loss: 0.4065 - mean_squared_error: 0.40 - ETA: 0s - loss: 1.0175 - mean_squared_error: 1.01 - 0s 266us/sample - loss: 0.9955 - mean_squared_error: 0.9955 - val_loss: 0.6721 - val_mean_squared_error: 0.6721\n",
      "Epoch 48/100\n",
      "310/310 [==============================] - ETA: 0s - loss: 0.0968 - mean_squared_error: 0.09 - 0s 158us/sample - loss: 1.0252 - mean_squared_error: 1.0252 - val_loss: 0.7162 - val_mean_squared_error: 0.7162\n",
      "Epoch 49/100\n",
      "310/310 [==============================] - ETA: 0s - loss: 0.4129 - mean_squared_error: 0.41 - 0s 228us/sample - loss: 0.9848 - mean_squared_error: 0.9848 - val_loss: 0.7062 - val_mean_squared_error: 0.7062\n",
      "Epoch 50/100\n",
      "310/310 [==============================] - ETA: 0s - loss: 0.3653 - mean_squared_error: 0.36 - 0s 180us/sample - loss: 0.9955 - mean_squared_error: 0.9955 - val_loss: 0.6717 - val_mean_squared_error: 0.6717\n",
      "Epoch 51/100\n",
      "310/310 [==============================] - ETA: 0s - loss: 0.3116 - mean_squared_error: 0.31 - 0s 156us/sample - loss: 1.0344 - mean_squared_error: 1.0344 - val_loss: 0.8435 - val_mean_squared_error: 0.8435\n",
      "Epoch 52/100\n",
      "310/310 [==============================] - ETA: 0s - loss: 2.2830 - mean_squared_error: 2.28 - 0s 117us/sample - loss: 0.9622 - mean_squared_error: 0.9622 - val_loss: 0.7128 - val_mean_squared_error: 0.7128\n",
      "Epoch 53/100\n",
      "310/310 [==============================] - ETA: 0s - loss: 5.8838 - mean_squared_error: 5.88 - 0s 101us/sample - loss: 1.0296 - mean_squared_error: 1.0296 - val_loss: 0.6639 - val_mean_squared_error: 0.6639\n",
      "Epoch 54/100\n",
      "310/310 [==============================] - ETA: 0s - loss: 0.9918 - mean_squared_error: 0.99 - 0s 101us/sample - loss: 1.0385 - mean_squared_error: 1.0385 - val_loss: 0.8400 - val_mean_squared_error: 0.8400\n",
      "Epoch 55/100\n",
      "310/310 [==============================] - ETA: 0s - loss: 0.5170 - mean_squared_error: 0.51 - 0s 106us/sample - loss: 1.0296 - mean_squared_error: 1.0296 - val_loss: 0.6952 - val_mean_squared_error: 0.6952\n",
      "Epoch 56/100\n",
      "310/310 [==============================] - ETA: 0s - loss: 0.3638 - mean_squared_error: 0.36 - 0s 101us/sample - loss: 0.9986 - mean_squared_error: 0.9986 - val_loss: 0.6939 - val_mean_squared_error: 0.6939\n",
      "Epoch 57/100\n",
      "310/310 [==============================] - ETA: 0s - loss: 0.1816 - mean_squared_error: 0.18 - 0s 98us/sample - loss: 1.0183 - mean_squared_error: 1.0183 - val_loss: 0.7267 - val_mean_squared_error: 0.7267\n",
      "Epoch 58/100\n",
      "310/310 [==============================] - ETA: 0s - loss: 0.2111 - mean_squared_error: 0.21 - 0s 104us/sample - loss: 1.0500 - mean_squared_error: 1.0500 - val_loss: 0.6775 - val_mean_squared_error: 0.6775\n",
      "Epoch 59/100\n",
      "310/310 [==============================] - ETA: 0s - loss: 0.3724 - mean_squared_error: 0.37 - 0s 102us/sample - loss: 1.0333 - mean_squared_error: 1.0333 - val_loss: 0.6961 - val_mean_squared_error: 0.6961\n",
      "Epoch 60/100\n",
      "310/310 [==============================] - ETA: 0s - loss: 0.5791 - mean_squared_error: 0.57 - 0s 100us/sample - loss: 0.9889 - mean_squared_error: 0.9889 - val_loss: 0.7242 - val_mean_squared_error: 0.7242\n",
      "Epoch 61/100\n",
      "310/310 [==============================] - ETA: 0s - loss: 0.6269 - mean_squared_error: 0.62 - 0s 93us/sample - loss: 1.0145 - mean_squared_error: 1.0145 - val_loss: 0.7143 - val_mean_squared_error: 0.7143\n",
      "Epoch 62/100\n",
      "310/310 [==============================] - ETA: 0s - loss: 0.4905 - mean_squared_error: 0.49 - 0s 88us/sample - loss: 1.0202 - mean_squared_error: 1.0202 - val_loss: 0.6904 - val_mean_squared_error: 0.6904\n",
      "Epoch 63/100\n",
      "310/310 [==============================] - ETA: 0s - loss: 0.1669 - mean_squared_error: 0.16 - 0s 88us/sample - loss: 1.1116 - mean_squared_error: 1.1116 - val_loss: 0.6867 - val_mean_squared_error: 0.6867\n",
      "Epoch 64/100\n",
      "310/310 [==============================] - ETA: 0s - loss: 0.5800 - mean_squared_error: 0.58 - 0s 92us/sample - loss: 0.9914 - mean_squared_error: 0.9914 - val_loss: 0.6975 - val_mean_squared_error: 0.6975\n",
      "Epoch 65/100\n",
      "310/310 [==============================] - ETA: 0s - loss: 0.2911 - mean_squared_error: 0.29 - 0s 97us/sample - loss: 0.9861 - mean_squared_error: 0.9861 - val_loss: 0.6963 - val_mean_squared_error: 0.6963\n",
      "Epoch 66/100\n",
      "310/310 [==============================] - ETA: 0s - loss: 0.7396 - mean_squared_error: 0.73 - 0s 154us/sample - loss: 0.9787 - mean_squared_error: 0.9787 - val_loss: 0.7828 - val_mean_squared_error: 0.7828\n",
      "Epoch 67/100\n",
      "310/310 [==============================] - ETA: 0s - loss: 0.6408 - mean_squared_error: 0.64 - 0s 90us/sample - loss: 1.0116 - mean_squared_error: 1.0116 - val_loss: 0.6767 - val_mean_squared_error: 0.6767\n",
      "Epoch 68/100\n",
      "310/310 [==============================] - ETA: 0s - loss: 0.2598 - mean_squared_error: 0.25 - 0s 93us/sample - loss: 0.9779 - mean_squared_error: 0.9779 - val_loss: 0.7219 - val_mean_squared_error: 0.7219\n",
      "Epoch 69/100\n",
      "310/310 [==============================] - ETA: 0s - loss: 2.3620 - mean_squared_error: 2.36 - 0s 103us/sample - loss: 0.9924 - mean_squared_error: 0.9924 - val_loss: 0.6836 - val_mean_squared_error: 0.6836\n",
      "Epoch 70/100\n",
      "310/310 [==============================] - ETA: 0s - loss: 0.0922 - mean_squared_error: 0.09 - 0s 129us/sample - loss: 1.0003 - mean_squared_error: 1.0003 - val_loss: 0.6587 - val_mean_squared_error: 0.6587\n",
      "Epoch 71/100\n",
      "310/310 [==============================] - ETA: 0s - loss: 0.3867 - mean_squared_error: 0.38 - 0s 121us/sample - loss: 0.9648 - mean_squared_error: 0.9648 - val_loss: 0.6880 - val_mean_squared_error: 0.6880\n",
      "Epoch 72/100\n",
      "310/310 [==============================] - ETA: 0s - loss: 0.3230 - mean_squared_error: 0.32 - 0s 100us/sample - loss: 0.9989 - mean_squared_error: 0.9989 - val_loss: 0.8820 - val_mean_squared_error: 0.8820\n",
      "Epoch 73/100\n",
      "310/310 [==============================] - ETA: 0s - loss: 0.3521 - mean_squared_error: 0.35 - 0s 97us/sample - loss: 1.0646 - mean_squared_error: 1.0646 - val_loss: 0.7360 - val_mean_squared_error: 0.7360\n",
      "Epoch 74/100\n",
      "310/310 [==============================] - ETA: 0s - loss: 0.4225 - mean_squared_error: 0.42 - 0s 87us/sample - loss: 0.9873 - mean_squared_error: 0.9873 - val_loss: 0.8989 - val_mean_squared_error: 0.8989\n"
     ]
    },
    {
     "name": "stdout",
     "output_type": "stream",
     "text": [
      "Epoch 75/100\n",
      "310/310 [==============================] - ETA: 0s - loss: 0.5742 - mean_squared_error: 0.57 - 0s 93us/sample - loss: 1.0043 - mean_squared_error: 1.0043 - val_loss: 0.7206 - val_mean_squared_error: 0.7206\n",
      "Epoch 76/100\n",
      "310/310 [==============================] - ETA: 0s - loss: 0.7339 - mean_squared_error: 0.73 - 0s 106us/sample - loss: 0.9933 - mean_squared_error: 0.9933 - val_loss: 0.6902 - val_mean_squared_error: 0.6902\n",
      "Epoch 77/100\n",
      "310/310 [==============================] - ETA: 0s - loss: 4.1813 - mean_squared_error: 4.18 - 0s 105us/sample - loss: 0.9633 - mean_squared_error: 0.9633 - val_loss: 0.6714 - val_mean_squared_error: 0.6714\n",
      "Epoch 78/100\n",
      "310/310 [==============================] - ETA: 0s - loss: 0.3290 - mean_squared_error: 0.32 - 0s 96us/sample - loss: 0.9731 - mean_squared_error: 0.9731 - val_loss: 0.7488 - val_mean_squared_error: 0.7488\n",
      "Epoch 79/100\n",
      "310/310 [==============================] - ETA: 0s - loss: 0.4593 - mean_squared_error: 0.45 - 0s 100us/sample - loss: 0.9863 - mean_squared_error: 0.9863 - val_loss: 0.7312 - val_mean_squared_error: 0.7312\n",
      "Epoch 80/100\n",
      "310/310 [==============================] - ETA: 0s - loss: 4.8319 - mean_squared_error: 4.83 - 0s 106us/sample - loss: 0.9794 - mean_squared_error: 0.9794 - val_loss: 0.6705 - val_mean_squared_error: 0.6705\n",
      "Epoch 81/100\n",
      "310/310 [==============================] - ETA: 0s - loss: 0.3499 - mean_squared_error: 0.34 - 0s 97us/sample - loss: 1.0113 - mean_squared_error: 1.0113 - val_loss: 0.7661 - val_mean_squared_error: 0.7661\n",
      "Epoch 82/100\n",
      "310/310 [==============================] - ETA: 0s - loss: 0.4137 - mean_squared_error: 0.41 - 0s 100us/sample - loss: 0.9847 - mean_squared_error: 0.9847 - val_loss: 0.7144 - val_mean_squared_error: 0.7144\n",
      "Epoch 83/100\n",
      "310/310 [==============================] - ETA: 0s - loss: 0.2538 - mean_squared_error: 0.25 - 0s 96us/sample - loss: 1.0276 - mean_squared_error: 1.0276 - val_loss: 0.7045 - val_mean_squared_error: 0.7045\n",
      "Epoch 84/100\n",
      "310/310 [==============================] - ETA: 0s - loss: 0.4669 - mean_squared_error: 0.46 - 0s 93us/sample - loss: 0.9634 - mean_squared_error: 0.9634 - val_loss: 0.7229 - val_mean_squared_error: 0.7229\n",
      "Epoch 85/100\n",
      "310/310 [==============================] - ETA: 0s - loss: 0.1710 - mean_squared_error: 0.17 - 0s 97us/sample - loss: 0.9723 - mean_squared_error: 0.9723 - val_loss: 0.6875 - val_mean_squared_error: 0.6875\n",
      "Epoch 86/100\n",
      "310/310 [==============================] - ETA: 0s - loss: 1.4896 - mean_squared_error: 1.48 - 0s 100us/sample - loss: 0.9715 - mean_squared_error: 0.9715 - val_loss: 0.6910 - val_mean_squared_error: 0.6910\n",
      "Epoch 87/100\n",
      "310/310 [==============================] - ETA: 0s - loss: 0.5319 - mean_squared_error: 0.53 - 0s 93us/sample - loss: 0.9886 - mean_squared_error: 0.9886 - val_loss: 0.6948 - val_mean_squared_error: 0.6948\n",
      "Epoch 88/100\n",
      "310/310 [==============================] - ETA: 0s - loss: 0.3558 - mean_squared_error: 0.35 - 0s 103us/sample - loss: 1.0277 - mean_squared_error: 1.0277 - val_loss: 0.7227 - val_mean_squared_error: 0.7227\n",
      "Epoch 89/100\n",
      "310/310 [==============================] - ETA: 0s - loss: 0.2452 - mean_squared_error: 0.24 - 0s 103us/sample - loss: 1.0233 - mean_squared_error: 1.0233 - val_loss: 0.7556 - val_mean_squared_error: 0.7556\n",
      "Epoch 90/100\n",
      "310/310 [==============================] - ETA: 0s - loss: 0.5991 - mean_squared_error: 0.59 - 0s 92us/sample - loss: 0.9867 - mean_squared_error: 0.9867 - val_loss: 0.6868 - val_mean_squared_error: 0.6868\n",
      "Epoch 91/100\n",
      "310/310 [==============================] - ETA: 0s - loss: 0.2269 - mean_squared_error: 0.22 - 0s 103us/sample - loss: 1.0091 - mean_squared_error: 1.0091 - val_loss: 0.6708 - val_mean_squared_error: 0.6708\n",
      "Epoch 92/100\n",
      "310/310 [==============================] - ETA: 0s - loss: 0.3578 - mean_squared_error: 0.35 - 0s 90us/sample - loss: 0.9788 - mean_squared_error: 0.9788 - val_loss: 0.7815 - val_mean_squared_error: 0.7815\n",
      "Epoch 93/100\n",
      "310/310 [==============================] - ETA: 0s - loss: 0.4855 - mean_squared_error: 0.48 - 0s 93us/sample - loss: 1.0493 - mean_squared_error: 1.0493 - val_loss: 0.6860 - val_mean_squared_error: 0.6860\n",
      "Epoch 94/100\n",
      "310/310 [==============================] - ETA: 0s - loss: 0.3371 - mean_squared_error: 0.33 - 0s 102us/sample - loss: 1.0158 - mean_squared_error: 1.0158 - val_loss: 0.8604 - val_mean_squared_error: 0.8604\n",
      "Epoch 95/100\n",
      "310/310 [==============================] - ETA: 0s - loss: 0.4996 - mean_squared_error: 0.49 - 0s 93us/sample - loss: 0.9469 - mean_squared_error: 0.9469 - val_loss: 0.7526 - val_mean_squared_error: 0.7526\n",
      "Epoch 96/100\n",
      "310/310 [==============================] - ETA: 0s - loss: 5.0841 - mean_squared_error: 5.08 - 0s 103us/sample - loss: 1.0222 - mean_squared_error: 1.0222 - val_loss: 0.8565 - val_mean_squared_error: 0.8565\n",
      "Epoch 97/100\n",
      "310/310 [==============================] - ETA: 0s - loss: 0.5235 - mean_squared_error: 0.52 - 0s 101us/sample - loss: 0.9786 - mean_squared_error: 0.9786 - val_loss: 0.7145 - val_mean_squared_error: 0.7145\n",
      "Epoch 98/100\n",
      "310/310 [==============================] - ETA: 0s - loss: 0.3350 - mean_squared_error: 0.33 - 0s 96us/sample - loss: 0.9714 - mean_squared_error: 0.9714 - val_loss: 0.8162 - val_mean_squared_error: 0.8162\n",
      "Epoch 99/100\n",
      "310/310 [==============================] - ETA: 0s - loss: 0.7866 - mean_squared_error: 0.78 - 0s 90us/sample - loss: 0.9671 - mean_squared_error: 0.9671 - val_loss: 0.7800 - val_mean_squared_error: 0.7800\n",
      "Epoch 100/100\n",
      "310/310 [==============================] - ETA: 0s - loss: 0.4407 - mean_squared_error: 0.44 - 0s 93us/sample - loss: 0.9627 - mean_squared_error: 0.9627 - val_loss: 0.6750 - val_mean_squared_error: 0.6750\n"
     ]
    },
    {
     "data": {
      "image/png": "[encoded data removed]",
      "text/plain": [
       "<Figure size 432x288 with 1 Axes>"
      ]
     },
     "metadata": {
      "needs_background": "light"
     },
     "output_type": "display_data"
    },
    {
     "data": {
      "image/png": "[encoded data removed]",
      "text/plain": [
       "<Figure size 432x288 with 1 Axes>"
      ]
     },
     "metadata": {
      "needs_background": "light"
     },
     "output_type": "display_data"
    },
    {
     "name": "stdout",
     "output_type": "stream",
     "text": [
      "ニューラルネットワーク_MSE =  0.6749942887930458\n"
     ]
    }
   ],
   "source": [
    "# 計算の実行\n",
    "fit = model.fit(X_train, y_train,\n",
    "          epochs=100,\n",
    "          batch_size=10,validation_data=(X_test, y_test))\n",
    "\n",
    "\n",
    "# 各epochにおける損失と精度をdfに入れる\n",
    "df = pd.DataFrame(fit.history)\n",
    "\n",
    "# グラフ化\n",
    "df[[\"loss\", \"val_loss\"]].plot()\n",
    "plt.ylabel(\"loss\")\n",
    "plt.xlabel(\"epoch\")\n",
    "plt.show()\n",
    "\n",
    "df[[\"mean_squared_error\", \"val_mean_squared_error\"]].plot()\n",
    "plt.ylabel(\"mse\")\n",
    "plt.xlabel(\"epoch\")\n",
    "plt.ylim([0,20])\n",
    "plt.show()\n",
    "\n",
    "mse5 = mse(y_test,model.predict(X_test))\n",
    "print(\"ニューラルネットワーク_MSE = \",(mse(y_test,model.predict(X_test))))\n",
    "\n",
    "NN = model.predict(X_test)"
   ]
  },
  {
   "cell_type": "code",
   "execution_count": 34,
   "metadata": {},
   "outputs": [
    {
     "name": "stderr",
     "output_type": "stream",
     "text": [
      "W1008 11:14:34.013532 15716 deprecation.py:506] From C:\\Users\\N394\\Anaconda3\\lib\\site-packages\\tensorflow\\python\\ops\\init_ops.py:97: calling Zeros.__init__ (from tensorflow.python.ops.init_ops) with dtype is deprecated and will be removed in a future version.\n",
      "Instructions for updating:\n",
      "Call initializer instance with the dtype argument instead of passing it to the constructor\n",
      "W1008 11:14:34.036395 15716 deprecation.py:506] From C:\\Users\\N394\\Anaconda3\\lib\\site-packages\\tensorflow\\python\\ops\\init_ops.py:97: calling GlorotUniform.__init__ (from tensorflow.python.ops.init_ops) with dtype is deprecated and will be removed in a future version.\n",
      "Instructions for updating:\n",
      "Call initializer instance with the dtype argument instead of passing it to the constructor\n"
     ]
    }
   ],
   "source": [
    "# 保存\n",
    "model.save('my_model.h5')\n",
    "del model\n",
    "\n",
    "# 読み込み\n",
    "model = load_model('my_model.h5')"
   ]
  },
  {
   "cell_type": "code",
   "execution_count": 35,
   "metadata": {},
   "outputs": [
    {
     "name": "stdout",
     "output_type": "stream",
     "text": [
      "決定木_MSE =  0.831990867596118\n",
      "ランダムフォレスト_MSE =  0.6922345508669665\n",
      "アダブースト_MSE =  1.0182867211870532\n",
      "スタッキング_MSE = 0.7916785275568433\n",
      "ニューラルネットワーク_MSE =  0.6749942887930458\n"
     ]
    }
   ],
   "source": [
    "# モデル精度の比較\n",
    "print(\"決定木_MSE = \",mse1)\n",
    "print(\"ランダムフォレスト_MSE = \",mse2)\n",
    "print(\"アダブースト_MSE = \",mse3)\n",
    "print (\"スタッキング_MSE =\",mse4)\n",
    "print(\"ニューラルネットワーク_MSE = \",mse5)"
   ]
  },
  {
   "cell_type": "markdown",
   "metadata": {},
   "source": [
    "### 今回はニューラルネットワークのモデルが最も精度が良いことが分かった"
   ]
  }
 ],
 "metadata": {
  "kernelspec": {
   "display_name": "Python 3",
   "language": "python",
   "name": "python3"
  },
  "language_info": {
   "codemirror_mode": {
    "name": "ipython",
    "version": 3
   },
   "file_extension": ".py",
   "mimetype": "text/x-python",
   "name": "python",
   "nbconvert_exporter": "python",
   "pygments_lexer": "ipython3",
   "version": "3.7.3"
  }
 },
 "nbformat": 4,
 "nbformat_minor": 2
}
